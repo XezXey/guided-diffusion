{
 "cells": [
  {
   "cell_type": "markdown",
   "metadata": {},
   "source": [
    "# Try load file"
   ]
  },
  {
   "cell_type": "code",
   "execution_count": 1,
   "metadata": {},
   "outputs": [
    {
     "name": "stdout",
     "output_type": "stream",
     "text": [
      "Time to load json : 0.8838307857513428\n"
     ]
    }
   ],
   "source": [
    "import time, json\n",
    "timing = time.time()\n",
    "with open('./generated_dataset_seed=47.json', 'r') as f:\n",
    "    sample_pairs = json.load(f)['pair']\n",
    "print(f\"Time to load json : {time.time() - timing}\")"
   ]
  },
  {
   "cell_type": "code",
   "execution_count": 6,
   "metadata": {},
   "outputs": [
    {
     "name": "stdout",
     "output_type": "stream",
     "text": [
      "['pair0', 'pair1', 'pair10', 'pair100', 'pair1000', 'pair10000', 'pair100000', 'pair100001', 'pair100002', 'pair100003']\n"
     ]
    }
   ],
   "source": [
    "print(list(sorted(sample_pairs.keys()))[:10])\n",
    "\n",
    "# Sort pairs based on the numerical order of the \"src\" values\n",
    "sorted_pairs = sorted(sample_pairs.items(), key=lambda x: int(x[1][\"src\"].split(\".\")[0]))\n",
    "\n",
    "# Create a new JSON object with sorted pairs\n",
    "sorted_json_data = {\"pair\": dict(sorted_pairs)}\n",
    "\n",
    "# Print or use the sorted JSON data as needed\n",
    "with open('./sorted_generated_dataset_seed=47.json', 'w') as f:\n",
    "    f.write(json.dumps(sorted_json_data, indent=4))"
   ]
  }
 ],
 "metadata": {
  "kernelspec": {
   "display_name": "difareli_faster_inference",
   "language": "python",
   "name": "python3"
  },
  "language_info": {
   "codemirror_mode": {
    "name": "ipython",
    "version": 3
   },
   "file_extension": ".py",
   "mimetype": "text/x-python",
   "name": "python",
   "nbconvert_exporter": "python",
   "pygments_lexer": "ipython3",
   "version": "3.8.12"
  }
 },
 "nbformat": 4,
 "nbformat_minor": 2
}
