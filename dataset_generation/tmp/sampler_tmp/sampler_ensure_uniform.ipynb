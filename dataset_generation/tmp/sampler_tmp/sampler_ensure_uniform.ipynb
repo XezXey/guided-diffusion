{
 "cells": [
  {
   "cell_type": "code",
   "execution_count": null,
   "metadata": {},
   "outputs": [],
   "source": [
    "import tqdm\n",
    "import multiprocessing\n",
    "import numpy as np\n",
    "import os, glob, json\n",
    "import copy\n",
    "\n",
    "# Set seed\n",
    "seed = 47\n",
    "np.random.seed(seed)\n",
    "\n",
    "set_ = 'train'\n",
    "path = f'/data/mint/DPM_Dataset/ffhq_256_with_anno/ffhq_256/{set_}/'\n",
    "img_path = glob.glob(path + '*.jpg')\n",
    "img_name = [name.split('/')[-1] for name in img_path]\n",
    "# print(img_name[:100])\n",
    "\n",
    "if len(img_name) % 2 != 0:\n",
    "    img_name.append(img_name[0])\n",
    "\n",
    "rep_size = 20\n",
    "sampling = {'pair':{}}\n",
    "counter = 0\n",
    "source_occur = np.array([0] * len(img_name))\n",
    "target_occur = np.array([0] * len(img_name))\n",
    "\n",
    "sampling_img = img_name.copy()\n",
    "for i in range(rep_size):\n",
    "    np.random.shuffle(sampling_img)\n",
    "    # np.random.permutation(sampling_img)\n",
    "    if i == 0:\n",
    "        pass\n",
    "    else: \n",
    "        # print(prev_sampling_img[:10], sampling_img[:10])\n",
    "        # print(np.array(prev_sampling_img) == np.array(sampling_img))\n",
    "        # print(np.where(np.array(prev_sampling_img) == np.array(sampling_img)))\n",
    "        # print(np.array(prev_sampling_img) != np.array(sampling_img))\n",
    "        # print(np.all(np.array(prev_sampling_img) != np.array(sampling_img)))\n",
    "        # for k in np.where(np.array(prev_sampling_img) == np.array(sampling_img))[0]:\n",
    "        #     print(prev_sampling_img[k], sampling_img[k])\n",
    "        where_static = np.where(np.array(prev_sampling_img) == np.array(sampling_img))[0]\n",
    "        where_static = where_static[1:] - where_static[:-1]\n",
    "        if np.any(where_static == 1):\n",
    "            raise ValueError('There is a static pair')\n",
    "    \n",
    "    # old_sampling_img should not be the same as sampling_img\n",
    "    for j in range(0, len(sampling_img), 2):\n",
    "        sampling['pair'][f'pair{counter}'] = {'src':sampling_img[j],\n",
    "                                       'dst':sampling_img[j + 1]\n",
    "                                    }\n",
    "        source_occur[int(sampling_img[j].split('.')[0])] += 1\n",
    "        target_occur[int(sampling_img[j + 1].split('.')[0])] += 1\n",
    "        counter += 1\n",
    "    prev_sampling_img = copy.deepcopy(sampling_img)\n",
    "        \n",
    "        \n",
    "sampling['misc'] = {'rep_size':rep_size,\n",
    "                'seed':seed,\n",
    "                'set_':set_,\n",
    "                'source_occur':source_occur.tolist(),\n",
    "                'target_occur':target_occur.tolist(),\n",
    "            }\n",
    "json.dump(sampling, open(f'./generated_dataset_seed={seed}.json', 'w'), indent=4)\n"
   ]
  },
  {
   "cell_type": "markdown",
   "metadata": {},
   "source": [
    "# Examine sampling coverage"
   ]
  },
  {
   "cell_type": "code",
   "execution_count": null,
   "metadata": {},
   "outputs": [],
   "source": [
    "print(\"=\"*50)\n",
    "print(\"Source occurence\")\n",
    "print(\"Min-Max occurence of source image : \", np.min(source_occur), np.max(source_occur))\n",
    "print(\"Mean occurence of source image : \", np.mean(source_occur))\n",
    "print(\"Std occurence of source image : \", np.std(source_occur))\n",
    "print(\"Unique occurence of source image : \", np.unique(source_occur))\n",
    "print(\"=\"*50)\n",
    "\n",
    "print(\"Target occurence\")\n",
    "print(\"Min-Max occurence of target image : \", np.min(target_occur), np.max(target_occur))\n",
    "print(\"Mean occurence of target image : \", np.mean(target_occur))\n",
    "print(\"Std occurence of target image : \", np.std(target_occur))\n",
    "print(\"Unique occurence of target image : \", np.unique(target_occur))\n",
    "print(f\"Number of occurence <>? : \", len(np.where(target_occur == 0)[0]))\n",
    "print(\"=\"*50)"
   ]
  },
  {
   "cell_type": "code",
   "execution_count": null,
   "metadata": {},
   "outputs": [],
   "source": [
    "# Plot histogram of occurence\n",
    "import plotly.graph_objects as go\n",
    "\n",
    "\n",
    "# Create traces\n",
    "fig = go.Figure()\n",
    "\n",
    "fig.add_trace(go.Scatter(x=list(range(len(source_occur))), y=source_occur,\n",
    "                    mode='lines+markers',\n",
    "                    name='Source'))\n",
    "fig.add_trace(go.Scatter(x=list(range(len(target_occur))), y=target_occur,\n",
    "                    mode='lines+markers',\n",
    "                    name='Target'))\n",
    "\n",
    "fig.show()\n"
   ]
  },
  {
   "cell_type": "markdown",
   "metadata": {},
   "source": [
    "# Try load file"
   ]
  },
  {
   "cell_type": "code",
   "execution_count": 2,
   "metadata": {},
   "outputs": [
    {
     "name": "stdout",
     "output_type": "stream",
     "text": [
      "Time to load json : 0.7823045253753662\n"
     ]
    }
   ],
   "source": [
    "import time, json\n",
    "f = open('./generated_dataset_seed=47.json', 'r')\n",
    "timing = time.time()\n",
    "sample_pairs = json.load(f)['pair']\n",
    "print(f\"Time to load json : {time.time() - timing}\")"
   ]
  }
 ],
 "metadata": {
  "kernelspec": {
   "display_name": "difareli_faster_inference",
   "language": "python",
   "name": "python3"
  },
  "language_info": {
   "codemirror_mode": {
    "name": "ipython",
    "version": 3
   },
   "file_extension": ".py",
   "mimetype": "text/x-python",
   "name": "python",
   "nbconvert_exporter": "python",
   "pygments_lexer": "ipython3",
   "version": "3.8.12"
  }
 },
 "nbformat": 4,
 "nbformat_minor": 2
}
