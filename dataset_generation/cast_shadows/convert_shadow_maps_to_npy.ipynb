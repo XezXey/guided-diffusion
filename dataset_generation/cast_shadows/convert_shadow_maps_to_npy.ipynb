{
 "cells": [
  {
   "cell_type": "code",
   "execution_count": 4,
   "metadata": {},
   "outputs": [
    {
     "name": "stderr",
     "output_type": "stream",
     "text": [
      "100%|██████████| 10000/10000 [00:45<00:00, 221.91it/s]\n"
     ]
    }
   ],
   "source": [
    "import numpy as np\n",
    "from PIL import Image\n",
    "import glob, os, sys, tqdm\n",
    "import matplotlib.pyplot as plt \n",
    "import pandas as pd\n",
    "\n",
    "path = '/data/mint/DPM_Dataset/Generated_Dataset_TargetLight/Generated_Dataset_cast_shadows_extra_rotate/'\n",
    "sub_p = '/shadow_diff_SS_with_c_simplified/train/'\n",
    "\n",
    "out_p = '/shadow_diff_SS_with_c_simplified_npy/train/'\n",
    "\n",
    "os.makedirs(f'{path}/{out_p}', exist_ok=True)\n",
    "all_imgs = glob.glob(f'{path}/{sub_p}/*.png')\n",
    "use_c = True # False\n",
    "\n",
    "# Load c values\n",
    "c_p = '/data/mint/DPM_Dataset/ffhq_256_with_anno/params/train/ffhq-train-shadow-anno.txt'\n",
    "c_dict = pd.read_csv(c_p, sep=' ', header=None, names=['image_name', 'c_val'])\n",
    "max_c = 8.481700287326827 # 7.383497233314015\n",
    "min_c = -4.989461058405101 # -4.985533880236826\n",
    "\n",
    "for img_path in tqdm.tqdm(all_imgs):\n",
    "    img_name = img_path.split('/')[-1]\n",
    "    input_name = img_name.split('.png')[0]\n",
    "    # print(input_name)\n",
    "    if 'relit' in input_name:\n",
    "        tmp = input_name.split('_relit')[0]\n",
    "        # print(tmp)\n",
    "        src = tmp.split('_')[0]\n",
    "        dst = tmp.split('_')[1]\n",
    "        c_val = c_dict[c_dict['image_name'] == f'{dst}.jpg']['c_val'].values[0]\n",
    "    elif 'input' in input_name:\n",
    "        tmp = input_name.split('_input')[0]\n",
    "        src = tmp.split('_')[0]\n",
    "        # dst = tmp.split('_')[1]\n",
    "        c_val = c_dict[c_dict['image_name'] == f'{src}.jpg']['c_val'].values[0]\n",
    "    \n",
    "    c_val_norm = (c_val - min_c) / (max_c - min_c)\n",
    "    \n",
    "    img = Image.open(img_path)\n",
    "    img = np.array(img)\n",
    "    assert np.allclose(img[..., 0], img[..., 1]) and np.allclose(img[..., 1], img[..., 2])\n",
    "    img = img[..., 0]\n",
    "    # print(\"C val: \", c_val, c_val_norm)\n",
    "    \n",
    "    if use_c:\n",
    "        shadows = img != 0\n",
    "        out = shadows * c_val_norm\n",
    "    else:\n",
    "        out = img / 255.\n",
    "        \n",
    "    out = out.astype(np.float32)[..., None]\n",
    "    np.save(f'{path}/{out_p}/{input_name}.npy', out)\n",
    "    # print(img.shape, img.max(), img.min(), np.unique(img))\n",
    "    # print(out.shape, out.max(), out.min(), np.unique(out))\n",
    "    # plt.imshow(img)\n",
    "    # plt.show()\n",
    "    \n",
    "    # assert False"
   ]
  }
 ],
 "metadata": {
  "kernelspec": {
   "display_name": "dpm_sampling_deca_pysh",
   "language": "python",
   "name": "python3"
  },
  "language_info": {
   "codemirror_mode": {
    "name": "ipython",
    "version": 3
   },
   "file_extension": ".py",
   "mimetype": "text/x-python",
   "name": "python",
   "nbconvert_exporter": "python",
   "pygments_lexer": "ipython3",
   "version": "3.8.12"
  }
 },
 "nbformat": 4,
 "nbformat_minor": 2
}
