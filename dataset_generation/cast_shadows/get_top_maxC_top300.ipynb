{
 "cells": [
  {
   "cell_type": "code",
   "execution_count": 4,
   "metadata": {},
   "outputs": [],
   "source": [
    "import numpy as np\n",
    "import torch as th\n",
    "import matplotlib as plt\n",
    "import pandas as pd\n",
    "import json, os, glob\n",
    "\n",
    "set_ = 'train'\n",
    "c = pd.read_csv(f'/data/mint/DPM_Dataset/ffhq_256_with_anno/params/{set_}/ffhq-{set_}-shadow-anno.txt', sep=' ', header=None, names=['image_name', 'c_val'])\n",
    "c_sorted = c.sort_values(by='c_val', ascending=False)\n",
    "\n",
    "sample_dict = {'pair':{}}\n",
    "n = 500\n",
    "c_sorted.head(n)\n",
    "for i in range(n):\n",
    "    sample_dict['pair'][f'pair{i}'] = {\n",
    "        'src': c_sorted.iloc[i]['image_name'],\n",
    "        'dst': '0.jpg'\n",
    "    }\n",
    "with open('./extra_shadow_samples.json', 'w') as f:\n",
    "    json.dump(sample_dict, f, indent=4)"
   ]
  }
 ],
 "metadata": {
  "kernelspec": {
   "display_name": "dpm_sampling_deca_pysh",
   "language": "python",
   "name": "python3"
  },
  "language_info": {
   "codemirror_mode": {
    "name": "ipython",
    "version": 3
   },
   "file_extension": ".py",
   "mimetype": "text/x-python",
   "name": "python",
   "nbconvert_exporter": "python",
   "pygments_lexer": "ipython3",
   "version": "3.8.12"
  }
 },
 "nbformat": 4,
 "nbformat_minor": 2
}
