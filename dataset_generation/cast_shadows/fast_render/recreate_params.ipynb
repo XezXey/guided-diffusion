{
 "cells": [
  {
   "cell_type": "code",
   "execution_count": 21,
   "metadata": {},
   "outputs": [
    {
     "name": "stderr",
     "output_type": "stream",
     "text": [
      "Loading deca params...: 100%|██████████| 10/10 [00:40<00:00,  4.10s/it]\n"
     ]
    }
   ],
   "source": [
    "import numpy as np\n",
    "import torch as th\n",
    "import time, json, sys, os, tqdm\n",
    "import argparse\n",
    "import torchvision\n",
    "from PIL import Image\n",
    "sys.path.append(\"/home/mint/Dev/DiFaReli/difareli-faster/sample_scripts/sample_utils/\")\n",
    "import mani_utils, params_utils\n",
    "\n",
    "sample_json = '../extra_shadow_samples.json'\n",
    "set_ = 'train'\n",
    "with open(sample_json) as f:\n",
    "    pairs = json.load(f)['pair']\n",
    "    pairs = [{'src': p['src'], 'dst': p['dst']} for _, p in pairs.items()]\n",
    "\n",
    "import misc\n",
    "deca_params, avg_dict = misc.load_deca_params(deca_dir=f'/data/mint/DPM_Dataset/ffhq_256_with_anno/params/{set_}', cfg=None)\n"
   ]
  },
  {
   "cell_type": "code",
   "execution_count": 48,
   "metadata": {},
   "outputs": [
    {
     "name": "stderr",
     "output_type": "stream",
     "text": [
      "  0%|          | 0/500 [00:00<?, ?it/s]/home/mint/Dev/DiFaReli/difareli-faster/sample_scripts/sample_utils/mani_utils.py:323: UserWarning: Gimbal lock detected. Setting third angle to zero since it is not possible to uniquely determine all angles.\n",
      "  return rot.as_euler('zyz', degrees=True)\n",
      "100%|██████████| 500/500 [00:09<00:00, 50.26it/s]\n"
     ]
    }
   ],
   "source": [
    "n_frames = 20\n",
    "rotate_sh_axis = 2\n",
    "\n",
    "def proc_params(params, pair):\n",
    "    pair_name = f\"{pair['src'].split('.')[0]}_{pair['dst'].split('.')[0]}\"\n",
    "    out = {}\n",
    "    for k in params.keys():\n",
    "        if k == 'light':\n",
    "            cond = {}\n",
    "            cond[k] = th.tensor(params[k][None, ...])\n",
    "            params[k] = mani_utils.rotate_sh(cond, src_idx=0, n_step=n_frames, axis=rotate_sh_axis)['light']\n",
    "        else:\n",
    "            params[k] = np.repeat(params[k][None, ...], repeats=n_frames, axis=0)\n",
    "        out[k] = params[k]\n",
    "    return out\n",
    "\n",
    "proc_out = {}\n",
    "fo = {}\n",
    "save_params_folder = f\"/data/mint/DPM_Dataset/Generated_Dataset_TargetLight/Generated_Dataset_cast_shadows_extra_rotate/params_recreate/{set_}\"\n",
    "os.makedirs(save_params_folder, exist_ok=True)\n",
    "fo_shape = open(f\"{save_params_folder}/ffhq-{set_}-shape-anno.txt\", \"w\")\n",
    "fo_exp = open(f\"{save_params_folder}/ffhq-{set_}-exp-anno.txt\", \"w\")\n",
    "fo_pose = open(f\"{save_params_folder}/ffhq-{set_}-pose-anno.txt\", \"w\")\n",
    "fo_light = open(f\"{save_params_folder}/ffhq-{set_}-light-anno.txt\", \"w\")\n",
    "fo_cam = open(f\"{save_params_folder}/ffhq-{set_}-cam-anno.txt\", \"w\")\n",
    "fo_detail = open(f\"{save_params_folder}/ffhq-{set_}-detail-anno.txt\", \"w\")\n",
    "fo_tform = open(f\"{save_params_folder}/ffhq-{set_}-tform-anno.txt\", \"w\")\n",
    "fo_albedo = open(f\"{save_params_folder}/ffhq-{set_}-albedo-anno.txt\", \"w\")\n",
    "fo_faceemb = open(f\"{save_params_folder}/ffhq-{set_}-faceemb-anno.txt\", \"w\")\n",
    "fo_shadow = open(f\"{save_params_folder}/ffhq-{set_}-shadow-anno.txt\", \"w\")\n",
    "\n",
    "fo_dict = {'shape':fo_shape, 'exp':fo_exp, 'pose':fo_pose, \n",
    "        'light':fo_light, 'cam':fo_cam, 'detail':fo_detail,\n",
    "        'tform':fo_tform, 'albedo':fo_albedo, 'shadow':fo_shadow, 'faceemb':fo_faceemb}\n",
    "\n",
    "# fo_dict[fok].write(\" \".join([str(x) for x in params]) + \"\\n\")\n",
    "for p in tqdm.tqdm(pairs):\n",
    "    tmp_dict = proc_params(deca_params[p['src']].copy(), pair=p)\n",
    "    for k in tmp_dict.keys():\n",
    "        # print(tmp_dict[k].shape, tmp_dict['light'].shape, tmp_dict['light'])\n",
    "        for i in range(n_frames):\n",
    "            if i == 0:\n",
    "                name = f\"{p['src'].split('.')[0]}\"\n",
    "                ext = \".png\"\n",
    "            else:\n",
    "                name = f\"{p['src'].split('.')[0]}_{p['dst'].split('.')[0]}_f{i}\"\n",
    "                ext = \".png\"\n",
    "            fo_dict[k].write(name + f\"{ext} \")\n",
    "            fo_dict[k].write(\" \".join([str(x) for x in tmp_dict[k][i].flatten()]) + \"\\n\")\n",
    "            # fo_dict[fok].write(\" \".join([str(x) for x in tmp_dict[k][fok].flatten()]) + \"\\n\")\n",
    "\n",
    "for k in fo_dict.keys():\n",
    "    fo_dict[k].close()"
   ]
  }
 ],
 "metadata": {
  "kernelspec": {
   "display_name": "dpm_sampling_deca_pysh",
   "language": "python",
   "name": "python3"
  },
  "language_info": {
   "codemirror_mode": {
    "name": "ipython",
    "version": 3
   },
   "file_extension": ".py",
   "mimetype": "text/x-python",
   "name": "python",
   "nbconvert_exporter": "python",
   "pygments_lexer": "ipython3",
   "version": "3.8.12"
  }
 },
 "nbformat": 4,
 "nbformat_minor": 2
}
