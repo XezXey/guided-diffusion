{
 "cells": [
  {
   "cell_type": "code",
   "execution_count": 31,
   "metadata": {},
   "outputs": [
    {
     "ename": "Exception",
     "evalue": "No progress found",
     "output_type": "error",
     "traceback": [
      "\u001b[0;31m---------------------------------------------------------------------------\u001b[0m",
      "\u001b[0;31mException\u001b[0m                                 Traceback (most recent call last)",
      "\u001b[0;32m/tmp/ipykernel_29244/4282892442.py\u001b[0m in \u001b[0;36m<module>\u001b[0;34m\u001b[0m\n\u001b[1;32m     42\u001b[0m \u001b[0;34m\u001b[0m\u001b[0m\n\u001b[1;32m     43\u001b[0m \u001b[0;32mfor\u001b[0m \u001b[0mc\u001b[0m \u001b[0;32min\u001b[0m \u001b[0mchunk\u001b[0m\u001b[0;34m:\u001b[0m\u001b[0;34m\u001b[0m\u001b[0;34m\u001b[0m\u001b[0m\n\u001b[0;32m---> 44\u001b[0;31m     \u001b[0mfind_progress\u001b[0m\u001b[0;34m(\u001b[0m\u001b[0mc\u001b[0m\u001b[0;34m[\u001b[0m\u001b[0;36m0\u001b[0m\u001b[0;34m]\u001b[0m\u001b[0;34m,\u001b[0m \u001b[0mc\u001b[0m\u001b[0;34m[\u001b[0m\u001b[0;36m1\u001b[0m\u001b[0;34m]\u001b[0m\u001b[0;34m,\u001b[0m \u001b[0msrc_dst_done\u001b[0m\u001b[0;34m)\u001b[0m\u001b[0;34m\u001b[0m\u001b[0;34m\u001b[0m\u001b[0m\n\u001b[0m",
      "\u001b[0;32m/tmp/ipykernel_29244/4282892442.py\u001b[0m in \u001b[0;36mfind_progress\u001b[0;34m(start, end, src_dst_done)\u001b[0m\n\u001b[1;32m     27\u001b[0m     \u001b[0mprogress\u001b[0m \u001b[0;34m=\u001b[0m \u001b[0mnp\u001b[0m\u001b[0;34m.\u001b[0m\u001b[0mwhere\u001b[0m\u001b[0;34m(\u001b[0m\u001b[0mnp\u001b[0m\u001b[0;34m.\u001b[0m\u001b[0marray\u001b[0m\u001b[0;34m(\u001b[0m\u001b[0msrc_dst_fromfile\u001b[0m\u001b[0;34m,\u001b[0m \u001b[0mdtype\u001b[0m\u001b[0;34m=\u001b[0m\u001b[0mobject\u001b[0m\u001b[0;34m)\u001b[0m \u001b[0;34m==\u001b[0m \u001b[0;32mNone\u001b[0m\u001b[0;34m)\u001b[0m\u001b[0;34m[\u001b[0m\u001b[0;36m0\u001b[0m\u001b[0;34m]\u001b[0m\u001b[0;34m\u001b[0m\u001b[0;34m\u001b[0m\u001b[0m\n\u001b[1;32m     28\u001b[0m     \u001b[0;32mif\u001b[0m \u001b[0mlen\u001b[0m\u001b[0;34m(\u001b[0m\u001b[0mprogress\u001b[0m\u001b[0;34m)\u001b[0m \u001b[0;34m==\u001b[0m \u001b[0;36m0\u001b[0m\u001b[0;34m:\u001b[0m\u001b[0;34m\u001b[0m\u001b[0;34m\u001b[0m\u001b[0m\n\u001b[0;32m---> 29\u001b[0;31m         \u001b[0;32mraise\u001b[0m \u001b[0mException\u001b[0m\u001b[0;34m(\u001b[0m\u001b[0;34m\"No progress found\"\u001b[0m\u001b[0;34m)\u001b[0m\u001b[0;34m\u001b[0m\u001b[0;34m\u001b[0m\u001b[0m\n\u001b[0m\u001b[1;32m     30\u001b[0m     \u001b[0;32massert\u001b[0m \u001b[0mnp\u001b[0m\u001b[0;34m.\u001b[0m\u001b[0mallclose\u001b[0m\u001b[0;34m(\u001b[0m\u001b[0;34m(\u001b[0m\u001b[0mprogress\u001b[0m\u001b[0;34m[\u001b[0m\u001b[0;36m1\u001b[0m\u001b[0;34m:\u001b[0m\u001b[0;34m]\u001b[0m \u001b[0;34m-\u001b[0m \u001b[0mprogress\u001b[0m\u001b[0;34m[\u001b[0m\u001b[0;34m:\u001b[0m\u001b[0;34m-\u001b[0m\u001b[0;36m1\u001b[0m\u001b[0;34m]\u001b[0m\u001b[0;34m)\u001b[0m\u001b[0;34m,\u001b[0m \u001b[0;36m1\u001b[0m\u001b[0;34m)\u001b[0m   \u001b[0;31m# check if progress is continuous\u001b[0m\u001b[0;34m\u001b[0m\u001b[0;34m\u001b[0m\u001b[0m\n\u001b[1;32m     31\u001b[0m     \u001b[0mprint\u001b[0m\u001b[0;34m(\u001b[0m\u001b[0;34m\"=====================================================\"\u001b[0m\u001b[0;34m)\u001b[0m\u001b[0;34m\u001b[0m\u001b[0;34m\u001b[0m\u001b[0m\n",
      "\u001b[0;31mException\u001b[0m: No progress found"
     ]
    }
   ],
   "source": [
    "import numpy as np\n",
    "import glob, os, json\n",
    "\n",
    "n_frames = 2\n",
    "start, end = 0, 66670\n",
    "path = '/data/mint/dataset_generation/random_target/log=Masked_Face_woclip+BgNoHead+shadow_256_cfg=Masked_Face_woclip+BgNoHead+shadow_256.yaml_step=250/ema_085000/train/render_face/reverse_sampling/'\n",
    "src_dst_done = [p.split('/')[-2:] for p in glob.glob(f'{path}/*/*')]\n",
    "# print(src_dst_done[:10])\n",
    "\n",
    "\n",
    "def find_progress(start, end, src_dst_done):\n",
    "    with open('../sample_scripts/dataset_generation/sample_json/generated_dataset_seed=47.json', 'r') as f:\n",
    "        json_data = json.load(f)['pair']\n",
    "        src_dst_fromfile = []\n",
    "        for k in list(json_data.keys())[start:end]:\n",
    "            src_dst_fromfile.append([f\"src={json_data[k]['src']}\", f\"dst={json_data[k]['dst']}\"])\n",
    "    # print(src_dst_fromfile[:10])\n",
    "        \n",
    "    src_dst_fromfile_orig = src_dst_fromfile.copy()\n",
    "    for done in src_dst_done:\n",
    "        try:\n",
    "            idx = src_dst_fromfile.index(done)\n",
    "            src_dst_fromfile[idx] = None\n",
    "        except:\n",
    "            pass\n",
    "       \n",
    "    progress = np.where(np.array(src_dst_fromfile, dtype=object) == None)[0]\n",
    "    if len(progress) == 0:\n",
    "        raise Exception(\"No progress found\")\n",
    "    assert np.allclose((progress[1:] - progress[:-1]), 1)   # check if progress is continuous\n",
    "    print(\"=====================================================\")\n",
    "    print(f\"[#] For {start} to {end} frames, progress is continuous\")\n",
    "    print(f\"[#] Progress is : {progress[-1]} which is image at {src_dst_fromfile_orig[progress[-1]]}\")\n",
    "    print(f\"[#] You should start at {progress[-1]+1} which is image at {src_dst_fromfile_orig[progress[-1]+1]}\")\n",
    "    print(f\"[#] After Re-indexing...\")\n",
    "    print(f\"[#] You should run from {start+progress[-1]+1} to {end} which is {end - (start+progress[-1]+1)} images\")\n",
    "    print(\"=====================================================\")\n",
    "\n",
    "# chunk = [(0, 66670), (66670, 133340), (133340, 200010)]\n",
    "chunk = [(200010, 266680), (266680, 333350), (333350, 400020)]\n",
    "# chunk = [(400020, 466690), (466690, 533360), (533360, 600030)]\n",
    "\n",
    "for c in chunk:\n",
    "    find_progress(c[0], c[1], src_dst_done)\n"
   ]
  }
 ],
 "metadata": {
  "kernelspec": {
   "display_name": "difareli_faster_inference",
   "language": "python",
   "name": "python3"
  },
  "language_info": {
   "codemirror_mode": {
    "name": "ipython",
    "version": 3
   },
   "file_extension": ".py",
   "mimetype": "text/x-python",
   "name": "python",
   "nbconvert_exporter": "python",
   "pygments_lexer": "ipython3",
   "version": "3.8.12"
  }
 },
 "nbformat": 4,
 "nbformat_minor": 2
}
