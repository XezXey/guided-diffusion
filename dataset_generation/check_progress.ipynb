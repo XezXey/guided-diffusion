{
 "cells": [
  {
   "cell_type": "code",
   "execution_count": 30,
   "metadata": {},
   "outputs": [
    {
     "name": "stdout",
     "output_type": "stream",
     "text": [
      "=====================================================\n",
      "[#] For {start} to {end} frames, progress is continuous\n",
      "[#] Progress is : 327 which is image at ['src=58541.jpg', 'dst=30749.jpg']\n",
      "[#] You should start at 328 which is image at ['src=7441.jpg', 'dst=45200.jpg']\n",
      "[#] After Re-indexing...\n",
      "[#] You should run from 328 to 66670 which is 66342 images\n",
      "=====================================================\n",
      "=====================================================\n",
      "[#] For {start} to {end} frames, progress is continuous\n",
      "[#] Progress is : 306 which is image at ['src=20245.jpg', 'dst=9016.jpg']\n",
      "[#] You should start at 307 which is image at ['src=33039.jpg', 'dst=58907.jpg']\n",
      "[#] After Re-indexing...\n",
      "[#] You should run from 66977 to 133340 which is 66363 images\n",
      "=====================================================\n",
      "=====================================================\n",
      "[#] For {start} to {end} frames, progress is continuous\n",
      "[#] Progress is : 303 which is image at ['src=15834.jpg', 'dst=44749.jpg']\n",
      "[#] You should start at 304 which is image at ['src=433.jpg', 'dst=3796.jpg']\n",
      "[#] After Re-indexing...\n",
      "[#] You should run from 133644 to 200010 which is 66366 images\n",
      "=====================================================\n"
     ]
    }
   ],
   "source": [
    "import numpy as np\n",
    "import glob, os, json\n",
    "\n",
    "n_frames = 2\n",
    "start, end = 0, 66670\n",
    "path = '/data/mint/dataset_generation/random_target/log=Masked_Face_woclip+BgNoHead+shadow_256_cfg=Masked_Face_woclip+BgNoHead+shadow_256.yaml_step=250/ema_085000/train/render_face/reverse_sampling/'\n",
    "src_dst_done = [p.split('/')[-2:] for p in glob.glob(f'{path}/*/*')]\n",
    "# print(src_dst_done[:10])\n",
    "\n",
    "\n",
    "def find_progress(start, end, src_dst_done):\n",
    "    with open('../sample_scripts/dataset_generation/sample_json/generated_dataset_seed=47.json', 'r') as f:\n",
    "        json_data = json.load(f)['pair']\n",
    "        src_dst_fromfile = []\n",
    "        for k in list(json_data.keys())[start:end]:\n",
    "            src_dst_fromfile.append([f\"src={json_data[k]['src']}\", f\"dst={json_data[k]['dst']}\"])\n",
    "    # print(src_dst_fromfile[:10])\n",
    "        \n",
    "    src_dst_fromfile_orig = src_dst_fromfile.copy()\n",
    "    for done in src_dst_done:\n",
    "        try:\n",
    "            idx = src_dst_fromfile.index(done)\n",
    "            src_dst_fromfile[idx] = None\n",
    "        except:\n",
    "            pass\n",
    "        \n",
    "    progress = np.where(np.array(src_dst_fromfile, dtype=object) == None)[0]\n",
    "    assert np.allclose((progress[1:] - progress[:-1]), 1)   # check if progress is continuous\n",
    "    print(\"=====================================================\")\n",
    "    print(\"[#] For {start} to {end} frames, progress is continuous\")\n",
    "    print(f\"[#] Progress is : {progress[-1]} which is image at {src_dst_fromfile_orig[progress[-1]]}\")\n",
    "    print(f\"[#] You should start at {progress[-1]+1} which is image at {src_dst_fromfile_orig[progress[-1]+1]}\")\n",
    "    print(f\"[#] After Re-indexing...\")\n",
    "    print(f\"[#] You should run from {start+progress[-1]+1} to {end} which is {end - (start+progress[-1]+1)} images\")\n",
    "    print(\"=====================================================\")\n",
    "\n",
    "chunk = [(0, 66670), (66670, 133340), (133340, 200010)]\n",
    "# chunk = [(200010, 266680), (266680, 333350), (333350, 400020)]\n",
    "# chunk = [(400020, 466690), (466690, 533360), (533360, 600030)]\n",
    "\n",
    "for c in chunk:\n",
    "    find_progress(c[0], c[1], src_dst_done)\n"
   ]
  }
 ],
 "metadata": {
  "kernelspec": {
   "display_name": "difareli_faster_inference",
   "language": "python",
   "name": "python3"
  },
  "language_info": {
   "codemirror_mode": {
    "name": "ipython",
    "version": 3
   },
   "file_extension": ".py",
   "mimetype": "text/x-python",
   "name": "python",
   "nbconvert_exporter": "python",
   "pygments_lexer": "ipython3",
   "version": "3.8.12"
  }
 },
 "nbformat": 4,
 "nbformat_minor": 2
}
