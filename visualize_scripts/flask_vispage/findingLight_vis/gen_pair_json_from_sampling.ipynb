{
 "cells": [
  {
   "cell_type": "code",
   "execution_count": 2,
   "metadata": {},
   "outputs": [],
   "source": [
    "import numpy as np\n",
    "import glob, os, json\n",
    "# /data/mint/sampling/infinite/log=Masked_Face_woclip+BgNoHead+shadow_256_cfg=Masked_Face_woclip+BgNoHead+shadow_256.yaml/ema_085000/valid/render_face/reverse_sampling/src=62372.jpg/dst=69567.jpg/Lerp_1000/n_frames=5/res_frame1.png\n",
    "model = 'log=Masked_Face_woclip+BgNoHead+shadow_256_cfg=Masked_Face_woclip+BgNoHead+shadow_256.yaml'\n",
    "sub_tree = '/ema_085000/valid/render_face/reverse_sampling/'\n",
    "\n",
    "src_path = f'/data/mint/sampling/ITW_testlight/{model}/{sub_tree}/'\n",
    "src = sorted(os.listdir(src_path))\n",
    "\n",
    "out_name = 'infinite'\n",
    "out_json_vis = {'pair':{}}\n",
    "out_json = {'pair':{}}\n",
    "ext = '.png'\n",
    "\n",
    "count = 1\n",
    "for i in range(len(src)):\n",
    "    dst = os.listdir(f'{src_path}/{src[i]}/')\n",
    "    for j in range(len(dst)):\n",
    "        img_idx = [src[i].split('=')[-1], dst[j].split('=')[-1]]\n",
    "        out_json['pair'][f'pair{count}'] = {'src':img_idx[0], 'dst':img_idx[1]}\n",
    "        out_json_vis['pair'][f'pair{count}'] = {'src':img_idx[0].replace('.jpg', '.png'), 'dst':img_idx[1].replace('.jpg', '.png')}\n",
    "        count+=1\n",
    "    \n",
    "with open(f'./{out_name}_vis.json', 'w') as fp:\n",
    "    json.dump(out_json_vis, fp, indent=4)\n",
    "    \n",
    "with open(f'./{out_name}.json', 'w') as fp:\n",
    "    json.dump(out_json, fp, indent=4)"
   ]
  }
 ],
 "metadata": {
  "kernelspec": {
   "display_name": "3dr_conda_training",
   "language": "python",
   "name": "python3"
  },
  "language_info": {
   "codemirror_mode": {
    "name": "ipython",
    "version": 3
   },
   "file_extension": ".py",
   "mimetype": "text/x-python",
   "name": "python",
   "nbconvert_exporter": "python",
   "pygments_lexer": "ipython3",
   "version": "3.8.12"
  },
  "orig_nbformat": 4,
  "vscode": {
   "interpreter": {
    "hash": "fafb62d5f4613a7545cb0370bd44fb628c825b23cfd04fe5f82e7c51a33fbd5e"
   }
  }
 },
 "nbformat": 4,
 "nbformat_minor": 2
}
