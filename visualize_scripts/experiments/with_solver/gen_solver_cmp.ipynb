{
 "cells": [
  {
   "cell_type": "markdown",
   "metadata": {},
   "source": [
    "# Visualize all"
   ]
  },
  {
   "cell_type": "code",
   "execution_count": 1,
   "metadata": {},
   "outputs": [],
   "source": [
    "import numpy as np\n",
    "import glob, os, json\n",
    "\n",
    "sampling_dir = '/data/mint/sampling/with_solver/'\n",
    "\n",
    "out_json = {}\n",
    "for d in sorted(glob.glob(sampling_dir + '/*_256*')):\n",
    "    name = d.split('/')[-1]\n",
    "    step = \"ema_085000\"\n",
    "    alias = name.split('yaml_')[-1]\n",
    "    itp = \"render_face\"\n",
    "    itp_method = \"Lerp\"\n",
    "    diff_step = \"1000\"\n",
    "    time_respace = \"\"\n",
    "    n_frame = \"5\"\n",
    "    out_json[name] = {\n",
    "        \"step\": step,\n",
    "        \"alias\": alias,\n",
    "        \"itp\": itp,\n",
    "        \"itp_method\": itp_method,\n",
    "        \"diff_step\": diff_step,\n",
    "        \"time_respace\": time_respace,\n",
    "        \"n_frame\": n_frame\n",
    "    }\n",
    "    \n",
    "    with open('./solver_cmp_256.json', 'w') as f:\n",
    "        json.dump(out_json, f, indent=4, sort_keys=True)\n",
    "    "
   ]
  },
  {
   "cell_type": "markdown",
   "metadata": {},
   "source": [
    "# Visualize only ..."
   ]
  },
  {
   "cell_type": "code",
   "execution_count": 19,
   "metadata": {},
   "outputs": [],
   "source": [
    "import numpy as np\n",
    "import glob, os, json\n",
    "\n",
    "sampling_dir = '/data/mint/sampling/with_solver/'\n",
    "\n",
    "# available alg, order, method, steps, correction\n",
    "# vis_alg = ['dpmsolver', 'dpmsolver++']\n",
    "# vis_order = ['2', '3']\n",
    "# vis_steps = ['10', '15', '20', '25', '50', '100']\n",
    "# vis_method = ['singlestep', 'multistep']\n",
    "# vis_correction = ['None', 'dynamic_thresholding']\n",
    "\n",
    "vis_alg = ['dpmsolver', 'dpmsolver++', 'unipc']\n",
    "vis_order = ['2', '3']\n",
    "vis_steps = ['10', '15', '20', '25', '50', '100']\n",
    "# vis_steps = ['50']\n",
    "vis_method = ['multistep']\n",
    "vis_correction = ['None']\n",
    "\n",
    "\n",
    "out_json = {}\n",
    "for d in sorted(glob.glob(sampling_dir + '/*_256*')):\n",
    "    name = d.split('/')[-1]\n",
    "    step = \"ema_085000\"\n",
    "    alias = name.split('yaml_')[-1]\n",
    "    itp = \"render_face\"\n",
    "    itp_method = \"Lerp\"\n",
    "    diff_step = \"1000\"\n",
    "    time_respace = \"\"\n",
    "    n_frame = \"5\"\n",
    "    alg, order, method, steps = alias.split('_')[0:4]\n",
    "    correction = '_'.join(alias.split('_')[4:])\n",
    "    # make if statement to check whether alg or order or method or steps or correction in only then do something\n",
    "    if alg not in vis_alg:continue\n",
    "    if order not in vis_order:continue\n",
    "    if method not in vis_method:continue\n",
    "    if steps not in vis_steps:continue\n",
    "    if correction not in vis_correction:continue\n",
    "        \n",
    "    out_json[name] = {\n",
    "        \"step\": step,\n",
    "        \"alias\": alias,\n",
    "        \"itp\": itp,\n",
    "        \"itp_method\": itp_method,\n",
    "        \"diff_step\": diff_step,\n",
    "        \"time_respace\": time_respace,\n",
    "        \"n_frame\": n_frame\n",
    "    }\n",
    "    \n",
    "    with open('./comparison/solver_cmp_256_only-multistep.json', 'w') as f:\n",
    "        json.dump(out_json, f, indent=4, sort_keys=True)\n",
    "    "
   ]
  }
 ],
 "metadata": {
  "kernelspec": {
   "display_name": "difareli_faster_training",
   "language": "python",
   "name": "python3"
  },
  "language_info": {
   "codemirror_mode": {
    "name": "ipython",
    "version": 3
   },
   "file_extension": ".py",
   "mimetype": "text/x-python",
   "name": "python",
   "nbconvert_exporter": "python",
   "pygments_lexer": "ipython3",
   "version": "3.8.12"
  },
  "orig_nbformat": 4
 },
 "nbformat": 4,
 "nbformat_minor": 2
}
