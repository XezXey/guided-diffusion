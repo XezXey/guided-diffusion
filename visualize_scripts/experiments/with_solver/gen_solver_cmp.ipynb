{
 "cells": [
  {
   "cell_type": "code",
   "execution_count": 7,
   "metadata": {},
   "outputs": [],
   "source": [
    "import numpy as np\n",
    "import glob, os, json\n",
    "\n",
    "sampling_dir = '/data/mint/sampling/with_solver/'\n",
    "\n",
    "out_json = {}\n",
    "for d in sorted(glob.glob(sampling_dir + '/*')):\n",
    "    name = d.split('/')[-1]\n",
    "    step = \"ema_050000\"\n",
    "    alias = name.split('yaml_')[-1]\n",
    "    itp = \"render_face\"\n",
    "    itp_method = \"Lerp\"\n",
    "    diff_step = \"1000\"\n",
    "    time_respace = \"\"\n",
    "    n_frame = \"5\"\n",
    "    out_json[name] = {\n",
    "        \"step\": step,\n",
    "        \"alias\": alias,\n",
    "        \"itp\": itp,\n",
    "        \"itp_method\": itp_method,\n",
    "        \"diff_step\": diff_step,\n",
    "        \"time_respace\": time_respace,\n",
    "        \"n_frame\": n_frame\n",
    "    }\n",
    "    \n",
    "    with open('./solver_cmp.json', 'w') as f:\n",
    "        json.dump(out_json, f, indent=4, sort_keys=True)\n",
    "    "
   ]
  },
  {
   "cell_type": "code",
   "execution_count": null,
   "metadata": {},
   "outputs": [],
   "source": []
  }
 ],
 "metadata": {
  "kernelspec": {
   "display_name": "difareli_faster_training",
   "language": "python",
   "name": "python3"
  },
  "language_info": {
   "codemirror_mode": {
    "name": "ipython",
    "version": 3
   },
   "file_extension": ".py",
   "mimetype": "text/x-python",
   "name": "python",
   "nbconvert_exporter": "python",
   "pygments_lexer": "ipython3",
   "version": "3.8.12"
  },
  "orig_nbformat": 4
 },
 "nbformat": 4,
 "nbformat_minor": 2
}
