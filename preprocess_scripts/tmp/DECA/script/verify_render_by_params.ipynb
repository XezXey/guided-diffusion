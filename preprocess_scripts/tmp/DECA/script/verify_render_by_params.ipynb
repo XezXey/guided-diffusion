{
 "cells": [
  {
   "cell_type": "code",
   "execution_count": 2,
   "metadata": {},
   "outputs": [
    {
     "name": "stdout",
     "output_type": "stream",
     "text": [
      "creating the FLAME Decoder\n",
      "trained model found. load /home/mint/Relighting_preprocessing/DECA/data/deca_model.tar\n",
      "Key=> shape : Filename=>/data/mint/DPM_Dataset/ffhq_256_with_anno/params//train/ffhq-train-shape-anno.txt\n",
      "Key=> pose : Filename=>/data/mint/DPM_Dataset/ffhq_256_with_anno/params//train/ffhq-train-pose-anno.txt\n",
      "Key=> exp : Filename=>/data/mint/DPM_Dataset/ffhq_256_with_anno/params//train/ffhq-train-exp-anno.txt\n",
      "Key=> cam : Filename=>/data/mint/DPM_Dataset/ffhq_256_with_anno/params//train/ffhq-train-cam-anno.txt\n",
      "Key=> light : Filename=>/data/mint/DPM_Dataset/ffhq_256_with_anno/params//train/ffhq-train-light-anno.txt\n",
      "Key=> tform : Filename=>/data/mint/DPM_Dataset/ffhq_256_with_anno/params//train/ffhq-train-tform-anno.txt\n",
      "Key=> detail : Filename=>/data/mint/DPM_Dataset/ffhq_256_with_anno/params//train/ffhq-train-detail-anno.txt\n",
      "Key=> shape : Filename=>/data/mint/DPM_Dataset/ffhq_256_with_anno/params//valid/ffhq-valid-shape-anno.txt\n",
      "Key=> pose : Filename=>/data/mint/DPM_Dataset/ffhq_256_with_anno/params//valid/ffhq-valid-pose-anno.txt\n",
      "Key=> exp : Filename=>/data/mint/DPM_Dataset/ffhq_256_with_anno/params//valid/ffhq-valid-exp-anno.txt\n",
      "Key=> cam : Filename=>/data/mint/DPM_Dataset/ffhq_256_with_anno/params//valid/ffhq-valid-cam-anno.txt\n",
      "Key=> light : Filename=>/data/mint/DPM_Dataset/ffhq_256_with_anno/params//valid/ffhq-valid-light-anno.txt\n",
      "Key=> tform : Filename=>/data/mint/DPM_Dataset/ffhq_256_with_anno/params//valid/ffhq-valid-tform-anno.txt\n",
      "Key=> detail : Filename=>/data/mint/DPM_Dataset/ffhq_256_with_anno/params//valid/ffhq-valid-detail-anno.txt\n"
     ]
    }
   ],
   "source": [
    "import torch as th\n",
    "import sys, os\n",
    "import tqdm\n",
    "os.environ[\"CUDA_DEVICE_ORDER\"]=\"PCI_BUS_ID\"   # see issue #152\n",
    "os.environ[\"CUDA_VISIBLE_DEVICES\"]=\"1\"\n",
    "sys.path.insert(0, '../')\n",
    "from decalib.deca import DECA\n",
    "from decalib.datasets import datasets \n",
    "from decalib.utils import util\n",
    "from decalib.utils.config import cfg as deca_cfg\n",
    "from decalib.utils.tensor_cropper import transform_points\n",
    "from sample_scripts.sample_utils.params_utils import get_params_set\n",
    "from sample_scripts.sample_utils.vis_utils import plot_image\n",
    "\n",
    "\n",
    "def load_face(set_, path):\n",
    "    deca_params = get_params_set(set_, params_key = ['shape', 'pose', 'exp', 'cam', 'light', 'tform', 'detail'], path=path)\n",
    "\n",
    "    shape = []; pose = []; exp = []; cam = []; light = []; tform = []; detail = []\n",
    "    for k, v in deca_params.items():\n",
    "        \n",
    "        shape.append(th.tensor(v['shape']))\n",
    "        pose.append(th.tensor(v['pose']))\n",
    "        exp.append(th.tensor(v['exp']))\n",
    "        cam.append(th.tensor(v['cam']))\n",
    "        light.append(th.tensor(v['light']))\n",
    "        tform.append(th.tensor(v['tform']))\n",
    "        detail.append(th.tensor(v['detail']))\n",
    "    shape = th.stack(shape)\n",
    "    pose = th.stack(pose)\n",
    "    exp = th.stack(exp)\n",
    "    cam = th.stack(cam)\n",
    "    light = th.stack(light)\n",
    "    tform = th.stack(tform)\n",
    "    detail = th.stack(detail)\n",
    "    concat_dict = {'shape':shape, 'pose':pose, 'exp':exp, 'cam':cam, 'light':light, 'tform':tform, 'detail':detail}\n",
    "    return concat_dict, deca_params\n",
    "\n",
    "device = 'cuda'\n",
    "deca_cfg.model.use_tex = False\n",
    "deca_cfg.rasterizer_type = 'standard'\n",
    "deca_cfg.model.extract_tex = True\n",
    "deca = DECA(config = deca_cfg, device=device)\n",
    "deca_concat_dict_train, deca_id_dict_train = load_face('train', path='/data/mint/DPM_Dataset/ffhq_256_with_anno/params/')\n",
    "deca_concat_dict_val, deca_id_dict_val = load_face('valid', path='/data/mint/DPM_Dataset/ffhq_256_with_anno/params/')"
   ]
  },
  {
   "cell_type": "code",
   "execution_count": 5,
   "metadata": {},
   "outputs": [
    {
     "name": "stdout",
     "output_type": "stream",
     "text": [
      "shape torch.Size([1, 100])\n",
      "pose torch.Size([1, 6])\n",
      "exp torch.Size([1, 50])\n",
      "cam torch.Size([1, 3])\n",
      "light torch.Size([1, 9, 3])\n",
      "tform torch.Size([1, 3, 3])\n",
      "detail torch.Size([1, 128])\n",
      "tensor([[ 1.1436e+00, -4.8790e-17, -3.8882e+01],\n",
      "        [ 7.8174e-17,  1.1436e+00, -7.9479e+01],\n",
      "        [ 0.0000e+00,  0.0000e+00,  1.0000e+00]])\n",
      "tensor([[[ 1.1436e+00, -4.8790e-17, -3.8882e+01],\n",
      "         [ 7.8174e-17,  1.1436e+00, -7.9479e+01],\n",
      "         [ 0.0000e+00,  0.0000e+00,  1.0000e+00]]], device='cuda:0')\n",
      "tensor([[[ 8.7444e-01, -5.9775e-17,  0.0000e+00],\n",
      "         [ 3.7307e-17,  8.7444e-01,  0.0000e+00],\n",
      "         [ 3.4000e+01,  6.9500e+01,  1.0000e+00]]], device='cuda:0')\n",
      "Image shape :  torch.Size([1, 3, 256, 256])\n",
      "Channel length :  [3]\n"
     ]
    }
   ],
   "source": [
    "img_name = '60065.jpg'\n",
    "data_path = \"/data/mint/ffhq_256_with_anno/ffhq_256/valid/\"\n",
    "testdata = datasets.TestData(f\"{data_path}/{img_name}\", iscrop=True, face_detector='fan', sample_step=10)\n",
    "\n",
    "name = testdata[0]['imagename']\n",
    "images = testdata[0]['image'].to(device)[None,...]\n",
    "codedict = deca_id_dict_val[img_name].copy()\n",
    "codedict['images'] = images\n",
    "for p in ['shape', 'pose', 'exp', 'cam', 'light', 'tform', 'detail']:\n",
    "    if p == 'light':\n",
    "        codedict['light'] = codedict['light'].reshape(9, 3)\n",
    "    if p == 'tform':\n",
    "        codedict['tform'] = codedict['tform'].reshape(3, 3)\n",
    "    codedict[p] = th.tensor(codedict[p]).float().to(device)[None, ...]\n",
    "    print(p, codedict[p].shape)\n",
    "    \n",
    "print(testdata[0]['tform'])\n",
    "print(codedict['tform'])\n",
    "tform_inv = th.inverse(codedict['tform']).transpose(1,2).to(device)\n",
    "print(tform_inv)\n",
    "original_image = testdata[0]['original_image'][None, ...].to(device)\n",
    "_, orig_visdict = deca.decode(codedict, original_image=original_image, render_orig=True, tform=tform_inv, use_template=False, use_detail=False, mean_cam=None)\n",
    "plot_image(orig_visdict['shape_images'], [3])"
   ]
  },
  {
   "cell_type": "markdown",
   "metadata": {},
   "source": [
    "# Render with predicted shape"
   ]
  },
  {
   "cell_type": "code",
   "execution_count": 13,
   "metadata": {},
   "outputs": [
    {
     "name": "stderr",
     "output_type": "stream",
     "text": [
      "  0%|          | 0/10000 [00:00<?, ?it/s]/home/mint/miniconda3/envs/deca/lib/python3.8/site-packages/torch/nn/functional.py:3118: UserWarning: Default upsampling behavior when mode=bilinear is changed to align_corners=False since 0.4.0. Please specify align_corners=True if the old behavior is desired. See the documentation of nn.Upsample for details.\n",
      "  warnings.warn(\"Default upsampling behavior when mode={} is changed \"\n",
      "  3%|▎         | 300/10000 [00:45<24:29,  6.60it/s]\n"
     ]
    }
   ],
   "source": [
    "data_path = \"/data/mint/ffhq_256_with_anno/ffhq_256/valid/\"\n",
    "testdata = datasets.TestData(f\"{data_path}/\", iscrop=True, face_detector='fan', sample_step=10)\n",
    "savefolder = \"/data/mint/ffhq_256_with_anno/for_verifying_shape_images/valid/\"\n",
    "os.makedirs(savefolder, exist_ok=True)\n",
    "\n",
    "for i in tqdm.tqdm(range(len(testdata))):\n",
    "    if i == 300:\n",
    "        break\n",
    "    name = testdata[i]['imagename']\n",
    "    images = testdata[i]['image'].to(device)[None,...]\n",
    "    # codedict = deca_id_dict_train[f\"{name}.jpg\"].copy()\n",
    "    codedict = deca_id_dict_val[f\"{name}.jpg\"].copy()\n",
    "    codedict['images'] = images\n",
    "    for p in ['shape', 'pose', 'exp', 'cam', 'light', 'tform', 'detail']:\n",
    "        if p == 'light':\n",
    "            codedict['light'] = codedict['light'].reshape(9, 3)\n",
    "        if p == 'tform':\n",
    "            codedict['tform'] = codedict['tform'].reshape(3, 3)\n",
    "        codedict[p] = th.tensor(codedict[p]).float().to(device)[None, ...]\n",
    "    #     print(p, codedict[p].shape)\n",
    "        \n",
    "    tform_inv = th.inverse(codedict['tform']).transpose(1,2).to(device)\n",
    "    original_image = testdata[0]['original_image'][None, ...].to(device)\n",
    "    _, orig_visdict = deca.decode(codedict, original_image=original_image, render_orig=True, tform=tform_inv, use_template=False, mean_cam=None)    \n",
    "    \n",
    "    from torchvision.utils import save_image\n",
    "    save_image(orig_visdict['shape_images'], fp=f\"{savefolder}/{name}.png\")"
   ]
  },
  {
   "cell_type": "markdown",
   "metadata": {},
   "source": [
    "# Render with template shape"
   ]
  },
  {
   "cell_type": "code",
   "execution_count": 6,
   "metadata": {},
   "outputs": [
    {
     "name": "stderr",
     "output_type": "stream",
     "text": [
      "  0%|          | 1/10000 [00:01<3:47:42,  1.37s/it]"
     ]
    },
    {
     "name": "stdout",
     "output_type": "stream",
     "text": [
      "[[0.8689835  0.87447834 0.87893146]]\n",
      "[[0. 0. 0.]]\n"
     ]
    },
    {
     "name": "stderr",
     "output_type": "stream",
     "text": [
      "  0%|          | 2/10000 [00:02<2:52:13,  1.03s/it]"
     ]
    },
    {
     "name": "stdout",
     "output_type": "stream",
     "text": [
      "[[1.1004285 1.1045136 1.0924165]]\n",
      "[[0. 0. 0.]]\n"
     ]
    },
    {
     "name": "stderr",
     "output_type": "stream",
     "text": [
      "  0%|          | 3/10000 [00:02<2:15:34,  1.23it/s]"
     ]
    },
    {
     "name": "stdout",
     "output_type": "stream",
     "text": [
      "[[1.2124145 1.2233125 1.2191988]]\n",
      "[[0. 0. 0.]]\n"
     ]
    },
    {
     "name": "stderr",
     "output_type": "stream",
     "text": [
      "  0%|          | 4/10000 [00:03<1:53:56,  1.46it/s]"
     ]
    },
    {
     "name": "stdout",
     "output_type": "stream",
     "text": [
      "[[1.0952301 1.1152335 1.1188492]]\n",
      "[[0. 0. 0.]]\n"
     ]
    },
    {
     "name": "stderr",
     "output_type": "stream",
     "text": [
      "  0%|          | 5/10000 [00:03<1:48:53,  1.53it/s]"
     ]
    },
    {
     "name": "stdout",
     "output_type": "stream",
     "text": [
      "[[0.9781778  0.9888724  0.99078053]]\n",
      "[[0. 0. 0.]]\n"
     ]
    },
    {
     "name": "stderr",
     "output_type": "stream",
     "text": [
      "  0%|          | 6/10000 [00:04<1:39:53,  1.67it/s]"
     ]
    },
    {
     "name": "stdout",
     "output_type": "stream",
     "text": [
      "[[0.92282826 0.9259714  0.9242636 ]]\n",
      "[[0. 0. 0.]]\n"
     ]
    },
    {
     "name": "stderr",
     "output_type": "stream",
     "text": [
      "  0%|          | 7/10000 [00:04<1:36:25,  1.73it/s]"
     ]
    },
    {
     "name": "stdout",
     "output_type": "stream",
     "text": [
      "[[0.8027229 0.7995497 0.7859293]]\n",
      "[[0. 0. 0.]]\n"
     ]
    },
    {
     "name": "stderr",
     "output_type": "stream",
     "text": [
      "  0%|          | 8/10000 [00:05<1:37:33,  1.71it/s]"
     ]
    },
    {
     "name": "stdout",
     "output_type": "stream",
     "text": [
      "[[0.8889431  0.9120528  0.92131513]]\n",
      "[[0. 0. 0.]]\n"
     ]
    },
    {
     "name": "stderr",
     "output_type": "stream",
     "text": [
      "  0%|          | 9/10000 [00:05<1:32:50,  1.79it/s]"
     ]
    },
    {
     "name": "stdout",
     "output_type": "stream",
     "text": [
      "[[0.8194454  0.82561123 0.833648  ]]\n",
      "[[0. 0. 0.]]\n"
     ]
    },
    {
     "name": "stderr",
     "output_type": "stream",
     "text": [
      "  0%|          | 10/10000 [00:06<1:48:09,  1.54it/s]"
     ]
    },
    {
     "name": "stdout",
     "output_type": "stream",
     "text": [
      "[[1.0021014 1.0023755 1.0014464]]\n",
      "[[0. 0. 0.]]\n"
     ]
    },
    {
     "name": "stderr",
     "output_type": "stream",
     "text": [
      "\n"
     ]
    }
   ],
   "source": [
    "data_path = \"/data/mint/DPM_Dataset/ffhq_256_with_anno/ffhq_256/valid/\"\n",
    "testdata = datasets.TestData(f\"{data_path}/\", iscrop=True, face_detector='fan', sample_step=10)\n",
    "savefolder = \"/data/mint/ffhq_256_with_anno/for_verifying_template_shape_images/valid/\"\n",
    "\n",
    "# Calculate the average cam/tform\n",
    "mean_cam = th.mean(deca_concat_dict_train['cam'], dim=0, keepdims=True).float().to(device)\n",
    "mean_tform = th.mean(deca_concat_dict_train['tform'], dim=0).float().to(device)\n",
    "mean_tform = (mean_tform.reshape(3, 3))[None, ...]\n",
    "\n",
    "os.makedirs(savefolder, exist_ok=True)\n",
    "for i in tqdm.tqdm(range(len(testdata))):\n",
    "    if i == 10:\n",
    "        break\n",
    "    name = testdata[i]['imagename']\n",
    "    images = testdata[i]['image'].to(device)[None,...]\n",
    "    codedict = deca_id_dict_val[f\"{name}.jpg\"].copy()\n",
    "    codedict['images'] = images\n",
    "    for p in ['shape', 'pose', 'exp', 'cam', 'light', 'tform', 'detail']:\n",
    "        if p == 'light':\n",
    "            codedict['light'] = codedict['light'].reshape(9, 3)\n",
    "        if p == 'tform':\n",
    "            codedict['tform'] = codedict['tform'].reshape(3, 3)\n",
    "        codedict[p] = th.tensor(codedict[p]).float().to(device)[None, ...]\n",
    "        \n",
    "    tform_inv = th.inverse(mean_tform).transpose(1,2).to(device)\n",
    "    original_image = testdata[0]['original_image'][None, ...].to(device)\n",
    "    _, orig_visdict = deca.decode(codedict, original_image=original_image, render_orig=True, tform=tform_inv, use_template=True, mean_cam=mean_cam)    \n",
    "    # import numpy as np\n",
    "    # print(np.max(orig_visdict['shape_images'].cpu().numpy(), axis=(2, 3)))\n",
    "    # print(np.min(orig_visdict['shape_images'].cpu().numpy(), axis=(2, 3)))\n",
    "    \n",
    "    from torchvision.utils import save_image\n",
    "    save_image(orig_visdict['shape_images'], fp=f\"{savefolder}/{name}.png\")"
   ]
  }
 ],
 "metadata": {
  "kernelspec": {
   "display_name": "Python 3.7.13 ('deca': conda)",
   "language": "python",
   "name": "python3"
  },
  "language_info": {
   "codemirror_mode": {
    "name": "ipython",
    "version": 3
   },
   "file_extension": ".py",
   "mimetype": "text/x-python",
   "name": "python",
   "nbconvert_exporter": "python",
   "pygments_lexer": "ipython3",
   "version": "3.8.12"
  },
  "orig_nbformat": 4,
  "vscode": {
   "interpreter": {
    "hash": "dfa4abee0c1344f25114a7d3513e62ca18daae60d7677b8afa11b7af0a5b0e4c"
   }
  }
 },
 "nbformat": 4,
 "nbformat_minor": 2
}
