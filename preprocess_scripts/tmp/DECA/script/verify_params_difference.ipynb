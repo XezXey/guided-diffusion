{
 "cells": [
  {
   "cell_type": "code",
   "execution_count": 1,
   "metadata": {},
   "outputs": [
    {
     "name": "stdout",
     "output_type": "stream",
     "text": [
      "Key=> shape : Filename=>/data/mint/ffhq_256_with_anno/params_finale//train/ffhq-train-shape-anno.txt\n",
      "Key=> pose : Filename=>/data/mint/ffhq_256_with_anno/params_finale//train/ffhq-train-pose-anno.txt\n",
      "Key=> exp : Filename=>/data/mint/ffhq_256_with_anno/params_finale//train/ffhq-train-exp-anno.txt\n",
      "Key=> cam : Filename=>/data/mint/ffhq_256_with_anno/params_finale//train/ffhq-train-cam-anno.txt\n",
      "Key=> light : Filename=>/data/mint/ffhq_256_with_anno/params_finale//train/ffhq-train-light-anno.txt\n",
      "Key=> tform : Filename=>/data/mint/ffhq_256_with_anno/params_finale//train/ffhq-train-tform-anno.txt\n",
      "Key=> detail : Filename=>/data/mint/ffhq_256_with_anno/params_finale//train/ffhq-train-detail-anno.txt\n",
      "Key=> shape : Filename=>/data/mint/ffhq_256_with_anno/params_finale//train_template/ffhq-train-shape-anno.txt\n",
      "Key=> pose : Filename=>/data/mint/ffhq_256_with_anno/params_finale//train_template/ffhq-train-pose-anno.txt\n",
      "Key=> exp : Filename=>/data/mint/ffhq_256_with_anno/params_finale//train_template/ffhq-train-exp-anno.txt\n",
      "Key=> cam : Filename=>/data/mint/ffhq_256_with_anno/params_finale//train_template/ffhq-train-cam-anno.txt\n",
      "Key=> light : Filename=>/data/mint/ffhq_256_with_anno/params_finale//train_template/ffhq-train-light-anno.txt\n",
      "Key=> tform : Filename=>/data/mint/ffhq_256_with_anno/params_finale//train_template/ffhq-train-tform-anno.txt\n",
      "Key=> detail : Filename=>/data/mint/ffhq_256_with_anno/params_finale//train_template/ffhq-train-detail-anno.txt\n",
      "Key=> shape : Filename=>/data/mint/ffhq_256_with_anno/params_finale//valid/ffhq-valid-shape-anno.txt\n",
      "Key=> pose : Filename=>/data/mint/ffhq_256_with_anno/params_finale//valid/ffhq-valid-pose-anno.txt\n",
      "Key=> exp : Filename=>/data/mint/ffhq_256_with_anno/params_finale//valid/ffhq-valid-exp-anno.txt\n",
      "Key=> cam : Filename=>/data/mint/ffhq_256_with_anno/params_finale//valid/ffhq-valid-cam-anno.txt\n",
      "Key=> light : Filename=>/data/mint/ffhq_256_with_anno/params_finale//valid/ffhq-valid-light-anno.txt\n",
      "Key=> tform : Filename=>/data/mint/ffhq_256_with_anno/params_finale//valid/ffhq-valid-tform-anno.txt\n",
      "Key=> detail : Filename=>/data/mint/ffhq_256_with_anno/params_finale//valid/ffhq-valid-detail-anno.txt\n",
      "Key=> shape : Filename=>/data/mint/ffhq_256_with_anno/params_finale//valid_template/ffhq-valid-shape-anno.txt\n",
      "Key=> pose : Filename=>/data/mint/ffhq_256_with_anno/params_finale//valid_template/ffhq-valid-pose-anno.txt\n",
      "Key=> exp : Filename=>/data/mint/ffhq_256_with_anno/params_finale//valid_template/ffhq-valid-exp-anno.txt\n",
      "Key=> cam : Filename=>/data/mint/ffhq_256_with_anno/params_finale//valid_template/ffhq-valid-cam-anno.txt\n",
      "Key=> light : Filename=>/data/mint/ffhq_256_with_anno/params_finale//valid_template/ffhq-valid-light-anno.txt\n",
      "Key=> tform : Filename=>/data/mint/ffhq_256_with_anno/params_finale//valid_template/ffhq-valid-tform-anno.txt\n",
      "Key=> detail : Filename=>/data/mint/ffhq_256_with_anno/params_finale//valid_template/ffhq-valid-detail-anno.txt\n"
     ]
    }
   ],
   "source": [
    "import torch as th\n",
    "import sys, os\n",
    "import tqdm\n",
    "os.environ[\"CUDA_DEVICE_ORDER\"]=\"PCI_BUS_ID\"   # see issue #152\n",
    "os.environ[\"CUDA_VISIBLE_DEVICES\"]=\"0\"\n",
    "sys.path.insert(0, '../')\n",
    "from sample_scripts.sample_utils.params_utils import get_params_set, load_params\n",
    "from sample_scripts.sample_utils.vis_utils import plot_image\n",
    "\n",
    "\n",
    "def load_face(set_, path):\n",
    "    deca_params, _ = load_params(path=f\"{path}/{set_}/\", params_key=['shape', 'pose', 'exp', 'cam', 'light', 'tform', 'detail'])\n",
    "\n",
    "    shape = []; pose = []; exp = []; cam = []; light = []; tform = []; detail = []\n",
    "    for k, v in deca_params.items():\n",
    "        \n",
    "        shape.append(th.tensor(v['shape']))\n",
    "        pose.append(th.tensor(v['pose']))\n",
    "        exp.append(th.tensor(v['exp']))\n",
    "        cam.append(th.tensor(v['cam']))\n",
    "        light.append(th.tensor(v['light']))\n",
    "        tform.append(th.tensor(v['tform']))\n",
    "        detail.append(th.tensor(v['detail']))\n",
    "    shape = th.stack(shape)\n",
    "    pose = th.stack(pose)\n",
    "    exp = th.stack(exp)\n",
    "    cam = th.stack(cam)\n",
    "    light = th.stack(light)\n",
    "    tform = th.stack(tform)\n",
    "    detail = th.stack(detail)\n",
    "    concat_dict = {'shape':shape, 'pose':pose, 'exp':exp, 'cam':cam, 'light':light, 'tform':tform, 'detail':detail}\n",
    "    return concat_dict, deca_params\n",
    "    \n",
    "deca_concat_dict_train, deca_id_dict_train = load_face('train', path='/data/mint/ffhq_256_with_anno/params_finale/')\n",
    "deca_concat_dict_train_template, deca_id_dict_train_template = load_face('train_template', path='/data/mint/ffhq_256_with_anno/params_finale/')\n",
    "deca_concat_dict_val, deca_id_dict_val = load_face('valid', path='/data/mint/ffhq_256_with_anno/params_finale/')\n",
    "deca_concat_dict_val_template, deca_id_dict_val_template = load_face('valid_template', path='/data/mint/ffhq_256_with_anno/params_finale/')"
   ]
  },
  {
   "cell_type": "markdown",
   "metadata": {},
   "source": [
    "# Verify for the same keys"
   ]
  },
  {
   "cell_type": "code",
   "execution_count": 2,
   "metadata": {},
   "outputs": [],
   "source": [
    "assert deca_id_dict_val_template.keys() == deca_id_dict_val.keys()\n",
    "assert deca_id_dict_train_template.keys() == deca_id_dict_train.keys()"
   ]
  },
  {
   "cell_type": "markdown",
   "metadata": {},
   "source": [
    "# Verify for the values"
   ]
  },
  {
   "cell_type": "code",
   "execution_count": 3,
   "metadata": {},
   "outputs": [
    {
     "name": "stderr",
     "output_type": "stream",
     "text": [
      "100%|██████████| 7/7 [00:11<00:00,  1.71s/it]\n",
      "100%|██████████| 7/7 [00:00<00:00, 381.03it/s]"
     ]
    },
    {
     "name": "stdout",
     "output_type": "stream",
     "text": [
      "Params : shape => Equality = True, Lengths = 60000\n",
      "Params : pose => Equality = True, Lengths = 60000\n",
      "Params : exp => Equality = True, Lengths = 60000\n",
      "Params : cam => Equality = True, Lengths = 60000\n",
      "Params : light => Equality = True, Lengths = 60000\n",
      "Params : tform => Equality = True, Lengths = 60000\n",
      "Params : detail => Equality = True, Lengths = 60000\n"
     ]
    },
    {
     "name": "stderr",
     "output_type": "stream",
     "text": [
      "\n"
     ]
    }
   ],
   "source": [
    "import numpy as np\n",
    "diff_dict = {}\n",
    "for p in tqdm.tqdm(deca_concat_dict_train.keys()):\n",
    "    diff_dict[p] = []\n",
    "    for img_name in deca_id_dict_train.keys():\n",
    "        a = deca_id_dict_train[img_name][p]\n",
    "        b = deca_id_dict_train_template[img_name][p]\n",
    "        diff_dict[p].append(np.allclose(a, b, rtol=1e-4, atol=1e-4))\n",
    "        \n",
    "for p in tqdm.tqdm(deca_concat_dict_train.keys()):\n",
    "    print(f\"Params : {p} => Equality = {np.all(diff_dict[p])}, Lengths = {len(diff_dict[p])}\")"
   ]
  },
  {
   "cell_type": "code",
   "execution_count": 4,
   "metadata": {},
   "outputs": [
    {
     "name": "stderr",
     "output_type": "stream",
     "text": [
      "100%|██████████| 7/7 [00:02<00:00,  3.47it/s]\n",
      "100%|██████████| 7/7 [00:00<00:00, 1907.99it/s]"
     ]
    },
    {
     "name": "stdout",
     "output_type": "stream",
     "text": [
      "Params : shape => Equality = True, Lengths = 10000\n",
      "Params : pose => Equality = True, Lengths = 10000\n",
      "Params : exp => Equality = True, Lengths = 10000\n",
      "Params : cam => Equality = True, Lengths = 10000\n",
      "Params : light => Equality = True, Lengths = 10000\n",
      "Params : tform => Equality = True, Lengths = 10000\n",
      "Params : detail => Equality = True, Lengths = 10000\n"
     ]
    },
    {
     "name": "stderr",
     "output_type": "stream",
     "text": [
      "\n"
     ]
    }
   ],
   "source": [
    "import numpy as np\n",
    "diff_dict = {}\n",
    "for p in tqdm.tqdm(deca_concat_dict_val.keys()):\n",
    "    diff_dict[p] = []\n",
    "    for img_name in deca_id_dict_val.keys():\n",
    "        a = deca_id_dict_val[img_name][p]\n",
    "        b = deca_id_dict_val_template[img_name][p]\n",
    "        diff_dict[p].append(np.allclose(a, b, rtol=1e-4, atol=1e-4))\n",
    "        \n",
    "for p in tqdm.tqdm(deca_concat_dict_val.keys()):\n",
    "    print(f\"Params : {p} => Equality = {np.all(diff_dict[p])}, Lengths = {len(diff_dict[p])}\")"
   ]
  }
 ],
 "metadata": {
  "kernelspec": {
   "display_name": "Python 3.7.13 ('deca': conda)",
   "language": "python",
   "name": "python3"
  },
  "language_info": {
   "codemirror_mode": {
    "name": "ipython",
    "version": 3
   },
   "file_extension": ".py",
   "mimetype": "text/x-python",
   "name": "python",
   "nbconvert_exporter": "python",
   "pygments_lexer": "ipython3",
   "version": "3.8.12"
  },
  "orig_nbformat": 4,
  "vscode": {
   "interpreter": {
    "hash": "dfa4abee0c1344f25114a7d3513e62ca18daae60d7677b8afa11b7af0a5b0e4c"
   }
  }
 },
 "nbformat": 4,
 "nbformat_minor": 2
}
