{
 "cells": [
  {
   "cell_type": "code",
   "execution_count": 2,
   "metadata": {},
   "outputs": [],
   "source": [
    "import numpy as np\n",
    "import pickle\n",
    "import sys\n",
    "sys.path.insert(0, '../')\n",
    "from decalib.utils.util import load_obj\n",
    "from decalib.utils.config import cfg as deca_cfg\n",
    "from decalib.utils.renderer import SRenderY, set_rasterizer\n",
    "device = 'cuda'"
   ]
  },
  {
   "cell_type": "code",
   "execution_count": 5,
   "metadata": {},
   "outputs": [],
   "source": [
    "with open('./generic_model.pkl', 'rb') as f:\n",
    "    data = pickle.load(f, encoding='latin1')\n",
    "\n",
    "verts, uvcoords, faces, uvface = load_obj(deca_cfg.model.topology_path)\n",
    "# renderer = SRenderY(256, obj_filename=deca_cfg.model.topology_path, uv_size=deca_cfg.model.uv_size, rasterizer_type='standard').to(device)"
   ]
  },
  {
   "cell_type": "code",
   "execution_count": null,
   "metadata": {},
   "outputs": [],
   "source": []
  }
 ],
 "metadata": {
  "kernelspec": {
   "display_name": "Python 3.8.12 ('3dr_conda')",
   "language": "python",
   "name": "python3"
  },
  "language_info": {
   "codemirror_mode": {
    "name": "ipython",
    "version": 3
   },
   "file_extension": ".py",
   "mimetype": "text/x-python",
   "name": "python",
   "nbconvert_exporter": "python",
   "pygments_lexer": "ipython3",
   "version": "3.8.12"
  },
  "orig_nbformat": 4,
  "vscode": {
   "interpreter": {
    "hash": "470280cac1ab15a664bf90e9a5fa6d0385a15640361d47c557e2f28cdb367558"
   }
  }
 },
 "nbformat": 4,
 "nbformat_minor": 2
}
