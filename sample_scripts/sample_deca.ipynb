{
 "cells": [
  {
   "cell_type": "markdown",
   "metadata": {},
   "source": [
    "## Image sample (DDPM - guided diffusion - Diffusion beats gans)"
   ]
  },
  {
   "cell_type": "code",
   "execution_count": 1,
   "metadata": {},
   "outputs": [],
   "source": [
    "# from __future__ import print_function \n",
    "import argparse\n",
    "import os, sys, glob\n",
    "\n",
    "os.environ[\"CUDA_DEVICE_ORDER\"]=\"PCI_BUS_ID\"   # see issue #152\n",
    "os.environ[\"CUDA_VISIBLE_DEVICES\"]=\"1\"\n",
    "\n",
    "import numpy as np\n",
    "import pandas as pd\n",
    "import matplotlib.pyplot as plt\n",
    "import torch as th\n",
    "import torch.distributed as dist\n",
    "import datetime\n",
    "from collections import namedtuple\n",
    "sys.path.insert(0, '../')\n",
    "import deca_dpm\n",
    "from guided_diffusion.script_util import (\n",
    "    model_and_diffusion_defaults,\n",
    "    create_deca_and_diffusion,\n",
    "    add_dict_to_argparser,\n",
    "    args_to_dict,\n",
    "    seed_all,\n",
    "    diffusion_defaults,\n",
    ")"
   ]
  },
  {
   "cell_type": "code",
   "execution_count": 2,
   "metadata": {},
   "outputs": [],
   "source": [
    "def create_argparser(log_dir, deca_model_path,**kwargs):\n",
    "    defaults = dict(\n",
    "        clip_denoised=True,\n",
    "        num_samples=1,\n",
    "        batch_size=10,\n",
    "        use_ddim=False,\n",
    "        deca_model_path=deca_model_path,\n",
    "        log_dir=log_dir,\n",
    "        diffusion_step=250,\n",
    "        timestep_respacing=250,\n",
    "        deca_cond=False,\n",
    "        bound=1,\n",
    "        num_layers=3,\n",
    "    )\n",
    "\n",
    "    defaults.update(model_and_diffusion_defaults())\n",
    "    return namedtuple('GenericDict', defaults.keys())(**defaults)\n",
    "\n",
    "def model_and_diffusion_defaults():\n",
    "    \"\"\"\n",
    "    Defaults for image training.\n",
    "    \"\"\"\n",
    "    res = dict(\n",
    "        num_channels=128,\n",
    "        num_res_blocks=2,\n",
    "        num_heads=4,\n",
    "        num_heads_upsample=-1,\n",
    "        num_head_channels=-1,\n",
    "        attention_resolutions=\"16,8\",\n",
    "        channel_mult=\"\",\n",
    "        dropout=0.0,\n",
    "        class_cond=False,\n",
    "        use_checkpoint=False,\n",
    "        use_scale_shift_norm=True,\n",
    "        resblock_updown=False,\n",
    "        use_new_attention_order=False,\n",
    "        deca_cond=False,\n",
    "        num_layers=3,\n",
    "    )\n",
    "    res.update(diffusion_defaults())\n",
    "    return res"
   ]
  },
  {
   "cell_type": "code",
   "execution_count": 3,
   "metadata": {},
   "outputs": [
    {
     "data": {
      "text/plain": [
       "DenseDDPM(\n",
       "  (in_layers): Linear(in_features=159, out_features=2048, bias=True)\n",
       "  (mid_layers): ModuleList(\n",
       "    (0): Sequential(\n",
       "      (0): DenseFiLM(\n",
       "        (time_embed): Sequential(\n",
       "          (0): Linear(in_features=128, out_features=512, bias=True)\n",
       "          (1): SiLU()\n",
       "          (2): Linear(in_features=512, out_features=512, bias=True)\n",
       "        )\n",
       "        (scale_layer): Linear(in_features=512, out_features=2048, bias=True)\n",
       "        (shift_layer): Linear(in_features=512, out_features=2048, bias=True)\n",
       "      )\n",
       "      (1): DenseResBlock(\n",
       "        (resblock): Sequential(\n",
       "          (0): LayerNorm((2048,), eps=1e-05, elementwise_affine=True)\n",
       "          (1): FeaturewiseAffine()\n",
       "          (2): SiLU()\n",
       "          (3): Linear(in_features=2048, out_features=2048, bias=True)\n",
       "          (4): LayerNorm((2048,), eps=1e-05, elementwise_affine=True)\n",
       "          (5): FeaturewiseAffine()\n",
       "          (6): SiLU()\n",
       "          (7): Linear(in_features=2048, out_features=2048, bias=True)\n",
       "        )\n",
       "      )\n",
       "    )\n",
       "    (1): Sequential(\n",
       "      (0): DenseFiLM(\n",
       "        (time_embed): Sequential(\n",
       "          (0): Linear(in_features=128, out_features=512, bias=True)\n",
       "          (1): SiLU()\n",
       "          (2): Linear(in_features=512, out_features=512, bias=True)\n",
       "        )\n",
       "        (scale_layer): Linear(in_features=512, out_features=2048, bias=True)\n",
       "        (shift_layer): Linear(in_features=512, out_features=2048, bias=True)\n",
       "      )\n",
       "      (1): DenseResBlock(\n",
       "        (resblock): Sequential(\n",
       "          (0): LayerNorm((2048,), eps=1e-05, elementwise_affine=True)\n",
       "          (1): FeaturewiseAffine()\n",
       "          (2): SiLU()\n",
       "          (3): Linear(in_features=2048, out_features=2048, bias=True)\n",
       "          (4): LayerNorm((2048,), eps=1e-05, elementwise_affine=True)\n",
       "          (5): FeaturewiseAffine()\n",
       "          (6): SiLU()\n",
       "          (7): Linear(in_features=2048, out_features=2048, bias=True)\n",
       "        )\n",
       "      )\n",
       "    )\n",
       "    (2): Sequential(\n",
       "      (0): DenseFiLM(\n",
       "        (time_embed): Sequential(\n",
       "          (0): Linear(in_features=128, out_features=512, bias=True)\n",
       "          (1): SiLU()\n",
       "          (2): Linear(in_features=512, out_features=512, bias=True)\n",
       "        )\n",
       "        (scale_layer): Linear(in_features=512, out_features=2048, bias=True)\n",
       "        (shift_layer): Linear(in_features=512, out_features=2048, bias=True)\n",
       "      )\n",
       "      (1): DenseResBlock(\n",
       "        (resblock): Sequential(\n",
       "          (0): LayerNorm((2048,), eps=1e-05, elementwise_affine=True)\n",
       "          (1): FeaturewiseAffine()\n",
       "          (2): SiLU()\n",
       "          (3): Linear(in_features=2048, out_features=2048, bias=True)\n",
       "          (4): LayerNorm((2048,), eps=1e-05, elementwise_affine=True)\n",
       "          (5): FeaturewiseAffine()\n",
       "          (6): SiLU()\n",
       "          (7): Linear(in_features=2048, out_features=2048, bias=True)\n",
       "        )\n",
       "      )\n",
       "    )\n",
       "  )\n",
       "  (out_layers): Sequential(\n",
       "    (0): LayerNorm((2048,), eps=1e-05, elementwise_affine=True)\n",
       "    (1): Linear(in_features=2048, out_features=159, bias=True)\n",
       "  )\n",
       ")"
      ]
     },
     "execution_count": 3,
     "metadata": {},
     "output_type": "execute_result"
    }
   ],
   "source": [
    "# List model_logs\n",
    "ct = \"\"\n",
    "# sshfs_path = \"/home/mint/mnt_tl_puntawat-ms-7c37/home/puntawat/Mint/Work/Vision/Diffusion/mount/\"\n",
    "sshfs_path = \"/data/mint/model_logs/\"\n",
    "model_logs_path = f\"{sshfs_path}/{ct}/\"\n",
    "\n",
    "# args\n",
    "log_dir = \"magenta\"\n",
    "\n",
    "step = \"015000\"\n",
    "# step = \"150000\"\n",
    "# ckpt = f\"model{step}\"\n",
    "ckpt = f\"ema_0.9999_{step}\"\n",
    "deca_model_path = f\"{model_logs_path}/{log_dir}/Deca_{ckpt}.pt\"\n",
    "\n",
    "args = create_argparser(log_dir=log_dir, deca_model_path=deca_model_path)\n",
    "\n",
    "# Check model_logs\n",
    "if not os.path.isdir(os.path.join(model_logs_path, args.log_dir)):\n",
    "    print(\"No logs folder\")\n",
    "    raise FileNotFoundError\n",
    "else: \n",
    "    if not os.path.isdir(os.path.join(model_logs_path, args.log_dir, \"samples\")):\n",
    "        os.makedirs(os.path.join(model_logs_path, args.log_dir, \"samples\"))\n",
    "\n",
    "model_and_diffusion = model_and_diffusion_defaults()\n",
    "\n",
    "deca_model, diffusion = create_deca_and_diffusion(\n",
    "    **args_to_dict(args, model_and_diffusion.keys())\n",
    ")\n",
    "\n",
    "deca_model.load_state_dict(\n",
    "    th.load(args.deca_model_path, map_location=\"cpu\")\n",
    ")\n",
    "\n",
    "deca_model.to('cuda')\n",
    "deca_model.eval()\n",
    "\n"
   ]
  },
  {
   "cell_type": "code",
   "execution_count": 4,
   "metadata": {},
   "outputs": [],
   "source": [
    "def decolor(s, out_c='rgb'):\n",
    "    if out_c in ['rgb', 'rbg', 'brg', 'bgr', 'grb', 'gbr']:\n",
    "        s_ = ((s + 1) * 127.5).clamp(0, 255).to(th.uint8)\n",
    "    elif out_c == 'luv':\n",
    "        s_ = ((s + 1) * 127.5).clamp(0, 255).to(th.uint8)\n",
    "    elif out_c == 'ycrcb':\n",
    "        s_ = ((s + 1) * 127.5).clamp(0, 255).to(th.uint8)\n",
    "    elif out_c in ['hsv', 'hls']:\n",
    "        h = (s[..., [0]] + 1) * 90.0 \n",
    "        l_s = (s[..., [1]] + 1) * 127.5\n",
    "        v = (s[..., [2]] + 1) * 127.5\n",
    "        s_ = th.cat((h, l_s, v), axis=2).clamp(0, 255).to(th.uint8)\n",
    "    elif out_c == 'sepia':\n",
    "        s_ = ((s + 1) * 127.5).clamp(0, 255).to(th.uint8)\n",
    "\n",
    "    else: raise NotImplementedError\n",
    "\n",
    "    return s_\n",
    "\n",
    "def plot_sample(img, **kwargs):\n",
    "    columns = 6\n",
    "    rows = 10\n",
    "    fig = plt.figure(figsize=(20, 20), dpi=100)\n",
    "    img = img.permute(0, 2, 3, 1) # BxHxWxC\n",
    "    pt = 0\n",
    "    for i in range(0, img.shape[0]):\n",
    "        s_ = decolor(s=img[i], out_c='rgb')\n",
    "        s_ = s_.detach().cpu().numpy()\n",
    "        fig.add_subplot(rows, columns, pt+1)\n",
    "        plt.imshow(s_)\n",
    "        pt += 1\n",
    "\n",
    "        if kwargs is not None:\n",
    "            # Plot other images\n",
    "            for k in kwargs:\n",
    "                fig.add_subplot(rows, columns, pt+1)\n",
    "                s_ = decolor(s=kwargs[k][i].permute(1, 2, 0), out_c='rgb')\n",
    "                s_ = s_.detach().cpu().numpy()\n",
    "                plt.imshow(s_)\n",
    "                pt += 1\n",
    "    plt.subplots_adjust(left=0.1,\n",
    "                        bottom=0.1, \n",
    "                        right=0.65, \n",
    "                        top=0.9, \n",
    "                        wspace=0.1, \n",
    "                        hspace=0.2)\n",
    "    plt.show()\n",
    "\n",
    "def plot_deca(sample):\n",
    "\n",
    "    img_ = []\n",
    "    from tqdm.auto import tqdm\n",
    "    for i in tqdm(range(sample['deca_output'].shape[0])):\n",
    "        deca_params = sample['deca_output'][i].clone()\n",
    "        deca_params = denormalize(deca_params, min_val=th.tensor(min_val).cuda(), max_val=th.tensor(max_val).cuda(), a=-args.bound, b=args.bound).float()\n",
    "        shape = deca_params[None, :100]\n",
    "        pose = deca_params[None, 100:106]\n",
    "        exp = deca_params[None, 106:156]\n",
    "        cam = deca_params[None, 156:]\n",
    "        img = params_to_model(shape=shape, exp=exp, pose=pose, cam=cam, i=i)\n",
    "        img_.append(img[\"shape_images\"])\n",
    "\n",
    "    plot_sample(th.cat(img_, dim=0))\n",
    "        "
   ]
  },
  {
   "cell_type": "code",
   "execution_count": 5,
   "metadata": {},
   "outputs": [
    {
     "name": "stdout",
     "output_type": "stream",
     "text": [
      "creating the FLAME Decoder\n",
      "Key=> shape : Filename=>/data/mint/ffhq_256_with_anno/params/ffhq-train-shape-anno.txt\n",
      "Key=> pose : Filename=>/data/mint/ffhq_256_with_anno/params/ffhq-train-pose-anno.txt\n",
      "Key=> exp : Filename=>/data/mint/ffhq_256_with_anno/params/ffhq-train-exp-anno.txt\n",
      "Key=> cam : Filename=>/data/mint/ffhq_256_with_anno/params/ffhq-train-cam-anno.txt\n"
     ]
    }
   ],
   "source": [
    "from ast import Expression, arg, parse\n",
    "from pickle import PickleError\n",
    "import argparse\n",
    "import numpy as np\n",
    "import pandas as pd\n",
    "import torch as th\n",
    "import torch.nn.functional as F\n",
    "import glob, os\n",
    "import PIL\n",
    "import matplotlib.pyplot as plt\n",
    "from model_3d.FLAME import FLAME\n",
    "from model_3d.FLAME.config import cfg as flame_cfg\n",
    "from collections import defaultdict\n",
    "from model_3d.FLAME.utils.renderer import SRenderY\n",
    "import model_3d.FLAME.utils.util as util\n",
    "import model_3d.FLAME.utils.detectors as detectors\n",
    "from skimage.io import imread, imsave\n",
    "from skimage.transform import estimate_transform, warp, resize, rescale\n",
    "\n",
    "flame = FLAME.FLAME(flame_cfg.model).cuda()\n",
    "\n",
    "def params_to_model(shape, exp, pose, cam, i, uvdn=None):\n",
    "    verts, landmarks2d, landmarks3d = flame(shape_params=shape, \n",
    "            expression_params=exp, \n",
    "            pose_params=pose)\n",
    "    renderer = SRenderY(image_size=256, obj_filename=flame_cfg.model.topology_path, uv_size=flame_cfg.model.uv_size).cuda()\n",
    "\n",
    "    ## projection\n",
    "    landmarks2d = util.batch_orth_proj(landmarks2d, cam)[:,:,:2]; landmarks2d[:,:,1:] = -landmarks2d[:,:,1:]#; landmarks2d = landmarks2d*self.image_size/2 + self.image_size/2\n",
    "    landmarks3d = util.batch_orth_proj(landmarks3d, cam); landmarks3d[:,:,1:] = -landmarks3d[:,:,1:] #; landmarks3d = landmarks3d*self.image_size/2 + self.image_size/2\n",
    "    trans_verts = util.batch_orth_proj(verts, cam); trans_verts[:,:,1:] = -trans_verts[:,:,1:]\n",
    "\n",
    "    ## rendering\n",
    "    shape_images = renderer.render_shape(verts, trans_verts)\n",
    "\n",
    "    opdict = {'verts' : verts,}\n",
    "\n",
    "    os.makedirs('./rendered_obj', exist_ok=True)\n",
    "    save_obj(renderer=renderer, filename=(f'./rendered_obj/{i}.obj'), opdict=opdict)\n",
    "    \n",
    "    return {\"shape_images\":shape_images, \"landmarks2d\":landmarks2d, \"landmarks3d\":landmarks3d}\n",
    "\n",
    "def save_obj(renderer, filename, opdict):\n",
    "    '''\n",
    "    vertices: [nv, 3], tensor\n",
    "    texture: [3, h, w], tensor\n",
    "    '''\n",
    "    i = 0\n",
    "    vertices = opdict['verts'][i].cpu().numpy()\n",
    "    faces = renderer.faces[0].cpu().numpy()\n",
    "    colors = np.ones(shape=vertices.shape) * 127.5\n",
    "\n",
    "    # save coarse mesh\n",
    "    util.write_obj(filename, vertices, faces, colors=colors)\n",
    "\n",
    "def read_params(path):\n",
    "    params = pd.read_csv(path, header=None, sep=\" \", index_col=False, lineterminator='\\n')\n",
    "    params.rename(columns={0:'img_name'}, inplace=True)\n",
    "    params = params.set_index('img_name').T.to_dict('list')\n",
    "    return params\n",
    "\n",
    "def swap_key(params):\n",
    "    params_s = defaultdict(dict)\n",
    "    for params_name, v in params.items():\n",
    "        for img_name, params_value in v.items():\n",
    "            params_s[img_name][params_name] = np.array(params_value).astype(np.float64)\n",
    "\n",
    "    return params_s\n",
    "\n",
    "def normalize(arr, min_val=None, max_val=None, a=-1, b=1):\n",
    "    '''\n",
    "    Normalize any vars to [a, b]\n",
    "    :param a: new minimum value\n",
    "    :param b: new maximum value\n",
    "    :param arr: np.array shape=(N, #params_dim) e.g. deca's params_dim = 159\n",
    "    ref : https://stats.stackexchange.com/questions/178626/how-to-normalize-data-between-1-and-1\n",
    "    '''\n",
    "    if max_val is None and min_val is None:\n",
    "        max_val = np.max(arr, axis=0)    \n",
    "        min_val = np.min(arr, axis=0)\n",
    "\n",
    "    arr_norm = ((b-a) * (arr - min_val) / (max_val - min_val)) + a\n",
    "    return arr_norm, min_val, max_val\n",
    "\n",
    "def denormalize(arr_norm, min_val, max_val, a=-1, b=1):\n",
    "    arr_denorm = (((arr_norm - a) * (max_val - min_val)) / (b - a)) + min_val\n",
    "    return arr_denorm\n",
    "\n",
    "# Load params \n",
    "params_key = ['shape', 'pose', 'exp', 'cam']\n",
    "anno_path = glob.glob(f'/data/mint/ffhq_256_with_anno/params/*.txt')\n",
    "params = {}\n",
    "for k in params_key:\n",
    "    for p in anno_path:\n",
    "        # Params\n",
    "        if k in p:\n",
    "            print(f'Key=> {k} : Filename=>{p}')\n",
    "            params[k] = read_params(path=p)\n",
    "\n",
    "params_s = swap_key(params)\n",
    "\n",
    "all_params = []\n",
    "for img_name in params_s:\n",
    "    each_img = []\n",
    "    for k in params_key:\n",
    "        each_img.append(params_s[img_name][k])\n",
    "    all_params.append(np.concatenate(each_img))\n",
    "all_params = np.stack(all_params)\n",
    "_, min_val, max_val = normalize(a=-args.bound, b=args.bound, arr=all_params)"
   ]
  },
  {
   "cell_type": "code",
   "execution_count": 6,
   "metadata": {},
   "outputs": [],
   "source": [
    "# Sampling\n",
    "import pytorch_lightning as pl\n",
    "class PLInference(pl.LightningModule):\n",
    "    def __init__(self, deca_model, sample_fn):\n",
    "        super(PLInference, self).__init__()\n",
    "        self.deca_model = deca_model\n",
    "        self.sample_fn = sample_fn\n",
    "        self.deca_dpm = deca_dpm.Diffusion_DECA(model=self.deca_model, diffusion=diffusion, bound=args.bound, progress=True)\n",
    "\n",
    "    def forward(self, shape_dict, noise=None):\n",
    "        '''\n",
    "        :noise: in B x N-dim\n",
    "        '''\n",
    "        if self.sample_fn == 'p_sample_loop':\n",
    "            deca_output = self.deca_dpm.p_sample_loop(\n",
    "                                        shape_dict=shape_dict,\n",
    "                                        noise={'deca':noise})\n",
    "\n",
    "        return {\"deca_output\":deca_output}\n"
   ]
  },
  {
   "cell_type": "code",
   "execution_count": 7,
   "metadata": {},
   "outputs": [
    {
     "data": {
      "application/vnd.jupyter.widget-view+json": {
       "model_id": "556a603313014343a955e285e12de774",
       "version_major": 2,
       "version_minor": 0
      },
      "text/plain": [
       "  0%|          | 0/1000 [00:00<?, ?it/s]"
      ]
     },
     "metadata": {},
     "output_type": "display_data"
    },
    {
     "ename": "KeyboardInterrupt",
     "evalue": "",
     "output_type": "error",
     "traceback": [
      "\u001b[0;31m---------------------------------------------------------------------------\u001b[0m",
      "\u001b[0;31mKeyboardInterrupt\u001b[0m                         Traceback (most recent call last)",
      "\u001b[0;32m/tmp/ipykernel_58068/3986682779.py\u001b[0m in \u001b[0;36m<module>\u001b[0;34m\u001b[0m\n\u001b[1;32m      4\u001b[0m \u001b[0;31m# init_noise = th.cat(([th.randn((1, 159)).cuda()] * args.batch_size), dim=0)\u001b[0m\u001b[0;34m\u001b[0m\u001b[0;34m\u001b[0m\u001b[0;34m\u001b[0m\u001b[0m\n\u001b[1;32m      5\u001b[0m \u001b[0mpl_inference\u001b[0m \u001b[0;34m=\u001b[0m \u001b[0mPLInference\u001b[0m\u001b[0;34m(\u001b[0m\u001b[0mdeca_model\u001b[0m\u001b[0;34m=\u001b[0m\u001b[0mdeca_model\u001b[0m\u001b[0;34m,\u001b[0m \u001b[0msample_fn\u001b[0m\u001b[0;34m=\u001b[0m\u001b[0;34m'p_sample_loop'\u001b[0m\u001b[0;34m)\u001b[0m\u001b[0;34m\u001b[0m\u001b[0;34m\u001b[0m\u001b[0m\n\u001b[0;32m----> 6\u001b[0;31m \u001b[0msample\u001b[0m \u001b[0;34m=\u001b[0m \u001b[0mpl_inference\u001b[0m\u001b[0;34m(\u001b[0m\u001b[0mshape_dict\u001b[0m\u001b[0;34m=\u001b[0m\u001b[0;34m{\u001b[0m\u001b[0;34m'deca'\u001b[0m\u001b[0;34m:\u001b[0m\u001b[0;34m(\u001b[0m\u001b[0minit_noise\u001b[0m\u001b[0;34m.\u001b[0m\u001b[0mshape\u001b[0m\u001b[0;34m[\u001b[0m\u001b[0;36m0\u001b[0m\u001b[0;34m]\u001b[0m\u001b[0;34m,\u001b[0m \u001b[0;36m159\u001b[0m\u001b[0;34m)\u001b[0m\u001b[0;34m}\u001b[0m\u001b[0;34m,\u001b[0m \u001b[0mnoise\u001b[0m\u001b[0;34m=\u001b[0m\u001b[0minit_noise\u001b[0m\u001b[0;34m.\u001b[0m\u001b[0mclone\u001b[0m\u001b[0;34m(\u001b[0m\u001b[0;34m)\u001b[0m\u001b[0;34m)\u001b[0m\u001b[0;34m\u001b[0m\u001b[0;34m\u001b[0m\u001b[0m\n\u001b[0m\u001b[1;32m      7\u001b[0m \u001b[0mplot_deca\u001b[0m\u001b[0;34m(\u001b[0m\u001b[0msample\u001b[0m\u001b[0;34m)\u001b[0m\u001b[0;34m\u001b[0m\u001b[0;34m\u001b[0m\u001b[0m\n",
      "\u001b[0;32m~/miniconda3/envs/3dr_conda/lib/python3.8/site-packages/torch/nn/modules/module.py\u001b[0m in \u001b[0;36m_call_impl\u001b[0;34m(self, *input, **kwargs)\u001b[0m\n\u001b[1;32m    725\u001b[0m             \u001b[0mresult\u001b[0m \u001b[0;34m=\u001b[0m \u001b[0mself\u001b[0m\u001b[0;34m.\u001b[0m\u001b[0m_slow_forward\u001b[0m\u001b[0;34m(\u001b[0m\u001b[0;34m*\u001b[0m\u001b[0minput\u001b[0m\u001b[0;34m,\u001b[0m \u001b[0;34m**\u001b[0m\u001b[0mkwargs\u001b[0m\u001b[0;34m)\u001b[0m\u001b[0;34m\u001b[0m\u001b[0;34m\u001b[0m\u001b[0m\n\u001b[1;32m    726\u001b[0m         \u001b[0;32melse\u001b[0m\u001b[0;34m:\u001b[0m\u001b[0;34m\u001b[0m\u001b[0;34m\u001b[0m\u001b[0m\n\u001b[0;32m--> 727\u001b[0;31m             \u001b[0mresult\u001b[0m \u001b[0;34m=\u001b[0m \u001b[0mself\u001b[0m\u001b[0;34m.\u001b[0m\u001b[0mforward\u001b[0m\u001b[0;34m(\u001b[0m\u001b[0;34m*\u001b[0m\u001b[0minput\u001b[0m\u001b[0;34m,\u001b[0m \u001b[0;34m**\u001b[0m\u001b[0mkwargs\u001b[0m\u001b[0;34m)\u001b[0m\u001b[0;34m\u001b[0m\u001b[0;34m\u001b[0m\u001b[0m\n\u001b[0m\u001b[1;32m    728\u001b[0m         for hook in itertools.chain(\n\u001b[1;32m    729\u001b[0m                 \u001b[0m_global_forward_hooks\u001b[0m\u001b[0;34m.\u001b[0m\u001b[0mvalues\u001b[0m\u001b[0;34m(\u001b[0m\u001b[0;34m)\u001b[0m\u001b[0;34m,\u001b[0m\u001b[0;34m\u001b[0m\u001b[0;34m\u001b[0m\u001b[0m\n",
      "\u001b[0;32m/tmp/ipykernel_58068/2426197441.py\u001b[0m in \u001b[0;36mforward\u001b[0;34m(self, shape_dict, noise)\u001b[0m\n\u001b[1;32m     13\u001b[0m         '''\n\u001b[1;32m     14\u001b[0m         \u001b[0;32mif\u001b[0m \u001b[0mself\u001b[0m\u001b[0;34m.\u001b[0m\u001b[0msample_fn\u001b[0m \u001b[0;34m==\u001b[0m \u001b[0;34m'p_sample_loop'\u001b[0m\u001b[0;34m:\u001b[0m\u001b[0;34m\u001b[0m\u001b[0;34m\u001b[0m\u001b[0m\n\u001b[0;32m---> 15\u001b[0;31m             deca_output = self.deca_dpm.p_sample_loop(\n\u001b[0m\u001b[1;32m     16\u001b[0m                                         \u001b[0mshape_dict\u001b[0m\u001b[0;34m=\u001b[0m\u001b[0mshape_dict\u001b[0m\u001b[0;34m,\u001b[0m\u001b[0;34m\u001b[0m\u001b[0;34m\u001b[0m\u001b[0m\n\u001b[1;32m     17\u001b[0m                                         noise={'deca':noise})\n",
      "\u001b[0;32m~/guided-diffusion/sample_scripts/deca_dpm.py\u001b[0m in \u001b[0;36mp_sample_loop\u001b[0;34m(self, shape_dict, noise, clip_denoised, denoised_fn, cond_fn, model_kwargs)\u001b[0m\n\u001b[1;32m     48\u001b[0m                 \u001b[0mdeca\u001b[0m \u001b[0;34m=\u001b[0m \u001b[0mdeca_model_output_\u001b[0m\u001b[0;34m[\u001b[0m\u001b[0;34m\"output\"\u001b[0m\u001b[0;34m]\u001b[0m\u001b[0;34m\u001b[0m\u001b[0;34m\u001b[0m\u001b[0m\n\u001b[1;32m     49\u001b[0m \u001b[0;34m\u001b[0m\u001b[0m\n\u001b[0;32m---> 50\u001b[0;31m                 out_deca = self.p_sample(\n\u001b[0m\u001b[1;32m     51\u001b[0m                     \u001b[0mmodel_input\u001b[0m\u001b[0;34m=\u001b[0m\u001b[0mdeca_model_input\u001b[0m\u001b[0;34m,\u001b[0m\u001b[0;34m\u001b[0m\u001b[0;34m\u001b[0m\u001b[0m\n\u001b[1;32m     52\u001b[0m                     \u001b[0mmodel_output\u001b[0m\u001b[0;34m=\u001b[0m\u001b[0mdeca\u001b[0m\u001b[0;34m,\u001b[0m\u001b[0;34m\u001b[0m\u001b[0;34m\u001b[0m\u001b[0m\n",
      "\u001b[0;32m~/guided-diffusion/sample_scripts/deca_dpm.py\u001b[0m in \u001b[0;36mp_sample\u001b[0;34m(self, model_input, model_output, t, clip_denoised, denoised_fn, cond_fn, model_kwargs)\u001b[0m\n\u001b[1;32m     88\u001b[0m                  \u001b[0;34m-\u001b[0m \u001b[0;34m'pred_xstart'\u001b[0m\u001b[0;34m:\u001b[0m \u001b[0ma\u001b[0m \u001b[0mprediction\u001b[0m \u001b[0mof\u001b[0m \u001b[0mx_0\u001b[0m\u001b[0;34m.\u001b[0m\u001b[0;34m\u001b[0m\u001b[0;34m\u001b[0m\u001b[0m\n\u001b[1;32m     89\u001b[0m         \"\"\"\n\u001b[0;32m---> 90\u001b[0;31m         out = self.p_mean_variance(\n\u001b[0m\u001b[1;32m     91\u001b[0m             \u001b[0mmodel_input\u001b[0m\u001b[0;34m=\u001b[0m\u001b[0mmodel_input\u001b[0m\u001b[0;34m,\u001b[0m\u001b[0;34m\u001b[0m\u001b[0;34m\u001b[0m\u001b[0m\n\u001b[1;32m     92\u001b[0m             \u001b[0mmodel_output\u001b[0m\u001b[0;34m=\u001b[0m\u001b[0mmodel_output\u001b[0m\u001b[0;34m,\u001b[0m\u001b[0;34m\u001b[0m\u001b[0;34m\u001b[0m\u001b[0m\n",
      "\u001b[0;32m~/guided-diffusion/sample_scripts/deca_dpm.py\u001b[0m in \u001b[0;36mp_mean_variance\u001b[0;34m(self, model_input, model_output, t, clip_denoised, denoised_fn, model_kwargs)\u001b[0m\n\u001b[1;32m    185\u001b[0m                     \u001b[0mself\u001b[0m\u001b[0;34m.\u001b[0m\u001b[0mdiffusion\u001b[0m\u001b[0;34m.\u001b[0m\u001b[0m_predict_xstart_from_eps\u001b[0m\u001b[0;34m(\u001b[0m\u001b[0mx_t\u001b[0m\u001b[0;34m=\u001b[0m\u001b[0mx\u001b[0m\u001b[0;34m,\u001b[0m \u001b[0mt\u001b[0m\u001b[0;34m=\u001b[0m\u001b[0mt\u001b[0m\u001b[0;34m,\u001b[0m \u001b[0meps\u001b[0m\u001b[0;34m=\u001b[0m\u001b[0mmodel_output\u001b[0m\u001b[0;34m)\u001b[0m\u001b[0;34m\u001b[0m\u001b[0;34m\u001b[0m\u001b[0m\n\u001b[1;32m    186\u001b[0m                 )\n\u001b[0;32m--> 187\u001b[0;31m             model_mean, _, _ = self.diffusion.q_posterior_mean_variance(\n\u001b[0m\u001b[1;32m    188\u001b[0m                 \u001b[0mx_start\u001b[0m\u001b[0;34m=\u001b[0m\u001b[0mpred_xstart\u001b[0m\u001b[0;34m,\u001b[0m \u001b[0mx_t\u001b[0m\u001b[0;34m=\u001b[0m\u001b[0mx\u001b[0m\u001b[0;34m,\u001b[0m \u001b[0mt\u001b[0m\u001b[0;34m=\u001b[0m\u001b[0mt\u001b[0m\u001b[0;34m\u001b[0m\u001b[0;34m\u001b[0m\u001b[0m\n\u001b[1;32m    189\u001b[0m             )\n",
      "\u001b[0;32m~/guided-diffusion/sample_scripts/../guided_diffusion/gaussian_diffusion.py\u001b[0m in \u001b[0;36mq_posterior_mean_variance\u001b[0;34m(self, x_start, x_t, t)\u001b[0m\n\u001b[1;32m    217\u001b[0m         \u001b[0;32massert\u001b[0m \u001b[0mx_start\u001b[0m\u001b[0;34m.\u001b[0m\u001b[0mshape\u001b[0m \u001b[0;34m==\u001b[0m \u001b[0mx_t\u001b[0m\u001b[0;34m.\u001b[0m\u001b[0mshape\u001b[0m\u001b[0;34m\u001b[0m\u001b[0;34m\u001b[0m\u001b[0m\n\u001b[1;32m    218\u001b[0m         posterior_mean = (\n\u001b[0;32m--> 219\u001b[0;31m             \u001b[0m_extract_into_tensor\u001b[0m\u001b[0;34m(\u001b[0m\u001b[0mself\u001b[0m\u001b[0;34m.\u001b[0m\u001b[0mposterior_mean_coef1\u001b[0m\u001b[0;34m,\u001b[0m \u001b[0mt\u001b[0m\u001b[0;34m,\u001b[0m \u001b[0mx_t\u001b[0m\u001b[0;34m.\u001b[0m\u001b[0mshape\u001b[0m\u001b[0;34m)\u001b[0m \u001b[0;34m*\u001b[0m \u001b[0mx_start\u001b[0m\u001b[0;34m\u001b[0m\u001b[0;34m\u001b[0m\u001b[0m\n\u001b[0m\u001b[1;32m    220\u001b[0m             \u001b[0;34m+\u001b[0m \u001b[0m_extract_into_tensor\u001b[0m\u001b[0;34m(\u001b[0m\u001b[0mself\u001b[0m\u001b[0;34m.\u001b[0m\u001b[0mposterior_mean_coef2\u001b[0m\u001b[0;34m,\u001b[0m \u001b[0mt\u001b[0m\u001b[0;34m,\u001b[0m \u001b[0mx_t\u001b[0m\u001b[0;34m.\u001b[0m\u001b[0mshape\u001b[0m\u001b[0;34m)\u001b[0m \u001b[0;34m*\u001b[0m \u001b[0mx_t\u001b[0m\u001b[0;34m\u001b[0m\u001b[0;34m\u001b[0m\u001b[0m\n\u001b[1;32m    221\u001b[0m         )\n",
      "\u001b[0;32m~/guided-diffusion/sample_scripts/../guided_diffusion/gaussian_diffusion.py\u001b[0m in \u001b[0;36m_extract_into_tensor\u001b[0;34m(arr, timesteps, broadcast_shape)\u001b[0m\n\u001b[1;32m    960\u001b[0m     \u001b[0;34m:\u001b[0m\u001b[0;32mreturn\u001b[0m\u001b[0;34m:\u001b[0m \u001b[0ma\u001b[0m \u001b[0mtensor\u001b[0m \u001b[0mof\u001b[0m \u001b[0mshape\u001b[0m \u001b[0;34m[\u001b[0m\u001b[0mbatch_size\u001b[0m\u001b[0;34m,\u001b[0m \u001b[0;36m1\u001b[0m\u001b[0;34m,\u001b[0m \u001b[0;34m...\u001b[0m\u001b[0;34m]\u001b[0m \u001b[0mwhere\u001b[0m \u001b[0mthe\u001b[0m \u001b[0mshape\u001b[0m \u001b[0mhas\u001b[0m \u001b[0mK\u001b[0m \u001b[0mdims\u001b[0m\u001b[0;34m.\u001b[0m\u001b[0;34m\u001b[0m\u001b[0;34m\u001b[0m\u001b[0m\n\u001b[1;32m    961\u001b[0m     \"\"\"\n\u001b[0;32m--> 962\u001b[0;31m     \u001b[0mres\u001b[0m \u001b[0;34m=\u001b[0m \u001b[0mth\u001b[0m\u001b[0;34m.\u001b[0m\u001b[0mfrom_numpy\u001b[0m\u001b[0;34m(\u001b[0m\u001b[0marr\u001b[0m\u001b[0;34m)\u001b[0m\u001b[0;34m[\u001b[0m\u001b[0mtimesteps\u001b[0m\u001b[0;34m]\u001b[0m\u001b[0;34m\u001b[0m\u001b[0;34m\u001b[0m\u001b[0m\n\u001b[0m\u001b[1;32m    963\u001b[0m     \u001b[0;32mwhile\u001b[0m \u001b[0mlen\u001b[0m\u001b[0;34m(\u001b[0m\u001b[0mres\u001b[0m\u001b[0;34m.\u001b[0m\u001b[0mshape\u001b[0m\u001b[0;34m)\u001b[0m \u001b[0;34m<\u001b[0m \u001b[0mlen\u001b[0m\u001b[0;34m(\u001b[0m\u001b[0mbroadcast_shape\u001b[0m\u001b[0;34m)\u001b[0m\u001b[0;34m:\u001b[0m\u001b[0;34m\u001b[0m\u001b[0;34m\u001b[0m\u001b[0m\n\u001b[1;32m    964\u001b[0m         \u001b[0mres\u001b[0m \u001b[0;34m=\u001b[0m \u001b[0mres\u001b[0m\u001b[0;34m[\u001b[0m\u001b[0;34m...\u001b[0m\u001b[0;34m,\u001b[0m \u001b[0;32mNone\u001b[0m\u001b[0;34m]\u001b[0m\u001b[0;34m\u001b[0m\u001b[0;34m\u001b[0m\u001b[0m\n",
      "\u001b[0;31mKeyboardInterrupt\u001b[0m: "
     ]
    }
   ],
   "source": [
    "# Normal Sampling \n",
    "# seed_all(33)\n",
    "init_noise = th.randn((1, 159)).cuda()\n",
    "# init_noise = th.cat(([th.randn((1, 159)).cuda()] * args.batch_size), dim=0)\n",
    "pl_inference = PLInference(deca_model=deca_model, sample_fn='p_sample_loop')\n",
    "sample = pl_inference(shape_dict={'deca':(init_noise.shape[0], 159)}, noise=init_noise.clone())\n",
    "plot_deca(sample)"
   ]
  },
  {
   "cell_type": "code",
   "execution_count": null,
   "metadata": {},
   "outputs": [
    {
     "data": {
      "application/vnd.jupyter.widget-view+json": {
       "model_id": "2719c22f88a6437aaace78197116386b",
       "version_major": 2,
       "version_minor": 0
      },
      "text/plain": [
       "  0%|          | 0/1000 [00:00<?, ?it/s]"
      ]
     },
     "metadata": {},
     "output_type": "display_data"
    },
    {
     "data": {
      "application/vnd.jupyter.widget-view+json": {
       "model_id": "89755a27f7be43f5b275dff6b99f1f78",
       "version_major": 2,
       "version_minor": 0
      },
      "text/plain": [
       "  0%|          | 0/1 [00:00<?, ?it/s]"
      ]
     },
     "metadata": {},
     "output_type": "display_data"
    },
    {
     "data": {
      "image/png": "[encoded data removed]",
      "text/plain": [
       "<Figure size 2000x2000 with 1 Axes>"
      ]
     },
     "metadata": {
      "needs_background": "light"
     },
     "output_type": "display_data"
    },
    {
     "data": {
      "application/vnd.jupyter.widget-view+json": {
       "model_id": "38e9db92b90445bb9a68ac61d61e0647",
       "version_major": 2,
       "version_minor": 0
      },
      "text/plain": [
       "  0%|          | 0/1000 [00:00<?, ?it/s]"
      ]
     },
     "metadata": {},
     "output_type": "display_data"
    },
    {
     "data": {
      "application/vnd.jupyter.widget-view+json": {
       "model_id": "2bdcad4338044fae80143246f3081850",
       "version_major": 2,
       "version_minor": 0
      },
      "text/plain": [
       "  0%|          | 0/1 [00:00<?, ?it/s]"
      ]
     },
     "metadata": {},
     "output_type": "display_data"
    },
    {
     "data": {
      "image/png": "[encoded data removed]",
      "text/plain": [
       "<Figure size 2000x2000 with 1 Axes>"
      ]
     },
     "metadata": {
      "needs_background": "light"
     },
     "output_type": "display_data"
    },
    {
     "data": {
      "application/vnd.jupyter.widget-view+json": {
       "model_id": "1c4e4c00db594a988010580b460e8615",
       "version_major": 2,
       "version_minor": 0
      },
      "text/plain": [
       "  0%|          | 0/1000 [00:00<?, ?it/s]"
      ]
     },
     "metadata": {},
     "output_type": "display_data"
    },
    {
     "ename": "KeyboardInterrupt",
     "evalue": "",
     "output_type": "error",
     "traceback": [
      "\u001b[0;31m---------------------------------------------------------------------------\u001b[0m",
      "\u001b[0;31mKeyboardInterrupt\u001b[0m                         Traceback (most recent call last)",
      "\u001b[0;32m/tmp/ipykernel_96705/619463004.py\u001b[0m in \u001b[0;36m<module>\u001b[0;34m\u001b[0m\n\u001b[1;32m      4\u001b[0m \u001b[0;32mfor\u001b[0m \u001b[0mi\u001b[0m \u001b[0;32min\u001b[0m \u001b[0mrange\u001b[0m\u001b[0;34m(\u001b[0m\u001b[0;36m10\u001b[0m\u001b[0;34m)\u001b[0m\u001b[0;34m:\u001b[0m\u001b[0;34m\u001b[0m\u001b[0;34m\u001b[0m\u001b[0m\n\u001b[1;32m      5\u001b[0m     \u001b[0mpl_inference\u001b[0m \u001b[0;34m=\u001b[0m \u001b[0mPLInference\u001b[0m\u001b[0;34m(\u001b[0m\u001b[0mdeca_model\u001b[0m\u001b[0;34m=\u001b[0m\u001b[0mdeca_model\u001b[0m\u001b[0;34m,\u001b[0m \u001b[0msample_fn\u001b[0m\u001b[0;34m=\u001b[0m\u001b[0;34m'p_sample_loop'\u001b[0m\u001b[0;34m)\u001b[0m\u001b[0;34m\u001b[0m\u001b[0;34m\u001b[0m\u001b[0m\n\u001b[0;32m----> 6\u001b[0;31m     \u001b[0msample\u001b[0m \u001b[0;34m=\u001b[0m \u001b[0mpl_inference\u001b[0m\u001b[0;34m(\u001b[0m\u001b[0mshape_dict\u001b[0m\u001b[0;34m=\u001b[0m\u001b[0;34m{\u001b[0m\u001b[0;34m'deca'\u001b[0m\u001b[0;34m:\u001b[0m\u001b[0;34m(\u001b[0m\u001b[0minit_noise\u001b[0m\u001b[0;34m.\u001b[0m\u001b[0mshape\u001b[0m\u001b[0;34m[\u001b[0m\u001b[0;36m0\u001b[0m\u001b[0;34m]\u001b[0m\u001b[0;34m,\u001b[0m \u001b[0;36m159\u001b[0m\u001b[0;34m)\u001b[0m\u001b[0;34m}\u001b[0m\u001b[0;34m,\u001b[0m \u001b[0mnoise\u001b[0m\u001b[0;34m=\u001b[0m\u001b[0minit_noise\u001b[0m\u001b[0;34m.\u001b[0m\u001b[0mclone\u001b[0m\u001b[0;34m(\u001b[0m\u001b[0;34m)\u001b[0m\u001b[0;34m)\u001b[0m\u001b[0;34m\u001b[0m\u001b[0;34m\u001b[0m\u001b[0m\n\u001b[0m\u001b[1;32m      7\u001b[0m     \u001b[0mplot_deca\u001b[0m\u001b[0;34m(\u001b[0m\u001b[0msample\u001b[0m\u001b[0;34m)\u001b[0m\u001b[0;34m\u001b[0m\u001b[0;34m\u001b[0m\u001b[0m\n",
      "\u001b[0;32m~/miniconda3/envs/3dr_conda/lib/python3.8/site-packages/torch/nn/modules/module.py\u001b[0m in \u001b[0;36m_call_impl\u001b[0;34m(self, *input, **kwargs)\u001b[0m\n\u001b[1;32m    725\u001b[0m             \u001b[0mresult\u001b[0m \u001b[0;34m=\u001b[0m \u001b[0mself\u001b[0m\u001b[0;34m.\u001b[0m\u001b[0m_slow_forward\u001b[0m\u001b[0;34m(\u001b[0m\u001b[0;34m*\u001b[0m\u001b[0minput\u001b[0m\u001b[0;34m,\u001b[0m \u001b[0;34m**\u001b[0m\u001b[0mkwargs\u001b[0m\u001b[0;34m)\u001b[0m\u001b[0;34m\u001b[0m\u001b[0;34m\u001b[0m\u001b[0m\n\u001b[1;32m    726\u001b[0m         \u001b[0;32melse\u001b[0m\u001b[0;34m:\u001b[0m\u001b[0;34m\u001b[0m\u001b[0;34m\u001b[0m\u001b[0m\n\u001b[0;32m--> 727\u001b[0;31m             \u001b[0mresult\u001b[0m \u001b[0;34m=\u001b[0m \u001b[0mself\u001b[0m\u001b[0;34m.\u001b[0m\u001b[0mforward\u001b[0m\u001b[0;34m(\u001b[0m\u001b[0;34m*\u001b[0m\u001b[0minput\u001b[0m\u001b[0;34m,\u001b[0m \u001b[0;34m**\u001b[0m\u001b[0mkwargs\u001b[0m\u001b[0;34m)\u001b[0m\u001b[0;34m\u001b[0m\u001b[0;34m\u001b[0m\u001b[0m\n\u001b[0m\u001b[1;32m    728\u001b[0m         for hook in itertools.chain(\n\u001b[1;32m    729\u001b[0m                 \u001b[0m_global_forward_hooks\u001b[0m\u001b[0;34m.\u001b[0m\u001b[0mvalues\u001b[0m\u001b[0;34m(\u001b[0m\u001b[0;34m)\u001b[0m\u001b[0;34m,\u001b[0m\u001b[0;34m\u001b[0m\u001b[0;34m\u001b[0m\u001b[0m\n",
      "\u001b[0;32m/tmp/ipykernel_96705/2426197441.py\u001b[0m in \u001b[0;36mforward\u001b[0;34m(self, shape_dict, noise)\u001b[0m\n\u001b[1;32m     13\u001b[0m         '''\n\u001b[1;32m     14\u001b[0m         \u001b[0;32mif\u001b[0m \u001b[0mself\u001b[0m\u001b[0;34m.\u001b[0m\u001b[0msample_fn\u001b[0m \u001b[0;34m==\u001b[0m \u001b[0;34m'p_sample_loop'\u001b[0m\u001b[0;34m:\u001b[0m\u001b[0;34m\u001b[0m\u001b[0;34m\u001b[0m\u001b[0m\n\u001b[0;32m---> 15\u001b[0;31m             deca_output = self.deca_dpm.p_sample_loop(\n\u001b[0m\u001b[1;32m     16\u001b[0m                                         \u001b[0mshape_dict\u001b[0m\u001b[0;34m=\u001b[0m\u001b[0mshape_dict\u001b[0m\u001b[0;34m,\u001b[0m\u001b[0;34m\u001b[0m\u001b[0;34m\u001b[0m\u001b[0m\n\u001b[1;32m     17\u001b[0m                                         noise={'deca':noise})\n",
      "\u001b[0;32m~/guided-diffusion/sample_scripts/deca_dpm.py\u001b[0m in \u001b[0;36mp_sample_loop\u001b[0;34m(self, shape_dict, noise, clip_denoised, denoised_fn, cond_fn, model_kwargs)\u001b[0m\n\u001b[1;32m     44\u001b[0m                 \u001b[0mB\u001b[0m\u001b[0;34m,\u001b[0m \u001b[0mC\u001b[0m \u001b[0;34m=\u001b[0m \u001b[0mdeca\u001b[0m\u001b[0;34m.\u001b[0m\u001b[0mshape\u001b[0m\u001b[0;34m[\u001b[0m\u001b[0;34m:\u001b[0m\u001b[0;36m2\u001b[0m\u001b[0;34m]\u001b[0m\u001b[0;34m\u001b[0m\u001b[0;34m\u001b[0m\u001b[0m\n\u001b[1;32m     45\u001b[0m                 \u001b[0;32massert\u001b[0m \u001b[0mt\u001b[0m\u001b[0;34m.\u001b[0m\u001b[0mshape\u001b[0m \u001b[0;34m==\u001b[0m \u001b[0;34m(\u001b[0m\u001b[0mB\u001b[0m\u001b[0;34m,\u001b[0m\u001b[0;34m)\u001b[0m\u001b[0;34m\u001b[0m\u001b[0;34m\u001b[0m\u001b[0m\n\u001b[0;32m---> 46\u001b[0;31m                 \u001b[0mdeca_model_output_\u001b[0m \u001b[0;34m=\u001b[0m \u001b[0mself\u001b[0m\u001b[0;34m.\u001b[0m\u001b[0mmodel\u001b[0m\u001b[0;34m(\u001b[0m\u001b[0mdeca\u001b[0m\u001b[0;34m.\u001b[0m\u001b[0mfloat\u001b[0m\u001b[0;34m(\u001b[0m\u001b[0;34m)\u001b[0m\u001b[0;34m,\u001b[0m \u001b[0mself\u001b[0m\u001b[0;34m.\u001b[0m\u001b[0mdiffusion\u001b[0m\u001b[0;34m.\u001b[0m\u001b[0m_scale_timesteps\u001b[0m\u001b[0;34m(\u001b[0m\u001b[0mt\u001b[0m\u001b[0;34m)\u001b[0m\u001b[0;34m,\u001b[0m \u001b[0;34m**\u001b[0m\u001b[0mmodel_kwargs\u001b[0m\u001b[0;34m)\u001b[0m\u001b[0;34m\u001b[0m\u001b[0;34m\u001b[0m\u001b[0m\n\u001b[0m\u001b[1;32m     47\u001b[0m                 \u001b[0mdeca_model_input\u001b[0m \u001b[0;34m=\u001b[0m \u001b[0mdeca\u001b[0m\u001b[0;34m.\u001b[0m\u001b[0mclone\u001b[0m\u001b[0;34m(\u001b[0m\u001b[0;34m)\u001b[0m\u001b[0;34m\u001b[0m\u001b[0;34m\u001b[0m\u001b[0m\n\u001b[1;32m     48\u001b[0m                 \u001b[0mdeca\u001b[0m \u001b[0;34m=\u001b[0m \u001b[0mdeca_model_output_\u001b[0m\u001b[0;34m[\u001b[0m\u001b[0;34m\"output\"\u001b[0m\u001b[0;34m]\u001b[0m\u001b[0;34m\u001b[0m\u001b[0;34m\u001b[0m\u001b[0m\n",
      "\u001b[0;32m~/miniconda3/envs/3dr_conda/lib/python3.8/site-packages/torch/nn/modules/module.py\u001b[0m in \u001b[0;36m_call_impl\u001b[0;34m(self, *input, **kwargs)\u001b[0m\n\u001b[1;32m    725\u001b[0m             \u001b[0mresult\u001b[0m \u001b[0;34m=\u001b[0m \u001b[0mself\u001b[0m\u001b[0;34m.\u001b[0m\u001b[0m_slow_forward\u001b[0m\u001b[0;34m(\u001b[0m\u001b[0;34m*\u001b[0m\u001b[0minput\u001b[0m\u001b[0;34m,\u001b[0m \u001b[0;34m**\u001b[0m\u001b[0mkwargs\u001b[0m\u001b[0;34m)\u001b[0m\u001b[0;34m\u001b[0m\u001b[0;34m\u001b[0m\u001b[0m\n\u001b[1;32m    726\u001b[0m         \u001b[0;32melse\u001b[0m\u001b[0;34m:\u001b[0m\u001b[0;34m\u001b[0m\u001b[0;34m\u001b[0m\u001b[0m\n\u001b[0;32m--> 727\u001b[0;31m             \u001b[0mresult\u001b[0m \u001b[0;34m=\u001b[0m \u001b[0mself\u001b[0m\u001b[0;34m.\u001b[0m\u001b[0mforward\u001b[0m\u001b[0;34m(\u001b[0m\u001b[0;34m*\u001b[0m\u001b[0minput\u001b[0m\u001b[0;34m,\u001b[0m \u001b[0;34m**\u001b[0m\u001b[0mkwargs\u001b[0m\u001b[0;34m)\u001b[0m\u001b[0;34m\u001b[0m\u001b[0;34m\u001b[0m\u001b[0m\n\u001b[0m\u001b[1;32m    728\u001b[0m         for hook in itertools.chain(\n\u001b[1;32m    729\u001b[0m                 \u001b[0m_global_forward_hooks\u001b[0m\u001b[0;34m.\u001b[0m\u001b[0mvalues\u001b[0m\u001b[0;34m(\u001b[0m\u001b[0;34m)\u001b[0m\u001b[0;34m,\u001b[0m\u001b[0;34m\u001b[0m\u001b[0;34m\u001b[0m\u001b[0m\n",
      "\u001b[0;32m~/guided-diffusion/sample_scripts/../guided_diffusion/dense_deca.py\u001b[0m in \u001b[0;36mforward\u001b[0;34m(self, inputs, t)\u001b[0m\n\u001b[1;32m     88\u001b[0m \u001b[0;34m\u001b[0m\u001b[0m\n\u001b[1;32m     89\u001b[0m         \u001b[0;32mfor\u001b[0m \u001b[0mi\u001b[0m \u001b[0;32min\u001b[0m \u001b[0mrange\u001b[0m\u001b[0;34m(\u001b[0m\u001b[0mlen\u001b[0m\u001b[0;34m(\u001b[0m\u001b[0mself\u001b[0m\u001b[0;34m.\u001b[0m\u001b[0mmid_layers\u001b[0m\u001b[0;34m)\u001b[0m\u001b[0;34m)\u001b[0m\u001b[0;34m:\u001b[0m\u001b[0;34m\u001b[0m\u001b[0;34m\u001b[0m\u001b[0m\n\u001b[0;32m---> 90\u001b[0;31m             \u001b[0mscale\u001b[0m\u001b[0;34m,\u001b[0m \u001b[0mshift\u001b[0m \u001b[0;34m=\u001b[0m \u001b[0mself\u001b[0m\u001b[0;34m.\u001b[0m\u001b[0mmid_layers\u001b[0m\u001b[0;34m[\u001b[0m\u001b[0mi\u001b[0m\u001b[0;34m]\u001b[0m\u001b[0;34m[\u001b[0m\u001b[0;36m0\u001b[0m\u001b[0;34m]\u001b[0m\u001b[0;34m(\u001b[0m\u001b[0mt\u001b[0m\u001b[0;34m)\u001b[0m    \u001b[0;31m# DenseFiLM\u001b[0m\u001b[0;34m\u001b[0m\u001b[0;34m\u001b[0m\u001b[0m\n\u001b[0m\u001b[1;32m     91\u001b[0m             \u001b[0mx\u001b[0m \u001b[0;34m=\u001b[0m \u001b[0mself\u001b[0m\u001b[0;34m.\u001b[0m\u001b[0mmid_layers\u001b[0m\u001b[0;34m[\u001b[0m\u001b[0mi\u001b[0m\u001b[0;34m]\u001b[0m\u001b[0;34m[\u001b[0m\u001b[0;36m1\u001b[0m\u001b[0;34m]\u001b[0m\u001b[0;34m(\u001b[0m\u001b[0mx\u001b[0m\u001b[0;34m,\u001b[0m \u001b[0mscale\u001b[0m\u001b[0;34m=\u001b[0m\u001b[0mscale\u001b[0m\u001b[0;34m,\u001b[0m \u001b[0mshift\u001b[0m\u001b[0;34m=\u001b[0m\u001b[0mshift\u001b[0m\u001b[0;34m)\u001b[0m    \u001b[0;31m# ResBlock\u001b[0m\u001b[0;34m\u001b[0m\u001b[0;34m\u001b[0m\u001b[0m\n\u001b[1;32m     92\u001b[0m         \u001b[0mout\u001b[0m \u001b[0;34m=\u001b[0m \u001b[0mself\u001b[0m\u001b[0;34m.\u001b[0m\u001b[0mout_layers\u001b[0m\u001b[0;34m(\u001b[0m\u001b[0mx\u001b[0m\u001b[0;34m)\u001b[0m\u001b[0;34m\u001b[0m\u001b[0;34m\u001b[0m\u001b[0m\n",
      "\u001b[0;32m~/miniconda3/envs/3dr_conda/lib/python3.8/site-packages/torch/nn/modules/module.py\u001b[0m in \u001b[0;36m_call_impl\u001b[0;34m(self, *input, **kwargs)\u001b[0m\n\u001b[1;32m    725\u001b[0m             \u001b[0mresult\u001b[0m \u001b[0;34m=\u001b[0m \u001b[0mself\u001b[0m\u001b[0;34m.\u001b[0m\u001b[0m_slow_forward\u001b[0m\u001b[0;34m(\u001b[0m\u001b[0;34m*\u001b[0m\u001b[0minput\u001b[0m\u001b[0;34m,\u001b[0m \u001b[0;34m**\u001b[0m\u001b[0mkwargs\u001b[0m\u001b[0;34m)\u001b[0m\u001b[0;34m\u001b[0m\u001b[0;34m\u001b[0m\u001b[0m\n\u001b[1;32m    726\u001b[0m         \u001b[0;32melse\u001b[0m\u001b[0;34m:\u001b[0m\u001b[0;34m\u001b[0m\u001b[0;34m\u001b[0m\u001b[0m\n\u001b[0;32m--> 727\u001b[0;31m             \u001b[0mresult\u001b[0m \u001b[0;34m=\u001b[0m \u001b[0mself\u001b[0m\u001b[0;34m.\u001b[0m\u001b[0mforward\u001b[0m\u001b[0;34m(\u001b[0m\u001b[0;34m*\u001b[0m\u001b[0minput\u001b[0m\u001b[0;34m,\u001b[0m \u001b[0;34m**\u001b[0m\u001b[0mkwargs\u001b[0m\u001b[0;34m)\u001b[0m\u001b[0;34m\u001b[0m\u001b[0;34m\u001b[0m\u001b[0m\n\u001b[0m\u001b[1;32m    728\u001b[0m         for hook in itertools.chain(\n\u001b[1;32m    729\u001b[0m                 \u001b[0m_global_forward_hooks\u001b[0m\u001b[0;34m.\u001b[0m\u001b[0mvalues\u001b[0m\u001b[0;34m(\u001b[0m\u001b[0;34m)\u001b[0m\u001b[0;34m,\u001b[0m\u001b[0;34m\u001b[0m\u001b[0;34m\u001b[0m\u001b[0m\n",
      "\u001b[0;32m~/guided-diffusion/sample_scripts/../guided_diffusion/dense_deca.py\u001b[0m in \u001b[0;36mforward\u001b[0;34m(self, t)\u001b[0m\n\u001b[1;32m    114\u001b[0m         \u001b[0;31m# embedding_channels.shape, out_channels.shape = (), ()\u001b[0m\u001b[0;34m\u001b[0m\u001b[0;34m\u001b[0m\u001b[0;34m\u001b[0m\u001b[0m\n\u001b[1;32m    115\u001b[0m         \u001b[0;31m# print(t.shape)\u001b[0m\u001b[0;34m\u001b[0m\u001b[0;34m\u001b[0m\u001b[0;34m\u001b[0m\u001b[0m\n\u001b[0;32m--> 116\u001b[0;31m         \u001b[0memb\u001b[0m \u001b[0;34m=\u001b[0m \u001b[0mself\u001b[0m\u001b[0;34m.\u001b[0m\u001b[0mtime_embed\u001b[0m\u001b[0;34m(\u001b[0m\u001b[0mtimestep_embedding\u001b[0m\u001b[0;34m(\u001b[0m\u001b[0mt\u001b[0m\u001b[0;34m,\u001b[0m \u001b[0mself\u001b[0m\u001b[0;34m.\u001b[0m\u001b[0mmodel_channels\u001b[0m\u001b[0;34m)\u001b[0m\u001b[0;34m)\u001b[0m\u001b[0;34m\u001b[0m\u001b[0;34m\u001b[0m\u001b[0m\n\u001b[0m\u001b[1;32m    117\u001b[0m \u001b[0;34m\u001b[0m\u001b[0m\n\u001b[1;32m    118\u001b[0m         \u001b[0mscale\u001b[0m \u001b[0;34m=\u001b[0m \u001b[0mself\u001b[0m\u001b[0;34m.\u001b[0m\u001b[0mscale_layer\u001b[0m\u001b[0;34m(\u001b[0m\u001b[0memb\u001b[0m\u001b[0;34m)\u001b[0m\u001b[0;34m\u001b[0m\u001b[0;34m\u001b[0m\u001b[0m\n",
      "\u001b[0;32m~/guided-diffusion/sample_scripts/../guided_diffusion/nn.py\u001b[0m in \u001b[0;36mtimestep_embedding\u001b[0;34m(timesteps, dim, max_period)\u001b[0m\n\u001b[1;32m    112\u001b[0m     \"\"\"\n\u001b[1;32m    113\u001b[0m     \u001b[0mhalf\u001b[0m \u001b[0;34m=\u001b[0m \u001b[0mdim\u001b[0m \u001b[0;34m//\u001b[0m \u001b[0;36m2\u001b[0m\u001b[0;34m\u001b[0m\u001b[0;34m\u001b[0m\u001b[0m\n\u001b[0;32m--> 114\u001b[0;31m     freqs = th.exp(\n\u001b[0m\u001b[1;32m    115\u001b[0m         \u001b[0;34m-\u001b[0m\u001b[0mmath\u001b[0m\u001b[0;34m.\u001b[0m\u001b[0mlog\u001b[0m\u001b[0;34m(\u001b[0m\u001b[0mmax_period\u001b[0m\u001b[0;34m)\u001b[0m \u001b[0;34m*\u001b[0m \u001b[0mth\u001b[0m\u001b[0;34m.\u001b[0m\u001b[0marange\u001b[0m\u001b[0;34m(\u001b[0m\u001b[0mstart\u001b[0m\u001b[0;34m=\u001b[0m\u001b[0;36m0\u001b[0m\u001b[0;34m,\u001b[0m \u001b[0mend\u001b[0m\u001b[0;34m=\u001b[0m\u001b[0mhalf\u001b[0m\u001b[0;34m,\u001b[0m \u001b[0mdtype\u001b[0m\u001b[0;34m=\u001b[0m\u001b[0mth\u001b[0m\u001b[0;34m.\u001b[0m\u001b[0mfloat32\u001b[0m\u001b[0;34m)\u001b[0m \u001b[0;34m/\u001b[0m \u001b[0mhalf\u001b[0m\u001b[0;34m\u001b[0m\u001b[0;34m\u001b[0m\u001b[0m\n\u001b[1;32m    116\u001b[0m     ).to(device=timesteps.device)\n",
      "\u001b[0;31mKeyboardInterrupt\u001b[0m: "
     ]
    }
   ],
   "source": [
    "# Normal Sampling \n",
    "init_noise = th.randn((1, 159)).cuda()\n",
    "# init_noise = th.cat(([th.randn((1, 159)).cuda()] * args.batch_size), dim=0)\n",
    "for i in range(10):\n",
    "    pl_inference = PLInference(deca_model=deca_model, sample_fn='p_sample_loop')\n",
    "    sample = pl_inference(shape_dict={'deca':(init_noise.shape[0], 159)}, noise=init_noise.clone())\n",
    "    plot_deca(sample)"
   ]
  },
  {
   "cell_type": "code",
   "execution_count": null,
   "metadata": {},
   "outputs": [
    {
     "name": "stdout",
     "output_type": "stream",
     "text": [
      "tensor([[ 7.2335e-01,  6.5953e-03,  1.1785e+00, -7.6708e-01, -4.3508e-01,\n",
      "         -6.3469e-01, -4.0231e-01,  9.6141e-01, -1.5626e+00, -2.2085e-01,\n",
      "         -3.5860e-01,  1.3227e+00,  6.5684e-01,  1.3172e+00,  4.2810e-01,\n",
      "         -2.8452e-04,  1.7369e-01,  8.3115e-01, -1.3930e+00, -2.4537e+00,\n",
      "         -8.6764e-02,  1.1758e-01, -1.0630e-01, -2.2148e+00,  3.1309e-01,\n",
      "          7.5372e-01, -5.1259e-01,  1.6882e+00, -1.5350e+00, -9.8279e-01,\n",
      "         -1.3416e+00,  5.9776e-01, -1.0284e+00,  1.2132e+00, -1.6912e+00,\n",
      "         -1.4658e+00,  1.0262e-01,  1.4117e+00,  2.3133e-01, -2.8162e-01,\n",
      "          9.1848e-01, -3.4808e-01,  3.3335e-02,  7.8668e-01, -2.1424e+00,\n",
      "         -1.2495e+00,  2.1901e+00, -1.9006e+00,  1.0311e+00,  1.8026e+00,\n",
      "          4.4154e-01,  1.3285e-01, -4.3094e-02,  5.4936e-02, -8.2743e-01,\n",
      "          6.3313e-01, -8.3702e-02, -8.8627e-01, -1.5460e+00, -1.3282e+00,\n",
      "         -1.1794e+00,  1.3925e-01,  3.7281e-01,  2.8841e+00,  3.8582e-01,\n",
      "         -1.4799e+00,  8.2325e-01,  1.3242e+00,  3.0210e-02,  1.3717e+00,\n",
      "          2.6051e-01,  1.3807e-01,  1.9738e-01,  6.0439e-01, -2.0514e-02,\n",
      "         -2.8983e-01,  5.2316e-01, -2.2739e+00,  2.6501e+00,  9.0771e-01,\n",
      "         -4.4073e-02,  3.1375e-01,  1.0476e+00,  5.1490e-01,  2.5121e-01,\n",
      "         -3.7273e-01, -5.6306e-01, -9.9689e-02, -6.0999e-01,  4.0465e-01,\n",
      "          1.3776e+00, -7.5487e-01, -1.0768e+00,  8.8203e-01, -1.1022e-01,\n",
      "         -3.3329e-01, -1.5688e-01, -2.9676e-01, -9.5452e-01,  1.6128e-01,\n",
      "         -6.3068e-01,  8.7536e-01,  1.4167e-01,  8.9269e-01,  8.2149e-01,\n",
      "         -8.8542e-01, -6.6350e-01, -3.7260e-01, -5.7501e-02, -6.7928e-01,\n",
      "         -2.7036e-01,  3.2640e-01, -3.8598e-02, -1.7898e-01, -2.3425e-01,\n",
      "         -6.4544e-01,  1.5926e+00, -1.1115e+00, -1.1338e+00, -1.4185e-01,\n",
      "         -3.9771e-01, -4.9649e-03, -6.7533e-01, -1.2035e+00, -7.0253e-01,\n",
      "          1.0237e-01, -8.0396e-02, -1.8665e+00, -9.2458e-01,  1.3095e+00,\n",
      "          3.9585e-01, -4.6074e-01,  1.3999e-01,  7.7659e-01, -4.8643e-02,\n",
      "         -1.1164e+00, -1.6044e-01,  1.4263e+00,  1.2850e-01, -7.4696e-01,\n",
      "          5.3564e-01,  2.0730e+00, -8.8819e-01,  4.8684e-01, -1.3086e-01,\n",
      "          1.4073e+00, -2.1141e-01, -8.5823e-01,  1.9433e-01,  1.5540e-01,\n",
      "         -8.1327e-01, -5.1289e-01, -3.0885e-01, -6.0762e-01, -1.6527e+00,\n",
      "         -6.0295e-01,  7.6923e-02,  4.9521e-01, -2.3104e+00]], device='cuda:0')\n"
     ]
    },
    {
     "data": {
      "application/vnd.jupyter.widget-view+json": {
       "model_id": "53751a7201204c2d9349fd99f74ff587",
       "version_major": 2,
       "version_minor": 0
      },
      "text/plain": [
       "  0%|          | 0/1000 [00:00<?, ?it/s]"
      ]
     },
     "metadata": {},
     "output_type": "display_data"
    },
    {
     "data": {
      "application/vnd.jupyter.widget-view+json": {
       "model_id": "641ac9d054f34eeb98e82b2d26a9e33b",
       "version_major": 2,
       "version_minor": 0
      },
      "text/plain": [
       "  0%|          | 0/1 [00:00<?, ?it/s]"
      ]
     },
     "metadata": {},
     "output_type": "display_data"
    },
    {
     "data": {
      "image/png": "[encoded data removed]",
      "text/plain": [
       "<Figure size 2000x2000 with 1 Axes>"
      ]
     },
     "metadata": {
      "needs_background": "light"
     },
     "output_type": "display_data"
    },
    {
     "name": "stdout",
     "output_type": "stream",
     "text": [
      "tensor([[ 7.2335e-01,  6.5953e-03,  1.1785e+00, -7.6708e-01, -4.3508e-01,\n",
      "         -6.3469e-01, -4.0231e-01,  9.6141e-01, -1.5626e+00, -2.2085e-01,\n",
      "         -3.5860e-01,  1.3227e+00,  6.5684e-01,  1.3172e+00,  4.2810e-01,\n",
      "         -2.8452e-04,  1.7369e-01,  8.3115e-01, -1.3930e+00, -2.4537e+00,\n",
      "         -8.6764e-02,  1.1758e-01, -1.0630e-01, -2.2148e+00,  3.1309e-01,\n",
      "          7.5372e-01, -5.1259e-01,  1.6882e+00, -1.5350e+00, -9.8279e-01,\n",
      "         -1.3416e+00,  5.9776e-01, -1.0284e+00,  1.2132e+00, -1.6912e+00,\n",
      "         -1.4658e+00,  1.0262e-01,  1.4117e+00,  2.3133e-01, -2.8162e-01,\n",
      "          9.1848e-01, -3.4808e-01,  3.3335e-02,  7.8668e-01, -2.1424e+00,\n",
      "         -1.2495e+00,  2.1901e+00, -1.9006e+00,  1.0311e+00,  1.8026e+00,\n",
      "          4.4154e-01,  1.3285e-01, -4.3094e-02,  5.4936e-02, -8.2743e-01,\n",
      "          6.3313e-01, -8.3702e-02, -8.8627e-01, -1.5460e+00, -1.3282e+00,\n",
      "         -1.1794e+00,  1.3925e-01,  3.7281e-01,  2.8841e+00,  3.8582e-01,\n",
      "         -1.4799e+00,  8.2325e-01,  1.3242e+00,  3.0210e-02,  1.3717e+00,\n",
      "          2.6051e-01,  1.3807e-01,  1.9738e-01,  6.0439e-01, -2.0514e-02,\n",
      "         -2.8983e-01,  5.2316e-01, -2.2739e+00,  2.6501e+00,  9.0771e-01,\n",
      "         -4.4073e-02,  3.1375e-01,  1.0476e+00,  5.1490e-01,  2.5121e-01,\n",
      "         -3.7273e-01, -5.6306e-01, -9.9689e-02, -6.0999e-01,  4.0465e-01,\n",
      "          1.3776e+00, -7.5487e-01, -1.0768e+00,  8.8203e-01, -1.1022e-01,\n",
      "         -3.3329e-01, -1.5688e-01, -2.9676e-01, -9.5452e-01,  1.6128e-01,\n",
      "         -6.3068e-01,  8.7536e-01,  1.4167e-01,  8.9269e-01,  8.2149e-01,\n",
      "         -8.8542e-01, -6.6350e-01, -3.7260e-01, -5.7501e-02, -6.7928e-01,\n",
      "         -2.7036e-01,  3.2640e-01, -3.8598e-02, -1.7898e-01, -2.3425e-01,\n",
      "         -6.4544e-01,  1.5926e+00, -1.1115e+00, -1.1338e+00, -1.4185e-01,\n",
      "         -3.9771e-01, -4.9649e-03, -6.7533e-01, -1.2035e+00, -7.0253e-01,\n",
      "          1.0237e-01, -8.0396e-02, -1.8665e+00, -9.2458e-01,  1.3095e+00,\n",
      "          3.9585e-01, -4.6074e-01,  1.3999e-01,  7.7659e-01, -4.8643e-02,\n",
      "         -1.1164e+00, -1.6044e-01,  1.4263e+00,  1.2850e-01, -7.4696e-01,\n",
      "          5.3564e-01,  2.0730e+00, -8.8819e-01,  4.8684e-01, -1.3086e-01,\n",
      "          1.4073e+00, -2.1141e-01, -8.5823e-01,  1.9433e-01,  1.5540e-01,\n",
      "         -8.1327e-01, -5.1289e-01, -3.0885e-01, -6.0762e-01, -1.6527e+00,\n",
      "         -6.0295e-01,  7.6923e-02,  4.9521e-01, -2.3104e+00]], device='cuda:0')\n"
     ]
    },
    {
     "data": {
      "application/vnd.jupyter.widget-view+json": {
       "model_id": "93fc947d23244f8ca8f11c981bf8086e",
       "version_major": 2,
       "version_minor": 0
      },
      "text/plain": [
       "  0%|          | 0/1000 [00:00<?, ?it/s]"
      ]
     },
     "metadata": {},
     "output_type": "display_data"
    },
    {
     "data": {
      "application/vnd.jupyter.widget-view+json": {
       "model_id": "dabe9a15761a43afb56a6bfab6de5eea",
       "version_major": 2,
       "version_minor": 0
      },
      "text/plain": [
       "  0%|          | 0/1 [00:00<?, ?it/s]"
      ]
     },
     "metadata": {},
     "output_type": "display_data"
    },
    {
     "data": {
      "image/png": "[encoded data removed]",
      "text/plain": [
       "<Figure size 2000x2000 with 1 Axes>"
      ]
     },
     "metadata": {
      "needs_background": "light"
     },
     "output_type": "display_data"
    },
    {
     "name": "stdout",
     "output_type": "stream",
     "text": [
      "tensor([[ 7.2335e-01,  6.5953e-03,  1.1785e+00, -7.6708e-01, -4.3508e-01,\n",
      "         -6.3469e-01, -4.0231e-01,  9.6141e-01, -1.5626e+00, -2.2085e-01,\n",
      "         -3.5860e-01,  1.3227e+00,  6.5684e-01,  1.3172e+00,  4.2810e-01,\n",
      "         -2.8452e-04,  1.7369e-01,  8.3115e-01, -1.3930e+00, -2.4537e+00,\n",
      "         -8.6764e-02,  1.1758e-01, -1.0630e-01, -2.2148e+00,  3.1309e-01,\n",
      "          7.5372e-01, -5.1259e-01,  1.6882e+00, -1.5350e+00, -9.8279e-01,\n",
      "         -1.3416e+00,  5.9776e-01, -1.0284e+00,  1.2132e+00, -1.6912e+00,\n",
      "         -1.4658e+00,  1.0262e-01,  1.4117e+00,  2.3133e-01, -2.8162e-01,\n",
      "          9.1848e-01, -3.4808e-01,  3.3335e-02,  7.8668e-01, -2.1424e+00,\n",
      "         -1.2495e+00,  2.1901e+00, -1.9006e+00,  1.0311e+00,  1.8026e+00,\n",
      "          4.4154e-01,  1.3285e-01, -4.3094e-02,  5.4936e-02, -8.2743e-01,\n",
      "          6.3313e-01, -8.3702e-02, -8.8627e-01, -1.5460e+00, -1.3282e+00,\n",
      "         -1.1794e+00,  1.3925e-01,  3.7281e-01,  2.8841e+00,  3.8582e-01,\n",
      "         -1.4799e+00,  8.2325e-01,  1.3242e+00,  3.0210e-02,  1.3717e+00,\n",
      "          2.6051e-01,  1.3807e-01,  1.9738e-01,  6.0439e-01, -2.0514e-02,\n",
      "         -2.8983e-01,  5.2316e-01, -2.2739e+00,  2.6501e+00,  9.0771e-01,\n",
      "         -4.4073e-02,  3.1375e-01,  1.0476e+00,  5.1490e-01,  2.5121e-01,\n",
      "         -3.7273e-01, -5.6306e-01, -9.9689e-02, -6.0999e-01,  4.0465e-01,\n",
      "          1.3776e+00, -7.5487e-01, -1.0768e+00,  8.8203e-01, -1.1022e-01,\n",
      "         -3.3329e-01, -1.5688e-01, -2.9676e-01, -9.5452e-01,  1.6128e-01,\n",
      "         -6.3068e-01,  8.7536e-01,  1.4167e-01,  8.9269e-01,  8.2149e-01,\n",
      "         -8.8542e-01, -6.6350e-01, -3.7260e-01, -5.7501e-02, -6.7928e-01,\n",
      "         -2.7036e-01,  3.2640e-01, -3.8598e-02, -1.7898e-01, -2.3425e-01,\n",
      "         -6.4544e-01,  1.5926e+00, -1.1115e+00, -1.1338e+00, -1.4185e-01,\n",
      "         -3.9771e-01, -4.9649e-03, -6.7533e-01, -1.2035e+00, -7.0253e-01,\n",
      "          1.0237e-01, -8.0396e-02, -1.8665e+00, -9.2458e-01,  1.3095e+00,\n",
      "          3.9585e-01, -4.6074e-01,  1.3999e-01,  7.7659e-01, -4.8643e-02,\n",
      "         -1.1164e+00, -1.6044e-01,  1.4263e+00,  1.2850e-01, -7.4696e-01,\n",
      "          5.3564e-01,  2.0730e+00, -8.8819e-01,  4.8684e-01, -1.3086e-01,\n",
      "          1.4073e+00, -2.1141e-01, -8.5823e-01,  1.9433e-01,  1.5540e-01,\n",
      "         -8.1327e-01, -5.1289e-01, -3.0885e-01, -6.0762e-01, -1.6527e+00,\n",
      "         -6.0295e-01,  7.6923e-02,  4.9521e-01, -2.3104e+00]], device='cuda:0')\n"
     ]
    },
    {
     "data": {
      "application/vnd.jupyter.widget-view+json": {
       "model_id": "494f8958df3e4a0da060e3caf2a09b2b",
       "version_major": 2,
       "version_minor": 0
      },
      "text/plain": [
       "  0%|          | 0/1000 [00:00<?, ?it/s]"
      ]
     },
     "metadata": {},
     "output_type": "display_data"
    },
    {
     "data": {
      "application/vnd.jupyter.widget-view+json": {
       "model_id": "f2445fd484bc465c939d00517d1dae04",
       "version_major": 2,
       "version_minor": 0
      },
      "text/plain": [
       "  0%|          | 0/1 [00:00<?, ?it/s]"
      ]
     },
     "metadata": {},
     "output_type": "display_data"
    },
    {
     "data": {
      "image/png": "[encoded data removed]",
      "text/plain": [
       "<Figure size 2000x2000 with 1 Axes>"
      ]
     },
     "metadata": {
      "needs_background": "light"
     },
     "output_type": "display_data"
    }
   ],
   "source": [
    "class PLInference(pl.LightningModule):\n",
    "    def __init__(self, deca_model, sample_fn):\n",
    "        super(PLInference, self).__init__()\n",
    "        self.deca_model=deca_model\n",
    "        self.sample_fn = sample_fn\n",
    "\n",
    "    def forward(self, noise):\n",
    "        # seed_all(33)\n",
    "        sample = self.sample_fn(\n",
    "            model=self.deca_model,\n",
    "            shape=(noise.shape[0], 159),\n",
    "            noise=noise.cuda(),\n",
    "            clip_denoised=args.clip_denoised,\n",
    "        )\n",
    "        return {\"deca_output\":sample}\n",
    "\n",
    "# Normal Sampling \n",
    "init_noise = th.randn((1, 159)).cuda()\n",
    "# init_noise = th.cat(([th.randn((1, 159)).cuda()] * args.batch_size), dim=0)\n",
    "for i in range(3):\n",
    "    print(init_noise)\n",
    "    pl_inference = PLInference(deca_model=deca_model, sample_fn=diffusion.ddim_sample_loop)#p_sample_loop)\n",
    "    sample_old = pl_inference(noise=init_noise)\n",
    "    plot_deca(sample_old)"
   ]
  },
  {
   "cell_type": "code",
   "execution_count": null,
   "metadata": {},
   "outputs": [
    {
     "name": "stdout",
     "output_type": "stream",
     "text": [
      "tensor([[ 0.0289,  0.0984,  0.6361, -0.6897, -0.3974, -0.5848, -0.6659,  1.6117,\n",
      "         -0.5603, -1.3397,  1.6072,  0.4943, -0.9037,  0.8533,  1.8895, -0.0079,\n",
      "         -0.0390,  0.3396, -0.2747,  1.3284, -1.1960,  0.9426, -1.5111,  1.5829,\n",
      "          0.7940, -0.1960,  0.4601, -0.0110,  0.3313,  0.5896,  1.1232, -0.1838,\n",
      "          0.1913,  0.7548,  1.2820,  0.7185, -1.3377, -0.7246,  0.4295, -1.2947,\n",
      "         -0.0168, -2.2107, -0.0590,  1.0198, -0.2696, -1.3692, -1.5587,  0.2100,\n",
      "          0.0092, -0.0042,  1.4209,  0.2295,  0.1016,  0.4598, -0.3351,  1.0176,\n",
      "         -0.1771,  0.0902,  0.2261,  0.4059,  1.8733, -0.3440,  1.1985, -0.0704,\n",
      "         -0.6099, -0.5858, -0.0071, -1.6059,  1.2559,  0.5403, -0.3488,  1.2503,\n",
      "         -1.5248, -0.3688, -0.1803,  0.2376,  1.6018, -1.2883,  0.3877,  0.6961,\n",
      "         -1.4186, -1.7071,  0.6823,  0.0971, -2.0875,  0.1388,  1.0061, -1.5186,\n",
      "          0.6520, -0.2095, -0.8322,  1.2874, -0.6720,  1.3398,  1.4857,  0.6336,\n",
      "          1.6497,  1.5549, -0.0644,  0.7960,  0.3877, -0.1359, -0.0294, -1.1654,\n",
      "          0.3214, -0.3546,  0.4987,  0.9131, -1.5913, -0.6263, -0.6920,  0.3246,\n",
      "         -0.6337, -0.6893,  0.3583,  1.8532,  2.0060, -1.6828, -0.7598,  1.3810,\n",
      "         -0.4136, -1.4344, -0.1437,  0.9319, -0.2141, -0.7506,  0.4000,  0.2878,\n",
      "         -0.5864, -1.2964,  0.1192, -0.4916,  1.7666,  1.4398, -0.7411, -0.3723,\n",
      "          0.9727, -1.6806,  0.0872,  0.9167,  0.6118, -1.4323,  0.9057,  0.2637,\n",
      "          1.4677, -0.5805,  0.9755,  0.0305,  0.2603, -1.0992, -0.6652,  0.0719,\n",
      "          0.4339,  0.8602,  1.9446,  0.5809, -0.0687, -1.1826,  1.0488]],\n",
      "       device='cuda:0')\n"
     ]
    },
    {
     "data": {
      "application/vnd.jupyter.widget-view+json": {
       "model_id": "bc526e11d39f4c3ebd0d9490d344dba8",
       "version_major": 2,
       "version_minor": 0
      },
      "text/plain": [
       "  0%|          | 0/1000 [00:00<?, ?it/s]"
      ]
     },
     "metadata": {},
     "output_type": "display_data"
    },
    {
     "data": {
      "application/vnd.jupyter.widget-view+json": {
       "model_id": "65344bd0088a4d3eb5385aa66014b16f",
       "version_major": 2,
       "version_minor": 0
      },
      "text/plain": [
       "  0%|          | 0/1 [00:00<?, ?it/s]"
      ]
     },
     "metadata": {},
     "output_type": "display_data"
    },
    {
     "data": {
      "image/png": "[encoded data removed]",
      "text/plain": [
       "<Figure size 2000x2000 with 1 Axes>"
      ]
     },
     "metadata": {
      "needs_background": "light"
     },
     "output_type": "display_data"
    },
    {
     "name": "stdout",
     "output_type": "stream",
     "text": [
      "tensor([[ 0.0289,  0.0984,  0.6361, -0.6897, -0.3974, -0.5848, -0.6659,  1.6117,\n",
      "         -0.5603, -1.3397,  1.6072,  0.4943, -0.9037,  0.8533,  1.8895, -0.0079,\n",
      "         -0.0390,  0.3396, -0.2747,  1.3284, -1.1960,  0.9426, -1.5111,  1.5829,\n",
      "          0.7940, -0.1960,  0.4601, -0.0110,  0.3313,  0.5896,  1.1232, -0.1838,\n",
      "          0.1913,  0.7548,  1.2820,  0.7185, -1.3377, -0.7246,  0.4295, -1.2947,\n",
      "         -0.0168, -2.2107, -0.0590,  1.0198, -0.2696, -1.3692, -1.5587,  0.2100,\n",
      "          0.0092, -0.0042,  1.4209,  0.2295,  0.1016,  0.4598, -0.3351,  1.0176,\n",
      "         -0.1771,  0.0902,  0.2261,  0.4059,  1.8733, -0.3440,  1.1985, -0.0704,\n",
      "         -0.6099, -0.5858, -0.0071, -1.6059,  1.2559,  0.5403, -0.3488,  1.2503,\n",
      "         -1.5248, -0.3688, -0.1803,  0.2376,  1.6018, -1.2883,  0.3877,  0.6961,\n",
      "         -1.4186, -1.7071,  0.6823,  0.0971, -2.0875,  0.1388,  1.0061, -1.5186,\n",
      "          0.6520, -0.2095, -0.8322,  1.2874, -0.6720,  1.3398,  1.4857,  0.6336,\n",
      "          1.6497,  1.5549, -0.0644,  0.7960,  0.3877, -0.1359, -0.0294, -1.1654,\n",
      "          0.3214, -0.3546,  0.4987,  0.9131, -1.5913, -0.6263, -0.6920,  0.3246,\n",
      "         -0.6337, -0.6893,  0.3583,  1.8532,  2.0060, -1.6828, -0.7598,  1.3810,\n",
      "         -0.4136, -1.4344, -0.1437,  0.9319, -0.2141, -0.7506,  0.4000,  0.2878,\n",
      "         -0.5864, -1.2964,  0.1192, -0.4916,  1.7666,  1.4398, -0.7411, -0.3723,\n",
      "          0.9727, -1.6806,  0.0872,  0.9167,  0.6118, -1.4323,  0.9057,  0.2637,\n",
      "          1.4677, -0.5805,  0.9755,  0.0305,  0.2603, -1.0992, -0.6652,  0.0719,\n",
      "          0.4339,  0.8602,  1.9446,  0.5809, -0.0687, -1.1826,  1.0488]],\n",
      "       device='cuda:0')\n"
     ]
    },
    {
     "data": {
      "application/vnd.jupyter.widget-view+json": {
       "model_id": "9304f70fca9240cfad8e5a04acea3e7b",
       "version_major": 2,
       "version_minor": 0
      },
      "text/plain": [
       "  0%|          | 0/1000 [00:00<?, ?it/s]"
      ]
     },
     "metadata": {},
     "output_type": "display_data"
    },
    {
     "data": {
      "application/vnd.jupyter.widget-view+json": {
       "model_id": "1474229eceb94ebbaee6445d00ec65ca",
       "version_major": 2,
       "version_minor": 0
      },
      "text/plain": [
       "  0%|          | 0/1 [00:00<?, ?it/s]"
      ]
     },
     "metadata": {},
     "output_type": "display_data"
    },
    {
     "data": {
      "image/png": "[encoded data removed]",
      "text/plain": [
       "<Figure size 2000x2000 with 1 Axes>"
      ]
     },
     "metadata": {
      "needs_background": "light"
     },
     "output_type": "display_data"
    },
    {
     "name": "stdout",
     "output_type": "stream",
     "text": [
      "tensor([[ 0.0289,  0.0984,  0.6361, -0.6897, -0.3974, -0.5848, -0.6659,  1.6117,\n",
      "         -0.5603, -1.3397,  1.6072,  0.4943, -0.9037,  0.8533,  1.8895, -0.0079,\n",
      "         -0.0390,  0.3396, -0.2747,  1.3284, -1.1960,  0.9426, -1.5111,  1.5829,\n",
      "          0.7940, -0.1960,  0.4601, -0.0110,  0.3313,  0.5896,  1.1232, -0.1838,\n",
      "          0.1913,  0.7548,  1.2820,  0.7185, -1.3377, -0.7246,  0.4295, -1.2947,\n",
      "         -0.0168, -2.2107, -0.0590,  1.0198, -0.2696, -1.3692, -1.5587,  0.2100,\n",
      "          0.0092, -0.0042,  1.4209,  0.2295,  0.1016,  0.4598, -0.3351,  1.0176,\n",
      "         -0.1771,  0.0902,  0.2261,  0.4059,  1.8733, -0.3440,  1.1985, -0.0704,\n",
      "         -0.6099, -0.5858, -0.0071, -1.6059,  1.2559,  0.5403, -0.3488,  1.2503,\n",
      "         -1.5248, -0.3688, -0.1803,  0.2376,  1.6018, -1.2883,  0.3877,  0.6961,\n",
      "         -1.4186, -1.7071,  0.6823,  0.0971, -2.0875,  0.1388,  1.0061, -1.5186,\n",
      "          0.6520, -0.2095, -0.8322,  1.2874, -0.6720,  1.3398,  1.4857,  0.6336,\n",
      "          1.6497,  1.5549, -0.0644,  0.7960,  0.3877, -0.1359, -0.0294, -1.1654,\n",
      "          0.3214, -0.3546,  0.4987,  0.9131, -1.5913, -0.6263, -0.6920,  0.3246,\n",
      "         -0.6337, -0.6893,  0.3583,  1.8532,  2.0060, -1.6828, -0.7598,  1.3810,\n",
      "         -0.4136, -1.4344, -0.1437,  0.9319, -0.2141, -0.7506,  0.4000,  0.2878,\n",
      "         -0.5864, -1.2964,  0.1192, -0.4916,  1.7666,  1.4398, -0.7411, -0.3723,\n",
      "          0.9727, -1.6806,  0.0872,  0.9167,  0.6118, -1.4323,  0.9057,  0.2637,\n",
      "          1.4677, -0.5805,  0.9755,  0.0305,  0.2603, -1.0992, -0.6652,  0.0719,\n",
      "          0.4339,  0.8602,  1.9446,  0.5809, -0.0687, -1.1826,  1.0488]],\n",
      "       device='cuda:0')\n"
     ]
    },
    {
     "data": {
      "application/vnd.jupyter.widget-view+json": {
       "model_id": "9a2e10d627814177bdf701c17d763271",
       "version_major": 2,
       "version_minor": 0
      },
      "text/plain": [
       "  0%|          | 0/1000 [00:00<?, ?it/s]"
      ]
     },
     "metadata": {},
     "output_type": "display_data"
    },
    {
     "data": {
      "application/vnd.jupyter.widget-view+json": {
       "model_id": "110e52debf63492a83b75bc49cbcfba2",
       "version_major": 2,
       "version_minor": 0
      },
      "text/plain": [
       "  0%|          | 0/1 [00:00<?, ?it/s]"
      ]
     },
     "metadata": {},
     "output_type": "display_data"
    },
    {
     "data": {
      "image/png": "[encoded data removed]",
      "text/plain": [
       "<Figure size 2000x2000 with 1 Axes>"
      ]
     },
     "metadata": {
      "needs_background": "light"
     },
     "output_type": "display_data"
    }
   ],
   "source": [
    "# import pytorch_lightning as pl\n",
    "class PLInference(pl.LightningModule):\n",
    "    def __init__(self, deca_model, sample_fn):\n",
    "        super(PLInference, self).__init__()\n",
    "        self.deca_model=deca_model\n",
    "        self.sample_fn = sample_fn\n",
    "\n",
    "    def forward(self, noise):\n",
    "        # seed_all(33)\n",
    "        sample = self.sample_fn(\n",
    "            model=self.deca_model,\n",
    "            shape=(noise.shape[0], 159),\n",
    "            noise=noise.cuda(),\n",
    "            clip_denoised=args.clip_denoised,\n",
    "        )\n",
    "        return {\"deca_output\":sample}\n",
    "\n",
    "# Normal Sampling \n",
    "init_noise = th.randn((1, 159)).cuda()\n",
    "# init_noise = th.cat(([th.randn((1, 159)).cuda()] * args.batch_size), dim=0)\n",
    "for i in range(3):\n",
    "    print(init_noise)\n",
    "    pl_inference = PLInference(deca_model=deca_model, sample_fn=diffusion.p_sample_loop)\n",
    "    sample_old = pl_inference(noise=init_noise)\n",
    "    plot_deca(sample_old)"
   ]
  },
  {
   "cell_type": "code",
   "execution_count": null,
   "metadata": {},
   "outputs": [],
   "source": [
    "# Linearly Interpolate\n",
    "\n",
    "pl_inference = PLInference(deca_model=deca_model, sample_fn='p_sample_loop')\n",
    "r_interp = np.linspace(0, 1, num=10)\n",
    "# src = th.randn(*(1, 159)).cuda()\n",
    "# dst = th.randn(*(1, 159)).cuda()\n",
    "src = init_noise[[0]].clone()\n",
    "dst = init_noise[[1]].clone()\n",
    "noise_interp = []\n",
    "for r in r_interp:\n",
    "    tmp = ((1-r) * src) + (r * dst)\n",
    "    noise_interp.append(tmp.clone())\n",
    "\n",
    "noise_interp = th.cat((noise_interp), dim=0)\n",
    "sample_linear_interp = pl_inference(shape_dict={'deca':(noise_interp.shape[0], 159)}, noise=noise_interp)"
   ]
  },
  {
   "cell_type": "markdown",
   "metadata": {},
   "source": [
    "# Convert a sampling parameters to 3D model"
   ]
  },
  {
   "cell_type": "code",
   "execution_count": null,
   "metadata": {},
   "outputs": [],
   "source": [
    "plot_deca(sample)\n",
    "# plot_deca(sample_linear_interp)"
   ]
  },
  {
   "cell_type": "markdown",
   "metadata": {},
   "source": [
    "# Evaluate Generated data"
   ]
  },
  {
   "cell_type": "markdown",
   "metadata": {},
   "source": [
    "## 1.Top-k parameters"
   ]
  },
  {
   "cell_type": "code",
   "execution_count": null,
   "metadata": {},
   "outputs": [],
   "source": [
    "# KNN of parameters\n",
    "\n",
    "def knn(x, y, k=10, params='all', dist_type='mse'):\n",
    "    '''\n",
    "    :x: = sampling (1, N-dim)\n",
    "    :y: = train set (#samples, N-dim)\n",
    "    e.g. N-dim = 159 for deca, (3, H, W) for image\n",
    "    '''\n",
    "    print(x.shape, y.shape)\n",
    "    if 'all' in params:\n",
    "        x=x; y=y\n",
    "    else:\n",
    "        all_x = []; all_y = []\n",
    "        if 'shape' in params:\n",
    "            all_x.append(x[..., :100])\n",
    "            all_y.append(y[..., :100])\n",
    "        if 'pose' in params:\n",
    "            all_x.append(x[..., 100:106])\n",
    "            all_y.append(y[..., 100:106])\n",
    "        if 'exp' in params:\n",
    "            all_x.append(x[..., 106:156])\n",
    "            all_y.append(y[..., 106:156])\n",
    "        if 'cam' in params:\n",
    "            all_x.append(x[..., 156:])\n",
    "            all_y.append(y[..., 156:])\n",
    "\n",
    "        x = th.cat(all_x, dim=1)\n",
    "        y = th.cat(all_y, dim=1)\n",
    "\n",
    "    dist = distance(x=x, y=y, dist_type=dist_type)\n",
    "    _, idx = th.topk(input=dist, k=k, largest=False)\n",
    "\n",
    "    return idx\n",
    "\n",
    "\n",
    "def distance(x, y, dist_type='mse'):\n",
    "    '''\n",
    "    :x: = sampling (1, N-dim)\n",
    "    :y: = train set (#samples, N-dim)\n",
    "    e.g. N-dim = 159 for deca, (3, H, W) for image\n",
    "\n",
    "    return \n",
    "    :dist: (#samples,)\n",
    "    \n",
    "    '''\n",
    "    if dist_type == 'mse':\n",
    "        dist = th.mean((x - y)**2, dim=1)\n",
    "\n",
    "    elif dist_type == 'mae':\n",
    "        dist = th.mean(th.abs(x - y), dim=1)\n",
    "\n",
    "    else: raise NotImplementedError\n",
    "    \n",
    "    return dist\n",
    "\n",
    "deca_sample = sample['deca_output']\n",
    "# deca_sample = denormalize(deca_sample, min_val=th.tensor(min_val).cuda(), max_val=th.tensor(max_val).cuda(), a=-args.bound, b=args.bound).float()\n",
    "deca_load_params = all_params\n",
    "deca_load_params, _, _ = normalize(deca_load_params, a=-args.bound, b=args.bound)\n",
    "deca_load_params = th.tensor(deca_load_params).cuda()\n",
    "# deca_load_params = denormalize(deca_load_params, min_val=th.tensor(min_val).cuda(), max_val=th.tensor(max_val).cuda(), a=-args.bound, b=args.bound).float()\n",
    "\n",
    "t_idx = 5\n",
    "idx = knn(x=deca_sample[[t_idx]], y=deca_load_params, params=['pose'], dist_type='mae', k=15)\n",
    "top_load = deca_load_params[idx.flatten()]\n",
    "\n",
    "img_ = []\n",
    "p = denormalize(deca_sample[t_idx].clone().cpu().numpy(), min_val=min_val, max_val=max_val, a=-args.bound, b=args.bound)\n",
    "p = th.tensor(p, dtype=th.float).cuda()\n",
    "shape = p[None, :100]\n",
    "pose = p[None, 100:106]\n",
    "exp = p[None, 106:156]\n",
    "cam = p[None, 156:]\n",
    "img = params_to_model(shape=shape, exp=exp, pose=pose, cam=cam, i=i)\n",
    "img_.append(img[\"shape_images\"])\n",
    "from tqdm.auto import tqdm\n",
    "for i in tqdm(range(top_load.shape[0])):\n",
    "    p = top_load[i].clone().cpu().numpy()\n",
    "    p = denormalize(p, min_val=min_val, max_val=max_val, a=-args.bound, b=args.bound)\n",
    "    p = th.tensor(p, dtype=th.float).cuda()\n",
    "    shape = p[None, :100]\n",
    "    pose = p[None, 100:106]\n",
    "    exp = p[None, 106:156]\n",
    "    cam = p[None, 156:]\n",
    "    img = params_to_model(shape=shape, exp=exp, pose=pose, cam=cam, i=i)\n",
    "    img_.append(img[\"shape_images\"])\n",
    "\n",
    "plot_sample(th.cat(img_, dim=0))"
   ]
  },
  {
   "cell_type": "markdown",
   "metadata": {},
   "source": [
    "## 2.FID-Score"
   ]
  },
  {
   "cell_type": "code",
   "execution_count": null,
   "metadata": {},
   "outputs": [],
   "source": [
    "all_params"
   ]
  },
  {
   "cell_type": "markdown",
   "metadata": {},
   "source": [
    "# Analysis of Face params"
   ]
  },
  {
   "cell_type": "code",
   "execution_count": null,
   "metadata": {},
   "outputs": [],
   "source": [
    "img_dataset_path = '/data/mint/ffhq_256_with_anno/ffhq_256/train/'\n",
    "img_name_list = [str(n) + '.jpg' for n in list(np.random.randint(0, 60000, 10))]\n",
    "\n",
    "render_img_list = []\n",
    "src_img_list = []\n",
    "img_list = []\n",
    "for img_name in img_name_list:\n",
    "    shape = th.tensor(params_s[img_name]['shape'][None, :]).float().cuda()\n",
    "    pose = th.tensor(params_s[img_name]['pose'][None, :]).float().cuda()\n",
    "    exp = th.tensor(params_s[img_name]['exp'][None, :]).float().cuda()\n",
    "    cam = th.tensor(params_s[img_name]['cam'][None, :]).float().cuda()\n",
    "\n",
    "    src_img = PIL.Image.open(img_dataset_path + img_name)\n",
    "    src_img = (th.tensor(np.transpose(src_img, (2, 0, 1)))[None, :] / 127.5) - 1\n",
    "    src_img_list.append(src_img)\n",
    "\n",
    "    render_img = params_to_model(shape=shape, exp=exp, pose=pose, cam=cam, i=img_name)\n",
    "    render_img_list.append(render_img[\"shape_images\"])\n",
    "\n",
    "src_img = th.cat(src_img_list, dim=0)\n",
    "render_img = th.cat(render_img_list, dim=0)\n",
    "plot_sample(img=src_img, render_img=render_img)"
   ]
  },
  {
   "cell_type": "code",
   "execution_count": null,
   "metadata": {},
   "outputs": [],
   "source": [
    "def simple_analyse(params, key, sample_params=None):\n",
    "    '''\n",
    "    :params: tensor in shape BxD\n",
    "    '''\n",
    "    fig = plt.figure(figsize=(5, 5), dpi=100)\n",
    "    plt.bar(x=np.arange(params.shape[-1]), height=np.max(params, axis=0)-np.min(params, axis=0), bottom=np.min(params, axis=0), color=(0, 0, 1, 0.25), label=\"Train set\")\n",
    "\n",
    "\n",
    "    if sample is not None:\n",
    "        plt.bar(x=np.arange(sample_params.shape[-1]), height=np.max(sample_params, axis=0)-np.min(sample_params, axis=0), bottom=np.min(sample_params, axis=0), color=(1, 0, 0, 0.5), label=\"Sampling\")\n",
    "\n",
    "    plt.legend()\n",
    "    fig.show()\n",
    "\n",
    "import plotly.figure_factory as ff\n",
    "\n",
    "# def dist_analyse(params, key, sample_params=None):\n",
    "#     group_labels = [f'comp-{i}' for i in range(params.shape[-1])]\n",
    "#     hist_data_params = [params[:, i] for i in range(params.shape[-1])]\n",
    "#     fig = ff.create_distplot(hist_data_params, group_labels, show_rug=False)\n",
    "#     fig.write_html(f\"./{key}-dist.html\")\n",
    "\n",
    "sample_params = {'shape':[], 'pose':[], 'exp':[], 'cam':[]}\n",
    "for i in range(sample[\"deca_output\"].shape[0]):\n",
    "    deca_params = sample[\"deca_output\"][i].clone()\n",
    "    deca_params = denormalize(deca_params, min_val=th.tensor(min_val).cuda(), max_val=th.tensor(max_val).cuda(), a=-args.bound, b=args.bound).float()\n",
    "    shape = deca_params[None, :100].cpu().numpy()\n",
    "    pose = deca_params[None, 100:106].cpu().numpy()\n",
    "    exp = deca_params[None, 106:156].cpu().numpy()\n",
    "    cam = deca_params[None, 156:].cpu().numpy()\n",
    "    sample_params['shape'].append(shape)\n",
    "    sample_params['pose'].append(pose)\n",
    "    sample_params['exp'].append(exp)\n",
    "    sample_params['cam'].append(cam)\n",
    "\n",
    "for k in sample_params.keys():\n",
    "    sample_params[k] = np.concatenate(sample_params[k], axis=0)\n",
    "\n",
    "params_list = ['shape', 'pose', 'exp', 'cam']\n",
    "# params_list = ['cam']\n",
    "for each_p in params_list:\n",
    "    p = np.concatenate([params_s[k][each_p][None, :] for k in params_s.keys()], axis=0)\n",
    "    simple_analyse(params=p, key=each_p, sample_params=sample_params[each_p])\n",
    "    # dist_analyse(params=p, key=each_p, sample_params=sample_params[each_p])"
   ]
  }
 ],
 "metadata": {
  "interpreter": {
   "hash": "36cf16204b8548560b1c020c4e8fb5b57f0e4c58016f52f2d4be01e192833930"
  },
  "kernelspec": {
   "display_name": "Python 3.9.6 64-bit",
   "language": "python",
   "name": "python3"
  },
  "language_info": {
   "codemirror_mode": {
    "name": "ipython",
    "version": 3
   },
   "file_extension": ".py",
   "mimetype": "text/x-python",
   "name": "python",
   "nbconvert_exporter": "python",
   "pygments_lexer": "ipython3",
   "version": "3.8.12"
  },
  "orig_nbformat": 4
 },
 "nbformat": 4,
 "nbformat_minor": 2
}
