{
 "cells": [
  {
   "cell_type": "code",
   "execution_count": 1,
   "metadata": {},
   "outputs": [],
   "source": [
    "import os, sys, glob\n",
    "\n",
    "import argparse\n",
    "parser = argparse.ArgumentParser()\n",
    "# Dataset\n",
    "parser.add_argument('--set', type=str, default='valid')\n",
    "# Model/Config\n",
    "parser.add_argument('--step', type=str, default='050000')\n",
    "parser.add_argument('--ckpt_selector', type=str, default='ema')\n",
    "parser.add_argument('--cfg_name', type=str, default=None)\n",
    "parser.add_argument('--log_dir', type=str, default=None)\n",
    "# Interpolation\n",
    "parser.add_argument('--interpolate', nargs='+', default=None)\n",
    "parser.add_argument('--interpolate_step', type=int, default=15)\n",
    "parser.add_argument('--interpolate_noise', action='store_true', default=False)\n",
    "parser.add_argument('--lerp', action='store_true', default=False)\n",
    "parser.add_argument('--slerp', action='store_true', default=False)\n",
    "parser.add_argument('--uncond_sampling', action='store_true', default=False)\n",
    "parser.add_argument('--uncond_sampling_iters', type=int, default=1)\n",
    "parser.add_argument('--reverse_sampling', action='store_true', default=False)\n",
    "parser.add_argument('--separate_reverse_sampling', action='store_true', default=False)\n",
    "# Samples selection\n",
    "parser.add_argument('--n_subject', type=int, default=-1)\n",
    "parser.add_argument('--sample_pair_json', type=str, default=None)\n",
    "parser.add_argument('--sample_pair_mode', type=str, default=None)\n",
    "parser.add_argument('--src_dst', nargs='+', default=[])\n",
    "# Pertubation the image condition\n",
    "parser.add_argument('--perturb_img_cond', action='store_true', default=False)\n",
    "parser.add_argument('--perturb_mode', type=str, default='zero')\n",
    "parser.add_argument('--perturb_where', nargs='+', default=[])\n",
    "\n",
    "# Rendering\n",
    "parser.add_argument('--render_mode', type=str, default=\"shape\")\n",
    "parser.add_argument('--rotate_normals', action='store_true', default=False)\n",
    "# Diffusion\n",
    "parser.add_argument('--diffusion_steps', type=int, default=1000)\n",
    "parser.add_argument('--denoised_clamp', type=float, default=None)\n",
    "# Misc.\n",
    "parser.add_argument('--seed', type=int, default=23)\n",
    "parser.add_argument('--gpu_id', type=str, default=\"0\")\n",
    "parser.add_argument('--save_intermediate', action='store_true', default=False)\n",
    "parser.add_argument('--postfix', type=str, default='')\n",
    "parser.add_argument('--ovr_img', type=str, default=None)\n",
    "parser.add_argument('--ovr_mod', action='store_true', default=False)\n",
    "parser.add_argument('--norm_img', action='store_true', default=False)\n",
    "parser.add_argument('--use_global_norm', action='store_true', default=False)\n",
    "parser.add_argument('--norm_space', type=str, default='rgb')\n",
    "\n",
    "args = parser.parse_args(args=[])\n",
    "\n",
    "import os, sys, glob\n",
    "os.environ[\"CUDA_DEVICE_ORDER\"]=\"PCI_BUS_ID\"   # see issue #152\n",
    "os.environ[\"CUDA_VISIBLE_DEVICES\"] = \"0\"\n",
    "\n",
    "import numpy as np\n",
    "import pandas as pd\n",
    "import matplotlib.pyplot as plt\n",
    "import torch as th\n",
    "import PIL, cv2\n",
    "import json\n",
    "import copy\n",
    "import time\n",
    "import torchvision\n",
    "import pytorch_lightning as pl\n",
    "sys.path.insert(0, '../../../')\n",
    "from guided_diffusion.script_util import (\n",
    "    seed_all,\n",
    ")\n",
    "\n",
    "import torch\n",
    "import numpy as np\n",
    "import matplotlib.pyplot as plt\n",
    "\n",
    "import torchvision.transforms.functional as F\n",
    "\n",
    "\n",
    "plt.rcParams[\"savefig.bbox\"] = 'tight'\n",
    "def show(imgs):\n",
    "    if not isinstance(imgs, list):\n",
    "        imgs = [imgs]\n",
    "    fig, axs = plt.subplots(ncols=len(imgs), squeeze=False)\n",
    "    for i, img in enumerate(imgs):\n",
    "        img = img.detach()\n",
    "        img = F.to_pil_image(img)\n",
    "        axs[0, i].imshow(np.asarray(img))\n",
    "        axs[0, i].set(xticklabels=[], yticklabels=[], xticks=[], yticks=[])\n",
    "\n",
    "from guided_diffusion.dataloader.img_deca_datasets import load_data_img_deca\n",
    "\n",
    "# Sample utils\n",
    "sys.path.insert(0, '../../')\n",
    "from sample_utils import (\n",
    "    ckpt_utils, \n",
    "    params_utils, \n",
    "    vis_utils, \n",
    "    file_utils, \n",
    "    inference_utils, \n",
    "    mani_utils,\n",
    ")\n",
    "device = 'cuda' if th.cuda.is_available() and th._C._cuda_getDeviceCount() > 0 else 'cpu'\n",
    "\n"
   ]
  },
  {
   "cell_type": "code",
   "execution_count": 2,
   "metadata": {},
   "outputs": [
    {
     "name": "stdout",
     "output_type": "stream",
     "text": [
      "[#] Model Path : \n",
      "#0 : /data/mint/model_logs_mount/v10/original_dpm/\n",
      "[#] Config Path :  ['/home/mint/guided-diffusion/config/CVPRs/Original_DPM/original_dpm.yaml']\n",
      "Merging with :  Namespace(cfg='/home/mint/guided-diffusion/config/CVPRs/Original_DPM/original_dpm.yaml')\n",
      "\n",
      "[#] Sampling with diffusion_steps = 1000\n",
      "[#] Available ckpt :  ['_000000.pt', '_010000.pt', '_020000.pt', '_030000.pt', '_040000.pt', '_050000.pt', '_060000.pt', '_070000.pt', '_080000.pt', '_090000.pt', '_100000.pt', '_110000.pt', '_120000.pt', '_130000.pt', '_140000.pt', '_150000.pt', '_160000.pt', '_170000.pt', '_180000.pt', '_190000.pt', '_200000.pt', '_210000.pt', '_220000.pt', '_230000.pt', '_240000.pt']\n",
      "[#] Loading.../data/mint/model_logs_mount/v10/original_dpm//ImgCond_ema_0.9999_050000.pt\n"
     ]
    },
    {
     "name": "stderr",
     "output_type": "stream",
     "text": [
      "Loading deca params...: 100%|██████████████████████████████████████████████████████████████████████████████████████████████████████████████| 10/10 [00:05<00:00,  1.79it/s]\n"
     ]
    },
    {
     "name": "stdout",
     "output_type": "stream",
     "text": [
      "[#] Bounding the input of UNet to +-1.0\n",
      "[#] Parameters Conditioning\n",
      "Params keys order :  []\n",
      "Remove keys :  []\n",
      "Image condition :  ['raw']\n",
      "DPM Image condition :  [None]\n"
     ]
    }
   ],
   "source": [
    "seed_all(47)\n",
    "\n",
    "################ SETTINGS ################\n",
    "args.cfg_name = \"original_dpm.yaml\"\n",
    "args.log_dir = \"original_dpm\"\n",
    "args.step = '050000'\n",
    "args.ckpt_selector = 'ema'\n",
    "args.set = 'valid'\n",
    "args.sample_pair_json = './sample_json/ipynb_samples.json'\n",
    "args.sample_pair_mode = 'pair'\n",
    "\n",
    "# Load Ckpt\n",
    "if args.cfg_name is None:\n",
    "    args.cfg_name = args.log_dir + '.yaml'\n",
    "ckpt_loader = ckpt_utils.CkptLoader(log_dir=args.log_dir, cfg_name=args.cfg_name)\n",
    "cfg = ckpt_loader.cfg\n",
    "\n",
    "print(f\"[#] Sampling with diffusion_steps = {args.diffusion_steps}\")\n",
    "cfg.diffusion.diffusion_steps = args.diffusion_steps\n",
    "model_dict, diffusion = ckpt_loader.load_model(ckpt_selector=args.ckpt_selector, step=args.step)\n",
    "model_dict = inference_utils.eval_mode(model_dict)\n",
    "\n",
    "# Load dataset\n",
    "if args.set == 'itw':\n",
    "    img_dataset_path = \"../../itw_images/aligned/\"\n",
    "    deca_dataset_path = None\n",
    "elif args.set == 'train' or args.set == 'valid':\n",
    "    img_dataset_path = f\"/data/mint/DPM_Dataset/ffhq_256_with_anno/ffhq_256/\"\n",
    "    deca_dataset_path = f\"/data/mint/DPM_Dataset/ffhq_256_with_anno/params/\"\n",
    "else: raise NotImplementedError\n",
    "\n",
    "loader, dataset, avg_dict = load_data_img_deca(\n",
    "    data_dir=img_dataset_path,\n",
    "    deca_dir=deca_dataset_path,\n",
    "    batch_size=int(1e7),\n",
    "    image_size=cfg.img_model.image_size,\n",
    "    deterministic=cfg.train.deterministic,\n",
    "    augment_mode=cfg.img_model.augment_mode,\n",
    "    resize_mode=cfg.img_model.resize_mode,\n",
    "    in_image_UNet=cfg.img_model.in_image,\n",
    "    params_selector=cfg.param_model.params_selector,\n",
    "    rmv_params=cfg.param_model.rmv_params,\n",
    "    set_=args.set,\n",
    "    cfg=cfg,\n",
    "    mode='sampling'\n",
    ")\n"
   ]
  },
  {
   "cell_type": "code",
   "execution_count": 3,
   "metadata": {},
   "outputs": [],
   "source": [
    "data_size = dataset.__len__()\n",
    "img_path = file_utils._list_image_files_recursively(f\"{img_dataset_path}/{args.set}\")\n",
    "\n",
    "# DECA Rendering\n",
    "# if np.any(['deca_masked' in n for n in list(filter(None, dataset.condition_image))]):\n",
    "#     mask = params_utils.load_flame_mask()\n",
    "# else: \n",
    "#     mask=None\n",
    "# deca_obj = params_utils.init_deca(mask=mask)\n",
    "\n",
    "denoised_fn = None\n",
    "pl_sampling = inference_utils.PLSampling(model_dict=model_dict, \n",
    "                                            diffusion=diffusion, \n",
    "                                            reverse_fn=diffusion.ddim_reverse_sample_loop, \n",
    "                                            forward_fn=diffusion.ddim_sample_loop,\n",
    "                                            denoised_fn=denoised_fn,\n",
    "                                            cfg=cfg,\n",
    "                                            args=args)"
   ]
  },
  {
   "cell_type": "code",
   "execution_count": 91,
   "metadata": {},
   "outputs": [],
   "source": [
    "def rgb_to_gray(img):\n",
    "    out = (img[:, 0:1] * 0.2989) + (img[:, 1:2] * 0.5870) + (img[:, 2:3] * 0.1140)\n",
    "    return out\n",
    "\n",
    "def load_from_file(path): # range is -1 to 1 too!\n",
    "    return torchvision.transforms.ToTensor()(PIL.Image.open(path)) * 2 - 1"
   ]
  },
  {
   "cell_type": "code",
   "execution_count": 117,
   "metadata": {},
   "outputs": [],
   "source": [
    "def inversion(dat, norm_img, model_kwargs, norm_space='gray'):\n",
    "    #global temp\n",
    "    '''\n",
    "    :param dat: images in B x C x H x W\n",
    "    '''\n",
    "    model_kwargs['use_cond_xt_fn'] = False\n",
    "    model_kwargs['dpm_cond_img'] = None \n",
    "    cond = copy.deepcopy(model_kwargs)\n",
    "    \n",
    "    #temp = dat\n",
    "    \n",
    "#    return None\n",
    "    if norm_img:\n",
    "        print(f\"[#] Normalize image in {norm_space}...\")\n",
    "       \n",
    "        gray = rgb_to_gray(dat)\n",
    "        sd, mu = th.std_mean(gray)\n",
    "        mu_d, sd_d = 114.49997340551313, 58.050383371049826\n",
    "        mu_d = (mu_d / 127.5) - 1\n",
    "        sd_d = (sd_d / 127.5)\n",
    "        \n",
    "        img = (dat - mu) / sd\n",
    "        img = (img * sd_d) + mu_d\n",
    "        \n",
    "        #img = dat + 0.2\n",
    "        img = th.clip(img, -1, 1)\n",
    "        #show([(img[0] + 1) * 0.5, (dat[0] + 1) * 0.5])\n",
    "        #return None\n",
    "    else:\n",
    "        img = dat\n",
    "\n",
    "     \n",
    "    # Reverse   \n",
    "    reverse_ddim_sample = pl_sampling.reverse_proc(x=img, model_kwargs=cond, store_intermediate=False)\n",
    "    noise_map = reverse_ddim_sample['final_output']['sample']\n",
    "    # Forward   \n",
    "    sample_ddim = pl_sampling.forward_proc(noise=noise_map, model_kwargs=cond, store_intermediate=False)\n",
    "    \n",
    "    out = sample_ddim['final_output']['sample']\n",
    "    if norm_img:\n",
    "        print(\"[#] DeNormalize image...\")\n",
    "\n",
    "        out = (out - mu_d) / sd_d\n",
    "        out = (out * sd) + mu\n",
    "        \n",
    "    sample_frames = (out + 1) * 0.5\n",
    "    \n",
    "    return sample_frames"
   ]
  },
  {
   "cell_type": "markdown",
   "metadata": {},
   "source": [
    "# [#] Sampling is here"
   ]
  },
  {
   "cell_type": "code",
   "execution_count": 73,
   "metadata": {},
   "outputs": [
    {
     "name": "stdout",
     "output_type": "stream",
     "text": [
      "[#] Normalize image in gray...\n"
     ]
    },
    {
     "data": {
      "application/vnd.jupyter.widget-view+json": {
       "model_id": "5b6f9eaa1abc4c01a978fba8ede64e61",
       "version_major": 2,
       "version_minor": 0
      },
      "text/plain": [
       "  0%|          | 0/1000 [00:00<?, ?it/s]"
      ]
     },
     "metadata": {},
     "output_type": "display_data"
    },
    {
     "data": {
      "application/vnd.jupyter.widget-view+json": {
       "model_id": "5dfcf1dd0bcf4f92bcbef733cc3004d0",
       "version_major": 2,
       "version_minor": 0
      },
      "text/plain": [
       "  0%|          | 0/1000 [00:00<?, ?it/s]"
      ]
     },
     "metadata": {},
     "output_type": "display_data"
    },
    {
     "name": "stdout",
     "output_type": "stream",
     "text": [
      "[#] DeNormalize image...\n"
     ]
    }
   ],
   "source": [
    "all_img_idx, all_img_name, args.n_subject = mani_utils.get_samples_list(args.sample_pair_json, \n",
    "                                                                        args.sample_pair_mode, \n",
    "                                                                        args.src_dst, img_path, \n",
    "                                                                        args.n_subject)\n",
    "\n",
    "idx = 0 # Sample index related to json order\n",
    "img_idx = all_img_idx[idx]\n",
    "img_name = all_img_name[idx]\n",
    "\n",
    "dat = th.utils.data.Subset(dataset, indices=img_idx)\n",
    "subset_loader = th.utils.data.DataLoader(dat, batch_size=2,\n",
    "                                    shuffle=False, num_workers=1)\n",
    "                            \n",
    "dat, model_kwargs = list(iter(subset_loader))[0]/data/mint/DPM_Dataset/ffhq_256_with_anno/ffhq_256/valid\n",
    "#show(torchvision.utils.make_grid((dat[[0]] + 1) * 127.5/255.0))\n",
    "out = inversion(dat=dat, norm_img=True, model_kwargs=model_kwargs)"
   ]
  },
  {
   "cell_type": "code",
   "execution_count": 172,
   "metadata": {},
   "outputs": [
    {
     "name": "stdout",
     "output_type": "stream",
     "text": [
      "torch.Size([1, 3, 128, 128])\n"
     ]
    },
    {
     "data": {
      "image/png": "[encoded data removed]",
      "text/plain": [
       "<PIL.Image.Image image mode=RGB size=128x128 at 0x7FF800281340>"
      ]
     },
     "execution_count": 172,
     "metadata": {},
     "output_type": "execute_result"
    }
   ],
   "source": [
    "print(out.shape) \n",
    "torchvision.transforms.ToPILImage()(torchvision.utils.make_grid(th.clip(out, 0, 1)))\n",
    "#torchvision.transforms.ToPILImage()(torchvision.utils.make_grid(th.clip((imgs + 1) * 0.5, 0, 1)))"
   ]
  },
  {
   "cell_type": "code",
   "execution_count": 173,
   "metadata": {},
   "outputs": [
    {
     "data": {
      "image/png": "[encoded data removed]",
      "text/plain": [
       "<PIL.Image.Image image mode=RGB size=128x128 at 0x7FF8002817C0>"
      ]
     },
     "execution_count": 173,
     "metadata": {},
     "output_type": "execute_result"
    }
   ],
   "source": [
    "mask = PIL.Image.open(\"/data/mint/DPM_Dataset/ffhq_256_with_anno/face_segment/valid/anno/anno_60059.png\")\n",
    "img = PIL.Image.open(\"/data/mint/DPM_Dataset/ffhq_256_with_anno/ffhq_256/valid/60059.jpg\")\n",
    "\n",
    "mask = torchvision.transforms.ToTensor()(mask)\n",
    "img = torchvision.transforms.ToTensor()(img) * 2 - 1\n",
    "\n",
    "\n",
    "img = img * (mask != 0) + (th.randn_like(img) * 0 + 1) * (mask == 0)\n",
    "img = torchvision.transforms.Resize((128, 128))(img)\n",
    "\n",
    "\n",
    "torchvision.transforms.ToPILImage()((img + 1) * 0.5)\n",
    "#out = inversion(dat=img[None], norm_img=False, model_kwargs=model_kwargs)"
   ]
  },
  {
   "cell_type": "code",
   "execution_count": 87,
   "metadata": {},
   "outputs": [
    {
     "data": {
      "application/vnd.jupyter.widget-view+json": {
       "model_id": "e537e88126774d508fd76f05c7a0dab2",
       "version_major": 2,
       "version_minor": 0
      },
      "text/plain": [
       "  0%|          | 0/1000 [00:00<?, ?it/s]"
      ]
     },
     "metadata": {},
     "output_type": "display_data"
    },
    {
     "data": {
      "application/vnd.jupyter.widget-view+json": {
       "model_id": "6c5ba0994901471b8d33410a491fb304",
       "version_major": 2,
       "version_minor": 0
      },
      "text/plain": [
       "  0%|          | 0/1000 [00:00<?, ?it/s]"
      ]
     },
     "metadata": {},
     "output_type": "display_data"
    }
   ],
   "source": [
    "timg = load_from_file(\"/data/supasorn/relight/tmpimg.jpg\")[None]\n",
    "out = inversion(dat=timg, norm_img=False, model_kwargs=model_kwargs)"
   ]
  },
  {
   "cell_type": "code",
   "execution_count": 121,
   "metadata": {},
   "outputs": [
    {
     "data": {
      "application/vnd.jupyter.widget-view+json": {
       "model_id": "aaac9777f92b420c8cfcfb837c7de5c6",
       "version_major": 2,
       "version_minor": 0
      },
      "text/plain": [
       "  0%|          | 0/1000 [00:00<?, ?it/s]"
      ]
     },
     "metadata": {},
     "output_type": "display_data"
    },
    {
     "data": {
      "application/vnd.jupyter.widget-view+json": {
       "model_id": "2ace02e99f7f42dc9ac57f12cfdb59da",
       "version_major": 2,
       "version_minor": 0
      },
      "text/plain": [
       "  0%|          | 0/1000 [00:00<?, ?it/s]"
      ]
     },
     "metadata": {},
     "output_type": "display_data"
    }
   ],
   "source": [
    "imgs = [load_from_file(f\"/data/supasorn/relight/b{x}.jpg\") for x in range(5)]\n",
    "imgs = th.stack(imgs, 0)\n",
    "#print(imgs.shape)\n",
    "#show((torchvision.utils.make_grid(imgs) + 1) * 0.5)\n",
    "#print(imgs[0].shape)\n",
    "#show((timg[0] + 1) * 0.5 )\n",
    "out = inversion(imgs, norm_img=False, model_kwargs=model_kwargs)"
   ]
  }
 ],
 "metadata": {
  "kernelspec": {
   "display_name": "Python 3 (ipykernel)",
   "language": "python",
   "name": "python3"
  },
  "language_info": {
   "codemirror_mode": {
    "name": "ipython",
    "version": 3
   },
   "file_extension": ".py",
   "mimetype": "text/x-python",
   "name": "python",
   "nbconvert_exporter": "python",
   "pygments_lexer": "ipython3",
   "version": "3.8.12"
  },
  "vscode": {
   "interpreter": {
    "hash": "e726457752a9f31dd08e885b4d7ad782b9d2db89819f0ec82c996add1b497d76"
   }
  }
 },
 "nbformat": 4,
 "nbformat_minor": 2
}
