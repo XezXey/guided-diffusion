{
 "cells": [
  {
   "cell_type": "code",
   "execution_count": 2,
   "metadata": {},
   "outputs": [],
   "source": [
    "import json, glob, os\n",
    "import pandas as pd\n",
    "\n",
    "model = \"log=Masked_Face_woclip+BgNoHead+shadow_cfg=Masked_Face_woclip+BgNoHead+shadow.yaml\"\n",
    "eval_file = glob.glob(f'/data/mint/robustness_for_evaluation/{model}/scores/*.json')\n",
    "pdict = {'shape':{}, 'pose':{}, 'exp':{}, 'cam':{}}\n",
    "for ef in eval_file:\n",
    "    p, lvl = ef.split('/')[-1].split('128_')[-1].split('_validset')[0].split('_')\n",
    "    # print(p, lvl)\n",
    "    with open(ef, 'r') as f:\n",
    "        score = json.load(f)\n",
    "    pdict[p].update({float(lvl): score['eval_score']})\n",
    "\n",
    "nns = {'mse':{'mean':0.007652629632502794, 'sd':0.0072924005798995495},\n",
    "       'lpips':{'mean':0.07889879494905472, 'sd':0.03286045417189598},\n",
    "       'dssim':{'mean':0.670, 'sd':0.0276},\n",
    "       'ssim':{'mean':0, 'sd':0},\n",
    "       }\n",
    "\n",
    "score_dict = {}\n",
    "for score in ['mse', 'lpips', 'dssim', 'ssim']:\n",
    "    score_dict[score] = {}\n",
    "    for param in pdict.keys():\n",
    "        score_dict[score]['noise_lvl'] = [0]\n",
    "        score_dict[score][f'{param}_mean'] = [nns[score]['mean']]\n",
    "        score_dict[score][f'{param}_sd'] = [nns[score]['sd']]\n",
    "        # print(f\"### PARAMS : {param} ###\")\n",
    "        for n_lvl in sorted(pdict[param].keys()):\n",
    "            mean, sd = pdict[param][n_lvl][score].split('+-')\n",
    "            score_dict[score]['noise_lvl'].append(n_lvl)\n",
    "            score_dict[score][f'{param}_mean'].append('{0:.7f}'.format(float(mean)))\n",
    "            score_dict[score][f'{param}_sd'].append('{0:.7f}'.format(float(sd)))\n",
    "\n",
    "    # create a excel writer object\n",
    "    score_dict[score] = pd.DataFrame(score_dict[score]).T\n",
    "\n",
    "# print(score_dict)\n",
    "with pd.ExcelWriter(\"./probust_score.xlsx\") as writer:\n",
    "    for score in ['mse', 'lpips', 'dssim', 'ssim']:\n",
    "        score_dict[score].to_excel(writer, sheet_name=score, header=False)\n",
    "        "
   ]
  },
  {
   "attachments": {},
   "cell_type": "markdown",
   "metadata": {},
   "source": [
    "# Generate in Latex"
   ]
  },
  {
   "cell_type": "code",
   "execution_count": null,
   "metadata": {},
   "outputs": [],
   "source": []
  },
  {
   "cell_type": "code",
   "execution_count": 37,
   "metadata": {},
   "outputs": [
    {
     "name": "stdout",
     "output_type": "stream",
     "text": [
      "  noise_lvl shape_mean   shape_sd  pose_mean    pose_sd   exp_mean     exp_sd  \\\n",
      "0       0.0   0.007653   0.007292   0.007653   0.007292   0.007653   0.007292   \n",
      "1       0.1  0.0076608  0.0073002  0.0083348  0.0074366  0.0076572  0.0072881   \n",
      "2       0.5  0.0077378  0.0073319  0.0176599  0.0161407  0.0077692  0.0073126   \n",
      "3       1.0  0.0080143  0.0074582  0.0275486  0.0236689  0.0081109  0.0074605   \n",
      "4       1.5  0.0085261  0.0078265  0.0335364  0.0286158  0.0086875  0.0078697   \n",
      "5       2.0  0.0091948  0.0083332  0.0383574  0.0327778  0.0093576  0.0083964   \n",
      "6       3.0  0.0108936  0.0096016  0.0419042  0.0343622  0.0106156  0.0092804   \n",
      "7       5.0  0.0141744  0.0117883  0.0471219  0.0387570  0.0131764  0.0111162   \n",
      "\n",
      "    cam_mean     cam_sd  \n",
      "0   0.007653   0.007292  \n",
      "1  0.0080560  0.0074413  \n",
      "2  0.0160041  0.0147199  \n",
      "3  0.0292976  0.0263397  \n",
      "4  0.0383345  0.0331841  \n",
      "5  0.0445977  0.0374268  \n",
      "6  0.0515525  0.0419022  \n",
      "7  0.0544075  0.0424934  \n",
      "Shape & ${0.0077} \\pm{0.008} & ${0.0077} \\pm{0.008} & ${0.0077} \\pm{0.008} & ${0.0080} \\pm{0.008} & ${0.0085} \\pm{0.009} & ${0.0092} \\pm{0.009} & ${0.0109} \\pm{0.011} & ${0.0142} \\pm{0.014} \\\\\n",
      "Pose & ${0.0077} \\pm{0.008} & ${0.0083} \\pm{0.008} & ${0.0177} \\pm{0.018} & ${0.0275} \\pm{0.028} & ${0.0335} \\pm{0.034} & ${0.0384} \\pm{0.038} & ${0.0419} \\pm{0.042} & ${0.0471} \\pm{0.047} \\\\\n",
      "Exp & ${0.0077} \\pm{0.008} & ${0.0077} \\pm{0.008} & ${0.0078} \\pm{0.008} & ${0.0081} \\pm{0.008} & ${0.0087} \\pm{0.009} & ${0.0094} \\pm{0.009} & ${0.0106} \\pm{0.011} & ${0.0132} \\pm{0.013} \\\\\n",
      "Cam & ${0.0077} \\pm{0.008} & ${0.0081} \\pm{0.008} & ${0.0160} \\pm{0.016} & ${0.0293} \\pm{0.029} & ${0.0383} \\pm{0.038} & ${0.0446} \\pm{0.045} & ${0.0516} \\pm{0.052} & ${0.0544} \\pm{0.054} \\\\\n"
     ]
    }
   ],
   "source": [
    "def gen_latex(df):\n",
    "    df = df.T\n",
    "    print(df)\n",
    "    for p in ['shape', 'pose', 'exp', 'cam']:\n",
    "        txt = f\"{p[0].upper()}\" + p[1:]\n",
    "        for row in range(len(df.index)):\n",
    "            mu = df[f'{p}_mean'].iloc[row]\n",
    "            sd = df[f'{p}_sd'].iloc[row]\n",
    "            txt += \" & ${{{0:.4f}}} \\pm{{{0:.3f}}}\".format(float(mu), float(sd))\n",
    "        txt += \" \\\\\\\\\"\n",
    "        print(txt)\n",
    "        \n",
    "    \n",
    "gen_latex(score_dict['mse'])\n",
    "gen_latex(score_dict['lpips'])\n",
    "\n",
    "# \"Shape & $1.02\\pm{0.03}$ & $1.03\\pm{0.04} $ & $1.05\\pm{0.04}$ & $1.09\\pm{0.38} $  & $1.15\\pm{0.39}$ & $1.20\\pm{0.42}$ & $0.53\\pm{0.02}$ & $0.64\\pm{0.02}$ \\\\\""
   ]
  },
  {
   "cell_type": "code",
   "execution_count": 52,
   "metadata": {},
   "outputs": [
    {
     "name": "stdout",
     "output_type": "stream",
     "text": [
      "  noise_lvl shape_mean   shape_sd  pose_mean    pose_sd   exp_mean     exp_sd  \\\n",
      "0       0.0   0.007653   0.007292   0.007653   0.007292   0.007653   0.007292   \n",
      "1       0.1  0.0076608  0.0073002  0.0083348  0.0074366  0.0076572  0.0072881   \n",
      "2       0.5  0.0077378  0.0073319  0.0176599  0.0161407  0.0077692  0.0073126   \n",
      "3       1.0  0.0080143  0.0074582  0.0275486  0.0236689  0.0081109  0.0074605   \n",
      "4       1.5  0.0085261  0.0078265  0.0335364  0.0286158  0.0086875  0.0078697   \n",
      "5       2.0  0.0091948  0.0083332  0.0383574  0.0327778  0.0093576  0.0083964   \n",
      "6       3.0  0.0108936  0.0096016  0.0419042  0.0343622  0.0106156  0.0092804   \n",
      "7       5.0  0.0141744  0.0117883  0.0471219  0.0387570  0.0131764  0.0111162   \n",
      "\n",
      "    cam_mean     cam_sd  \n",
      "0   0.007653   0.007292  \n",
      "1  0.0080560  0.0074413  \n",
      "2  0.0160041  0.0147199  \n",
      "3  0.0292976  0.0263397  \n",
      "4  0.0383345  0.0331841  \n",
      "5  0.0445977  0.0374268  \n",
      "6  0.0515525  0.0419022  \n",
      "7  0.0544075  0.0424934  \n"
     ]
    },
    {
     "ename": "KeyError",
     "evalue": "'noise_lvl'",
     "output_type": "error",
     "traceback": [
      "\u001b[0;31m---------------------------------------------------------------------------\u001b[0m",
      "\u001b[0;31mKeyError\u001b[0m                                  Traceback (most recent call last)",
      "\u001b[0;32m/tmp/ipykernel_82719/191319302.py\u001b[0m in \u001b[0;36m<module>\u001b[0;34m\u001b[0m\n\u001b[1;32m      3\u001b[0m \u001b[0;32mimport\u001b[0m \u001b[0mplotly\u001b[0m\u001b[0;34m.\u001b[0m\u001b[0mgraph_objects\u001b[0m \u001b[0;32mas\u001b[0m \u001b[0mgo\u001b[0m\u001b[0;34m\u001b[0m\u001b[0;34m\u001b[0m\u001b[0m\n\u001b[1;32m      4\u001b[0m \u001b[0;32mimport\u001b[0m \u001b[0mnumpy\u001b[0m \u001b[0;32mas\u001b[0m \u001b[0mnp\u001b[0m\u001b[0;34m\u001b[0m\u001b[0;34m\u001b[0m\u001b[0m\n\u001b[0;32m----> 5\u001b[0;31m \u001b[0mfig\u001b[0m \u001b[0;34m=\u001b[0m \u001b[0mgo\u001b[0m\u001b[0;34m.\u001b[0m\u001b[0mFigure\u001b[0m\u001b[0;34m(\u001b[0m\u001b[0mdata\u001b[0m\u001b[0;34m=\u001b[0m\u001b[0mgo\u001b[0m\u001b[0;34m.\u001b[0m\u001b[0mScatter\u001b[0m\u001b[0;34m(\u001b[0m\u001b[0mx\u001b[0m\u001b[0;34m=\u001b[0m\u001b[0mscore_dict\u001b[0m\u001b[0;34m[\u001b[0m\u001b[0;34m'mse'\u001b[0m\u001b[0;34m]\u001b[0m\u001b[0;34m[\u001b[0m\u001b[0;34m'noise_lvl'\u001b[0m\u001b[0;34m]\u001b[0m\u001b[0;34m.\u001b[0m\u001b[0mvalues\u001b[0m\u001b[0;34m,\u001b[0m \u001b[0my\u001b[0m\u001b[0;34m=\u001b[0m\u001b[0mscore_dict\u001b[0m\u001b[0;34m[\u001b[0m\u001b[0;34m'mse'\u001b[0m\u001b[0;34m]\u001b[0m\u001b[0;34m[\u001b[0m\u001b[0;34m'shape_mean'\u001b[0m\u001b[0;34m]\u001b[0m\u001b[0;34m.\u001b[0m\u001b[0mvalues\u001b[0m\u001b[0;34m,\u001b[0m \u001b[0mmode\u001b[0m\u001b[0;34m=\u001b[0m\u001b[0;34m'markers'\u001b[0m\u001b[0;34m)\u001b[0m\u001b[0;34m)\u001b[0m\u001b[0;34m\u001b[0m\u001b[0;34m\u001b[0m\u001b[0m\n\u001b[0m\u001b[1;32m      6\u001b[0m \u001b[0mfig\u001b[0m\u001b[0;34m.\u001b[0m\u001b[0mshow\u001b[0m\u001b[0;34m(\u001b[0m\u001b[0;34m)\u001b[0m\u001b[0;34m\u001b[0m\u001b[0;34m\u001b[0m\u001b[0m\n",
      "\u001b[0;32m~/miniconda3/envs/dpm_evaluator/lib/python3.8/site-packages/pandas/core/frame.py\u001b[0m in \u001b[0;36m__getitem__\u001b[0;34m(self, key)\u001b[0m\n\u001b[1;32m   3456\u001b[0m             \u001b[0;32mif\u001b[0m \u001b[0mself\u001b[0m\u001b[0;34m.\u001b[0m\u001b[0mcolumns\u001b[0m\u001b[0;34m.\u001b[0m\u001b[0mnlevels\u001b[0m \u001b[0;34m>\u001b[0m \u001b[0;36m1\u001b[0m\u001b[0;34m:\u001b[0m\u001b[0;34m\u001b[0m\u001b[0;34m\u001b[0m\u001b[0m\n\u001b[1;32m   3457\u001b[0m                 \u001b[0;32mreturn\u001b[0m \u001b[0mself\u001b[0m\u001b[0;34m.\u001b[0m\u001b[0m_getitem_multilevel\u001b[0m\u001b[0;34m(\u001b[0m\u001b[0mkey\u001b[0m\u001b[0;34m)\u001b[0m\u001b[0;34m\u001b[0m\u001b[0;34m\u001b[0m\u001b[0m\n\u001b[0;32m-> 3458\u001b[0;31m             \u001b[0mindexer\u001b[0m \u001b[0;34m=\u001b[0m \u001b[0mself\u001b[0m\u001b[0;34m.\u001b[0m\u001b[0mcolumns\u001b[0m\u001b[0;34m.\u001b[0m\u001b[0mget_loc\u001b[0m\u001b[0;34m(\u001b[0m\u001b[0mkey\u001b[0m\u001b[0;34m)\u001b[0m\u001b[0;34m\u001b[0m\u001b[0;34m\u001b[0m\u001b[0m\n\u001b[0m\u001b[1;32m   3459\u001b[0m             \u001b[0;32mif\u001b[0m \u001b[0mis_integer\u001b[0m\u001b[0;34m(\u001b[0m\u001b[0mindexer\u001b[0m\u001b[0;34m)\u001b[0m\u001b[0;34m:\u001b[0m\u001b[0;34m\u001b[0m\u001b[0;34m\u001b[0m\u001b[0m\n\u001b[1;32m   3460\u001b[0m                 \u001b[0mindexer\u001b[0m \u001b[0;34m=\u001b[0m \u001b[0;34m[\u001b[0m\u001b[0mindexer\u001b[0m\u001b[0;34m]\u001b[0m\u001b[0;34m\u001b[0m\u001b[0;34m\u001b[0m\u001b[0m\n",
      "\u001b[0;32m~/miniconda3/envs/dpm_evaluator/lib/python3.8/site-packages/pandas/core/indexes/range.py\u001b[0m in \u001b[0;36mget_loc\u001b[0;34m(self, key, method, tolerance)\u001b[0m\n\u001b[1;32m    386\u001b[0m                 \u001b[0;32mexcept\u001b[0m \u001b[0mValueError\u001b[0m \u001b[0;32mas\u001b[0m \u001b[0merr\u001b[0m\u001b[0;34m:\u001b[0m\u001b[0;34m\u001b[0m\u001b[0;34m\u001b[0m\u001b[0m\n\u001b[1;32m    387\u001b[0m                     \u001b[0;32mraise\u001b[0m \u001b[0mKeyError\u001b[0m\u001b[0;34m(\u001b[0m\u001b[0mkey\u001b[0m\u001b[0;34m)\u001b[0m \u001b[0;32mfrom\u001b[0m \u001b[0merr\u001b[0m\u001b[0;34m\u001b[0m\u001b[0;34m\u001b[0m\u001b[0m\n\u001b[0;32m--> 388\u001b[0;31m             \u001b[0;32mraise\u001b[0m \u001b[0mKeyError\u001b[0m\u001b[0;34m(\u001b[0m\u001b[0mkey\u001b[0m\u001b[0;34m)\u001b[0m\u001b[0;34m\u001b[0m\u001b[0;34m\u001b[0m\u001b[0m\n\u001b[0m\u001b[1;32m    389\u001b[0m         \u001b[0;32mreturn\u001b[0m \u001b[0msuper\u001b[0m\u001b[0;34m(\u001b[0m\u001b[0;34m)\u001b[0m\u001b[0;34m.\u001b[0m\u001b[0mget_loc\u001b[0m\u001b[0;34m(\u001b[0m\u001b[0mkey\u001b[0m\u001b[0;34m,\u001b[0m \u001b[0mmethod\u001b[0m\u001b[0;34m=\u001b[0m\u001b[0mmethod\u001b[0m\u001b[0;34m,\u001b[0m \u001b[0mtolerance\u001b[0m\u001b[0;34m=\u001b[0m\u001b[0mtolerance\u001b[0m\u001b[0;34m)\u001b[0m\u001b[0;34m\u001b[0m\u001b[0;34m\u001b[0m\u001b[0m\n\u001b[1;32m    390\u001b[0m \u001b[0;34m\u001b[0m\u001b[0m\n",
      "\u001b[0;31mKeyError\u001b[0m: 'noise_lvl'"
     ]
    }
   ],
   "source": [
    "print(score_dict['mse'].T)\n",
    "\n",
    "import plotly.graph_objects as go\n",
    "import numpy as np\n",
    "fig = go.Figure(data=go.Scatter(x=score_dict['mse']['noise_lvl'].values, y=score_dict['mse']['shape_mean'].values, mode='markers'))\n",
    "fig.show()"
   ]
  }
 ],
 "metadata": {
  "kernelspec": {
   "display_name": "3dr_conda_training",
   "language": "python",
   "name": "python3"
  },
  "language_info": {
   "codemirror_mode": {
    "name": "ipython",
    "version": 3
   },
   "file_extension": ".py",
   "mimetype": "text/x-python",
   "name": "python",
   "nbconvert_exporter": "python",
   "pygments_lexer": "ipython3",
   "version": "3.8.12"
  },
  "orig_nbformat": 4
 },
 "nbformat": 4,
 "nbformat_minor": 2
}
