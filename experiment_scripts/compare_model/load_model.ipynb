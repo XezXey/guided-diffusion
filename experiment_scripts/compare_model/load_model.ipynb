{
 "cells": [
  {
   "cell_type": "code",
   "execution_count": 10,
   "metadata": {},
   "outputs": [],
   "source": [
    "# from __future__ import print_function \n",
    "import argparse\n",
    "import os, sys, glob\n",
    "\n",
    "os.environ[\"CUDA_DEVICE_ORDER\"]=\"PCI_BUS_ID\"   # see issue #152\n",
    "os.environ[\"CUDA_VISIBLE_DEVICES\"]=\"1\"\n",
    "\n",
    "import numpy as np\n",
    "import pandas as pd\n",
    "import matplotlib.pyplot as plt\n",
    "import torch as th\n",
    "import PIL\n",
    "import copy\n",
    "import pytorch_lightning as pl\n",
    "sys.path.insert(0, '../../')\n",
    "from guided_diffusion.script_util import (\n",
    "    seed_all,\n",
    "    compare_models, \n",
    "    dump_model_params\n",
    ")\n",
    "import importlib\n",
    "\n",
    "# Sample utils\n",
    "sys.path.insert(0, '../../sample_scripts/')\n",
    "from sample_utils import (\n",
    "    ckpt_utils, \n",
    "    params_utils, \n",
    "    vis_utils, \n",
    "    file_utils, \n",
    "    img_utils, \n",
    "    inference_utils, \n",
    "    mani_utils,\n",
    "    attr_mani,\n",
    ")"
   ]
  },
  {
   "cell_type": "code",
   "execution_count": 7,
   "metadata": {},
   "outputs": [
    {
     "name": "stdout",
     "output_type": "stream",
     "text": [
      "[#] Model Path :  ['/data/mint/model_logs_mount/v12/UNetCond_Spatial_Hadamart_Tanh_Shape/']\n",
      "[#] Config Path :  ['/home/mint/guided-diffusion/config/EncLight_Spatial_Rendered_Face_Hadamart_clip/UNetCond_Spatial_Hadamart_Tanh_Shape.yaml']\n",
      "Merging with :  Namespace(cfg='/home/mint/guided-diffusion/config/EncLight_Spatial_Rendered_Face_Hadamart_clip/UNetCond_Spatial_Hadamart_Tanh_Shape.yaml')\n",
      "\n",
      "[#] Available ckpt :  ['_000000.pt', '_000000.pt', '_050000.pt', '_050000.pt', '_100000.pt', '_100000.pt', '_150000.pt', '_150000.pt', '_200000.pt', '_200000.pt', '_250000.pt', '_250000.pt', '_300000.pt', '_300000.pt', '_350000.pt', '_350000.pt', '_400000.pt', '_400000.pt', '_450000.pt', '_450000.pt', '_500000.pt', '_500000.pt']\n",
      "[#] Use Hadamart-Tanh\n",
      "[#] Loading.../data/mint/model_logs_mount/v12/UNetCond_Spatial_Hadamart_Tanh_Shape//ImgCond_ema_0.9999_200000.pt\n",
      "[#] Loading.../data/mint/model_logs_mount/v12/UNetCond_Spatial_Hadamart_Tanh_Shape//ImgEncoder_ema_0.9999_200000.pt\n"
     ]
    }
   ],
   "source": [
    "# Define loading settings \n",
    "# cfg_name = \"all_reduce_mult_SharedConv_EncLight_shaded1_adaptivenonzero.yaml\"\n",
    "# log_dir = \"all_reduce_mult_SharedConv_EncLight_shaded1_adaptivenonzero\"\n",
    "cfg_name = \"UNetCond_Spatial_Hadamart_Tanh_Shape.yaml\"\n",
    "log_dir = \"UNetCond_Spatial_Hadamart_Tanh_Shape\"\n",
    "set_ = \"valid\"\n",
    "seed = 47\n",
    "seed_all(seed)\n",
    "\n",
    "# Checkpoint loader\n",
    "step = \"200000\"\n",
    "ckpt_selector = \"ema\"\n",
    "ckpt_loader = ckpt_utils.CkptLoader(log_dir=log_dir, cfg_name=cfg_name)\n",
    "cfg = ckpt_loader.cfg\n",
    "model_dict, diffusion = ckpt_loader.load_model(ckpt_selector=ckpt_selector, step=step)\n",
    "\n"
   ]
  },
  {
   "cell_type": "code",
   "execution_count": 16,
   "metadata": {},
   "outputs": [],
   "source": [
    "dump_model_params(model_dict['ImgCond'].cpu(), 'ImgCond_ema_loadckpt_from_sampling.txt')\n",
    "dump_model_params(model_dict['ImgEncoder'].cpu(), 'ImgEncoder_ema_loadckpt_from_sampling.txt')"
   ]
  }
 ],
 "metadata": {
  "kernelspec": {
   "display_name": "Python 3.8.12 ('3dr_conda_training')",
   "language": "python",
   "name": "python3"
  },
  "language_info": {
   "codemirror_mode": {
    "name": "ipython",
    "version": 3
   },
   "file_extension": ".py",
   "mimetype": "text/x-python",
   "name": "python",
   "nbconvert_exporter": "python",
   "pygments_lexer": "ipython3",
   "version": "3.8.12"
  },
  "orig_nbformat": 4,
  "vscode": {
   "interpreter": {
    "hash": "fafb62d5f4613a7545cb0370bd44fb628c825b23cfd04fe5f82e7c51a33fbd5e"
   }
  }
 },
 "nbformat": 4,
 "nbformat_minor": 2
}
