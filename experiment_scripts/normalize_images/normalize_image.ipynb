{
 "cells": [
  {
   "cell_type": "code",
   "execution_count": 1,
   "metadata": {},
   "outputs": [],
   "source": [
    "import sys\n",
    "sys.path.insert(0, '/home/mint/Relighting_preprocessing/Relighting_preprocessing_tools/DECA/decalib')\n",
    "from datasets.datasets import TestData_Array"
   ]
  },
  {
   "cell_type": "code",
   "execution_count": 2,
   "metadata": {},
   "outputs": [],
   "source": [
    "import numpy as np\n",
    "import blobfile as bf\n",
    "import PIL\n",
    "import matplotlib.pyplot as plt\n",
    "import tqdm\n",
    "\n",
    "def _list_image_files_recursively(data_dir):\n",
    "    results = []\n",
    "    for entry in sorted(bf.listdir(data_dir)):\n",
    "        full_path = bf.join(data_dir, entry)\n",
    "        ext = entry.split(\".\")[-1]\n",
    "        if \".\" in entry and ext.lower() in [\"jpg\", \"jpeg\", \"png\", \"gif\", \"npy\"]:\n",
    "            results.append(full_path)\n",
    "        elif bf.isdir(full_path):\n",
    "            results.extend(_list_image_files_recursively(full_path))\n",
    "    return results\n",
    "\n",
    "def load_image(path):\n",
    "    with bf.BlobFile(path, \"rb\") as f:\n",
    "        pil_image = PIL.Image.open(f)\n",
    "        pil_image.load()\n",
    "    pil_image = pil_image.convert(\"RGB\")\n",
    "    return pil_image\n",
    "\n",
    "def resize_arr(pil_image, image_size):\n",
    "    img = pil_image.resize((image_size, image_size), PIL.Image.ANTIALIAS)\n",
    "    return img\n",
    "\n",
    "def rgb_to_gray(img):\n",
    "    out = (img[..., [0]] * 0.2989) + (img[..., [1]] * 0.5870) + (img[..., [2]] * 0.1140)\n",
    "    return out\n",
    "\n",
    "\n"
   ]
  },
  {
   "cell_type": "code",
   "execution_count": 31,
   "metadata": {},
   "outputs": [
    {
     "name": "stderr",
     "output_type": "stream",
     "text": [
      "100%|██████████| 60000/60000 [08:13<00:00, 121.68it/s]\n"
     ]
    }
   ],
   "source": [
    "set_ = 'train'\n",
    "img_path = _list_image_files_recursively(f'/data/mint/DPM_Dataset/ffhq_256_with_anno/ffhq_256/{set_}/')\n",
    "img = np.array(load_image(img_path[0]))\n",
    "fo_rgb = open(f\"./ffhq-{set_}-norm-rgb-anno.txt\", \"w\")\n",
    "fo_gray = open(f\"./ffhq-{set_}-norm-gray-anno.txt\", \"w\")\n",
    "\n",
    "for i in tqdm.tqdm(range(len(img_path))):\n",
    "    name = img_path[i].split('/')[-1]\n",
    "    img = np.array(load_image(img_path[i]))\n",
    "    img_gray = rgb_to_gray(img)\n",
    "    \n",
    "    mu_rgb, std_rgb = np.mean(img), np.std(img)\n",
    "    mu_gray, std_gray = np.mean(img_gray), np.std(img_gray)\n",
    "    fo_rgb.write(name + \" \")\n",
    "    fo_rgb.write(\" \".join([str(x) for x in [mu_rgb, std_rgb]]) + \"\\n\")\n",
    "    \n",
    "    fo_gray.write(name + \" \")\n",
    "    fo_gray.write(\" \".join([str(x) for x in [mu_gray, std_gray]]) + \"\\n\")\n",
    "\n",
    "fo_rgb.close()\n",
    "fo_gray.close()"
   ]
  },
  {
   "cell_type": "code",
   "execution_count": 4,
   "metadata": {},
   "outputs": [
    {
     "name": "stdout",
     "output_type": "stream",
     "text": [
      "2.278922221909528 0\n"
     ]
    }
   ],
   "source": [
    "set_ = 'train'\n",
    "img_path = _list_image_files_recursively(f'/data/mint/DPM_Dataset/ffhq_256_with_anno/ffhq_256/{set_}/')\n",
    "img = np.array(load_image(img_path[0]))\n",
    "img_gray = rgb_to_gray(img)\n",
    "\n",
    "test_dat = TestData_Array(test_dat={img_path[0].split('/')[-1] : img})\n",
    "\n",
    "mu_rgb, std_rgb = np.mean(img), np.std(img)\n",
    "print(np.max((img - mu_rgb)/std_rgb), np.min(img))"
   ]
  },
  {
   "cell_type": "code",
   "execution_count": 36,
   "metadata": {},
   "outputs": [
    {
     "data": {
      "text/plain": [
       "dict_values([3, 5])"
      ]
     },
     "execution_count": 36,
     "metadata": {},
     "output_type": "execute_result"
    }
   ],
   "source": [
    "TestData_Array(test_dat={img_path[0].split('/')[-1]} : img)"
   ]
  }
 ],
 "metadata": {
  "kernelspec": {
   "display_name": "Python 3.8.12 ('dpm_sampling_deca')",
   "language": "python",
   "name": "python3"
  },
  "language_info": {
   "codemirror_mode": {
    "name": "ipython",
    "version": 3
   },
   "file_extension": ".py",
   "mimetype": "text/x-python",
   "name": "python",
   "nbconvert_exporter": "python",
   "pygments_lexer": "ipython3",
   "version": "3.8.12"
  },
  "orig_nbformat": 4,
  "vscode": {
   "interpreter": {
    "hash": "e726457752a9f31dd08e885b4d7ad782b9d2db89819f0ec82c996add1b497d76"
   }
  }
 },
 "nbformat": 4,
 "nbformat_minor": 2
}
