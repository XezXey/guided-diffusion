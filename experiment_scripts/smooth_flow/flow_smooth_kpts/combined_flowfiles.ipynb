{
 "cells": [
  {
   "cell_type": "code",
   "execution_count": 6,
   "metadata": {},
   "outputs": [
    {
     "name": "stderr",
     "output_type": "stream",
     "text": [
      "100%|██████████| 30/30 [00:00<00:00, 339.98it/s]"
     ]
    },
    {
     "name": "stdout",
     "output_type": "stream",
     "text": [
      "141\n"
     ]
    },
    {
     "name": "stderr",
     "output_type": "stream",
     "text": [
      "\n"
     ]
    }
   ],
   "source": [
    "import numpy as np\n",
    "import glob\n",
    "import tqdm\n",
    "\n",
    "name = 'joker_2'\n",
    "alpha = 0.012\n",
    "ratio = 0.75\n",
    "minWidth = 20.0\n",
    "flows_files = glob.glob(f'/data/mint/OptFlows/{name}/{alpha}alpha_{ratio}ratio_{minWidth}minWidth/all/*.npy')\n",
    "flows_dict = {}\n",
    "for f in tqdm.tqdm(flows_files):\n",
    "    flow = np.load(f, allow_pickle=True).item()\n",
    "    # print(flow.keys())\n",
    "    flows_dict.update(flow)\n",
    "    \n",
    "print(len(flows_dict.keys()))"
   ]
  }
 ],
 "metadata": {
  "kernelspec": {
   "display_name": "dpm_sampling_deca",
   "language": "python",
   "name": "python3"
  },
  "language_info": {
   "codemirror_mode": {
    "name": "ipython",
    "version": 3
   },
   "file_extension": ".py",
   "mimetype": "text/x-python",
   "name": "python",
   "nbconvert_exporter": "python",
   "pygments_lexer": "ipython3",
   "version": "3.8.12"
  },
  "orig_nbformat": 4
 },
 "nbformat": 4,
 "nbformat_minor": 2
}
