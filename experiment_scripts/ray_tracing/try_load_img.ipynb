{
 "cells": [
  {
   "cell_type": "code",
   "execution_count": 9,
   "metadata": {},
   "outputs": [
    {
     "name": "stdout",
     "output_type": "stream",
     "text": [
      "[[[0 0 0]\n",
      "  [0 0 0]\n",
      "  [0 0 0]\n",
      "  ...\n",
      "  [0 0 0]\n",
      "  [0 0 0]\n",
      "  [0 0 0]]\n",
      "\n",
      " [[0 0 0]\n",
      "  [0 0 0]\n",
      "  [0 0 0]\n",
      "  ...\n",
      "  [0 0 0]\n",
      "  [0 0 0]\n",
      "  [0 0 0]]\n",
      "\n",
      " [[0 0 0]\n",
      "  [0 0 0]\n",
      "  [0 0 0]\n",
      "  ...\n",
      "  [0 0 0]\n",
      "  [0 0 0]\n",
      "  [0 0 0]]\n",
      "\n",
      " ...\n",
      "\n",
      " [[0 0 0]\n",
      "  [0 0 0]\n",
      "  [0 0 0]\n",
      "  ...\n",
      "  [0 0 0]\n",
      "  [0 0 0]\n",
      "  [0 0 0]]\n",
      "\n",
      " [[0 0 0]\n",
      "  [0 0 0]\n",
      "  [0 0 0]\n",
      "  ...\n",
      "  [0 0 0]\n",
      "  [0 0 0]\n",
      "  [0 0 0]]\n",
      "\n",
      " [[0 0 0]\n",
      "  [0 0 0]\n",
      "  [0 0 0]\n",
      "  ...\n",
      "  [0 0 0]\n",
      "  [0 0 0]\n",
      "  [0 0 0]]]\n",
      "True\n",
      "True\n",
      "(256, 256, 3)\n",
      "0\n",
      "255\n"
     ]
    }
   ],
   "source": [
    "import numpy as np\n",
    "import blobfile as bf\n",
    "from PIL import Image\n",
    "\n",
    "path = './output/train/0.jpg.png'\n",
    "with bf.BlobFile(path, \"rb\") as f:\n",
    "    pil_image = Image.open(f)\n",
    "    pil_image.load()\n",
    "pil_image = np.array(pil_image.convert(\"RGB\"))\n",
    "print(pil_image)\n",
    "print(np.allclose(pil_image[..., [0]], pil_image[..., [1]]))\n",
    "print(np.allclose(pil_image[..., [1]], pil_image[..., [2]]))\n",
    "print(pil_image.shape)\n",
    "print(np.min(pil_image))\n",
    "print(np.max(pil_image))"
   ]
  },
  {
   "cell_type": "code",
   "execution_count": 15,
   "metadata": {},
   "outputs": [],
   "source": [
    "# import os\n",
    "# os.rename('./out.jpg.png', './out.png')\n",
    "import glob, os\n",
    "path = '/data/mint/DPM_Dataset/ffhq_256_with_anno/shadow_masks/train/'\n",
    "for f in glob.glob('/data/mint/DPM_Dataset/ffhq_256_with_anno/shadow_masks/train/*.png'):\n",
    "    name = f.split('/')[-1].split('.jpg')\n",
    "    name = ''.join(name)\n",
    "    new_f = path+name\n",
    "    os.rename(f, new_f)"
   ]
  },
  {
   "cell_type": "code",
   "execution_count": null,
   "metadata": {},
   "outputs": [],
   "source": [
    "# import os\n",
    "# os.rename('./out.jpg.png', './out.png')\n",
    "import glob, os\n",
    "path = '/data/mint/DPM_Dataset/ffhq_256_with_anno/shadow_masks/valid/'\n",
    "for f in glob.glob('/data/mint/DPM_Dataset/ffhq_256_with_anno/shadow_masks/valid/*.png'):\n",
    "    if '.jpg.png' not in f: assert False\n",
    "    name = f.split('/')[-1].split('.jpg')\n",
    "    name = ''.join(name)\n",
    "    new_f = path+name\n",
    "    os.rename(f, new_f)"
   ]
  }
 ],
 "metadata": {
  "kernelspec": {
   "display_name": "3dr_conda_training",
   "language": "python",
   "name": "python3"
  },
  "language_info": {
   "codemirror_mode": {
    "name": "ipython",
    "version": 3
   },
   "file_extension": ".py",
   "mimetype": "text/x-python",
   "name": "python",
   "nbconvert_exporter": "python",
   "pygments_lexer": "ipython3",
   "version": "3.8.12"
  },
  "orig_nbformat": 4,
  "vscode": {
   "interpreter": {
    "hash": "fafb62d5f4613a7545cb0370bd44fb628c825b23cfd04fe5f82e7c51a33fbd5e"
   }
  }
 },
 "nbformat": 4,
 "nbformat_minor": 2
}
