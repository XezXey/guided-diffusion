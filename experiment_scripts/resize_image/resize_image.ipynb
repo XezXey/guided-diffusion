{
 "cells": [
  {
   "cell_type": "code",
   "execution_count": 1,
   "metadata": {},
   "outputs": [],
   "source": [
    "import numpy as np\n",
    "import torch as th\n",
    "import torchvision\n",
    "import PIL\n",
    "import cv2\n",
    "import imageio\n",
    "import blobfile as bf\n",
    "import os\n",
    "import tqdm"
   ]
  },
  {
   "cell_type": "markdown",
   "metadata": {},
   "source": [
    "# Write Image"
   ]
  },
  {
   "cell_type": "code",
   "execution_count": 4,
   "metadata": {},
   "outputs": [],
   "source": [
    "def _list_image_files_recursively(data_dir):\n",
    "    results = []\n",
    "    for entry in sorted(bf.listdir(data_dir)):\n",
    "        full_path = bf.join(data_dir, entry)\n",
    "        ext = entry.split(\".\")[-1]\n",
    "        if \".\" in entry and ext.lower() in [\"jpg\", \"jpeg\", \"png\", \"gif\", \"npy\"] and not bf.isdir(full_path):\n",
    "            results.append(full_path)\n",
    "        elif bf.isdir(full_path):\n",
    "            results.extend(_list_image_files_recursively(full_path))\n",
    "    return results\n",
    "\n",
    "def load_image(path):\n",
    "    with bf.BlobFile(path, \"rb\") as f:\n",
    "        pil_image = PIL.Image.open(f)\n",
    "        pil_image.load()\n",
    "    pil_image = pil_image.convert(\"RGB\")\n",
    "    return pil_image\n",
    "\n",
    "def resize_arr(pil_image, image_size):\n",
    "    img = pil_image.resize((image_size, image_size), PIL.Image.ANTIALIAS)\n",
    "    return img"
   ]
  },
  {
   "cell_type": "markdown",
   "metadata": {},
   "source": [
    "# Load Image"
   ]
  },
  {
   "cell_type": "code",
   "execution_count": 19,
   "metadata": {},
   "outputs": [
    {
     "name": "stderr",
     "output_type": "stream",
     "text": [
      "100%|██████████| 600/600 [00:07<00:00, 83.46it/s] \n"
     ]
    }
   ],
   "source": [
    "# src_dir = '/data/mint/DPM_Dataset/ffhq_256_with_anno/ffhq_256/valid/'\n",
    "# dst_dir = '/data/mint/DPM_Dataset/ffhq_256_with_anno/ffhq_128_tv_png2/valid/'\n",
    "\n",
    "# src_dir = '/data/mint/DPM_Dataset/MultiPIE/MultiPIE_validset2/mp_aligned/valid/'\n",
    "# dst_dir = '/data/mint/DPM_Dataset/MultiPIE/MultiPIE_validset2/mp_aligned_128/valid/'\n",
    "\n",
    "\n",
    "# /data/mint/sampling/TPAMI/conditional_ablation/log=dpr_256_imgloss_cfg=dpr_256_imgloss/ema_200000/valid/render_face/src=001_02_01_051_14.png/dst=001_02_01_051_16.png/n_frames=2/res_frame0.png\n",
    "\n",
    "src_dir = \"/data/mint/sampling/TPAMI/conditional_ablation/log=dpr_256_imgloss_cfg=dpr_256_imgloss/ema_500000/\"\n",
    "dst_dir = \"/data/mint/sampling/TPAMI/conditional_ablation/log=dpr_128_imgloss_cfg=dpr_128_imgloss/ema_500000/\"\n",
    "os.makedirs(dst_dir, exist_ok=True)\n",
    "\n",
    "src_img_path = _list_image_files_recursively(src_dir)\n",
    "for p in tqdm.tqdm(src_img_path):\n",
    "    # Get the path after ema_200000\n",
    "    p_dst = '/'.join(p.split('ema_500000/')[-1].split('/')[:-1])\n",
    "    img_name = p.split('/')[-1].split('.')[0]\n",
    "    pil_img = load_image(p)\n",
    "    pil_img = pil_img.resize((128, 128), PIL.Image.ANTIALIAS)\n",
    "    np_img = np.array(pil_img).transpose((2, 0, 1))\n",
    "    os.makedirs(f'{dst_dir}/{p_dst}', exist_ok=True)\n",
    "    torchvision.utils.save_image(th.tensor(np_img/255.0), f'{dst_dir}/{p_dst}/{img_name}.png')\n",
    "    # pil_img.save(f'{dst_dir}/{img_name}.jpg')"
   ]
  }
 ],
 "metadata": {
  "kernelspec": {
   "display_name": "Python 3.8.12 ('dpm_sampling_deca')",
   "language": "python",
   "name": "python3"
  },
  "language_info": {
   "codemirror_mode": {
    "name": "ipython",
    "version": 3
   },
   "file_extension": ".py",
   "mimetype": "text/x-python",
   "name": "python",
   "nbconvert_exporter": "python",
   "pygments_lexer": "ipython3",
   "version": "3.8.12"
  },
  "orig_nbformat": 4,
  "vscode": {
   "interpreter": {
    "hash": "e726457752a9f31dd08e885b4d7ad782b9d2db89819f0ec82c996add1b497d76"
   }
  }
 },
 "nbformat": 4,
 "nbformat_minor": 2
}
