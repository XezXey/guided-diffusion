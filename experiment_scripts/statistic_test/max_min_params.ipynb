{
 "cells": [
  {
   "cell_type": "code",
   "execution_count": 1,
   "metadata": {},
   "outputs": [
    {
     "name": "stdout",
     "output_type": "stream",
     "text": [
      "Key=> shape : Filename=>/data/mint/DPM_Dataset/ffhq_256_with_anno/params//train/ffhq-train-shape-anno.txt\n",
      "Key=> pose : Filename=>/data/mint/DPM_Dataset/ffhq_256_with_anno/params//train/ffhq-train-pose-anno.txt\n",
      "Key=> exp : Filename=>/data/mint/DPM_Dataset/ffhq_256_with_anno/params//train/ffhq-train-exp-anno.txt\n",
      "Key=> cam : Filename=>/data/mint/DPM_Dataset/ffhq_256_with_anno/params//train/ffhq-train-cam-anno.txt\n",
      "Key=> shadow : Filename=>/data/mint/DPM_Dataset/ffhq_256_with_anno/params//train/ffhq-train-shadow-anno.txt\n"
     ]
    }
   ],
   "source": [
    "import numpy as np\n",
    "import pandas as pd\n",
    "from sample_scripts.sample_utils.params_utils import get_params_set\n",
    "\n",
    "def read_params(path):\n",
    "    params = pd.read_csv(path, header=None, sep=\" \", index_col=False, lineterminator='\\n')\n",
    "    params.rename(columns={0:'img_name'}, inplace=True)\n",
    "    params = params.set_index('img_name').T.to_dict('list')\n",
    "    return params\n",
    "\n",
    "key = ['shape', 'pose', 'exp', 'cam', 'shadow']\n",
    "deca_params = get_params_set(set='train', params_key=key, path=\"/data/mint/DPM_Dataset/ffhq_256_with_anno/params/\")"
   ]
  },
  {
   "cell_type": "code",
   "execution_count": 4,
   "metadata": {},
   "outputs": [
    {
     "name": "stdout",
     "output_type": "stream",
     "text": [
      "[#] shape\n",
      "shape :  (60000, 100)\n",
      "[#] pose\n",
      "shape :  (60000, 6)\n",
      "[#] exp\n",
      "shape :  (60000, 50)\n",
      "[#] cam\n",
      "shape :  (60000, 3)\n",
      "[#] shadow\n",
      "shape :  (60000, 1)\n"
     ]
    }
   ],
   "source": [
    "import json\n",
    "deca_arr = {}\n",
    "stat_deca = {}\n",
    "for k in key:\n",
    "    print(\"[#] \" + k)\n",
    "    deca_arr[k] = []\n",
    "    stat_deca[k] = {}\n",
    "    deca_arr[k] = [deca_params[img][k] for img in deca_params.keys()]\n",
    "    deca_arr[k] = np.stack(deca_arr[k], axis=0)\n",
    "    print(\"shape : \", deca_arr[k].shape)\n",
    "    # print(\"mu : \", np.mean(deca_arr[k], axis=0).shape)\n",
    "    # print(\"sd : \", np.std(deca_arr[k], axis=0).shape)\n",
    "    stat_deca[k]['mean'] = np.mean(deca_arr[k], axis=0).tolist()\n",
    "    stat_deca[k]['sd'] = np.std(deca_arr[k], axis=0).tolist()\n",
    "    stat_deca[k]['max'] = np.max(deca_arr[k], axis=0).tolist()\n",
    "    stat_deca[k]['min'] = np.min(deca_arr[k], axis=0).tolist()\n",
    "\n",
    "with open('./stat_ffhq_training_deca.json', 'w') as f:\n",
    "    json.dump(stat_deca, f, indent=4)\n",
    "\n",
    "    "
   ]
  },
  {
   "cell_type": "code",
   "execution_count": 5,
   "metadata": {},
   "outputs": [
    {
     "data": {
      "text/plain": [
       "{'mean': [10.299139356458273, 0.002888210340097551, 0.03880202566147009],\n",
       " 'sd': [0.3131739899512428, 0.020009785049933764, 0.017008235914244496],\n",
       " 'max': [16.469763, 0.1408251, 0.11372319],\n",
       " 'min': [8.180062, -0.11316536, -0.023710202]}"
      ]
     },
     "execution_count": 5,
     "metadata": {},
     "output_type": "execute_result"
    }
   ],
   "source": [
    "with open('./stat_ffhq_training_deca.json', 'r') as f:\n",
    "    out = json.load(f)\n",
    "out['cam']"
   ]
  }
 ],
 "metadata": {
  "kernelspec": {
   "display_name": "dpm_sampling_deca",
   "language": "python",
   "name": "python3"
  },
  "language_info": {
   "codemirror_mode": {
    "name": "ipython",
    "version": 3
   },
   "file_extension": ".py",
   "mimetype": "text/x-python",
   "name": "python",
   "nbconvert_exporter": "python",
   "pygments_lexer": "ipython3",
   "version": "3.8.12"
  },
  "orig_nbformat": 4,
  "vscode": {
   "interpreter": {
    "hash": "e726457752a9f31dd08e885b4d7ad782b9d2db89819f0ec82c996add1b497d76"
   }
  }
 },
 "nbformat": 4,
 "nbformat_minor": 2
}
