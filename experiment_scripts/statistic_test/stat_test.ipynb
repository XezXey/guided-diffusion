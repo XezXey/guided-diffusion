{
 "cells": [
  {
   "cell_type": "code",
   "execution_count": 25,
   "metadata": {},
   "outputs": [
    {
     "name": "stdout",
     "output_type": "stream",
     "text": [
      "Ttest_indResult(statistic=-8.033281728779778, pvalue=2.6620288643043905e-15)\n"
     ]
    }
   ],
   "source": [
    "from scipy import stats\n",
    "rvs1 = stats.norm.rvs(loc = 5,scale = 10,size = 500)\n",
    "rvs2 = stats.norm.rvs(loc = 10,scale = 10,size = 500)\n",
    "print(stats.ttest_ind(rvs1,rvs2))\n",
    "import json\n",
    "import numpy as np\n",
    "\n"
   ]
  },
  {
   "cell_type": "code",
   "execution_count": 38,
   "metadata": {},
   "outputs": [
    {
     "name": "stdout",
     "output_type": "stream",
     "text": [
      "[#] Stat-test : \n",
      "[#] Stat-test : \n",
      "[#] MSE :  Ttest_indResult(statistic=-2.200902550785687, pvalue=0.028898949565329464)\n",
      "[#] LPIPS :  Ttest_indResult(statistic=1.438645169705911, pvalue=0.1518299101840785)\n",
      "[#] DSSIM :  Ttest_indResult(statistic=0.5022157891958309, pvalue=0.6160737907567813)\n"
     ]
    }
   ],
   "source": [
    "# Load the eval_score\n",
    "def extract_score_array(score_dict, n=None):\n",
    "    max_n = score_dict['eval_score']['n_samples']\n",
    "    if n is None or n > max_n:\n",
    "        n = int(max_n)\n",
    "    mse = []\n",
    "    lpips = []\n",
    "    dssim = []\n",
    "    for i, img_name in enumerate(score_dict['each_image'].keys()):\n",
    "        mse.append(float(score_dict['each_image'][img_name]['mse']))\n",
    "        lpips.append(float(score_dict['each_image'][img_name]['lpips']))\n",
    "        dssim.append(float(score_dict['each_image'][img_name]['dssim']))\n",
    "        \n",
    "        if i == n-1: break\n",
    "    assert len(mse) == n\n",
    "    assert len(lpips) == n\n",
    "    assert len(dssim) == n\n",
    "    \n",
    "    return mse, lpips, dssim\n",
    "       \n",
    "    \n",
    "# with open('/data/mint/paper_evaluations/MP/pred/GeoConFR_Hou22/eval_score.json', 'r') as fp:\n",
    "with open('/data/mint/paper_evaluations/MP/pred/Ours/ours_128_Masked_Face_woclip+BgNoHead+shadow+arcface/ema_050000/out/eval_score_validset_n100.json', 'r') as fp:\n",
    "    pred_1 = json.load(fp=fp)\n",
    "    \n",
    "with open('/data/mint/paper_evaluations/MP/pred/Ours/ours_128_Masked_Face_woclip+BgNoHead+shadow/ema_050000/out/eval_score_validset_n100.json', 'r') as fp:\n",
    "    pred_2 = json.load(fp=fp)\n",
    "    \n",
    "print(\"[#] Stat-test : \")\n",
    "mse_1, lpips_1, dssim_1 = extract_score_array(pred_1)   \n",
    "mse_2, lpips_2, dssim_2 = extract_score_array(pred_2)\n",
    "print(\"[#] Stat-test : \")\n",
    "\n",
    "\n",
    "print(\"[#] MSE : \", stats.ttest_ind(mse_1, mse_2))\n",
    "print(\"[#] LPIPS : \", stats.ttest_ind(lpips_1, lpips_2))\n",
    "print(\"[#] DSSIM : \", stats.ttest_ind(dssim_1, dssim_2))\n",
    "# print(np.array(dssim_1)-np.array(dssim_2))\n"
   ]
  }
 ],
 "metadata": {
  "kernelspec": {
   "display_name": "Python 3.8.12 ('dpm_sampling_deca')",
   "language": "python",
   "name": "python3"
  },
  "language_info": {
   "codemirror_mode": {
    "name": "ipython",
    "version": 3
   },
   "file_extension": ".py",
   "mimetype": "text/x-python",
   "name": "python",
   "nbconvert_exporter": "python",
   "pygments_lexer": "ipython3",
   "version": "3.8.12"
  },
  "orig_nbformat": 4,
  "vscode": {
   "interpreter": {
    "hash": "e726457752a9f31dd08e885b4d7ad782b9d2db89819f0ec82c996add1b497d76"
   }
  }
 },
 "nbformat": 4,
 "nbformat_minor": 2
}
