{
 "cells": [
  {
   "cell_type": "code",
   "execution_count": 25,
   "metadata": {},
   "outputs": [
    {
     "name": "stdout",
     "output_type": "stream",
     "text": [
      "Ttest_indResult(statistic=-8.033281728779778, pvalue=2.6620288643043905e-15)\n"
     ]
    }
   ],
   "source": [
    "from scipy import stats\n",
    "rvs1 = stats.norm.rvs(loc = 5,scale = 10,size = 500)\n",
    "rvs2 = stats.norm.rvs(loc = 10,scale = 10,size = 500)\n",
    "print(stats.ttest_ind(rvs1,rvs2))\n",
    "import json\n",
    "import numpy as np\n",
    "\n"
   ]
  },
  {
   "cell_type": "code",
   "execution_count": 40,
   "metadata": {},
   "outputs": [
    {
     "name": "stdout",
     "output_type": "stream",
     "text": [
      "[#] Stat-test : \n",
      "[#] Stat-test : \n",
      "[#] MSE :  Ttest_indResult(statistic=-2.488701037276761, pvalue=0.013228977921074202)\n",
      "[#] LPIPS :  Ttest_indResult(statistic=1.593949104311001, pvalue=0.11174122571466671)\n",
      "[#] DSSIM :  Ttest_indResult(statistic=0.5148355728333595, pvalue=0.6069537154249971)\n"
     ]
    }
   ],
   "source": [
    "# Load the eval_score\n",
    "def extract_score_array(score_dict, n=None):\n",
    "    max_n = score_dict['eval_score']['n_samples']\n",
    "    if n is None or n > max_n:\n",
    "        n = int(max_n)\n",
    "    mse = []\n",
    "    lpips = []\n",
    "    dssim = []\n",
    "    for i, img_name in enumerate(score_dict['each_image'].keys()):\n",
    "        mse.append(float(score_dict['each_image'][img_name]['mse']))\n",
    "        lpips.append(float(score_dict['each_image'][img_name]['lpips']))\n",
    "        dssim.append(float(score_dict['each_image'][img_name]['dssim']))\n",
    "        \n",
    "        if i == n-1: break\n",
    "    assert len(mse) == n\n",
    "    assert len(lpips) == n\n",
    "    assert len(dssim) == n\n",
    "    \n",
    "    return mse, lpips, dssim\n",
    "       \n",
    "        \n",
    "with open('/data/mint/paper_evaluations/MP/pred/Ours/ours_128_Masked_Face_woclip+BgNoHead+shadow+arcface/ema_050000/out/eval_score_validset_n200.json', 'r') as fp:\n",
    "    only_arcface = json.load(fp=fp)\n",
    "mse_only_arcface, lpips_only_arcface, dssim_only_arcface = extract_score_array(only_arcface)   \n",
    "\n",
    "with open('/data/mint/paper_evaluations/MP/pred/Ours/ours_128_Masked_Face_woclip+BgNoHead+shadow/ema_050000/out/eval_score_validset_n200.json', 'r') as fp:\n",
    "    deca_arcface = json.load(fp=fp)\n",
    "mse_deca_arcface, lpips_deca_arcface, dssim_deca_arcface = extract_score_array(deca_arcface)\n",
    "\n",
    "\n",
    "print(\"[#] MSE : \", stats.ttest_ind(mse_1, mse_2))\n",
    "print(\"[#] LPIPS : \", stats.ttest_ind(lpips_1, lpips_2))\n",
    "print(\"[#] DSSIM : \", stats.ttest_ind(dssim_1, dssim_2))\n"
   ]
  },
  {
   "cell_type": "code",
   "execution_count": 73,
   "metadata": {},
   "outputs": [
    {
     "name": "stdout",
     "output_type": "stream",
     "text": [
      "[#] Loading :  only_shadow\n",
      "[#] Loading :  only_deca\n",
      "[#] Loading :  deca_arcface\n",
      "[#] Loading :  only_arcface\n"
     ]
    }
   ],
   "source": [
    "def json_score(fn):\n",
    "    with open(fn, 'r') as fp:\n",
    "        out = json.load(fp=fp)\n",
    "    mse, lpips, dssim = extract_score_array(out)\n",
    "    return out, mse, lpips, dssim\n",
    "\n",
    "only_arcface = '/data/mint/paper_evaluations/MP/score/ablation/non_spatial/eval_score_ours_128_Masked_Face_woclip+BgNoHead+shadow+arcface_validset_n200.json'\n",
    "only_deca = '/data/mint/paper_evaluations/MP/score/ablation/non_spatial/eval_score_ours_128_Masked_Face_woclip+BgNoHead+shadow+deca_validset_n200.json'\n",
    "deca_arcface = '/data/mint/paper_evaluations/MP/score/ablation/non_spatial/eval_score_ours_128_Masked_Face_woclip+BgNoHead+shadow_validset_n200.json'\n",
    "only_shadow = '/data/mint/paper_evaluations/MP/score/ablation/non_spatial/eval_score_ours_128_Masked_Face_woclip+BgNoHead+only_shadow_validset_n200.json'\n",
    "\n",
    "score_d = {'only_shadow':{'path':only_shadow},\n",
    "           'only_deca':{'path':only_deca},\n",
    "           'deca_arcface':{'path':deca_arcface},\n",
    "           'only_arcface':{'path':only_arcface},\n",
    "        }\n",
    "\n",
    "for s in score_d.keys():\n",
    "    print(\"[#] Loading : \", s)\n",
    "    out, mse, lpips, dssim = json_score(score_d[s]['path'])\n",
    "    score_d[s]['mse'] = mse\n",
    "    score_d[s]['lpips'] = lpips\n",
    "    score_d[s]['dssim'] = dssim\n",
    "    score_d[s]['json'] = out\n",
    "        "
   ]
  },
  {
   "cell_type": "code",
   "execution_count": 74,
   "metadata": {},
   "outputs": [
    {
     "name": "stdout",
     "output_type": "stream",
     "text": [
      "only_shadow ==> & 0.1065$\\pm$0.0391 & 0.0082$\\pm$0.0091 & 0.0909$\\pm$0.0454\n",
      "only_deca ==> & 0.1023$\\pm$0.0355 & 0.0074$\\pm$0.0068 & 0.0847$\\pm$0.0391\n",
      "deca_arcface ==> & 0.1000$\\pm$0.0344 & 0.0077$\\pm$0.0073 & 0.0789$\\pm$0.0329\n",
      "only_arcface ==> & 0.1022$\\pm$0.0329 & 0.0063$\\pm$0.0052 & 0.0846$\\pm$0.0350\n"
     ]
    }
   ],
   "source": [
    "# Gen LATEX\n",
    "for s in score_d.keys():\n",
    "    mse_mu, mse_std = score_d[s]['json']['eval_score']['mse'].split('+-')\n",
    "    mse_mu, mse_std = float(mse_mu), float(mse_std)\n",
    "    \n",
    "    lpips_mu, lpips_std = score_d[s]['json']['eval_score']['lpips'].split('+-')\n",
    "    lpips_mu, lpips_std = float(lpips_mu), float(lpips_std)\n",
    "    \n",
    "    dssim_mu, dssim_std = score_d[s]['json']['eval_score']['dssim'].split('+-')\n",
    "    dssim_mu, dssim_std = float(dssim_mu), float(dssim_std)\n",
    "    \n",
    "    fmt = f'& {dssim_mu:.4f}$\\pm${dssim_std:.4f} & {mse_mu:.4f}$\\pm${mse_std:.4f} & {lpips_mu:.4f}$\\pm${lpips_std:.4f}'\n",
    "    print(f'{s} ==> {fmt}')\n",
    "    "
   ]
  },
  {
   "cell_type": "code",
   "execution_count": null,
   "metadata": {},
   "outputs": [],
   "source": [
    "\n",
    "print(stats.ttest_ind(rvs1,rvs2))"
   ]
  }
 ],
 "metadata": {
  "kernelspec": {
   "display_name": "Python 3.8.12 ('dpm_sampling_deca')",
   "language": "python",
   "name": "python3"
  },
  "language_info": {
   "codemirror_mode": {
    "name": "ipython",
    "version": 3
   },
   "file_extension": ".py",
   "mimetype": "text/x-python",
   "name": "python",
   "nbconvert_exporter": "python",
   "pygments_lexer": "ipython3",
   "version": "3.8.12 (default, Oct 12 2021, 13:49:34) \n[GCC 7.5.0]"
  },
  "orig_nbformat": 4,
  "vscode": {
   "interpreter": {
    "hash": "e726457752a9f31dd08e885b4d7ad782b9d2db89819f0ec82c996add1b497d76"
   }
  }
 },
 "nbformat": 4,
 "nbformat_minor": 2
}
