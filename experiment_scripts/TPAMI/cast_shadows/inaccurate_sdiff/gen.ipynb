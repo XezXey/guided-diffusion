{
 "cells": [
  {
   "cell_type": "code",
   "execution_count": 5,
   "metadata": {},
   "outputs": [
    {
     "name": "stdout",
     "output_type": "stream",
     "text": [
      "['68084.jpg', '68420.jpg', '62291.jpg', '69905.jpg', '68405.jpg', '64685.jpg', '67277.jpg', '69531.jpg', '62863.jpg', '61681.jpg', '67805.jpg', '67837.jpg', '65210.jpg', '68405.jpg', '69697.jpg', '62982.jpg', '68219.jpg', '61383.jpg', '65169.jpg']\n",
      "{'pair': {'pair0': {'src': '68084.jpg', 'dst': '60000.jpg'}, 'pair1': {'src': '68420.jpg', 'dst': '60000.jpg'}, 'pair2': {'src': '62291.jpg', 'dst': '60000.jpg'}, 'pair3': {'src': '69905.jpg', 'dst': '60000.jpg'}, 'pair4': {'src': '68405.jpg', 'dst': '60000.jpg'}, 'pair5': {'src': '64685.jpg', 'dst': '60000.jpg'}, 'pair6': {'src': '67277.jpg', 'dst': '60000.jpg'}, 'pair7': {'src': '69531.jpg', 'dst': '60000.jpg'}, 'pair8': {'src': '62863.jpg', 'dst': '60000.jpg'}, 'pair9': {'src': '61681.jpg', 'dst': '60000.jpg'}, 'pair10': {'src': '67805.jpg', 'dst': '60000.jpg'}, 'pair11': {'src': '67837.jpg', 'dst': '60000.jpg'}, 'pair12': {'src': '65210.jpg', 'dst': '60000.jpg'}, 'pair13': {'src': '68405.jpg', 'dst': '60000.jpg'}, 'pair14': {'src': '69697.jpg', 'dst': '60000.jpg'}, 'pair15': {'src': '62982.jpg', 'dst': '60000.jpg'}, 'pair16': {'src': '68219.jpg', 'dst': '60000.jpg'}, 'pair17': {'src': '61383.jpg', 'dst': '60000.jpg'}, 'pair18': {'src': '65169.jpg', 'dst': '60000.jpg'}}}\n"
     ]
    }
   ],
   "source": [
    "import numpy as np\n",
    "import torch as th\n",
    "\n",
    "img_name = \"68084.jpg, 68420.jpg, 62291.jpg, 69905.jpg, 68405.jpg, 64685.jpg, 67277.jpg, 69531.jpg, 62863.jpg, 61681.jpg, 67805.jpg, 67837.jpg, 65210.jpg, 68405.jpg, 69697.jpg, 62982.jpg, 68219.jpg, 61383.jpg, 65169.jpg\"\n",
    "img_name = img_name.split(\", \")\n",
    "print(img_name)\n",
    "\n",
    "\n",
    "pair = {\"pair\":{}}\n",
    "\n",
    "for i in range(len(img_name)):\n",
    "    pair[\"pair\"][f'pair{i}'] = {\n",
    "        'src': img_name[i],\n",
    "        'dst': '60000.jpg'\n",
    "    }\n",
    "print(pair)\n",
    "\n",
    "import json\n",
    "json.dump(pair, open(\"../sample_json_cs/inaccurate_sdiff.json\", \"w\"), indent=4)\n",
    "\n"
   ]
  }
 ],
 "metadata": {
  "kernelspec": {
   "display_name": "dpm_sampling_deca_pysh",
   "language": "python",
   "name": "python3"
  },
  "language_info": {
   "codemirror_mode": {
    "name": "ipython",
    "version": 3
   },
   "file_extension": ".py",
   "mimetype": "text/x-python",
   "name": "python",
   "nbconvert_exporter": "python",
   "pygments_lexer": "ipython3",
   "version": "3.8.12"
  }
 },
 "nbformat": 4,
 "nbformat_minor": 2
}
