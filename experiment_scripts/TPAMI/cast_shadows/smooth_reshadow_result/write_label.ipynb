{
 "cells": [
  {
   "cell_type": "code",
   "execution_count": 21,
   "metadata": {},
   "outputs": [
    {
     "name": "stderr",
     "output_type": "stream",
     "text": [
      "/home/mint/miniconda3/envs/dpm_sampling_deca/lib/python3.8/site-packages/torchvision/io/video.py:115: UserWarning: The pts_unit 'pts' gives wrong results and will be removed in a follow-up version. Please use pts_unit 'sec'.\n",
      "  warnings.warn(\n"
     ]
    },
    {
     "name": "stdout",
     "output_type": "stream",
     "text": [
      "(120, 256, 384, 3) uint8\n",
      "(120, 256, 384, 3) uint8\n",
      "(120, 256, 384, 3) uint8\n",
      "(120, 256, 384, 3) uint8\n",
      "(120, 256, 384, 3) uint8\n",
      "(120, 256, 384, 3) uint8\n",
      "(120, 256, 384, 3) uint8\n",
      "(120, 256, 384, 3) uint8\n",
      "(120, 256, 384, 3) uint8\n",
      "(120, 256, 384, 3) uint8\n",
      "(120, 256, 384, 3) uint8\n",
      "(120, 256, 384, 3) uint8\n"
     ]
    }
   ],
   "source": [
    "import numpy as np\n",
    "import cv2\n",
    "import torchvision\n",
    "import matplotlib.pyplot as plt\n",
    "\n",
    "def proc(pth):\n",
    "    frames, _, _ = torchvision.io.read_video(pth)\n",
    "    frames = frames.numpy()\n",
    "    print(frames.shape, frames.dtype)\n",
    "    h = 128\n",
    "    offset = 20\n",
    "    fout = []\n",
    "    for f in frames:\n",
    "        f = cv2.putText(f, \"Before\", (0, offset), cv2.FONT_HERSHEY_SIMPLEX, 0.7, (255, 0, 0), 2, cv2.LINE_AA)\n",
    "        f = cv2.putText(f, \"After\", (0, h+offset), cv2.FONT_HERSHEY_SIMPLEX, 0.7, (0, 255, 0), 2, cv2.LINE_AA)\n",
    "        # plt.imshow(f)\n",
    "        # plt.show()\n",
    "        # assert False\n",
    "        fout.append(f)\n",
    "    fout = np.stack(fout)\n",
    "    print(fout.shape, fout.dtype)\n",
    "    torchvision.io.write_video(\"proc_\" + pth, fout, 30)\n",
    "\n",
    "\n",
    "for p in [\"col0.mp4\", \"col1.mp4\", \"col2.mp4\", \"col3.mp4\", \"col4.mp4\", \"col5.mp4\"]:\n",
    "    proc(p)"
   ]
  }
 ],
 "metadata": {
  "kernelspec": {
   "display_name": "dpm_sampling_deca",
   "language": "python",
   "name": "python3"
  },
  "language_info": {
   "codemirror_mode": {
    "name": "ipython",
    "version": 3
   },
   "file_extension": ".py",
   "mimetype": "text/x-python",
   "name": "python",
   "nbconvert_exporter": "python",
   "pygments_lexer": "ipython3",
   "version": "3.8.12"
  }
 },
 "nbformat": 4,
 "nbformat_minor": 2
}
