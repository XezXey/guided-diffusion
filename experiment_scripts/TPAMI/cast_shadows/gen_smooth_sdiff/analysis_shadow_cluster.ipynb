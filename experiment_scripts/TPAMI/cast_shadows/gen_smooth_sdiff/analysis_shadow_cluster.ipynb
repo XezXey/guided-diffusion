{
 "cells": [
  {
   "cell_type": "code",
   "execution_count": 16,
   "metadata": {},
   "outputs": [
    {
     "name": "stdout",
     "output_type": "stream",
     "text": [
      "/data/mint/DPM_Dataset/ffhq_256_with_anno/shadow_diff_with_weight_simplified/train/\n"
     ]
    },
    {
     "name": "stderr",
     "output_type": "stream",
     "text": [
      "  3%|▎         | 1747/60000 [00:00<00:16, 3503.00it/s]"
     ]
    }
   ],
   "source": [
    "import numpy as np\n",
    "from PIL import Image\n",
    "import tqdm, glob\n",
    "import matplotlib.pyplot as plt\n",
    "set_ = 'train'\n",
    "before_pth = f'/data/mint/DPM_Dataset/ffhq_256_with_anno/shadow_diff_with_weight_simplified/{set_}/'\n",
    "after_pth = f'/data/mint/DPM_Dataset/ffhq_256_with_anno/shadow_diff_SS_with_c_simplified/{set_}/'\n",
    "\n",
    "\n",
    "\n",
    "def compute_shadow_cluster(img_path):\n",
    "    sc = {}\n",
    "    for p in tqdm.tqdm(img_path):\n",
    "        img_name = p.split('/')[-1]\n",
    "        img = np.load(p)\n",
    "        # print(np.unique(img))\n",
    "        # plt.imshow(img, cmap='gray')\n",
    "        # plt.show()\n",
    "        shadow_area = img > 0.0\n",
    "        # print(np.unique(shadow_area))\n",
    "        # plt.imshow(shadow_area, cmap='gray')\n",
    "        # plt.show()\n",
    "        sc[img_name] = np.sum(shadow_area)\n",
    "    return sc\n",
    "\n",
    "sc_before = compute_shadow_cluster(glob.glob(before_pth + '/*.npy'))\n",
    "sc_after = compute_shadow_cluster(glob.glob(after_pth + '/*.npy'))\n",
    "\n"
   ]
  },
  {
   "cell_type": "code",
   "execution_count": null,
   "metadata": {},
   "outputs": [],
   "source": []
  }
 ],
 "metadata": {
  "kernelspec": {
   "display_name": "dpm_sampling_deca",
   "language": "python",
   "name": "python3"
  },
  "language_info": {
   "codemirror_mode": {
    "name": "ipython",
    "version": 3
   },
   "file_extension": ".py",
   "mimetype": "text/x-python",
   "name": "python",
   "nbconvert_exporter": "python",
   "pygments_lexer": "ipython3",
   "version": "3.8.12"
  }
 },
 "nbformat": 4,
 "nbformat_minor": 2
}
