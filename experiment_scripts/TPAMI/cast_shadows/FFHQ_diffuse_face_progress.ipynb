{
 "cells": [
  {
   "cell_type": "code",
   "execution_count": 16,
   "metadata": {},
   "outputs": [
    {
     "name": "stdout",
     "output_type": "stream",
     "text": [
      "['train_0_to_5000', 'train_5000_to_10000', 'train_10000_to_15000']\n",
      "[#] train_0_to_5000 => 567/5000 => 11.34%\n",
      "[#] train_5000_to_10000 => 463/5000 => 9.26%\n",
      "[#] train_10000_to_15000 => 456/5000 => 9.12%\n",
      "['train_20000_to_25000', 'train_25000_to_30000', 'train_30000_to_35000', 'train_15000_to_20000']\n",
      "[#] train_20000_to_25000 => 419/5000 => 8.38%\n",
      "[#] train_25000_to_30000 => 410/5000 => 8.20%\n",
      "[#] train_30000_to_35000 => 420/5000 => 8.40%\n",
      "[#] train_15000_to_20000 => 412/5000 => 8.24%\n",
      "['train_35000_to_40000', 'train_45000_to_50000', 'train_40000_to_45000']\n",
      "[#] train_35000_to_40000 => 412/5000 => 8.24%\n",
      "[#] train_45000_to_50000 => 420/5000 => 8.40%\n",
      "[#] train_40000_to_45000 => 418/5000 => 8.36%\n"
     ]
    }
   ],
   "source": [
    "import numpy as np\n",
    "import os\n",
    "\n",
    "# Run sshfh first: $> sshfs -o ro mint@10.204.100.109:/data/mint/sampling/TPAMI/FFHQ_diffuse_face ./v9\n",
    "run_v = ['5', '8', '9', '10']\n",
    "ckpt = 'ema_085000'\n",
    "model = 'log=Masked_Face_woclip+BgNoHead+shadow_256_cfg=Masked_Face_woclip+BgNoHead+shadow_256.yaml_tomin_steps=50'\n",
    "n_frames = 3\n",
    "\n",
    "sampling_path = f'/data/mint/sampling/TPAMI/FFHQ_diffuse_face/{model}/ema_085000/train_sub'\n",
    "\n",
    "def progress(vid, mothership=False):\n",
    "    if mothership:\n",
    "        progress_path = sampling_path\n",
    "    else:\n",
    "        progress_path = f'/data/mint/sampling/TPAMI/FFHQ_diffuse_face/mount_sampling/v{vid}/{model}/{ckpt}/train_sub/'\n",
    "    print(os.listdir(progress_path))\n",
    "    for p in os.listdir(progress_path):\n",
    "        start = int(p.split('_')[1])\n",
    "        end = int(p.split('_')[3])\n",
    "        n = end - start\n",
    "        tail = f'{progress_path}/{p}/shadow/reverse_sampling/'\n",
    "        count = 0\n",
    "        for t in sorted(os.listdir(tail)):\n",
    "            tmp = f'{tail}/{t}/dst={start}.jpg/Lerp_1000/n_frames={n_frames}/'\n",
    "            assert len(os.listdir(tmp)) == n_frames * 2 + 1\n",
    "            count += 1\n",
    "            \n",
    "        print(f'[#] {p} => {count}/{n} => {count * 100/n:.2f}%')\n",
    "            \n",
    "        \n",
    "    # tail = '/train_sub/train_35000_to_40000/shadow/reverse_sampling/'\n",
    "    \n",
    "    \n",
    "progress(vid='10', mothership=True)\n",
    "progress(vid='9')\n",
    "progress(vid='8')\n",
    "\n",
    "\n",
    "\n",
    "\n"
   ]
  }
 ],
 "metadata": {
  "kernelspec": {
   "display_name": "dpm_sampling_deca",
   "language": "python",
   "name": "python3"
  },
  "language_info": {
   "codemirror_mode": {
    "name": "ipython",
    "version": 3
   },
   "file_extension": ".py",
   "mimetype": "text/x-python",
   "name": "python",
   "nbconvert_exporter": "python",
   "pygments_lexer": "ipython3",
   "version": "3.8.12"
  }
 },
 "nbformat": 4,
 "nbformat_minor": 2
}
