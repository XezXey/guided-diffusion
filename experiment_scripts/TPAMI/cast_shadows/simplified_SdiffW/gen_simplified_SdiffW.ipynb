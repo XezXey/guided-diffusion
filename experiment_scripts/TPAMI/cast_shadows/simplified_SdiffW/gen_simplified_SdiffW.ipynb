{
 "cells": [
  {
   "cell_type": "code",
   "execution_count": 7,
   "metadata": {},
   "outputs": [
    {
     "name": "stdout",
     "output_type": "stream",
     "text": [
      "[#] Processing:  /train/\n",
      "[#] Processing:  /valid/\n"
     ]
    }
   ],
   "source": [
    "import numpy as np\n",
    "import glob\n",
    "import os\n",
    "import multiprocessing as mp\n",
    "\n",
    "inp_pth = '/data/mint/DPM_Dataset/ffhq_256_with_anno/shadow_diff_with_weight_onehot/'\n",
    "out_pth = '/data/mint/DPM_Dataset/ffhq_256_with_anno/shadow_diff_with_weight_simplified/'\n",
    "\n",
    "set_ = ['/train/', '/valid/']\n",
    "\n",
    "def proc(img, save_pth):\n",
    "    img = np.load(img)\n",
    "    img = img[..., 1:2]\n",
    "    np.save(file=save_pth, arr=img)\n",
    "\n",
    "\n",
    "\n",
    "for s in set_:\n",
    "    print(\"[#] Processing: \", s)\n",
    "    os.makedirs(out_pth + s, exist_ok=True)\n",
    "    img_pth = glob.glob(inp_pth + s + '/*.npy')\n",
    "    img_name = [os.path.basename(i) for i in img_pth]\n",
    "    with mp.Pool(mp.cpu_count()) as p:\n",
    "        p.starmap(proc, zip(img_pth, [out_pth + s + i for i in img_name]))"
   ]
  },
  {
   "cell_type": "code",
   "execution_count": 3,
   "metadata": {},
   "outputs": [
    {
     "data": {
      "image/png": "[encoded data removed]",
      "text/plain": [
       "<Figure size 432x288 with 1 Axes>"
      ]
     },
     "metadata": {
      "needs_background": "light"
     },
     "output_type": "display_data"
    },
    {
     "name": "stdout",
     "output_type": "stream",
     "text": [
      "[0.         0.41611563]\n",
      "[0.58388437 1.        ]\n",
      "(256, 256, 1)\n",
      "(128, 128)\n",
      "[0.         0.41611563]\n",
      "[0.58388437 1.        ]\n"
     ]
    },
    {
     "data": {
      "image/png": "[encoded data removed]",
      "text/plain": [
       "<Figure size 432x288 with 1 Axes>"
      ]
     },
     "metadata": {
      "needs_background": "light"
     },
     "output_type": "display_data"
    }
   ],
   "source": [
    "# Visualization\n",
    "from PIL import Image\n",
    "import numpy as np\n",
    "import matplotlib.pyplot as plt\n",
    "import cv2\n",
    "\n",
    "out_pth = '/data/mint/DPM_Dataset/ffhq_256_with_anno/shadow_diff_with_weight_simplified/'\n",
    "img_pth = [\n",
    "    out_pth + '/valid/60065.npy', \n",
    "    out_pth + '/valid/61231.npy', \n",
    "    out_pth + '/train/1.npy', \n",
    "    ]\n",
    "img = np.load(img_pth[-1])\n",
    "resolution = 128\n",
    "plt.imshow(np.concatenate((img, 1-img), axis=1), cmap='gray')\n",
    "plt.show()\n",
    "print(np.unique(img))\n",
    "print(np.unique(1-img))\n",
    "print(img.shape)\n",
    "img_resize = cv2.resize(img, (resolution, resolution), interpolation=cv2.INTER_NEAREST)\n",
    "print(img_resize.shape)\n",
    "print(np.unique(img_resize))\n",
    "print(np.unique(1-img_resize))\n",
    "plt.imshow(np.concatenate((img_resize, 1-img_resize), axis=1), cmap='gray')\n",
    "plt.show()"
   ]
  }
 ],
 "metadata": {
  "kernelspec": {
   "display_name": "dpm_sampling_deca",
   "language": "python",
   "name": "python3"
  },
  "language_info": {
   "codemirror_mode": {
    "name": "ipython",
    "version": 3
   },
   "file_extension": ".py",
   "mimetype": "text/x-python",
   "name": "python",
   "nbconvert_exporter": "python",
   "pygments_lexer": "ipython3",
   "version": "3.8.12"
  }
 },
 "nbformat": 4,
 "nbformat_minor": 2
}
