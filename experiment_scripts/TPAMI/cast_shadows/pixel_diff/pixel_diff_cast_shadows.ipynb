{
 "cells": [
  {
   "cell_type": "code",
   "execution_count": 2,
   "metadata": {},
   "outputs": [],
   "source": [
    "import numpy as np\n",
    "import torch as th\n",
    "import pandas as pd\n",
    "from PIL import Image\n",
    "import matplotlib.pyplot as plt\n",
    "import os, glob, tqdm\n",
    "import torchvision.transforms.functional as F\n",
    "from torchvision.io import read_image\n",
    "from pathlib import Path\n",
    "import cv2\n",
    "from torchvision.utils import make_grid\n",
    "\n",
    "def show(imgs):\n",
    "    if not isinstance(imgs, list):\n",
    "        imgs = [imgs]\n",
    "    fig, axs = plt.subplots(ncols=len(imgs), squeeze=False)\n",
    "    fig.set_size_inches(18, 6)\n",
    "    for i, img in enumerate(imgs):\n",
    "        img = img.detach()\n",
    "        img = F.to_pil_image(img)\n",
    "        axs[0, i].imshow(np.asarray(img))\n",
    "        axs[0, i].set(xticklabels=[], yticklabels=[], xticks=[], yticks=[])\n",
    "        \n",
    "def face_segment(segment_part, img):\n",
    "    \n",
    "    if isinstance(img, Image.Image):\n",
    "        face_segment_anno = np.array(img)\n",
    "    else:\n",
    "        face_segment_anno = img\n",
    "        \n",
    "    bg = (face_segment_anno == 0)\n",
    "    skin = (face_segment_anno == 1)\n",
    "    l_brow = (face_segment_anno == 2)\n",
    "    r_brow = (face_segment_anno == 3)\n",
    "    l_eye = (face_segment_anno == 4)\n",
    "    r_eye = (face_segment_anno == 5)\n",
    "    eye_g = (face_segment_anno == 6)\n",
    "    l_ear = (face_segment_anno == 7)\n",
    "    r_ear = (face_segment_anno == 8)\n",
    "    ear_r = (face_segment_anno == 9)\n",
    "    nose = (face_segment_anno == 10)\n",
    "    mouth = (face_segment_anno == 11)\n",
    "    u_lip = (face_segment_anno == 12)\n",
    "    l_lip = (face_segment_anno == 13)\n",
    "    neck = (face_segment_anno == 14)\n",
    "    neck_l = (face_segment_anno == 15)\n",
    "    cloth = (face_segment_anno == 16)\n",
    "    hair = (face_segment_anno == 17)\n",
    "    hat = (face_segment_anno == 18)\n",
    "    face = np.logical_or.reduce((skin, l_brow, r_brow, l_eye, r_eye, eye_g, l_ear, r_ear, ear_r, nose, mouth, u_lip, l_lip))\n",
    "\n",
    "    if segment_part == 'faceseg_face':\n",
    "        seg_m = face\n",
    "    elif segment_part == 'faceseg_head':\n",
    "        seg_m = (face | neck | hair)\n",
    "    elif segment_part == 'faceseg_nohead':\n",
    "        seg_m = ~(face | neck | hair)\n",
    "    elif segment_part == 'faceseg_face&hair':\n",
    "        seg_m = ~bg\n",
    "    elif segment_part == 'faceseg_bg_noface&nohair':\n",
    "        seg_m = (bg | hat | neck | neck_l | cloth) \n",
    "    elif segment_part == 'faceseg_bg&ears_noface&nohair':\n",
    "        seg_m = (bg | hat | neck | neck_l | cloth) | (l_ear | r_ear | ear_r)\n",
    "    elif segment_part == 'faceseg_bg':\n",
    "        seg_m = bg\n",
    "    elif segment_part == 'faceseg_bg&noface':\n",
    "        seg_m = (bg | hair | hat | neck | neck_l | cloth)\n",
    "    elif segment_part == 'faceseg_hair':\n",
    "        seg_m = hair\n",
    "    elif segment_part == 'faceseg_faceskin':\n",
    "        seg_m = skin\n",
    "    elif segment_part == 'faceseg_faceskin&nose':\n",
    "        seg_m = (skin | nose)\n",
    "    elif segment_part == 'faceseg_faceskin&nose&mouth&eyebrows':\n",
    "        seg_m = (skin | nose | mouth | u_lip | l_lip | l_brow | r_brow | l_eye | r_eye)\n",
    "    elif segment_part == 'faceseg_faceskin&nose&mouth&eyebrows&eyes&glasses':\n",
    "        seg_m = (skin | nose | mouth | u_lip | l_lip | l_brow | r_brow | l_eye | r_eye | eye_g)\n",
    "        # seg_m = (skin | nose | mouth | u_lip | l_lip | l_brow | r_brow)\n",
    "    elif segment_part == 'faceseg_face_noglasses':\n",
    "        seg_m = (~eye_g & face)\n",
    "    elif segment_part == 'faceseg_face_noglasses_noeyes':\n",
    "        seg_m = (~(l_eye | r_eye) & ~eye_g & face)\n",
    "    elif segment_part == 'faceseg_eyes&glasses':\n",
    "        seg_m = (l_eye | r_eye | eye_g)\n",
    "    elif segment_part == 'glasses':\n",
    "        seg_m = eye_g\n",
    "    elif segment_part == 'faceseg_eyes':\n",
    "        seg_m = (l_eye | r_eye)\n",
    "    elif segment_part == 'faceseg_eyebrows':\n",
    "        seg_m = (l_brow | r_brow)\n",
    "    elif segment_part == 'faceseg_mouth':\n",
    "        seg_m = mouth\n",
    "    # elif (segment_part == 'sobel_bg_mask') or (segment_part == 'laplacian_bg_mask') or (segment_part == 'sobel_bin_bg_mask'):\n",
    "    elif segment_part in ['sobel_bg_mask', 'laplacian_bg_mask', 'sobel_bin_bg_mask']:\n",
    "        seg_m = ~(face | neck | hair)\n",
    "    elif segment_part in ['canny_edge_bg_mask']:\n",
    "        seg_m = ~(face | neck | hair) | (l_ear | r_ear)\n",
    "    else: raise NotImplementedError(f\"Segment part: {segment_part} is not found!\")\n",
    "    \n",
    "    out = seg_m\n",
    "    return out\n",
    "\n",
    "def get_shadow_diff(img1, img2, c_type='L', signed=False):\n",
    "    # Compute Shadow Difference\n",
    "    img1 = np.array(img1.convert(c_type)) / 255.0\n",
    "    img2 = np.array(img2.convert(c_type)) / 255.0\n",
    "    if signed:\n",
    "        shadow_diff = img2 - img1\n",
    "    else:\n",
    "        shadow_diff = np.abs(img2 - img1)\n",
    "    return shadow_diff\n",
    "\n",
    "def create_image_grid(images, n_rows=1, text_labels=[]):\n",
    "    \"\"\"\n",
    "    Creates a grid of images from a list of NumPy arrays.\n",
    "    \n",
    "    Parameters:\n",
    "    - images: List of np.array, each representing an image.\n",
    "    - n_rows: Number of rows in the grid.\n",
    "    \n",
    "    Returns:\n",
    "    - A matplotlib figure containing the image grid.\n",
    "    \"\"\"\n",
    "    n_images = len(images)\n",
    "    n_cols = (n_images + n_rows - 1) // n_rows  # Calculate number of columns needed\n",
    "    \n",
    "    # Get the height and width of the images (assuming all images are the same size)\n",
    "    # img_height, img_width = images[0].shape[:2]\n",
    "\n",
    "    # Add zero images if the number of images is less than needed to fill the grid\n",
    "    images += [np.zeros_like(images[0]) for _ in range(n_rows * n_cols - n_images)]\n",
    "    \n",
    "    # Create the grid by concatenating images\n",
    "    rows = []\n",
    "    for i in range(n_rows):\n",
    "        row_images = images[i * n_cols:(i + 1) * n_cols]\n",
    "        rows.append(np.concatenate(row_images, axis=1))\n",
    "    \n",
    "    grid_image = np.concatenate(rows, axis=0)\n",
    "\n",
    "    # Add text labels to the grid\n",
    "    img_height, img_width = images[0].shape[:2]\n",
    "    for i, text_label in enumerate(text_labels):\n",
    "        # plt.text((i % n_cols) * img_width, (i // n_cols) * img_height, text_label, color='red', fontsize=12)\n",
    "        if isinstance(text_label, str):\n",
    "            plt.text((i % n_cols) * img_width, -2, text_label, color='red', fontsize=20)\n",
    "        else:\n",
    "            plt.text((i % n_cols) * img_width, -2, f'{float(text_label):.5f}', color='red', fontsize=20)\n",
    "\n",
    "    return grid_image\n"
   ]
  },
  {
   "cell_type": "code",
   "execution_count": 35,
   "metadata": {},
   "outputs": [
    {
     "name": "stdout",
     "output_type": "stream",
     "text": [
      "(256, 256) [  0 127 255]\n"
     ]
    },
    {
     "data": {
      "image/png": "[encoded data removed]",
      "text/plain": [
       "<Figure size 432x288 with 1 Axes>"
      ]
     },
     "metadata": {
      "needs_background": "light"
     },
     "output_type": "display_data"
    }
   ],
   "source": [
    "data_path = '/data/mint/DPM_Dataset/ffhq_256_with_anno/'\n",
    "set_ = 'valid'\n",
    "shadow_diff_path = f'{data_path}/shadow_diff/median5_5e-2/{set_}'\n",
    "\n",
    "sd = sorted(glob.glob(f'{shadow_diff_path}/*.png'))\n",
    "sd = np.array(Image.open(sd[150]))\n",
    "print(sd.shape, np.unique(sd))\n",
    "plt.imshow(sd, cmap='gray')\n",
    "plt.show()"
   ]
  },
  {
   "cell_type": "code",
   "execution_count": 74,
   "metadata": {},
   "outputs": [
    {
     "name": "stderr",
     "output_type": "stream",
     "text": [
      "100%|██████████| 10000/10000 [10:16<00:00, 16.23it/s]\n"
     ]
    }
   ],
   "source": [
    "data_path = '/data/mint/DPM_Dataset/ffhq_256_with_anno/'\n",
    "set_ = 'valid'\n",
    "shadow_diff_path = f'{data_path}/shadow_diff_with_weight_simplified/{set_}'\n",
    "\n",
    "# sd = sorted(glob.glob(f'{shadow_diff_path}/*.npy'))\n",
    "# sd = np.load(sd[150])\n",
    "# print(sd.shape, np.unique(sd))\n",
    "# plt.imshow(sd, cmap='gray')\n",
    "# plt.show()\n",
    "\n",
    "out_dir = f'{data_path}/shadow_diff_binary_simplified/{set_}'\n",
    "os.makedirs(out_dir, exist_ok=True)\n",
    "# Convert to binary (0. is 0., otherwise 1.)\n",
    "for i, sd_path in enumerate(tqdm.tqdm(sorted(glob.glob(f'{shadow_diff_path}/*.npy')))):\n",
    "    sd_sim = np.load(sd_path)\n",
    "    sd_sim = np.repeat(sd_sim, 3, axis=2)\n",
    "    # plt.imshow(sd_sim)\n",
    "    # plt.show()\n",
    "    sd_bin = (sd_sim > 0.) * 1.0\n",
    "    # print(np.unique(sd_sim))\n",
    "    # print(np.unique(sd_bin))\n",
    "    # print(sd_bin.shape)\n",
    "    # plt.imshow(sd_bin)\n",
    "    # plt.show()\n",
    "    assert np.all(sd_bin[..., 0] == sd_bin[..., 1]) and np.all(sd_bin[..., 1] == sd_bin[..., 2])\n",
    "\n",
    "    img_name = Path(sd_path).name\n",
    "    np.save(file=f'{out_dir}/{img_name}', arr=sd_bin[..., 0])\n",
    "    # if i == 10:\n",
    "    #     assert False"
   ]
  },
  {
   "cell_type": "code",
   "execution_count": 73,
   "metadata": {},
   "outputs": [
    {
     "name": "stdout",
     "output_type": "stream",
     "text": [
      "(256, 256) [0. 1.]\n"
     ]
    },
    {
     "data": {
      "image/png": "[encoded data removed]",
      "text/plain": [
       "<Figure size 432x288 with 1 Axes>"
      ]
     },
     "metadata": {
      "needs_background": "light"
     },
     "output_type": "display_data"
    }
   ],
   "source": [
    "tmp = np.load(f'{out_dir}/{img_name}')\n",
    "print(tmp.shape, np.unique(tmp))\n",
    "plt.imshow(tmp)\n",
    "plt.show()\n"
   ]
  }
 ],
 "metadata": {
  "kernelspec": {
   "display_name": "dpm_sampling_deca",
   "language": "python",
   "name": "python3"
  },
  "language_info": {
   "codemirror_mode": {
    "name": "ipython",
    "version": 3
   },
   "file_extension": ".py",
   "mimetype": "text/x-python",
   "name": "python",
   "nbconvert_exporter": "python",
   "pygments_lexer": "ipython3",
   "version": "3.8.12"
  }
 },
 "nbformat": 4,
 "nbformat_minor": 2
}
