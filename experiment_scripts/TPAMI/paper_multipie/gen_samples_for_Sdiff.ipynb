{
 "cells": [
  {
   "cell_type": "code",
   "execution_count": 13,
   "metadata": {},
   "outputs": [
    {
     "name": "stdout",
     "output_type": "stream",
     "text": [
      "862 1724\n",
      "200 600\n",
      "100 300\n",
      "200 400\n"
     ]
    }
   ],
   "source": [
    "import json, glob, os\n",
    "\n",
    "files = glob.glob('*.json')\n",
    "\n",
    "for fn in files:\n",
    "    with open(fn) as f:\n",
    "        config = json.load(f)\n",
    "        pair = config['pair']\n",
    "        dst = pair['pair1']['dst']\n",
    "        out_shadow = {}\n",
    "        for pid, p in pair.items():\n",
    "            out_shadow[pid] = {'src': p['src'], 'dst': dst}\n",
    "        # Switch src and dst\n",
    "        total = len(out_shadow)\n",
    "        final_out = out_shadow.copy()\n",
    "        for pid, p in pair.items():\n",
    "            id = int(pid.replace('pair', ''))\n",
    "            final_out[f'pair{id + total}'] = {'src': p['dst'], 'dst': dst}\n",
    "\n",
    "        if 'gt' in pair['pair1']:\n",
    "            # There's gt too\n",
    "            total = len(final_out)\n",
    "            for pid, p in pair.items():\n",
    "                id = int(pid.replace('pair', ''))\n",
    "                final_out[f'pair{id + total}'] = {'src':p['gt'], 'dst':dst}\n",
    "        \n",
    "        print(len(out_shadow), len(final_out))\n",
    "    os.makedirs('./out_for_reshadow_mp/', exist_ok=True)\n",
    "    out_p = './out_for_reshadow_mp/' + fn\n",
    "    with open(out_p, 'w') as f:\n",
    "        json.dump({'pair':final_out}, f, indent=4)\n",
    "\n",
    "\n"
   ]
  }
 ],
 "metadata": {
  "kernelspec": {
   "display_name": "dpm_sampling_deca",
   "language": "python",
   "name": "python3"
  },
  "language_info": {
   "codemirror_mode": {
    "name": "ipython",
    "version": 3
   },
   "file_extension": ".py",
   "mimetype": "text/x-python",
   "name": "python",
   "nbconvert_exporter": "python",
   "pygments_lexer": "ipython3",
   "version": "3.8.12"
  }
 },
 "nbformat": 4,
 "nbformat_minor": 2
}
