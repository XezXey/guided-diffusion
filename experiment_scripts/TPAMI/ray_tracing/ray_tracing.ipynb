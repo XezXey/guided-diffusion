{
 "cells": [
  {
   "cell_type": "code",
   "execution_count": 35,
   "metadata": {},
   "outputs": [],
   "source": [
    "import numpy as np\n",
    "import torch as th\n",
    "import torch as th\n",
    "import pandas as pd\n",
    "import os, glob, sys, tqdm\n",
    "from collections import defaultdict\n",
    "from PIL import Image\n",
    "\n",
    "def sh_to_ld(sh):\n",
    "    #NOTE: Roughly Convert the SH to light direction\n",
    "    sh = sh.reshape(-1, 9, 3)\n",
    "    ld = th.mean(sh[0:1, 1:4, :], dim=2)\n",
    "    return ld\n",
    "\n",
    "def render_shadow_mask(sh_light, cam, verts, deca):\n",
    "    sys.path.insert(0, '/home/mint/guided-diffusion/sample_scripts/cond_utils/DECA/')\n",
    "    from decalib.utils import util\n",
    "    \n",
    "    shadow_mask_all = []\n",
    "    if verts.shape[0] >= 2:\n",
    "        tmp = []\n",
    "        for i in range(1, verts.shape[0]):\n",
    "            tmp.append(th.allclose(verts[[0]], verts[[i]]))\n",
    "        assert all(tmp)\n",
    "        \n",
    "    depth_image, alpha_image = deca.render.render_depth(verts.cuda())   # Depth : B x 1 x H x W\n",
    "    _, _, h, w = depth_image.shape\n",
    "    depth_grid = np.meshgrid(np.arange(h), np.arange(w), indexing='xy')\n",
    "    depth_grid = np.repeat(np.stack((depth_grid), axis=-1)[None, ...], repeats=sh_light.shape[0], axis=0)   # B x H x W x 2\n",
    "    depth_grid = np.concatenate((depth_grid, depth_image.permute(0, 2, 3, 1)[..., 0:1].cpu().numpy()), axis=-1) # B x H x W x 3\n",
    "    depth_grid[..., 2] *= 256\n",
    "    depth_grid = th.tensor(depth_grid).cuda()\n",
    "    shadow_mask = th.clone(depth_grid[:, :, :, 2])\n",
    "    # print(shadow_mask.shape, sh_light.shape)\n",
    "    for i in range(sh_light.shape[0]):\n",
    "        each_depth_grid = depth_grid[i].clone()\n",
    "        #NOTE: Render the shadow mask from light direction\n",
    "        ld = sh_to_ld(sh=th.tensor(sh_light[[i]])).cuda()\n",
    "        ld = util.batch_orth_proj(ld[None, ...], cam[None, ...].cuda()); ld[:,:,1:] = -ld[:,:,1:]    # This fn takes pts=Bx3, cam=Bx3\n",
    "        ray = ld.view(3).cuda()\n",
    "        ray[2] *= 0.5\n",
    "        n = 256\n",
    "        ray = ray / th.norm(ray)\n",
    "        mxaxis = max(abs(ray[0]), abs(ray[1]))\n",
    "        shift = ray / mxaxis * th.arange(n).view(n, 1).cuda()\n",
    "        coords = each_depth_grid.view(1, n, n, 3) + shift.view(n, 1, 1, 3)\n",
    "\n",
    "        output = th.nn.functional.grid_sample(\n",
    "            th.tensor(np.tile(each_depth_grid[:, :, 2].view(1, 1, n, n).cpu().numpy(), [n, 1, 1, 1])).cuda(),\n",
    "            coords[..., :2] / (n - 1) * 2 - 1,\n",
    "            align_corners=True)\n",
    "        diff = coords[..., 2] - output[:, 0] \n",
    "        shadow_mask[i] *= (th.min(diff, dim=0)[0] > -0.1) * 0.5 + 0.5\n",
    "        \n",
    "    return th.clip(shadow_mask, 0, 255.0)/255.0"
   ]
  },
  {
   "cell_type": "code",
   "execution_count": 36,
   "metadata": {},
   "outputs": [],
   "source": [
    "def read_params(path):\n",
    "    params = pd.read_csv(path, header=None, sep=\" \", index_col=False, lineterminator='\\n')\n",
    "    params.rename(columns={0:'img_name'}, inplace=True)\n",
    "    params = params.set_index('img_name').T.to_dict('list')\n",
    "    return params\n",
    "\n",
    "def swap_key(params):\n",
    "    params_s = defaultdict(dict)\n",
    "    for params_name, v in params.items():\n",
    "        for img_name, params_value in v.items():\n",
    "            params_s[img_name][params_name] = np.array(params_value).astype(np.float64)\n",
    "\n",
    "    return params_s\n",
    "\n",
    "def load_deca_params(deca_dir, cfg):\n",
    "    deca_params = {}\n",
    "\n",
    "    # face params \n",
    "    params_key = ['cam', 'light', 'shape', 'pose', 'exp', 'tex', 'detail' ,'tform', 'albedo']\n",
    "    for k in tqdm.tqdm(params_key, desc=\"Loading deca params...\"):\n",
    "        params_path = glob.glob(f\"{deca_dir}/*{k}-anno.txt\")\n",
    "        for path in params_path:\n",
    "            deca_params[k] = read_params(path=path)\n",
    "    \n",
    "    deca_params = swap_key(deca_params)\n",
    "    return deca_params\n",
    "\n",
    "def load_flame_mask(parts=['face']):\n",
    "    f_mask = np.load('/home/mint/guided-diffusion/sample_scripts/cond_utils/DECA/data/FLAME_masks_face-id.pkl', allow_pickle=True, encoding='latin1')\n",
    "    v_mask = np.load('/home/mint/guided-diffusion/sample_scripts/cond_utils/DECA/data/FLAME_masks.pkl', allow_pickle=True, encoding='latin1')\n",
    "    mask={\n",
    "        'v_mask':sum([v_mask[part].tolist() for part in parts], []),\n",
    "        'f_mask':sum([f_mask[part].tolist() for part in parts], [])\n",
    "    }\n",
    "\n",
    "def init_deca(useTex=False, extractTex=True, device='cuda', \n",
    "              deca_mode='only_renderer', mask=None, deca_obj=None):\n",
    "    \n",
    "    # sys.path.insert(1, '/home/mint/guided-diffusion/preprocess_scripts/Relighting_preprocessing_tools/DECA/')\n",
    "    sys.path.insert(1, '/home/mint/guided-diffusion/sample_scripts/cond_utils/DECA/')\n",
    "    # sys.path.insert(1, '/home/mint/Dev/DiFaReli/difareli-faster/sample_scripts/cond_utils/DECA/')\n",
    "\n",
    "    from decalib import deca\n",
    "    from decalib.utils.config import cfg as deca_cfg\n",
    "    deca_cfg.model.use_tex = useTex\n",
    "    deca_cfg.rasterizer_type = 'standard'\n",
    "    deca_cfg.model.extract_tex = extractTex\n",
    "    deca_obj = deca.DECA(config = deca_cfg, device=device, mode=deca_mode, mask=mask)\n",
    "    return deca_obj\n"
   ]
  },
  {
   "cell_type": "code",
   "execution_count": 37,
   "metadata": {},
   "outputs": [
    {
     "name": "stderr",
     "output_type": "stream",
     "text": [
      "Loading deca params...: 100%|██████████| 9/9 [00:04<00:00,  2.19it/s]\n"
     ]
    },
    {
     "name": "stdout",
     "output_type": "stream",
     "text": [
      "creating the FLAME Decoder\n"
     ]
    }
   ],
   "source": [
    "pth = '/data/mint/DPM_Dataset/ffhq_256_with_anno/params/'\n",
    "set_ = 'valid'\n",
    "params = load_deca_params(deca_dir=f'{pth}/{set_}/', cfg=None)\n",
    "mask = load_flame_mask()\n",
    "deca_obj = init_deca(mask=mask)"
   ]
  },
  {
   "cell_type": "code",
   "execution_count": 46,
   "metadata": {},
   "outputs": [
    {
     "name": "stdout",
     "output_type": "stream",
     "text": [
      "cam torch.Size([1, 3])\n",
      "light torch.Size([1, 27])\n",
      "shape torch.Size([1, 100])\n",
      "pose torch.Size([1, 6])\n",
      "exp torch.Size([1, 50])\n",
      "detail torch.Size([1, 128])\n",
      "tform torch.Size([1, 9])\n",
      "albedo torch.Size([1, 50])\n",
      "1 1\n"
     ]
    },
    {
     "name": "stderr",
     "output_type": "stream",
     "text": [
      "/home/mint/Dev/DiFaReli/difareli-faster/sample_scripts/sample_utils/params_utils.py:242: UserWarning: To copy construct from a tensor, it is recommended to use sourceTensor.clone().detach() or sourceTensor.clone().detach().requires_grad_(True), rather than torch.tensor(sourceTensor).\n",
      "  'light':th.tensor(deca_params['light']).to(device).reshape(-1, 9, 3).float(),\n"
     ]
    },
    {
     "name": "stdout",
     "output_type": "stream",
     "text": [
      "[#] There's 1 faces detected, using face 0\n",
      "[#] There's 1 faces detected, using face 0\n",
      "torch.Size([1, 3, 256, 256])\n"
     ]
    },
    {
     "ename": "IndexError",
     "evalue": "too many indices for tensor of dimension 4",
     "output_type": "error",
     "traceback": [
      "\u001b[0;31m---------------------------------------------------------------------------\u001b[0m",
      "\u001b[0;31mIndexError\u001b[0m                                Traceback (most recent call last)",
      "\u001b[0;32m/tmp/ipykernel_928289/983771641.py\u001b[0m in \u001b[0;36m<module>\u001b[0;34m\u001b[0m\n\u001b[1;32m     25\u001b[0m \u001b[0;34m\u001b[0m\u001b[0m\n\u001b[1;32m     26\u001b[0m \u001b[0mprint\u001b[0m\u001b[0;34m(\u001b[0m\u001b[0mdeca_rendered\u001b[0m\u001b[0;34m.\u001b[0m\u001b[0mshape\u001b[0m\u001b[0;34m)\u001b[0m\u001b[0;34m\u001b[0m\u001b[0;34m\u001b[0m\u001b[0m\n\u001b[0;32m---> 27\u001b[0;31m \u001b[0mplt\u001b[0m\u001b[0;34m.\u001b[0m\u001b[0mimshow\u001b[0m\u001b[0;34m(\u001b[0m\u001b[0mdeca_rendered\u001b[0m\u001b[0;34m[\u001b[0m\u001b[0;34m'rendered_image'\u001b[0m\u001b[0;34m]\u001b[0m\u001b[0;34m[\u001b[0m\u001b[0;36m0\u001b[0m\u001b[0;34m]\u001b[0m\u001b[0;34m.\u001b[0m\u001b[0mcpu\u001b[0m\u001b[0;34m(\u001b[0m\u001b[0;34m)\u001b[0m\u001b[0;34m.\u001b[0m\u001b[0mnumpy\u001b[0m\u001b[0;34m(\u001b[0m\u001b[0;34m)\u001b[0m\u001b[0;34m.\u001b[0m\u001b[0mpermute\u001b[0m\u001b[0;34m(\u001b[0m\u001b[0;36m1\u001b[0m\u001b[0;34m,\u001b[0m \u001b[0;36m2\u001b[0m\u001b[0;34m,\u001b[0m \u001b[0;36m0\u001b[0m\u001b[0;34m)\u001b[0m\u001b[0;34m)\u001b[0m\u001b[0;34m\u001b[0m\u001b[0;34m\u001b[0m\u001b[0m\n\u001b[0m\u001b[1;32m     28\u001b[0m \u001b[0mplt\u001b[0m\u001b[0;34m.\u001b[0m\u001b[0mshow\u001b[0m\u001b[0;34m(\u001b[0m\u001b[0;34m)\u001b[0m\u001b[0;34m\u001b[0m\u001b[0;34m\u001b[0m\u001b[0m\n\u001b[1;32m     29\u001b[0m \u001b[0;34m\u001b[0m\u001b[0m\n",
      "\u001b[0;31mIndexError\u001b[0m: too many indices for tensor of dimension 4"
     ]
    }
   ],
   "source": [
    "sys.path.append('/home/mint/Dev/DiFaReli/difareli-faster/sample_scripts/sample_utils/')\n",
    "import params_utils\n",
    "\n",
    "\n",
    "img_name = '60065.jpg'\n",
    "src_idx = 0\n",
    "cond = {}\n",
    "for k in params[img_name].keys():\n",
    "    cond[k] = params[img_name][k][None, ]\n",
    "\n",
    "for k in cond.keys():\n",
    "    cond[k] = th.tensor(cond[k]).cuda()\n",
    "    print(k, cond[k].shape)\n",
    "\n",
    "cond['raw_image_path'] = [f'/data/mint/DPM_Dataset/ffhq_256_with_anno/ffhq_256/{set_}/{img_name}']\n",
    "cond['raw_image'] = th.tensor(np.array(Image.open(cond['raw_image_path'][0]))).cuda().permute(2, 0, 1).float().unsqueeze(0)/255.0\n",
    "deca_rendered, orig_visdict = params_utils.render_deca(deca_params=cond, \n",
    "                                                    idx=src_idx, n=1, \n",
    "                                                    avg_dict=None, \n",
    "                                                    render_mode='shape', \n",
    "                                                    rotate_normals=False, \n",
    "                                                    mask=mask,\n",
    "                                                    deca_obj=deca_obj,\n",
    "                                                    repeat=True)\n",
    "\n",
    "print(deca_rendered.shape)\n",
    "plt.imshow(deca_rendered[0].cpu().numpy().transpose(1, 2, 0))\n",
    "plt.show()\n",
    "\n",
    "shadow_mask = render_shadow_mask(\n",
    "                sh_light=cond['light'], \n",
    "                cam=cond['cam'][src_idx],\n",
    "                verts=orig_visdict['trans_verts_orig'], \n",
    "                deca=deca_obj)"
   ]
  },
  {
   "cell_type": "code",
   "execution_count": 45,
   "metadata": {},
   "outputs": [
    {
     "name": "stdout",
     "output_type": "stream",
     "text": [
      "[0.]\n"
     ]
    },
    {
     "data": {
      "image/png": "[encoded data removed]",
      "text/plain": [
       "<Figure size 432x288 with 1 Axes>"
      ]
     },
     "metadata": {
      "needs_background": "light"
     },
     "output_type": "display_data"
    }
   ],
   "source": [
    "import matplotlib.pyplot as plt\n",
    "print(np.unique(shadow_mask.cpu().numpy()))\n",
    "plt.imshow(shadow_mask[0].cpu().numpy(), cmap='gray')\n",
    "plt.show()"
   ]
  }
 ],
 "metadata": {
  "kernelspec": {
   "display_name": "dpm_sampling_deca",
   "language": "python",
   "name": "python3"
  },
  "language_info": {
   "codemirror_mode": {
    "name": "ipython",
    "version": 3
   },
   "file_extension": ".py",
   "mimetype": "text/x-python",
   "name": "python",
   "nbconvert_exporter": "python",
   "pygments_lexer": "ipython3",
   "version": "3.8.12"
  }
 },
 "nbformat": 4,
 "nbformat_minor": 2
}
