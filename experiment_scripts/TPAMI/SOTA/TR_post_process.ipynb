{
 "cells": [
  {
   "cell_type": "code",
   "execution_count": 2,
   "metadata": {},
   "outputs": [
    {
     "name": "stderr",
     "output_type": "stream",
     "text": [
      "  0%|          | 0/3085 [00:00<?, ?it/s]"
     ]
    },
    {
     "name": "stderr",
     "output_type": "stream",
     "text": [
      "100%|██████████| 3085/3085 [07:46<00:00,  6.61it/s]\n"
     ]
    }
   ],
   "source": [
    "import numpy as np\n",
    "import matplotlib.pyplot as plt\n",
    "import cv2, glob\n",
    "from PIL import Image\n",
    "import tqdm, json, os\n",
    "\n",
    "with open('./ffhq_pair2.json', 'r') as f:\n",
    "    pair = json.load(f)['pair']\n",
    "\n",
    "inpath = '/data/mint/sampling/TPAMI/sota/TR/TREval_May/output_new/'\n",
    "original_bg = '/data/mint/DPM_Dataset/ffhq_256_with_anno/ffhq_256/valid/'\n",
    "mask = glob.glob(f'{inpath}/*_mask.png')\n",
    "for f in tqdm.tqdm(mask):\n",
    "    mask_img = Image.open(f).convert('L')\n",
    "    img = Image.open(f.replace('_mask', ''))\n",
    "    h, w, _ = np.array(img).shape\n",
    "    # print(np.array(mask_img))\n",
    "    mask_img_arr = np.array(mask_img) != 0\n",
    "    # print(mask_img_arr)\n",
    "    img_arr = np.array(img)\n",
    "    pair_idx = f.split('/')[-1].split('_')[0]\n",
    "    src_name = pair[pair_idx]['src']\n",
    "    dst_name = pair[pair_idx]['dst']\n",
    "    org = Image.open(original_bg + src_name)\n",
    "    org_pad = np.zeros_like(img_arr)\n",
    "    org_pad[128:h-128, ...] = org.resize((w, w))\n",
    "    \n",
    "    out_path = '/data/mint/sampling/TPAMI/sota/TR/TREval_May/output_final/'\n",
    "    out_path = f'{out_path}/src={src_name}/dst={dst_name}/'\n",
    "    os.makedirs(out_path, exist_ok=True)\n",
    "    out = img_arr * mask_img_arr[..., None] + (org_pad * ~mask_img_arr[..., None])\n",
    "    out = out.astype(np.uint8)\n",
    "    \n",
    "    org_pad = org_pad.astype(np.uint8)[128:h-128, ...]\n",
    "    out = out.astype(np.uint8)[128:h-128, ...]\n",
    "    mask_img_arr = mask_img_arr.astype(np.uint8)[128:h-128, ...]\n",
    "    \n",
    "    Image.fromarray(org_pad).resize((256, 256)).save(out_path + f'res_frame0.png')\n",
    "    Image.fromarray(out).resize((256, 256)).save(out_path + f'res_frame1.png')\n",
    "    Image.fromarray(mask_img_arr).resize((256, 256)).save(out_path + f'mask_frame1.png')\n",
    "    "
   ]
  }
 ],
 "metadata": {
  "kernelspec": {
   "display_name": "3dr_conda_training",
   "language": "python",
   "name": "python3"
  },
  "language_info": {
   "codemirror_mode": {
    "name": "ipython",
    "version": 3
   },
   "file_extension": ".py",
   "mimetype": "text/x-python",
   "name": "python",
   "nbconvert_exporter": "python",
   "pygments_lexer": "ipython3",
   "version": "3.8.12"
  }
 },
 "nbformat": 4,
 "nbformat_minor": 2
}
