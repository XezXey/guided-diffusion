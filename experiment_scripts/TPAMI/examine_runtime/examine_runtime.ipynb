{
 "cells": [
  {
   "cell_type": "code",
   "execution_count": 8,
   "metadata": {},
   "outputs": [
    {
     "name": "stdout",
     "output_type": "stream",
     "text": [
      "dict_keys(['relit_time', 'name', 'mean_relit_time', 'std_relit_time', 'n_sj'])\n",
      "dict_keys(['relit_time', 'name', 'mean_relit_time', 'std_relit_time', 'n_sj'])\n",
      "dict_keys(['relit_time', 'name', 'mean_relit_time', 'std_relit_time', 'n_sj'])\n"
     ]
    }
   ],
   "source": [
    "import numpy as np\n",
    "import json, glob, os\n",
    "\n",
    "path = \"/data/mint/sampling/TPAMI/conditional_ablation/\"\n",
    "for m in glob.glob(path + '/*'):\n",
    "    if os.path.exists(m + '/runtime.json'):\n",
    "        with open(m + '/runtime.json') as f:\n",
    "            results = json.load(f)\n",
    "        print(results.keys())\n",
    "    "
   ]
  },
  {
   "cell_type": "code",
   "execution_count": 11,
   "metadata": {},
   "outputs": [
    {
     "data": {
      "text/plain": [
       "False"
      ]
     },
     "execution_count": 11,
     "metadata": {},
     "output_type": "execute_result"
    }
   ],
   "source": [
    "'a' in {'g':None, 'b':10}"
   ]
  }
 ],
 "metadata": {
  "kernelspec": {
   "display_name": "difareli_faster_training",
   "language": "python",
   "name": "python3"
  },
  "language_info": {
   "codemirror_mode": {
    "name": "ipython",
    "version": 3
   },
   "file_extension": ".py",
   "mimetype": "text/x-python",
   "name": "python",
   "nbconvert_exporter": "python",
   "pygments_lexer": "ipython3",
   "version": "3.8.12"
  }
 },
 "nbformat": 4,
 "nbformat_minor": 2
}
