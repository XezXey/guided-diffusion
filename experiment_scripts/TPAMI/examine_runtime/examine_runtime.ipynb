{
 "cells": [
  {
   "cell_type": "code",
   "execution_count": 9,
   "metadata": {},
   "outputs": [
    {
     "name": "stdout",
     "output_type": "stream",
     "text": [
      "=======================================\n",
      "Running time : ours_oneshot\n",
      "dict_keys(['relit_time', 'render_time', 'name', 'mean_relit_time', 'std_relit_time', 'mean_render_time', 'std_render_time', 'set', 'n_sj'])\n",
      "Mean +- std of runtime: 0.09744595527648926 +- 0.07259452955111886\n",
      "Mean +- std of rendering time: 3.2530117666721345 +- 0.31294238127556007\n"
     ]
    }
   ],
   "source": [
    "import numpy as np\n",
    "import json, glob, os\n",
    "\n",
    "path = {\n",
    "    \"ours_oneshot\" : \"/data/mint/sampling/TPAMI/main_result/log=paired+difareli+nobg+nodpm+trainset_256.yaml_cfg=paired+difareli+nobg+nodpm+trainset_256.yaml/ema_250000/valid/\"\n",
    "}\n",
    "\n",
    "for k, v in path.items():\n",
    "    print(\"=======================================\")\n",
    "    print(f\"Running time : {k}\")\n",
    "    rf = glob.glob(v + 'runtime*.json')[0]\n",
    "    with open(rf) as f:\n",
    "        results = json.load(f)\n",
    "        print(results.keys())\n",
    "        print(f\"Mean +- std of runtime: {np.mean(results['relit_time'])} +- {np.std(results['relit_time'])}\")\n",
    "        print(f\"Mean +- std of rendering time: {np.mean(results['render_time'])} +- {np.std(results['render_time'])}\")\n",
    "        \n",
    "    "
   ]
  }
 ],
 "metadata": {
  "kernelspec": {
   "display_name": "difareli_faster_training",
   "language": "python",
   "name": "python3"
  },
  "language_info": {
   "codemirror_mode": {
    "name": "ipython",
    "version": 3
   },
   "file_extension": ".py",
   "mimetype": "text/x-python",
   "name": "python",
   "nbconvert_exporter": "python",
   "pygments_lexer": "ipython3",
   "version": "3.8.12"
  }
 },
 "nbformat": 4,
 "nbformat_minor": 2
}
