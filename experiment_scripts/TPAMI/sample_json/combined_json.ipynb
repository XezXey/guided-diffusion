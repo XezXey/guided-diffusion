{
 "cells": [
  {
   "cell_type": "code",
   "execution_count": 5,
   "metadata": {},
   "outputs": [
    {
     "name": "stdout",
     "output_type": "stream",
     "text": [
      "./ICCV/teaser.json\n",
      "./ICCV/ICCV_combined.json\n",
      "./ICCV/speedup.json\n",
      "./ICCV/difareli++_samples_changebg.json\n",
      "./ICCV/main_results.json\n",
      "./ICCV/appendix_results.json\n",
      "./ICCV/failure.json\n",
      "./ICCV/pipeline_overview.json\n"
     ]
    }
   ],
   "source": [
    "import glob\n",
    "import json\n",
    "\n",
    "count = 0\n",
    "out_dict = {'pair':{}}\n",
    "for p in glob.glob(\"./ICCV/*.json\"):\n",
    "    if p == './ICCV/ICCV_combined.json':\n",
    "        continue\n",
    "    with open(p) as f:\n",
    "        data = json.load(f)['pair']\n",
    "        for k, v in data.items():\n",
    "            count += 1\n",
    "            out_dict['pair'][f'pair{count}'] = v\n",
    "with open('./ICCV/ICCV_combined.json', 'w') as f:\n",
    "    json.dump(out_dict, f, indent=4)"
   ]
  }
 ],
 "metadata": {
  "kernelspec": {
   "display_name": "dpm_sampling_deca",
   "language": "python",
   "name": "python3"
  },
  "language_info": {
   "codemirror_mode": {
    "name": "ipython",
    "version": 3
   },
   "file_extension": ".py",
   "mimetype": "text/x-python",
   "name": "python",
   "nbconvert_exporter": "python",
   "pygments_lexer": "ipython3",
   "version": "3.8.12"
  }
 },
 "nbformat": 4,
 "nbformat_minor": 2
}
