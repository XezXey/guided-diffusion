{
 "cells": [
  {
   "cell_type": "code",
   "execution_count": 2,
   "metadata": {},
   "outputs": [
    {
     "name": "stdout",
     "output_type": "stream",
     "text": [
      "28\n"
     ]
    }
   ],
   "source": [
    "import json\n",
    "import os\n",
    "# For TargetSH from TR (Can see images in slide \"Sample for targetSH figures\")\n",
    "pair_id = [1186, 1241, 1259, 1355, 1406, 1477, 1494, 1508, \n",
    "        1509, 1566, 1572, 1576, 1581, 1587, 1589, 1604, 1640, \n",
    "        1647, 1650, 1654, 1660, 1677, 1774, 1812, 1830, 1835, 1838, 1894]\n",
    "print(len(pair_id))\n",
    "file = './TR/gen_pair_TR.json'\n",
    "out = {'pair':{}}\n",
    "with open(file, 'r') as f:\n",
    "    data = json.load(f)['pair']\n",
    "    for i in pair_id:\n",
    "        out['pair'][f'pair{i}'] = data[f'pair{i}']\n",
    "\n",
    "with open('./DiFaReli++/TargetSH_from_TR.json', 'w') as f:\n",
    "    json.dump(out, f, indent=4)\n",
    "\n"
   ]
  }
 ],
 "metadata": {
  "kernelspec": {
   "display_name": "dpm_sampling_deca_pysh",
   "language": "python",
   "name": "python3"
  },
  "language_info": {
   "codemirror_mode": {
    "name": "ipython",
    "version": 3
   },
   "file_extension": ".py",
   "mimetype": "text/x-python",
   "name": "python",
   "nbconvert_exporter": "python",
   "pygments_lexer": "ipython3",
   "version": "3.8.12"
  }
 },
 "nbformat": 4,
 "nbformat_minor": 2
}
