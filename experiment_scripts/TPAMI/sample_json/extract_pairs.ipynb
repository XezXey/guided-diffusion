{
 "cells": [
  {
   "cell_type": "code",
   "execution_count": 7,
   "metadata": {},
   "outputs": [
    {
     "name": "stdout",
     "output_type": "stream",
     "text": [
      "26\n"
     ]
    }
   ],
   "source": [
    "import json\n",
    "import os\n",
    "# # For TargetSH from TR (Can see images in slide \"Sample for targetSH figures\")\n",
    "# pair_id = [1186, 1241, 1259, 1355, 1406, 1477, 1494, 1508, \n",
    "#         1509, 1566, 1572, 1576, 1581, 1587, 1589, 1604, 1640, \n",
    "#         1647, 1650, 1654, 1660, 1677, 1774, 1812, 1830, 1835, 1838, 1894,\n",
    "#         1901, 1971, 1976, 2015, 2059, 2076, 2178, 2245, 2285, 2312, 2317, 2339, \n",
    "#         2412, 2449, 2512, 2516, 2554, 2672, 2681, 2747, 2768, 2820, 2913, 2973]\n",
    "\n",
    "# # For RotateSH from TR (Can see images in slide \"Sample for targetSH figures\")\n",
    "pair_id = [885, 888, 892, 1000, 1003, 1028, 1054, 1127, 1128, 1166, 1195, 1228, 1249, 1268, \n",
    "        1271, 1288, 1386, 1509, 1548, 1576, 1589, 1604, 1647, 1654, 1660, 1661, 1671, 1694, 1836,\n",
    "        1853, 1854, 1946, 1999, 2020, 2037, 2152, 2194, 2217, 2423, 2422, 2439, 2457, 2516, 2584, 2652, \n",
    "        2681, 2747, 2750, 2857]\n",
    "\n",
    "# # For RotateSH from top100 max shadows\n",
    "# pair_id = [13, 14, 17, 23, 30, 32, 36, 37, 40, 41, 51, 53, 57, 61, 66, 68, 71, 73, 76, 79, 88, 90, 92, 94, 95, 97]\n",
    "print(len(pair_id))\n",
    "file = './TR/gen_pair_TR.json'\n",
    "# file = '/home/mint/Dev/DiFaReli/difareli-faster/experiment_scripts/TPAMI/evaluation/moving_shadows/top_100_max_shadows.json'\n",
    "out = {'pair':{}}\n",
    "with open(file, 'r') as f:\n",
    "    data = json.load(f)['pair']\n",
    "    for i in pair_id:\n",
    "        out['pair'][f'pair{i}'] = data[f'pair{i}']\n",
    "\n",
    "# with open('./DiFaReli++/RotateSH_from_top100maxC.json', 'w') as f:\n",
    "with open('./DiFaReli++/RotateSH_from_TR.json', 'w') as f:\n",
    "    json.dump(out, f, indent=4)\n",
    "\n"
   ]
  }
 ],
 "metadata": {
  "kernelspec": {
   "display_name": "dpm_sampling_deca_pysh",
   "language": "python",
   "name": "python3"
  },
  "language_info": {
   "codemirror_mode": {
    "name": "ipython",
    "version": 3
   },
   "file_extension": ".py",
   "mimetype": "text/x-python",
   "name": "python",
   "nbconvert_exporter": "python",
   "pygments_lexer": "ipython3",
   "version": "3.8.12"
  }
 },
 "nbformat": 4,
 "nbformat_minor": 2
}
