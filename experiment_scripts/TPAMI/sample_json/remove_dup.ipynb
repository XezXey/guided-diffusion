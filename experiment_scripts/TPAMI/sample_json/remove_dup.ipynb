{
 "cells": [
  {
   "cell_type": "code",
   "execution_count": 3,
   "metadata": {},
   "outputs": [],
   "source": [
    "import numpy as np\n",
    "import json\n",
    "\n",
    "with open('./gen_pair_TR.json') as f:\n",
    "    dat = json.load(f)\n",
    "\n",
    "# Remove duplicate if src already exists\n",
    "out_dict = {'pair':{}}\n",
    "count = 0\n",
    "exist = []\n",
    "for k, v in dat['pair'].items():\n",
    "    if count == 0:\n",
    "        out_dict['pair'][f'pair{count}'] = {'src':v['src'], 'dst':v['dst']}\n",
    "        exist.append(v['src'])\n",
    "        count += 1\n",
    "    else:\n",
    "        if v['src'] not in exist:\n",
    "            out_dict['pair'][f'pair{count}'] = {'src':v['src'], 'dst':v['dst']}\n",
    "            count += 1\n",
    "            exist.append(v['src'])\n",
    "        else:\n",
    "            continue\n",
    "\n",
    "json.dump(out_dict, open('./gen_pair_TR_for_rotate.json', 'w'), indent=4)\n",
    "        "
   ]
  }
 ],
 "metadata": {
  "kernelspec": {
   "display_name": "dpm_sampling_deca_pysh",
   "language": "python",
   "name": "python3"
  },
  "language_info": {
   "codemirror_mode": {
    "name": "ipython",
    "version": 3
   },
   "file_extension": ".py",
   "mimetype": "text/x-python",
   "name": "python",
   "nbconvert_exporter": "python",
   "pygments_lexer": "ipython3",
   "version": "3.8.12"
  }
 },
 "nbformat": 4,
 "nbformat_minor": 2
}
