{
 "cells": [
  {
   "cell_type": "code",
   "execution_count": 1,
   "metadata": {},
   "outputs": [
    {
     "name": "stderr",
     "output_type": "stream",
     "text": [
      "  0%|          | 0/100 [00:00<?, ?it/s]\n"
     ]
    },
    {
     "ename": "FileNotFoundError",
     "evalue": "[Errno 2] No such file or directory: '/data/mint/MultiPIE/Multi-Pie/data//session04/multiview/'",
     "output_type": "error",
     "traceback": [
      "\u001b[0;31m---------------------------------------------------------------------------\u001b[0m",
      "\u001b[0;31mFileNotFoundError\u001b[0m                         Traceback (most recent call last)",
      "\u001b[0;32m/tmp/ipykernel_2978420/1391891204.py\u001b[0m in \u001b[0;36m<module>\u001b[0;34m\u001b[0m\n\u001b[1;32m     29\u001b[0m     \u001b[0msess_id\u001b[0m \u001b[0;34m=\u001b[0m \u001b[0mnp\u001b[0m\u001b[0;34m.\u001b[0m\u001b[0mrandom\u001b[0m\u001b[0;34m.\u001b[0m\u001b[0mchoice\u001b[0m\u001b[0;34m(\u001b[0m\u001b[0msession\u001b[0m\u001b[0;34m,\u001b[0m \u001b[0msize\u001b[0m\u001b[0;34m=\u001b[0m\u001b[0;36m1\u001b[0m\u001b[0;34m)\u001b[0m\u001b[0;34m[\u001b[0m\u001b[0;36m0\u001b[0m\u001b[0;34m]\u001b[0m\u001b[0;34m\u001b[0m\u001b[0;34m\u001b[0m\u001b[0m\n\u001b[1;32m     30\u001b[0m     \u001b[0mtmp_path\u001b[0m \u001b[0;34m=\u001b[0m \u001b[0;34mf'{path}/{sess_id}/multiview/'\u001b[0m\u001b[0;34m\u001b[0m\u001b[0;34m\u001b[0m\u001b[0m\n\u001b[0;32m---> 31\u001b[0;31m     \u001b[0msj_id\u001b[0m \u001b[0;34m=\u001b[0m \u001b[0mnp\u001b[0m\u001b[0;34m.\u001b[0m\u001b[0mrandom\u001b[0m\u001b[0;34m.\u001b[0m\u001b[0mchoice\u001b[0m\u001b[0;34m(\u001b[0m\u001b[0mos\u001b[0m\u001b[0;34m.\u001b[0m\u001b[0mlistdir\u001b[0m\u001b[0;34m(\u001b[0m\u001b[0mtmp_path\u001b[0m\u001b[0;34m)\u001b[0m\u001b[0;34m)\u001b[0m\u001b[0;34m\u001b[0m\u001b[0;34m\u001b[0m\u001b[0m\n\u001b[0m\u001b[1;32m     32\u001b[0m     \u001b[0mrec_id\u001b[0m \u001b[0;34m=\u001b[0m \u001b[0;34m'01'\u001b[0m   \u001b[0;31m# This is fixed for the neutral emotion face\u001b[0m\u001b[0;34m\u001b[0m\u001b[0;34m\u001b[0m\u001b[0m\n\u001b[1;32m     33\u001b[0m     \u001b[0mcam_id\u001b[0m \u001b[0;34m=\u001b[0m \u001b[0;34m'05_1'\u001b[0m \u001b[0;31m# This is frontal camera\u001b[0m\u001b[0;34m\u001b[0m\u001b[0;34m\u001b[0m\u001b[0m\n",
      "\u001b[0;31mFileNotFoundError\u001b[0m: [Errno 2] No such file or directory: '/data/mint/MultiPIE/Multi-Pie/data//session04/multiview/'"
     ]
    }
   ],
   "source": [
    "# Convention\n",
    "# <subject_id>/<recording_number>/<camera_number>/<subject_id>_<recording_number>_<session_number>_<camera_number>_<image_number>\n",
    "\n",
    "import numpy as np\n",
    "import json, os, glob, sys, tqdm\n",
    "# Fix the random seed\n",
    "np.random.seed(7)\n",
    "\n",
    "session = ['session01', 'session02', 'session03', 'session04']\n",
    "n_random = 100\n",
    "path = '/data/mint/MultiPIE/Multi-Pie/data/'\n",
    "\n",
    "\n",
    "out_json = {'pair':{}}\n",
    "\n",
    "mp_input_outpath = '/data/mint/DPM_Dataset/MultiPIE/MultiPIE_validset2/mp_input/'\n",
    "mp_target_outpath = '/data/mint/DPM_Dataset/MultiPIE/MultiPIE_validset2/mp_target/'\n",
    "mp_outpath = '/data/mint/DPM_Dataset/MultiPIE/MultiPIE_validset2/mp/'\n",
    "os.makedirs(mp_input_outpath, exist_ok=True)\n",
    "os.makedirs(mp_target_outpath, exist_ok=True)\n",
    "os.makedirs(mp_outpath, exist_ok=True)\n",
    "\n",
    "session_out_path = '/data/mint/DPM_Dataset/MultiPIE/MultiPIE_validset2/valset2_sess'\n",
    "os.makedirs(session_out_path, exist_ok=True)\n",
    "copy = False \n",
    "\n",
    "input_img_list, gt_img_list = [], []\n",
    "for i in tqdm.tqdm(range(n_random)):\n",
    "    sess_id = np.random.choice(session, size=1)[0]\n",
    "    tmp_path = f'{path}/{sess_id}/multiview/'\n",
    "    sj_id = np.random.choice(os.listdir(tmp_path))\n",
    "    rec_id = '01'   # This is fixed for the neutral emotion face\n",
    "    cam_id = '05_1' # This is frontal camera\n",
    "    final_path = f'{tmp_path}/{sj_id}/{rec_id}/{cam_id}/'\n",
    "    input_img, gt_img = np.random.choice(os.listdir(final_path), 2, replace=False)\n",
    "    while (input_img in input_img_list) and (gt_img in gt_img_list):\n",
    "        input_img, gt_img = np.random.choice(os.listdir(final_path), 2)\n",
    "    input_img_list.append(input_img)\n",
    "    gt_img_list.append(gt_img)\n",
    "        \n",
    "    out_json['pair'][f'pair{i+1}'] = {'src':input_img, 'dst':gt_img, 'gt':gt_img, 'path':final_path}\n",
    "    \n",
    "    if copy:\n",
    "        final_out_path = f'{session_out_path}/{sess_id}/multiview/{sj_id}/{rec_id}'\n",
    "        os.makedirs(final_out_path, exist_ok=True)\n",
    "        # Copy whole session\n",
    "        os.system(f'cp -r {final_path} {final_out_path}/')\n",
    "        \n",
    "        os.system(f'cp -r {final_path}/{input_img} {mp_input_outpath}/')\n",
    "        os.system(f'cp -r {final_path}/{gt_img} {mp_target_outpath}/')\n",
    "        os.system(f'cp -r {final_path}/{gt_img} {mp_outpath}/')\n",
    "        os.system(f'cp -r {final_path}/{input_img} {mp_outpath}/')\n",
    "    # assert False\n",
    "        \n",
    "    \n",
    "with open(f'./multipie_valset2.json', 'w') as fp:\n",
    "    json.dump(out_json, fp, indent=4)"
   ]
  }
 ],
 "metadata": {
  "kernelspec": {
   "display_name": "dpm_sampling_deca",
   "language": "python",
   "name": "python3"
  },
  "language_info": {
   "codemirror_mode": {
    "name": "ipython",
    "version": 3
   },
   "file_extension": ".py",
   "mimetype": "text/x-python",
   "name": "python",
   "nbconvert_exporter": "python",
   "pygments_lexer": "ipython3",
   "version": "3.8.12"
  }
 },
 "nbformat": 4,
 "nbformat_minor": 2
}
