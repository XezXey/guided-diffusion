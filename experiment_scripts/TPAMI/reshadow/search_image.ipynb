{
 "cells": [
  {
   "cell_type": "code",
   "execution_count": 4,
   "metadata": {},
   "outputs": [
    {
     "name": "stderr",
     "output_type": "stream",
     "text": [
      "  0%|          | 0/10000 [00:00<?, ?it/s]"
     ]
    },
    {
     "name": "stderr",
     "output_type": "stream",
     "text": [
      "100%|██████████| 10000/10000 [00:12<00:00, 790.53it/s]\n"
     ]
    },
    {
     "name": "stdout",
     "output_type": "stream",
     "text": [
      "./difareli++_samples/1-1.png is most similar to /data/mint/DPM_Dataset/ffhq_256_with_anno/ffhq_256/valid/62369.jpg\n"
     ]
    },
    {
     "name": "stderr",
     "output_type": "stream",
     "text": [
      "100%|██████████| 10000/10000 [00:12<00:00, 792.06it/s]\n"
     ]
    },
    {
     "name": "stdout",
     "output_type": "stream",
     "text": [
      "./difareli++_samples/3-2.png is most similar to /data/mint/DPM_Dataset/ffhq_256_with_anno/ffhq_256/valid/67972.jpg\n"
     ]
    },
    {
     "name": "stderr",
     "output_type": "stream",
     "text": [
      "100%|██████████| 10000/10000 [00:12<00:00, 798.15it/s]\n"
     ]
    },
    {
     "name": "stdout",
     "output_type": "stream",
     "text": [
      "./difareli++_samples/9-1.png is most similar to /data/mint/DPM_Dataset/ffhq_256_with_anno/ffhq_256/valid/60704.jpg\n"
     ]
    },
    {
     "name": "stderr",
     "output_type": "stream",
     "text": [
      "100%|██████████| 10000/10000 [00:12<00:00, 796.85it/s]\n"
     ]
    },
    {
     "name": "stdout",
     "output_type": "stream",
     "text": [
      "./difareli++_samples/1-2.png is most similar to /data/mint/DPM_Dataset/ffhq_256_with_anno/ffhq_256/valid/60438.jpg\n"
     ]
    },
    {
     "name": "stderr",
     "output_type": "stream",
     "text": [
      "100%|██████████| 10000/10000 [00:12<00:00, 794.72it/s]\n"
     ]
    },
    {
     "name": "stdout",
     "output_type": "stream",
     "text": [
      "./difareli++_samples/2-1.png is most similar to /data/mint/DPM_Dataset/ffhq_256_with_anno/ffhq_256/valid/68105.jpg\n"
     ]
    },
    {
     "name": "stderr",
     "output_type": "stream",
     "text": [
      "100%|██████████| 10000/10000 [00:12<00:00, 793.97it/s]\n"
     ]
    },
    {
     "name": "stdout",
     "output_type": "stream",
     "text": [
      "./difareli++_samples/4-1.png is most similar to /data/mint/DPM_Dataset/ffhq_256_with_anno/ffhq_256/valid/62889.jpg\n"
     ]
    },
    {
     "name": "stderr",
     "output_type": "stream",
     "text": [
      "100%|██████████| 10000/10000 [00:12<00:00, 795.34it/s]\n"
     ]
    },
    {
     "name": "stdout",
     "output_type": "stream",
     "text": [
      "./difareli++_samples/8-1.png is most similar to /data/mint/DPM_Dataset/ffhq_256_with_anno/ffhq_256/valid/69128.jpg\n"
     ]
    },
    {
     "name": "stderr",
     "output_type": "stream",
     "text": [
      "100%|██████████| 10000/10000 [00:12<00:00, 792.40it/s]\n"
     ]
    },
    {
     "name": "stdout",
     "output_type": "stream",
     "text": [
      "./difareli++_samples/7-2.png is most similar to /data/mint/DPM_Dataset/ffhq_256_with_anno/ffhq_256/valid/62962.jpg\n"
     ]
    },
    {
     "name": "stderr",
     "output_type": "stream",
     "text": [
      "100%|██████████| 10000/10000 [00:12<00:00, 796.00it/s]\n"
     ]
    },
    {
     "name": "stdout",
     "output_type": "stream",
     "text": [
      "./difareli++_samples/11-1.png is most similar to /data/mint/DPM_Dataset/ffhq_256_with_anno/ffhq_256/valid/63023.jpg\n"
     ]
    },
    {
     "name": "stderr",
     "output_type": "stream",
     "text": [
      "100%|██████████| 10000/10000 [00:12<00:00, 791.82it/s]\n"
     ]
    },
    {
     "name": "stdout",
     "output_type": "stream",
     "text": [
      "./difareli++_samples/7-1.png is most similar to /data/mint/DPM_Dataset/ffhq_256_with_anno/ffhq_256/valid/67313.jpg\n"
     ]
    },
    {
     "name": "stderr",
     "output_type": "stream",
     "text": [
      "100%|██████████| 10000/10000 [00:12<00:00, 794.16it/s]\n"
     ]
    },
    {
     "name": "stdout",
     "output_type": "stream",
     "text": [
      "./difareli++_samples/4-2.png is most similar to /data/mint/DPM_Dataset/ffhq_256_with_anno/ffhq_256/valid/63966.jpg\n"
     ]
    },
    {
     "name": "stderr",
     "output_type": "stream",
     "text": [
      "100%|██████████| 10000/10000 [00:12<00:00, 794.47it/s]\n"
     ]
    },
    {
     "name": "stdout",
     "output_type": "stream",
     "text": [
      "./difareli++_samples/5-1.png is most similar to /data/mint/DPM_Dataset/ffhq_256_with_anno/ffhq_256/valid/68280.jpg\n"
     ]
    },
    {
     "name": "stderr",
     "output_type": "stream",
     "text": [
      "100%|██████████| 10000/10000 [00:12<00:00, 793.64it/s]\n"
     ]
    },
    {
     "name": "stdout",
     "output_type": "stream",
     "text": [
      "./difareli++_samples/10-2.png is most similar to /data/mint/DPM_Dataset/ffhq_256_with_anno/ffhq_256/valid/66994.jpg\n"
     ]
    },
    {
     "name": "stderr",
     "output_type": "stream",
     "text": [
      "100%|██████████| 10000/10000 [00:12<00:00, 792.31it/s]\n"
     ]
    },
    {
     "name": "stdout",
     "output_type": "stream",
     "text": [
      "./difareli++_samples/11-2.png is most similar to /data/mint/DPM_Dataset/ffhq_256_with_anno/ffhq_256/valid/60852.jpg\n"
     ]
    },
    {
     "name": "stderr",
     "output_type": "stream",
     "text": [
      "100%|██████████| 10000/10000 [00:12<00:00, 789.30it/s]\n"
     ]
    },
    {
     "name": "stdout",
     "output_type": "stream",
     "text": [
      "./difareli++_samples/12-1.png is most similar to /data/mint/DPM_Dataset/ffhq_256_with_anno/ffhq_256/valid/69878.jpg\n"
     ]
    },
    {
     "name": "stderr",
     "output_type": "stream",
     "text": [
      "100%|██████████| 10000/10000 [00:12<00:00, 790.00it/s]\n"
     ]
    },
    {
     "name": "stdout",
     "output_type": "stream",
     "text": [
      "./difareli++_samples/8-2.png is most similar to /data/mint/DPM_Dataset/ffhq_256_with_anno/ffhq_256/valid/65304.jpg\n"
     ]
    },
    {
     "name": "stderr",
     "output_type": "stream",
     "text": [
      "100%|██████████| 10000/10000 [00:12<00:00, 796.24it/s]\n"
     ]
    },
    {
     "name": "stdout",
     "output_type": "stream",
     "text": [
      "./difareli++_samples/2-2.png is most similar to /data/mint/DPM_Dataset/ffhq_256_with_anno/ffhq_256/valid/69191.jpg\n"
     ]
    },
    {
     "name": "stderr",
     "output_type": "stream",
     "text": [
      "100%|██████████| 10000/10000 [00:12<00:00, 789.79it/s]\n"
     ]
    },
    {
     "name": "stdout",
     "output_type": "stream",
     "text": [
      "./difareli++_samples/6-2.png is most similar to /data/mint/DPM_Dataset/ffhq_256_with_anno/ffhq_256/valid/63859.jpg\n"
     ]
    },
    {
     "name": "stderr",
     "output_type": "stream",
     "text": [
      "100%|██████████| 10000/10000 [00:12<00:00, 798.27it/s]\n"
     ]
    },
    {
     "name": "stdout",
     "output_type": "stream",
     "text": [
      "./difareli++_samples/9-2.png is most similar to /data/mint/DPM_Dataset/ffhq_256_with_anno/ffhq_256/valid/66496.jpg\n"
     ]
    },
    {
     "name": "stderr",
     "output_type": "stream",
     "text": [
      "100%|██████████| 10000/10000 [00:12<00:00, 791.93it/s]\n"
     ]
    },
    {
     "name": "stdout",
     "output_type": "stream",
     "text": [
      "./difareli++_samples/6-1.png is most similar to /data/mint/DPM_Dataset/ffhq_256_with_anno/ffhq_256/valid/65128.jpg\n"
     ]
    },
    {
     "name": "stderr",
     "output_type": "stream",
     "text": [
      "100%|██████████| 10000/10000 [00:12<00:00, 799.73it/s]\n"
     ]
    },
    {
     "name": "stdout",
     "output_type": "stream",
     "text": [
      "./difareli++_samples/5-2.png is most similar to /data/mint/DPM_Dataset/ffhq_256_with_anno/ffhq_256/valid/66149.jpg\n"
     ]
    },
    {
     "name": "stderr",
     "output_type": "stream",
     "text": [
      "100%|██████████| 10000/10000 [00:12<00:00, 799.76it/s]\n"
     ]
    },
    {
     "name": "stdout",
     "output_type": "stream",
     "text": [
      "./difareli++_samples/10-1.png is most similar to /data/mint/DPM_Dataset/ffhq_256_with_anno/ffhq_256/valid/62821.jpg\n"
     ]
    },
    {
     "name": "stderr",
     "output_type": "stream",
     "text": [
      "100%|██████████| 10000/10000 [00:12<00:00, 800.87it/s]\n"
     ]
    },
    {
     "name": "stdout",
     "output_type": "stream",
     "text": [
      "./difareli++_samples/3-1.png is most similar to /data/mint/DPM_Dataset/ffhq_256_with_anno/ffhq_256/valid/60018.jpg\n"
     ]
    },
    {
     "name": "stderr",
     "output_type": "stream",
     "text": [
      "100%|██████████| 10000/10000 [00:12<00:00, 797.60it/s]"
     ]
    },
    {
     "name": "stdout",
     "output_type": "stream",
     "text": [
      "./difareli++_samples/12-2.png is most similar to /data/mint/DPM_Dataset/ffhq_256_with_anno/ffhq_256/valid/60022.jpg\n"
     ]
    },
    {
     "name": "stderr",
     "output_type": "stream",
     "text": [
      "\n"
     ]
    }
   ],
   "source": [
    "from PIL import Image\n",
    "import numpy as np\n",
    "import glob, tqdm, os\n",
    "\n",
    "# Find image by score\n",
    "data_path = '/data/mint/DPM_Dataset/ffhq_256_with_anno/ffhq_256/valid/'\n",
    "\n",
    "ffhq_imgs = glob.glob(f'{data_path}/*.jpg')\n",
    "\n",
    "def cal_diff(img1, img2):\n",
    "    return np.mean((np.array(img1) - np.array(img2))**2)\n",
    "\n",
    "os.makedirs('./similar_ffhq_imgs', exist_ok=True)\n",
    "to_find_img = './difareli++_samples/change_bg/*.jpg'\n",
    "sample_json = {}\n",
    "for tfi in glob.glob(to_find_img):\n",
    "    img_name = tfi.split('/')[-1].split('.')[0]\n",
    "    tf_img = Image.open(tfi).convert('RGB').resize((256, 256))\n",
    "    score = []\n",
    "    for img in tqdm.tqdm(ffhq_imgs):\n",
    "        img = Image.open(img)\n",
    "        score.append(cal_diff(tf_img, img))\n",
    "        \n",
    "    idx = np.argmin(score)\n",
    "    print(f'{tfi} is most similar to {ffhq_imgs[idx]}')\n",
    "    pair_idx = int(img_name.split('-')[0])\n",
    "    src_dst_idx = int(img_name.split('-')[1])\n",
    "    if f'pair{pair_idx-1}' not in sample_json:\n",
    "        sample_json[f'pair{pair_idx-1}'] = {}\n",
    "    sample_json[f'pair{pair_idx-1}'].update({'src': ffhq_imgs[idx]} if src_dst_idx == 1 else {'dst': ffhq_imgs[idx]})\n",
    "    os.system(f'cp {ffhq_imgs[idx]} ./similar_ffhq_imgs/')\n",
    "    \n",
    "    "
   ]
  },
  {
   "cell_type": "code",
   "execution_count": null,
   "metadata": {},
   "outputs": [],
   "source": [
    "sample_json_out = sample_json\n",
    "for k, _ in sample_json_out.items():\n",
    "    sample_json_out[k]['src'] = sample_json_out[k]['src'].split('/')[-1]\n",
    "    sample_json_out[k]['dst'] = sample_json_out[k]['dst'].split('/')[-1]\n",
    "\n",
    "sample_json_out = {'pair': sample_json_out}\n",
    "print(sample_json_out)\n",
    "import json\n",
    "with open('./difareli++_samples.json', 'w') as f:\n",
    "    json.dump(sample_json_out, f, indent=4)"
   ]
  },
  {
   "cell_type": "code",
   "execution_count": 3,
   "metadata": {},
   "outputs": [
    {
     "name": "stderr",
     "output_type": "stream",
     "text": [
      "100%|██████████| 10000/10000 [00:12<00:00, 809.73it/s]\n"
     ]
    },
    {
     "name": "stdout",
     "output_type": "stream",
     "text": [
      "./difareli++_samples/reshadow/9.jpg is most similar to /data/mint/DPM_Dataset/ffhq_256_with_anno/ffhq_256/valid/60240.jpg with score 17.199055989583332\n"
     ]
    },
    {
     "name": "stderr",
     "output_type": "stream",
     "text": [
      "100%|██████████| 10000/10000 [00:12<00:00, 807.15it/s]\n"
     ]
    },
    {
     "name": "stdout",
     "output_type": "stream",
     "text": [
      "./difareli++_samples/reshadow/4.jpg is most similar to /data/mint/DPM_Dataset/ffhq_256_with_anno/ffhq_256/valid/64889.jpg with score 19.689219156901043\n"
     ]
    },
    {
     "name": "stderr",
     "output_type": "stream",
     "text": [
      "100%|██████████| 10000/10000 [00:12<00:00, 808.33it/s]\n"
     ]
    },
    {
     "name": "stdout",
     "output_type": "stream",
     "text": [
      "./difareli++_samples/reshadow/10.jpg is most similar to /data/mint/DPM_Dataset/ffhq_256_with_anno/ffhq_256/valid/60284.jpg with score 12.246164957682291\n"
     ]
    },
    {
     "name": "stderr",
     "output_type": "stream",
     "text": [
      "100%|██████████| 10000/10000 [00:12<00:00, 806.09it/s]\n"
     ]
    },
    {
     "name": "stdout",
     "output_type": "stream",
     "text": [
      "./difareli++_samples/reshadow/15.jpg is most similar to /data/mint/DPM_Dataset/ffhq_256_with_anno/ffhq_256/valid/60334.jpg with score 12.1883544921875\n"
     ]
    },
    {
     "name": "stderr",
     "output_type": "stream",
     "text": [
      "100%|██████████| 10000/10000 [00:12<00:00, 803.27it/s]\n"
     ]
    },
    {
     "name": "stdout",
     "output_type": "stream",
     "text": [
      "./difareli++_samples/reshadow/12.jpg is most similar to /data/mint/DPM_Dataset/ffhq_256_with_anno/ffhq_256/valid/60365.jpg with score 11.306976318359375\n"
     ]
    },
    {
     "name": "stderr",
     "output_type": "stream",
     "text": [
      "100%|██████████| 10000/10000 [00:12<00:00, 799.34it/s]\n"
     ]
    },
    {
     "name": "stdout",
     "output_type": "stream",
     "text": [
      "./difareli++_samples/reshadow/2.jpg is most similar to /data/mint/DPM_Dataset/ffhq_256_with_anno/ffhq_256/valid/68396.jpg with score 23.894551595052082\n"
     ]
    },
    {
     "name": "stderr",
     "output_type": "stream",
     "text": [
      "100%|██████████| 10000/10000 [00:12<00:00, 797.66it/s]\n"
     ]
    },
    {
     "name": "stdout",
     "output_type": "stream",
     "text": [
      "./difareli++_samples/reshadow/11.jpg is most similar to /data/mint/DPM_Dataset/ffhq_256_with_anno/ffhq_256/valid/60169.jpg with score 14.747039794921875\n"
     ]
    },
    {
     "name": "stderr",
     "output_type": "stream",
     "text": [
      "100%|██████████| 10000/10000 [00:12<00:00, 800.68it/s]\n"
     ]
    },
    {
     "name": "stdout",
     "output_type": "stream",
     "text": [
      "./difareli++_samples/reshadow/13.jpg is most similar to /data/mint/DPM_Dataset/ffhq_256_with_anno/ffhq_256/valid/66008.jpg with score 33.691436767578125\n"
     ]
    },
    {
     "name": "stderr",
     "output_type": "stream",
     "text": [
      "100%|██████████| 10000/10000 [00:12<00:00, 805.21it/s]\n"
     ]
    },
    {
     "name": "stdout",
     "output_type": "stream",
     "text": [
      "./difareli++_samples/reshadow/5.jpg is most similar to /data/mint/DPM_Dataset/ffhq_256_with_anno/ffhq_256/valid/60020.jpg with score 14.885945638020834\n"
     ]
    },
    {
     "name": "stderr",
     "output_type": "stream",
     "text": [
      "100%|██████████| 10000/10000 [00:12<00:00, 803.34it/s]\n"
     ]
    },
    {
     "name": "stdout",
     "output_type": "stream",
     "text": [
      "./difareli++_samples/reshadow/14.jpg is most similar to /data/mint/DPM_Dataset/ffhq_256_with_anno/ffhq_256/valid/60848.jpg with score 16.24420166015625\n"
     ]
    },
    {
     "name": "stderr",
     "output_type": "stream",
     "text": [
      "100%|██████████| 10000/10000 [00:12<00:00, 805.92it/s]\n"
     ]
    },
    {
     "name": "stdout",
     "output_type": "stream",
     "text": [
      "./difareli++_samples/reshadow/7.jpg is most similar to /data/mint/DPM_Dataset/ffhq_256_with_anno/ffhq_256/valid/60161.jpg with score 10.004069010416666\n"
     ]
    },
    {
     "name": "stderr",
     "output_type": "stream",
     "text": [
      "100%|██████████| 10000/10000 [00:12<00:00, 803.36it/s]\n"
     ]
    },
    {
     "name": "stdout",
     "output_type": "stream",
     "text": [
      "./difareli++_samples/reshadow/3.jpg is most similar to /data/mint/DPM_Dataset/ffhq_256_with_anno/ffhq_256/valid/60459.jpg with score 16.198898315429688\n"
     ]
    },
    {
     "name": "stderr",
     "output_type": "stream",
     "text": [
      "100%|██████████| 10000/10000 [00:12<00:00, 795.03it/s]\n"
     ]
    },
    {
     "name": "stdout",
     "output_type": "stream",
     "text": [
      "./difareli++_samples/reshadow/6.jpg is most similar to /data/mint/DPM_Dataset/ffhq_256_with_anno/ffhq_256/valid/65778.jpg with score 25.339426676432293\n"
     ]
    },
    {
     "name": "stderr",
     "output_type": "stream",
     "text": [
      "100%|██████████| 10000/10000 [00:12<00:00, 795.07it/s]\n"
     ]
    },
    {
     "name": "stdout",
     "output_type": "stream",
     "text": [
      "./difareli++_samples/reshadow/8.jpg is most similar to /data/mint/DPM_Dataset/ffhq_256_with_anno/ffhq_256/valid/60079.jpg with score 11.282633463541666\n"
     ]
    },
    {
     "name": "stderr",
     "output_type": "stream",
     "text": [
      "100%|██████████| 10000/10000 [00:12<00:00, 794.00it/s]"
     ]
    },
    {
     "name": "stdout",
     "output_type": "stream",
     "text": [
      "./difareli++_samples/reshadow/1.jpg is most similar to /data/mint/DPM_Dataset/ffhq_256_with_anno/ffhq_256/valid/62989.jpg with score 26.14061991373698\n"
     ]
    },
    {
     "name": "stderr",
     "output_type": "stream",
     "text": [
      "\n"
     ]
    }
   ],
   "source": [
    "from PIL import Image\n",
    "import numpy as np\n",
    "import glob, tqdm, os\n",
    "\n",
    "# Find image by score\n",
    "data_path = '/data/mint/DPM_Dataset/ffhq_256_with_anno/ffhq_256/valid/'\n",
    "\n",
    "ffhq_imgs = glob.glob(f'{data_path}/*.jpg')\n",
    "\n",
    "def cal_diff(img1, img2):\n",
    "    return np.mean((np.array(img1) - np.array(img2))**2)\n",
    "\n",
    "os.makedirs('./similar_ffhq_imgs', exist_ok=True)\n",
    "to_find_img = './difareli++_samples/reshadow/*.jpg'\n",
    "sample_json = {}\n",
    "for tfi in glob.glob(to_find_img):\n",
    "    img_name = tfi.split('/')[-1].split('.')[0]\n",
    "    tf_img = Image.open(tfi).convert('RGB').resize((256, 256))\n",
    "    score = []\n",
    "    for img in tqdm.tqdm(ffhq_imgs):\n",
    "        img = Image.open(img)\n",
    "        score.append(cal_diff(tf_img, img))\n",
    "        \n",
    "    idx = np.argmin(score)\n",
    "    print(f'{tfi} is most similar to {ffhq_imgs[idx]} with score {score[idx]}')\n",
    "    pair_idx = int(img_name.split('-')[0])\n",
    "    if f'pair{pair_idx-1}' not in sample_json:\n",
    "        sample_json[f'pair{pair_idx-1}'] = {}\n",
    "    sample_json[f'pair{pair_idx-1}'].update({'src': ffhq_imgs[idx], 'dst': '60000.jpg'})\n",
    "    os.system(f'cp {ffhq_imgs[idx]} ./similar_ffhq_imgs/')\n",
    "    \n",
    "    "
   ]
  },
  {
   "cell_type": "code",
   "execution_count": 7,
   "metadata": {},
   "outputs": [
    {
     "name": "stdout",
     "output_type": "stream",
     "text": [
      "{'pair': {'pair0': {'src': '62989.jpg', 'dst': '60000.jpg'}, 'pair1': {'src': '68396.jpg', 'dst': '60000.jpg'}, 'pair2': {'src': '60459.jpg', 'dst': '60000.jpg'}, 'pair3': {'src': '64889.jpg', 'dst': '60000.jpg'}, 'pair4': {'src': '60020.jpg', 'dst': '60000.jpg'}, 'pair5': {'src': '65778.jpg', 'dst': '60000.jpg'}, 'pair6': {'src': '60161.jpg', 'dst': '60000.jpg'}, 'pair7': {'src': '60079.jpg', 'dst': '60000.jpg'}, 'pair8': {'src': '60240.jpg', 'dst': '60000.jpg'}, 'pair9': {'src': '60284.jpg', 'dst': '60000.jpg'}, 'pair10': {'src': '60169.jpg', 'dst': '60000.jpg'}, 'pair11': {'src': '60365.jpg', 'dst': '60000.jpg'}, 'pair12': {'src': '66008.jpg', 'dst': '60000.jpg'}, 'pair13': {'src': '60848.jpg', 'dst': '60000.jpg'}, 'pair14': {'src': '60334.jpg', 'dst': '60000.jpg'}}}\n"
     ]
    }
   ],
   "source": [
    "sample_json_out = sample_json\n",
    "for k, _ in sample_json_out.items():\n",
    "    sample_json_out[k]['src'] = sample_json_out[k]['src'].split('/')[-1]\n",
    "    sample_json_out[k]['dst'] = sample_json_out[k]['dst'].split('/')[-1]\n",
    "\n",
    "sample_json_out = dict(sorted(sample_json_out.items(), key=lambda x: int(x[0].split('pair')[1])))\n",
    "sample_json_out = {'pair': sample_json_out}\n",
    "print(sample_json_out)\n",
    "\n",
    "import json\n",
    "with open('./difareli++_samples_reshadow.json', 'w') as f:\n",
    "    json.dump(sample_json_out, f, indent=4)"
   ]
  }
 ],
 "metadata": {
  "kernelspec": {
   "display_name": "dpm_sampling_deca",
   "language": "python",
   "name": "python3"
  },
  "language_info": {
   "codemirror_mode": {
    "name": "ipython",
    "version": 3
   },
   "file_extension": ".py",
   "mimetype": "text/x-python",
   "name": "python",
   "nbconvert_exporter": "python",
   "pygments_lexer": "ipython3",
   "version": "3.8.12"
  }
 },
 "nbformat": 4,
 "nbformat_minor": 2
}
