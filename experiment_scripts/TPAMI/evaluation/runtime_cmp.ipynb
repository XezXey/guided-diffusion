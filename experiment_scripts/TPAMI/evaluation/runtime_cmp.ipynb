{
 "cells": [
  {
   "cell_type": "code",
   "execution_count": 52,
   "metadata": {},
   "outputs": [
    {
     "data": {
      "application/vnd.plotly.v1+json": {
       "config": {
        "plotlyServerURL": "https://plot.ly"
       },
       "data": [
        {
         "type": "bar",
         "x": [
          "dpmsolver_2_singlestep_10_None",
          "dpmsolver_3_singlestep_10_None",
          "dpmsolver_2_multistep_10_None",
          "dpmsolver_3_multistep_10_None",
          "dpmsolver++_3_singlestep_10_None",
          "dpmsolver++_2_multistep_10_None",
          "dpmsolver++_2_singlestep_10_None",
          "unipc_2_multistep_10_None",
          "dpmsolver++_3_multistep_10_None",
          "unipc_3_multistep_10_None",
          "dpmsolver_2_singlestep_15_None",
          "dpmsolver_3_singlestep_15_None",
          "dpmsolver_2_multistep_15_None",
          "dpmsolver_3_multistep_15_None",
          "dpmsolver++_3_singlestep_15_None",
          "dpmsolver++_2_multistep_15_None",
          "dpmsolver++_2_singlestep_15_None",
          "dpmsolver++_3_multistep_15_None",
          "unipc_2_multistep_15_None",
          "unipc_3_multistep_15_None",
          "dpmsolver_2_singlestep_20_None",
          "dpmsolver_3_singlestep_20_None",
          "dpmsolver_2_multistep_20_None",
          "dpmsolver_3_multistep_20_None",
          "dpmsolver++_3_singlestep_20_None",
          "dpmsolver++_2_multistep_20_None",
          "dpmsolver++_2_singlestep_20_None",
          "unipc_2_multistep_20_None",
          "dpmsolver++_3_multistep_20_None",
          "unipc_3_multistep_20_None",
          "dpmsolver_2_singlestep_25_None",
          "dpmsolver_3_singlestep_25_None",
          "dpmsolver_2_multistep_25_None",
          "dpmsolver_3_multistep_25_None",
          "dpmsolver++_3_singlestep_25_None",
          "dpmsolver++_2_singlestep_25_None",
          "dpmsolver++_2_multistep_25_None",
          "unipc_2_multistep_25_None",
          "dpmsolver++_3_multistep_25_None",
          "unipc_3_multistep_25_None",
          "dpmsolver_3_singlestep_50_None",
          "dpmsolver_2_singlestep_50_None",
          "dpmsolver_2_multistep_50_None",
          "dpmsolver_3_multistep_50_None",
          "dpmsolver++_3_singlestep_50_None",
          "dpmsolver++_2_singlestep_50_None",
          "dpmsolver++_2_multistep_50_None",
          "dpmsolver++_3_multistep_50_None",
          "unipc_2_multistep_50_None",
          "unipc_3_multistep_50_None",
          "dpmsolver_3_singlestep_100_None",
          "dpmsolver_2_singlestep_100_None",
          "dpmsolver_2_multistep_100_None",
          "dpmsolver_3_multistep_100_None",
          "dpmsolver++_3_singlestep_100_None",
          "dpmsolver++_2_singlestep_100_None",
          "dpmsolver++_2_multistep_100_None",
          "dpmsolver++_3_multistep_100_None",
          "unipc_2_multistep_100_None",
          "unipc_3_multistep_100_None"
         ],
         "y": [
          0.5993909645080566,
          0.5999387812614441,
          0.6357631325721741,
          0.6385032224655152,
          0.6493426275253296,
          0.6599302744865417,
          0.6665436482429504,
          0.6695875716209412,
          0.6703024458885193,
          0.6812703943252564,
          0.917473316192627,
          0.9191542625427246,
          0.9341483497619629,
          0.9498028898239136,
          0.9619511651992798,
          0.9744119334220886,
          0.9752414774894714,
          0.9823347330093384,
          0.9905007314682007,
          1.0167094826698304,
          1.2023296427726746,
          1.2083851504325867,
          1.2346933150291444,
          1.2632918930053711,
          1.2740195846557618,
          1.2841304230690003,
          1.2945510387420653,
          1.3091718745231629,
          1.3112744998931884,
          1.3162774133682251,
          1.4842961096763612,
          1.48844295501709,
          1.553456847667694,
          1.5570877766609192,
          1.5809086465835571,
          1.5841319823265076,
          1.5974743890762328,
          1.6127137303352357,
          1.619737479686737,
          1.6552522444725037,
          2.9631410002708436,
          2.992667875289917,
          3.0492578744888306,
          3.0899731850624086,
          3.1286167454719545,
          3.139909956455231,
          3.164983477592468,
          3.190908975601196,
          3.2355185770988464,
          3.261011142730713,
          5.903366694450378,
          5.947755875587464,
          6.079507610797882,
          6.152756907939911,
          6.236473464965821,
          6.2966593480110165,
          6.346520519256591,
          6.384185943603516,
          6.3967818260192875,
          6.4937831711769105
         ]
        }
       ],
       "layout": {
        "height": 1024,
        "template": {
         "data": {
          "bar": [
           {
            "error_x": {
             "color": "#2a3f5f"
            },
            "error_y": {
             "color": "#2a3f5f"
            },
            "marker": {
             "line": {
              "color": "#E5ECF6",
              "width": 0.5
             },
             "pattern": {
              "fillmode": "overlay",
              "size": 10,
              "solidity": 0.2
             }
            },
            "type": "bar"
           }
          ],
          "barpolar": [
           {
            "marker": {
             "line": {
              "color": "#E5ECF6",
              "width": 0.5
             },
             "pattern": {
              "fillmode": "overlay",
              "size": 10,
              "solidity": 0.2
             }
            },
            "type": "barpolar"
           }
          ],
          "carpet": [
           {
            "aaxis": {
             "endlinecolor": "#2a3f5f",
             "gridcolor": "white",
             "linecolor": "white",
             "minorgridcolor": "white",
             "startlinecolor": "#2a3f5f"
            },
            "baxis": {
             "endlinecolor": "#2a3f5f",
             "gridcolor": "white",
             "linecolor": "white",
             "minorgridcolor": "white",
             "startlinecolor": "#2a3f5f"
            },
            "type": "carpet"
           }
          ],
          "choropleth": [
           {
            "colorbar": {
             "outlinewidth": 0,
             "ticks": ""
            },
            "type": "choropleth"
           }
          ],
          "contour": [
           {
            "colorbar": {
             "outlinewidth": 0,
             "ticks": ""
            },
            "colorscale": [
             [
              0,
              "#0d0887"
             ],
             [
              0.1111111111111111,
              "#46039f"
             ],
             [
              0.2222222222222222,
              "#7201a8"
             ],
             [
              0.3333333333333333,
              "#9c179e"
             ],
             [
              0.4444444444444444,
              "#bd3786"
             ],
             [
              0.5555555555555556,
              "#d8576b"
             ],
             [
              0.6666666666666666,
              "#ed7953"
             ],
             [
              0.7777777777777778,
              "#fb9f3a"
             ],
             [
              0.8888888888888888,
              "#fdca26"
             ],
             [
              1,
              "#f0f921"
             ]
            ],
            "type": "contour"
           }
          ],
          "contourcarpet": [
           {
            "colorbar": {
             "outlinewidth": 0,
             "ticks": ""
            },
            "type": "contourcarpet"
           }
          ],
          "heatmap": [
           {
            "colorbar": {
             "outlinewidth": 0,
             "ticks": ""
            },
            "colorscale": [
             [
              0,
              "#0d0887"
             ],
             [
              0.1111111111111111,
              "#46039f"
             ],
             [
              0.2222222222222222,
              "#7201a8"
             ],
             [
              0.3333333333333333,
              "#9c179e"
             ],
             [
              0.4444444444444444,
              "#bd3786"
             ],
             [
              0.5555555555555556,
              "#d8576b"
             ],
             [
              0.6666666666666666,
              "#ed7953"
             ],
             [
              0.7777777777777778,
              "#fb9f3a"
             ],
             [
              0.8888888888888888,
              "#fdca26"
             ],
             [
              1,
              "#f0f921"
             ]
            ],
            "type": "heatmap"
           }
          ],
          "heatmapgl": [
           {
            "colorbar": {
             "outlinewidth": 0,
             "ticks": ""
            },
            "colorscale": [
             [
              0,
              "#0d0887"
             ],
             [
              0.1111111111111111,
              "#46039f"
             ],
             [
              0.2222222222222222,
              "#7201a8"
             ],
             [
              0.3333333333333333,
              "#9c179e"
             ],
             [
              0.4444444444444444,
              "#bd3786"
             ],
             [
              0.5555555555555556,
              "#d8576b"
             ],
             [
              0.6666666666666666,
              "#ed7953"
             ],
             [
              0.7777777777777778,
              "#fb9f3a"
             ],
             [
              0.8888888888888888,
              "#fdca26"
             ],
             [
              1,
              "#f0f921"
             ]
            ],
            "type": "heatmapgl"
           }
          ],
          "histogram": [
           {
            "marker": {
             "pattern": {
              "fillmode": "overlay",
              "size": 10,
              "solidity": 0.2
             }
            },
            "type": "histogram"
           }
          ],
          "histogram2d": [
           {
            "colorbar": {
             "outlinewidth": 0,
             "ticks": ""
            },
            "colorscale": [
             [
              0,
              "#0d0887"
             ],
             [
              0.1111111111111111,
              "#46039f"
             ],
             [
              0.2222222222222222,
              "#7201a8"
             ],
             [
              0.3333333333333333,
              "#9c179e"
             ],
             [
              0.4444444444444444,
              "#bd3786"
             ],
             [
              0.5555555555555556,
              "#d8576b"
             ],
             [
              0.6666666666666666,
              "#ed7953"
             ],
             [
              0.7777777777777778,
              "#fb9f3a"
             ],
             [
              0.8888888888888888,
              "#fdca26"
             ],
             [
              1,
              "#f0f921"
             ]
            ],
            "type": "histogram2d"
           }
          ],
          "histogram2dcontour": [
           {
            "colorbar": {
             "outlinewidth": 0,
             "ticks": ""
            },
            "colorscale": [
             [
              0,
              "#0d0887"
             ],
             [
              0.1111111111111111,
              "#46039f"
             ],
             [
              0.2222222222222222,
              "#7201a8"
             ],
             [
              0.3333333333333333,
              "#9c179e"
             ],
             [
              0.4444444444444444,
              "#bd3786"
             ],
             [
              0.5555555555555556,
              "#d8576b"
             ],
             [
              0.6666666666666666,
              "#ed7953"
             ],
             [
              0.7777777777777778,
              "#fb9f3a"
             ],
             [
              0.8888888888888888,
              "#fdca26"
             ],
             [
              1,
              "#f0f921"
             ]
            ],
            "type": "histogram2dcontour"
           }
          ],
          "mesh3d": [
           {
            "colorbar": {
             "outlinewidth": 0,
             "ticks": ""
            },
            "type": "mesh3d"
           }
          ],
          "parcoords": [
           {
            "line": {
             "colorbar": {
              "outlinewidth": 0,
              "ticks": ""
             }
            },
            "type": "parcoords"
           }
          ],
          "pie": [
           {
            "automargin": true,
            "type": "pie"
           }
          ],
          "scatter": [
           {
            "marker": {
             "colorbar": {
              "outlinewidth": 0,
              "ticks": ""
             }
            },
            "type": "scatter"
           }
          ],
          "scatter3d": [
           {
            "line": {
             "colorbar": {
              "outlinewidth": 0,
              "ticks": ""
             }
            },
            "marker": {
             "colorbar": {
              "outlinewidth": 0,
              "ticks": ""
             }
            },
            "type": "scatter3d"
           }
          ],
          "scattercarpet": [
           {
            "marker": {
             "colorbar": {
              "outlinewidth": 0,
              "ticks": ""
             }
            },
            "type": "scattercarpet"
           }
          ],
          "scattergeo": [
           {
            "marker": {
             "colorbar": {
              "outlinewidth": 0,
              "ticks": ""
             }
            },
            "type": "scattergeo"
           }
          ],
          "scattergl": [
           {
            "marker": {
             "colorbar": {
              "outlinewidth": 0,
              "ticks": ""
             }
            },
            "type": "scattergl"
           }
          ],
          "scattermapbox": [
           {
            "marker": {
             "colorbar": {
              "outlinewidth": 0,
              "ticks": ""
             }
            },
            "type": "scattermapbox"
           }
          ],
          "scatterpolar": [
           {
            "marker": {
             "colorbar": {
              "outlinewidth": 0,
              "ticks": ""
             }
            },
            "type": "scatterpolar"
           }
          ],
          "scatterpolargl": [
           {
            "marker": {
             "colorbar": {
              "outlinewidth": 0,
              "ticks": ""
             }
            },
            "type": "scatterpolargl"
           }
          ],
          "scatterternary": [
           {
            "marker": {
             "colorbar": {
              "outlinewidth": 0,
              "ticks": ""
             }
            },
            "type": "scatterternary"
           }
          ],
          "surface": [
           {
            "colorbar": {
             "outlinewidth": 0,
             "ticks": ""
            },
            "colorscale": [
             [
              0,
              "#0d0887"
             ],
             [
              0.1111111111111111,
              "#46039f"
             ],
             [
              0.2222222222222222,
              "#7201a8"
             ],
             [
              0.3333333333333333,
              "#9c179e"
             ],
             [
              0.4444444444444444,
              "#bd3786"
             ],
             [
              0.5555555555555556,
              "#d8576b"
             ],
             [
              0.6666666666666666,
              "#ed7953"
             ],
             [
              0.7777777777777778,
              "#fb9f3a"
             ],
             [
              0.8888888888888888,
              "#fdca26"
             ],
             [
              1,
              "#f0f921"
             ]
            ],
            "type": "surface"
           }
          ],
          "table": [
           {
            "cells": {
             "fill": {
              "color": "#EBF0F8"
             },
             "line": {
              "color": "white"
             }
            },
            "header": {
             "fill": {
              "color": "#C8D4E3"
             },
             "line": {
              "color": "white"
             }
            },
            "type": "table"
           }
          ]
         },
         "layout": {
          "annotationdefaults": {
           "arrowcolor": "#2a3f5f",
           "arrowhead": 0,
           "arrowwidth": 1
          },
          "autotypenumbers": "strict",
          "coloraxis": {
           "colorbar": {
            "outlinewidth": 0,
            "ticks": ""
           }
          },
          "colorscale": {
           "diverging": [
            [
             0,
             "#8e0152"
            ],
            [
             0.1,
             "#c51b7d"
            ],
            [
             0.2,
             "#de77ae"
            ],
            [
             0.3,
             "#f1b6da"
            ],
            [
             0.4,
             "#fde0ef"
            ],
            [
             0.5,
             "#f7f7f7"
            ],
            [
             0.6,
             "#e6f5d0"
            ],
            [
             0.7,
             "#b8e186"
            ],
            [
             0.8,
             "#7fbc41"
            ],
            [
             0.9,
             "#4d9221"
            ],
            [
             1,
             "#276419"
            ]
           ],
           "sequential": [
            [
             0,
             "#0d0887"
            ],
            [
             0.1111111111111111,
             "#46039f"
            ],
            [
             0.2222222222222222,
             "#7201a8"
            ],
            [
             0.3333333333333333,
             "#9c179e"
            ],
            [
             0.4444444444444444,
             "#bd3786"
            ],
            [
             0.5555555555555556,
             "#d8576b"
            ],
            [
             0.6666666666666666,
             "#ed7953"
            ],
            [
             0.7777777777777778,
             "#fb9f3a"
            ],
            [
             0.8888888888888888,
             "#fdca26"
            ],
            [
             1,
             "#f0f921"
            ]
           ],
           "sequentialminus": [
            [
             0,
             "#0d0887"
            ],
            [
             0.1111111111111111,
             "#46039f"
            ],
            [
             0.2222222222222222,
             "#7201a8"
            ],
            [
             0.3333333333333333,
             "#9c179e"
            ],
            [
             0.4444444444444444,
             "#bd3786"
            ],
            [
             0.5555555555555556,
             "#d8576b"
            ],
            [
             0.6666666666666666,
             "#ed7953"
            ],
            [
             0.7777777777777778,
             "#fb9f3a"
            ],
            [
             0.8888888888888888,
             "#fdca26"
            ],
            [
             1,
             "#f0f921"
            ]
           ]
          },
          "colorway": [
           "#636efa",
           "#EF553B",
           "#00cc96",
           "#ab63fa",
           "#FFA15A",
           "#19d3f3",
           "#FF6692",
           "#B6E880",
           "#FF97FF",
           "#FECB52"
          ],
          "font": {
           "color": "#2a3f5f"
          },
          "geo": {
           "bgcolor": "white",
           "lakecolor": "white",
           "landcolor": "#E5ECF6",
           "showlakes": true,
           "showland": true,
           "subunitcolor": "white"
          },
          "hoverlabel": {
           "align": "left"
          },
          "hovermode": "closest",
          "mapbox": {
           "style": "light"
          },
          "paper_bgcolor": "white",
          "plot_bgcolor": "#E5ECF6",
          "polar": {
           "angularaxis": {
            "gridcolor": "white",
            "linecolor": "white",
            "ticks": ""
           },
           "bgcolor": "#E5ECF6",
           "radialaxis": {
            "gridcolor": "white",
            "linecolor": "white",
            "ticks": ""
           }
          },
          "scene": {
           "xaxis": {
            "backgroundcolor": "#E5ECF6",
            "gridcolor": "white",
            "gridwidth": 2,
            "linecolor": "white",
            "showbackground": true,
            "ticks": "",
            "zerolinecolor": "white"
           },
           "yaxis": {
            "backgroundcolor": "#E5ECF6",
            "gridcolor": "white",
            "gridwidth": 2,
            "linecolor": "white",
            "showbackground": true,
            "ticks": "",
            "zerolinecolor": "white"
           },
           "zaxis": {
            "backgroundcolor": "#E5ECF6",
            "gridcolor": "white",
            "gridwidth": 2,
            "linecolor": "white",
            "showbackground": true,
            "ticks": "",
            "zerolinecolor": "white"
           }
          },
          "shapedefaults": {
           "line": {
            "color": "#2a3f5f"
           }
          },
          "ternary": {
           "aaxis": {
            "gridcolor": "white",
            "linecolor": "white",
            "ticks": ""
           },
           "baxis": {
            "gridcolor": "white",
            "linecolor": "white",
            "ticks": ""
           },
           "bgcolor": "#E5ECF6",
           "caxis": {
            "gridcolor": "white",
            "linecolor": "white",
            "ticks": ""
           }
          },
          "title": {
           "x": 0.05
          },
          "xaxis": {
           "automargin": true,
           "gridcolor": "white",
           "linecolor": "white",
           "ticks": "",
           "title": {
            "standoff": 15
           },
           "zerolinecolor": "white",
           "zerolinewidth": 2
          },
          "yaxis": {
           "automargin": true,
           "gridcolor": "white",
           "linecolor": "white",
           "ticks": "",
           "title": {
            "standoff": 15
           },
           "zerolinecolor": "white",
           "zerolinewidth": 2
          }
         }
        },
        "title": {
         "text": "Runtime of different solvers"
        },
        "width": 800,
        "xaxis": {
         "title": {
          "text": "Solver"
         }
        },
        "yaxis": {
         "title": {
          "text": "Runtime"
         }
        }
       }
      },
      "text/html": [
       "<div>                            <div id=\"624e0420-84b6-43b2-8d44-c63fa03321f9\" class=\"plotly-graph-div\" style=\"height:1024px; width:800px;\"></div>            <script type=\"text/javascript\">                require([\"plotly\"], function(Plotly) {                    window.PLOTLYENV=window.PLOTLYENV || {};                                    if (document.getElementById(\"624e0420-84b6-43b2-8d44-c63fa03321f9\")) {                    Plotly.newPlot(                        \"624e0420-84b6-43b2-8d44-c63fa03321f9\",                        [{\"type\":\"bar\",\"x\":[\"dpmsolver_2_singlestep_10_None\",\"dpmsolver_3_singlestep_10_None\",\"dpmsolver_2_multistep_10_None\",\"dpmsolver_3_multistep_10_None\",\"dpmsolver++_3_singlestep_10_None\",\"dpmsolver++_2_multistep_10_None\",\"dpmsolver++_2_singlestep_10_None\",\"unipc_2_multistep_10_None\",\"dpmsolver++_3_multistep_10_None\",\"unipc_3_multistep_10_None\",\"dpmsolver_2_singlestep_15_None\",\"dpmsolver_3_singlestep_15_None\",\"dpmsolver_2_multistep_15_None\",\"dpmsolver_3_multistep_15_None\",\"dpmsolver++_3_singlestep_15_None\",\"dpmsolver++_2_multistep_15_None\",\"dpmsolver++_2_singlestep_15_None\",\"dpmsolver++_3_multistep_15_None\",\"unipc_2_multistep_15_None\",\"unipc_3_multistep_15_None\",\"dpmsolver_2_singlestep_20_None\",\"dpmsolver_3_singlestep_20_None\",\"dpmsolver_2_multistep_20_None\",\"dpmsolver_3_multistep_20_None\",\"dpmsolver++_3_singlestep_20_None\",\"dpmsolver++_2_multistep_20_None\",\"dpmsolver++_2_singlestep_20_None\",\"unipc_2_multistep_20_None\",\"dpmsolver++_3_multistep_20_None\",\"unipc_3_multistep_20_None\",\"dpmsolver_2_singlestep_25_None\",\"dpmsolver_3_singlestep_25_None\",\"dpmsolver_2_multistep_25_None\",\"dpmsolver_3_multistep_25_None\",\"dpmsolver++_3_singlestep_25_None\",\"dpmsolver++_2_singlestep_25_None\",\"dpmsolver++_2_multistep_25_None\",\"unipc_2_multistep_25_None\",\"dpmsolver++_3_multistep_25_None\",\"unipc_3_multistep_25_None\",\"dpmsolver_3_singlestep_50_None\",\"dpmsolver_2_singlestep_50_None\",\"dpmsolver_2_multistep_50_None\",\"dpmsolver_3_multistep_50_None\",\"dpmsolver++_3_singlestep_50_None\",\"dpmsolver++_2_singlestep_50_None\",\"dpmsolver++_2_multistep_50_None\",\"dpmsolver++_3_multistep_50_None\",\"unipc_2_multistep_50_None\",\"unipc_3_multistep_50_None\",\"dpmsolver_3_singlestep_100_None\",\"dpmsolver_2_singlestep_100_None\",\"dpmsolver_2_multistep_100_None\",\"dpmsolver_3_multistep_100_None\",\"dpmsolver++_3_singlestep_100_None\",\"dpmsolver++_2_singlestep_100_None\",\"dpmsolver++_2_multistep_100_None\",\"dpmsolver++_3_multistep_100_None\",\"unipc_2_multistep_100_None\",\"unipc_3_multistep_100_None\"],\"y\":[0.5993909645080566,0.5999387812614441,0.6357631325721741,0.6385032224655152,0.6493426275253296,0.6599302744865417,0.6665436482429504,0.6695875716209412,0.6703024458885193,0.6812703943252564,0.917473316192627,0.9191542625427246,0.9341483497619629,0.9498028898239136,0.9619511651992798,0.9744119334220886,0.9752414774894714,0.9823347330093384,0.9905007314682007,1.0167094826698304,1.2023296427726746,1.2083851504325867,1.2346933150291444,1.2632918930053711,1.2740195846557618,1.2841304230690003,1.2945510387420653,1.3091718745231629,1.3112744998931884,1.3162774133682251,1.4842961096763612,1.48844295501709,1.553456847667694,1.5570877766609192,1.5809086465835571,1.5841319823265076,1.5974743890762328,1.6127137303352357,1.619737479686737,1.6552522444725037,2.9631410002708436,2.992667875289917,3.0492578744888306,3.0899731850624086,3.1286167454719545,3.139909956455231,3.164983477592468,3.190908975601196,3.2355185770988464,3.261011142730713,5.903366694450378,5.947755875587464,6.079507610797882,6.152756907939911,6.236473464965821,6.2966593480110165,6.346520519256591,6.384185943603516,6.3967818260192875,6.4937831711769105]}],                        {\"height\":1024,\"template\":{\"data\":{\"bar\":[{\"error_x\":{\"color\":\"#2a3f5f\"},\"error_y\":{\"color\":\"#2a3f5f\"},\"marker\":{\"line\":{\"color\":\"#E5ECF6\",\"width\":0.5},\"pattern\":{\"fillmode\":\"overlay\",\"size\":10,\"solidity\":0.2}},\"type\":\"bar\"}],\"barpolar\":[{\"marker\":{\"line\":{\"color\":\"#E5ECF6\",\"width\":0.5},\"pattern\":{\"fillmode\":\"overlay\",\"size\":10,\"solidity\":0.2}},\"type\":\"barpolar\"}],\"carpet\":[{\"aaxis\":{\"endlinecolor\":\"#2a3f5f\",\"gridcolor\":\"white\",\"linecolor\":\"white\",\"minorgridcolor\":\"white\",\"startlinecolor\":\"#2a3f5f\"},\"baxis\":{\"endlinecolor\":\"#2a3f5f\",\"gridcolor\":\"white\",\"linecolor\":\"white\",\"minorgridcolor\":\"white\",\"startlinecolor\":\"#2a3f5f\"},\"type\":\"carpet\"}],\"choropleth\":[{\"colorbar\":{\"outlinewidth\":0,\"ticks\":\"\"},\"type\":\"choropleth\"}],\"contour\":[{\"colorbar\":{\"outlinewidth\":0,\"ticks\":\"\"},\"colorscale\":[[0.0,\"#0d0887\"],[0.1111111111111111,\"#46039f\"],[0.2222222222222222,\"#7201a8\"],[0.3333333333333333,\"#9c179e\"],[0.4444444444444444,\"#bd3786\"],[0.5555555555555556,\"#d8576b\"],[0.6666666666666666,\"#ed7953\"],[0.7777777777777778,\"#fb9f3a\"],[0.8888888888888888,\"#fdca26\"],[1.0,\"#f0f921\"]],\"type\":\"contour\"}],\"contourcarpet\":[{\"colorbar\":{\"outlinewidth\":0,\"ticks\":\"\"},\"type\":\"contourcarpet\"}],\"heatmap\":[{\"colorbar\":{\"outlinewidth\":0,\"ticks\":\"\"},\"colorscale\":[[0.0,\"#0d0887\"],[0.1111111111111111,\"#46039f\"],[0.2222222222222222,\"#7201a8\"],[0.3333333333333333,\"#9c179e\"],[0.4444444444444444,\"#bd3786\"],[0.5555555555555556,\"#d8576b\"],[0.6666666666666666,\"#ed7953\"],[0.7777777777777778,\"#fb9f3a\"],[0.8888888888888888,\"#fdca26\"],[1.0,\"#f0f921\"]],\"type\":\"heatmap\"}],\"heatmapgl\":[{\"colorbar\":{\"outlinewidth\":0,\"ticks\":\"\"},\"colorscale\":[[0.0,\"#0d0887\"],[0.1111111111111111,\"#46039f\"],[0.2222222222222222,\"#7201a8\"],[0.3333333333333333,\"#9c179e\"],[0.4444444444444444,\"#bd3786\"],[0.5555555555555556,\"#d8576b\"],[0.6666666666666666,\"#ed7953\"],[0.7777777777777778,\"#fb9f3a\"],[0.8888888888888888,\"#fdca26\"],[1.0,\"#f0f921\"]],\"type\":\"heatmapgl\"}],\"histogram\":[{\"marker\":{\"pattern\":{\"fillmode\":\"overlay\",\"size\":10,\"solidity\":0.2}},\"type\":\"histogram\"}],\"histogram2d\":[{\"colorbar\":{\"outlinewidth\":0,\"ticks\":\"\"},\"colorscale\":[[0.0,\"#0d0887\"],[0.1111111111111111,\"#46039f\"],[0.2222222222222222,\"#7201a8\"],[0.3333333333333333,\"#9c179e\"],[0.4444444444444444,\"#bd3786\"],[0.5555555555555556,\"#d8576b\"],[0.6666666666666666,\"#ed7953\"],[0.7777777777777778,\"#fb9f3a\"],[0.8888888888888888,\"#fdca26\"],[1.0,\"#f0f921\"]],\"type\":\"histogram2d\"}],\"histogram2dcontour\":[{\"colorbar\":{\"outlinewidth\":0,\"ticks\":\"\"},\"colorscale\":[[0.0,\"#0d0887\"],[0.1111111111111111,\"#46039f\"],[0.2222222222222222,\"#7201a8\"],[0.3333333333333333,\"#9c179e\"],[0.4444444444444444,\"#bd3786\"],[0.5555555555555556,\"#d8576b\"],[0.6666666666666666,\"#ed7953\"],[0.7777777777777778,\"#fb9f3a\"],[0.8888888888888888,\"#fdca26\"],[1.0,\"#f0f921\"]],\"type\":\"histogram2dcontour\"}],\"mesh3d\":[{\"colorbar\":{\"outlinewidth\":0,\"ticks\":\"\"},\"type\":\"mesh3d\"}],\"parcoords\":[{\"line\":{\"colorbar\":{\"outlinewidth\":0,\"ticks\":\"\"}},\"type\":\"parcoords\"}],\"pie\":[{\"automargin\":true,\"type\":\"pie\"}],\"scatter\":[{\"marker\":{\"colorbar\":{\"outlinewidth\":0,\"ticks\":\"\"}},\"type\":\"scatter\"}],\"scatter3d\":[{\"line\":{\"colorbar\":{\"outlinewidth\":0,\"ticks\":\"\"}},\"marker\":{\"colorbar\":{\"outlinewidth\":0,\"ticks\":\"\"}},\"type\":\"scatter3d\"}],\"scattercarpet\":[{\"marker\":{\"colorbar\":{\"outlinewidth\":0,\"ticks\":\"\"}},\"type\":\"scattercarpet\"}],\"scattergeo\":[{\"marker\":{\"colorbar\":{\"outlinewidth\":0,\"ticks\":\"\"}},\"type\":\"scattergeo\"}],\"scattergl\":[{\"marker\":{\"colorbar\":{\"outlinewidth\":0,\"ticks\":\"\"}},\"type\":\"scattergl\"}],\"scattermapbox\":[{\"marker\":{\"colorbar\":{\"outlinewidth\":0,\"ticks\":\"\"}},\"type\":\"scattermapbox\"}],\"scatterpolar\":[{\"marker\":{\"colorbar\":{\"outlinewidth\":0,\"ticks\":\"\"}},\"type\":\"scatterpolar\"}],\"scatterpolargl\":[{\"marker\":{\"colorbar\":{\"outlinewidth\":0,\"ticks\":\"\"}},\"type\":\"scatterpolargl\"}],\"scatterternary\":[{\"marker\":{\"colorbar\":{\"outlinewidth\":0,\"ticks\":\"\"}},\"type\":\"scatterternary\"}],\"surface\":[{\"colorbar\":{\"outlinewidth\":0,\"ticks\":\"\"},\"colorscale\":[[0.0,\"#0d0887\"],[0.1111111111111111,\"#46039f\"],[0.2222222222222222,\"#7201a8\"],[0.3333333333333333,\"#9c179e\"],[0.4444444444444444,\"#bd3786\"],[0.5555555555555556,\"#d8576b\"],[0.6666666666666666,\"#ed7953\"],[0.7777777777777778,\"#fb9f3a\"],[0.8888888888888888,\"#fdca26\"],[1.0,\"#f0f921\"]],\"type\":\"surface\"}],\"table\":[{\"cells\":{\"fill\":{\"color\":\"#EBF0F8\"},\"line\":{\"color\":\"white\"}},\"header\":{\"fill\":{\"color\":\"#C8D4E3\"},\"line\":{\"color\":\"white\"}},\"type\":\"table\"}]},\"layout\":{\"annotationdefaults\":{\"arrowcolor\":\"#2a3f5f\",\"arrowhead\":0,\"arrowwidth\":1},\"autotypenumbers\":\"strict\",\"coloraxis\":{\"colorbar\":{\"outlinewidth\":0,\"ticks\":\"\"}},\"colorscale\":{\"diverging\":[[0,\"#8e0152\"],[0.1,\"#c51b7d\"],[0.2,\"#de77ae\"],[0.3,\"#f1b6da\"],[0.4,\"#fde0ef\"],[0.5,\"#f7f7f7\"],[0.6,\"#e6f5d0\"],[0.7,\"#b8e186\"],[0.8,\"#7fbc41\"],[0.9,\"#4d9221\"],[1,\"#276419\"]],\"sequential\":[[0.0,\"#0d0887\"],[0.1111111111111111,\"#46039f\"],[0.2222222222222222,\"#7201a8\"],[0.3333333333333333,\"#9c179e\"],[0.4444444444444444,\"#bd3786\"],[0.5555555555555556,\"#d8576b\"],[0.6666666666666666,\"#ed7953\"],[0.7777777777777778,\"#fb9f3a\"],[0.8888888888888888,\"#fdca26\"],[1.0,\"#f0f921\"]],\"sequentialminus\":[[0.0,\"#0d0887\"],[0.1111111111111111,\"#46039f\"],[0.2222222222222222,\"#7201a8\"],[0.3333333333333333,\"#9c179e\"],[0.4444444444444444,\"#bd3786\"],[0.5555555555555556,\"#d8576b\"],[0.6666666666666666,\"#ed7953\"],[0.7777777777777778,\"#fb9f3a\"],[0.8888888888888888,\"#fdca26\"],[1.0,\"#f0f921\"]]},\"colorway\":[\"#636efa\",\"#EF553B\",\"#00cc96\",\"#ab63fa\",\"#FFA15A\",\"#19d3f3\",\"#FF6692\",\"#B6E880\",\"#FF97FF\",\"#FECB52\"],\"font\":{\"color\":\"#2a3f5f\"},\"geo\":{\"bgcolor\":\"white\",\"lakecolor\":\"white\",\"landcolor\":\"#E5ECF6\",\"showlakes\":true,\"showland\":true,\"subunitcolor\":\"white\"},\"hoverlabel\":{\"align\":\"left\"},\"hovermode\":\"closest\",\"mapbox\":{\"style\":\"light\"},\"paper_bgcolor\":\"white\",\"plot_bgcolor\":\"#E5ECF6\",\"polar\":{\"angularaxis\":{\"gridcolor\":\"white\",\"linecolor\":\"white\",\"ticks\":\"\"},\"bgcolor\":\"#E5ECF6\",\"radialaxis\":{\"gridcolor\":\"white\",\"linecolor\":\"white\",\"ticks\":\"\"}},\"scene\":{\"xaxis\":{\"backgroundcolor\":\"#E5ECF6\",\"gridcolor\":\"white\",\"gridwidth\":2,\"linecolor\":\"white\",\"showbackground\":true,\"ticks\":\"\",\"zerolinecolor\":\"white\"},\"yaxis\":{\"backgroundcolor\":\"#E5ECF6\",\"gridcolor\":\"white\",\"gridwidth\":2,\"linecolor\":\"white\",\"showbackground\":true,\"ticks\":\"\",\"zerolinecolor\":\"white\"},\"zaxis\":{\"backgroundcolor\":\"#E5ECF6\",\"gridcolor\":\"white\",\"gridwidth\":2,\"linecolor\":\"white\",\"showbackground\":true,\"ticks\":\"\",\"zerolinecolor\":\"white\"}},\"shapedefaults\":{\"line\":{\"color\":\"#2a3f5f\"}},\"ternary\":{\"aaxis\":{\"gridcolor\":\"white\",\"linecolor\":\"white\",\"ticks\":\"\"},\"baxis\":{\"gridcolor\":\"white\",\"linecolor\":\"white\",\"ticks\":\"\"},\"bgcolor\":\"#E5ECF6\",\"caxis\":{\"gridcolor\":\"white\",\"linecolor\":\"white\",\"ticks\":\"\"}},\"title\":{\"x\":0.05},\"xaxis\":{\"automargin\":true,\"gridcolor\":\"white\",\"linecolor\":\"white\",\"ticks\":\"\",\"title\":{\"standoff\":15},\"zerolinecolor\":\"white\",\"zerolinewidth\":2},\"yaxis\":{\"automargin\":true,\"gridcolor\":\"white\",\"linecolor\":\"white\",\"ticks\":\"\",\"title\":{\"standoff\":15},\"zerolinecolor\":\"white\",\"zerolinewidth\":2}}},\"title\":{\"text\":\"Runtime of different solvers\"},\"width\":800,\"xaxis\":{\"title\":{\"text\":\"Solver\"}},\"yaxis\":{\"title\":{\"text\":\"Runtime\"}}},                        {\"responsive\": true}                    ).then(function(){\n",
       "                            \n",
       "var gd = document.getElementById('624e0420-84b6-43b2-8d44-c63fa03321f9');\n",
       "var x = new MutationObserver(function (mutations, observer) {{\n",
       "        var display = window.getComputedStyle(gd).display;\n",
       "        if (!display || display === 'none') {{\n",
       "            console.log([gd, 'removed!']);\n",
       "            Plotly.purge(gd);\n",
       "            observer.disconnect();\n",
       "        }}\n",
       "}});\n",
       "\n",
       "// Listen for the removal of the full notebook cells\n",
       "var notebookContainer = gd.closest('#notebook-container');\n",
       "if (notebookContainer) {{\n",
       "    x.observe(notebookContainer, {childList: true});\n",
       "}}\n",
       "\n",
       "// Listen for the clearing of the current output cell\n",
       "var outputEl = gd.closest('.output');\n",
       "if (outputEl) {{\n",
       "    x.observe(outputEl, {childList: true});\n",
       "}}\n",
       "\n",
       "                        })                };                });            </script>        </div>"
      ]
     },
     "metadata": {},
     "output_type": "display_data"
    }
   ],
   "source": [
    "import numpy as np\n",
    "import glob, os, json\n",
    "import matplotlib.pyplot as plt\n",
    "import plotly.graph_objects as go\n",
    "\n",
    "sampling_dir = '/data/mint/sampling/TPAMI/tuning_with_solver/'\n",
    "\n",
    "out_json = {}\n",
    "\n",
    "all_mean = []\n",
    "all_std = []\n",
    "all_name = []\n",
    "# for d in sorted(glob.glob(sampling_dir + '/*')):\n",
    "for d in sorted(glob.glob(sampling_dir + '/*_256*')):\n",
    "    name = d.split('/')[-1]\n",
    "    step = \"ema_085000\"\n",
    "    alias = name.split('yaml_')[-1]\n",
    "    itp = \"render_face\"\n",
    "    itp_method = \"Lerp\"\n",
    "    diff_step = \"1000\"\n",
    "    time_respace = \"\"\n",
    "    n_frame = \"5\"\n",
    "    # Read runtime.json\n",
    "    if os.path.exists(d + '/runtime.json'):\n",
    "        fj = open(d + '/runtime.json')\n",
    "        rt = json.load(fj)\n",
    "        all_mean.append(rt['mean_rev_time'])\n",
    "        all_std.append(rt['std_rev_time'])\n",
    "        all_name.append(alias)\n",
    "\n",
    "# Plot runtime of all name\n",
    "sorted_idx = np.argsort(all_mean)\n",
    "all_mean = np.array(all_mean)[sorted_idx]\n",
    "all_name = np.array(all_name)[sorted_idx]\n",
    "layout = go.Layout(\n",
    "    width=800,  # Set the width to your desired value (in pixels)\n",
    "    height=1024,  # Set the height to your desired value (in pixels)\n",
    "    title='Runtime of different solvers',\n",
    "    xaxis=dict(title='Solver'),\n",
    "    yaxis=dict(title='Runtime')\n",
    ")\n",
    "fig = go.Figure([go.Bar(x=all_name, y=all_mean)], layout=layout)\n",
    "# increase size of fig\n",
    "\n",
    "fig.show()"
   ]
  },
  {
   "cell_type": "code",
   "execution_count": 53,
   "metadata": {},
   "outputs": [
    {
     "data": {
      "application/vnd.plotly.v1+json": {
       "config": {
        "plotlyServerURL": "https://plot.ly"
       },
       "data": [
        {
         "type": "bar",
         "x": [
          "dpmsolver_3_singlestep_100_None",
          "dpmsolver_2_singlestep_100_None",
          "dpmsolver_2_multistep_100_None",
          "dpmsolver_3_multistep_100_None",
          "dpmsolver++_3_singlestep_100_None",
          "unipc_2_multistep_100_None",
          "dpmsolver++_2_singlestep_100_None",
          "unipc_3_multistep_100_None",
          "dpmsolver++_2_multistep_100_None",
          "dpmsolver++_3_multistep_100_None"
         ],
         "y": [
          16.073011751174924,
          16.150350470542907,
          16.371241490840912,
          16.51054777622223,
          17.174091269969942,
          17.29547425508499,
          17.303238096237184,
          17.456803591251372,
          17.460835947990418,
          17.524563982486725
         ]
        }
       ],
       "layout": {
        "height": 1024,
        "template": {
         "data": {
          "bar": [
           {
            "error_x": {
             "color": "#2a3f5f"
            },
            "error_y": {
             "color": "#2a3f5f"
            },
            "marker": {
             "line": {
              "color": "#E5ECF6",
              "width": 0.5
             },
             "pattern": {
              "fillmode": "overlay",
              "size": 10,
              "solidity": 0.2
             }
            },
            "type": "bar"
           }
          ],
          "barpolar": [
           {
            "marker": {
             "line": {
              "color": "#E5ECF6",
              "width": 0.5
             },
             "pattern": {
              "fillmode": "overlay",
              "size": 10,
              "solidity": 0.2
             }
            },
            "type": "barpolar"
           }
          ],
          "carpet": [
           {
            "aaxis": {
             "endlinecolor": "#2a3f5f",
             "gridcolor": "white",
             "linecolor": "white",
             "minorgridcolor": "white",
             "startlinecolor": "#2a3f5f"
            },
            "baxis": {
             "endlinecolor": "#2a3f5f",
             "gridcolor": "white",
             "linecolor": "white",
             "minorgridcolor": "white",
             "startlinecolor": "#2a3f5f"
            },
            "type": "carpet"
           }
          ],
          "choropleth": [
           {
            "colorbar": {
             "outlinewidth": 0,
             "ticks": ""
            },
            "type": "choropleth"
           }
          ],
          "contour": [
           {
            "colorbar": {
             "outlinewidth": 0,
             "ticks": ""
            },
            "colorscale": [
             [
              0,
              "#0d0887"
             ],
             [
              0.1111111111111111,
              "#46039f"
             ],
             [
              0.2222222222222222,
              "#7201a8"
             ],
             [
              0.3333333333333333,
              "#9c179e"
             ],
             [
              0.4444444444444444,
              "#bd3786"
             ],
             [
              0.5555555555555556,
              "#d8576b"
             ],
             [
              0.6666666666666666,
              "#ed7953"
             ],
             [
              0.7777777777777778,
              "#fb9f3a"
             ],
             [
              0.8888888888888888,
              "#fdca26"
             ],
             [
              1,
              "#f0f921"
             ]
            ],
            "type": "contour"
           }
          ],
          "contourcarpet": [
           {
            "colorbar": {
             "outlinewidth": 0,
             "ticks": ""
            },
            "type": "contourcarpet"
           }
          ],
          "heatmap": [
           {
            "colorbar": {
             "outlinewidth": 0,
             "ticks": ""
            },
            "colorscale": [
             [
              0,
              "#0d0887"
             ],
             [
              0.1111111111111111,
              "#46039f"
             ],
             [
              0.2222222222222222,
              "#7201a8"
             ],
             [
              0.3333333333333333,
              "#9c179e"
             ],
             [
              0.4444444444444444,
              "#bd3786"
             ],
             [
              0.5555555555555556,
              "#d8576b"
             ],
             [
              0.6666666666666666,
              "#ed7953"
             ],
             [
              0.7777777777777778,
              "#fb9f3a"
             ],
             [
              0.8888888888888888,
              "#fdca26"
             ],
             [
              1,
              "#f0f921"
             ]
            ],
            "type": "heatmap"
           }
          ],
          "heatmapgl": [
           {
            "colorbar": {
             "outlinewidth": 0,
             "ticks": ""
            },
            "colorscale": [
             [
              0,
              "#0d0887"
             ],
             [
              0.1111111111111111,
              "#46039f"
             ],
             [
              0.2222222222222222,
              "#7201a8"
             ],
             [
              0.3333333333333333,
              "#9c179e"
             ],
             [
              0.4444444444444444,
              "#bd3786"
             ],
             [
              0.5555555555555556,
              "#d8576b"
             ],
             [
              0.6666666666666666,
              "#ed7953"
             ],
             [
              0.7777777777777778,
              "#fb9f3a"
             ],
             [
              0.8888888888888888,
              "#fdca26"
             ],
             [
              1,
              "#f0f921"
             ]
            ],
            "type": "heatmapgl"
           }
          ],
          "histogram": [
           {
            "marker": {
             "pattern": {
              "fillmode": "overlay",
              "size": 10,
              "solidity": 0.2
             }
            },
            "type": "histogram"
           }
          ],
          "histogram2d": [
           {
            "colorbar": {
             "outlinewidth": 0,
             "ticks": ""
            },
            "colorscale": [
             [
              0,
              "#0d0887"
             ],
             [
              0.1111111111111111,
              "#46039f"
             ],
             [
              0.2222222222222222,
              "#7201a8"
             ],
             [
              0.3333333333333333,
              "#9c179e"
             ],
             [
              0.4444444444444444,
              "#bd3786"
             ],
             [
              0.5555555555555556,
              "#d8576b"
             ],
             [
              0.6666666666666666,
              "#ed7953"
             ],
             [
              0.7777777777777778,
              "#fb9f3a"
             ],
             [
              0.8888888888888888,
              "#fdca26"
             ],
             [
              1,
              "#f0f921"
             ]
            ],
            "type": "histogram2d"
           }
          ],
          "histogram2dcontour": [
           {
            "colorbar": {
             "outlinewidth": 0,
             "ticks": ""
            },
            "colorscale": [
             [
              0,
              "#0d0887"
             ],
             [
              0.1111111111111111,
              "#46039f"
             ],
             [
              0.2222222222222222,
              "#7201a8"
             ],
             [
              0.3333333333333333,
              "#9c179e"
             ],
             [
              0.4444444444444444,
              "#bd3786"
             ],
             [
              0.5555555555555556,
              "#d8576b"
             ],
             [
              0.6666666666666666,
              "#ed7953"
             ],
             [
              0.7777777777777778,
              "#fb9f3a"
             ],
             [
              0.8888888888888888,
              "#fdca26"
             ],
             [
              1,
              "#f0f921"
             ]
            ],
            "type": "histogram2dcontour"
           }
          ],
          "mesh3d": [
           {
            "colorbar": {
             "outlinewidth": 0,
             "ticks": ""
            },
            "type": "mesh3d"
           }
          ],
          "parcoords": [
           {
            "line": {
             "colorbar": {
              "outlinewidth": 0,
              "ticks": ""
             }
            },
            "type": "parcoords"
           }
          ],
          "pie": [
           {
            "automargin": true,
            "type": "pie"
           }
          ],
          "scatter": [
           {
            "marker": {
             "colorbar": {
              "outlinewidth": 0,
              "ticks": ""
             }
            },
            "type": "scatter"
           }
          ],
          "scatter3d": [
           {
            "line": {
             "colorbar": {
              "outlinewidth": 0,
              "ticks": ""
             }
            },
            "marker": {
             "colorbar": {
              "outlinewidth": 0,
              "ticks": ""
             }
            },
            "type": "scatter3d"
           }
          ],
          "scattercarpet": [
           {
            "marker": {
             "colorbar": {
              "outlinewidth": 0,
              "ticks": ""
             }
            },
            "type": "scattercarpet"
           }
          ],
          "scattergeo": [
           {
            "marker": {
             "colorbar": {
              "outlinewidth": 0,
              "ticks": ""
             }
            },
            "type": "scattergeo"
           }
          ],
          "scattergl": [
           {
            "marker": {
             "colorbar": {
              "outlinewidth": 0,
              "ticks": ""
             }
            },
            "type": "scattergl"
           }
          ],
          "scattermapbox": [
           {
            "marker": {
             "colorbar": {
              "outlinewidth": 0,
              "ticks": ""
             }
            },
            "type": "scattermapbox"
           }
          ],
          "scatterpolar": [
           {
            "marker": {
             "colorbar": {
              "outlinewidth": 0,
              "ticks": ""
             }
            },
            "type": "scatterpolar"
           }
          ],
          "scatterpolargl": [
           {
            "marker": {
             "colorbar": {
              "outlinewidth": 0,
              "ticks": ""
             }
            },
            "type": "scatterpolargl"
           }
          ],
          "scatterternary": [
           {
            "marker": {
             "colorbar": {
              "outlinewidth": 0,
              "ticks": ""
             }
            },
            "type": "scatterternary"
           }
          ],
          "surface": [
           {
            "colorbar": {
             "outlinewidth": 0,
             "ticks": ""
            },
            "colorscale": [
             [
              0,
              "#0d0887"
             ],
             [
              0.1111111111111111,
              "#46039f"
             ],
             [
              0.2222222222222222,
              "#7201a8"
             ],
             [
              0.3333333333333333,
              "#9c179e"
             ],
             [
              0.4444444444444444,
              "#bd3786"
             ],
             [
              0.5555555555555556,
              "#d8576b"
             ],
             [
              0.6666666666666666,
              "#ed7953"
             ],
             [
              0.7777777777777778,
              "#fb9f3a"
             ],
             [
              0.8888888888888888,
              "#fdca26"
             ],
             [
              1,
              "#f0f921"
             ]
            ],
            "type": "surface"
           }
          ],
          "table": [
           {
            "cells": {
             "fill": {
              "color": "#EBF0F8"
             },
             "line": {
              "color": "white"
             }
            },
            "header": {
             "fill": {
              "color": "#C8D4E3"
             },
             "line": {
              "color": "white"
             }
            },
            "type": "table"
           }
          ]
         },
         "layout": {
          "annotationdefaults": {
           "arrowcolor": "#2a3f5f",
           "arrowhead": 0,
           "arrowwidth": 1
          },
          "autotypenumbers": "strict",
          "coloraxis": {
           "colorbar": {
            "outlinewidth": 0,
            "ticks": ""
           }
          },
          "colorscale": {
           "diverging": [
            [
             0,
             "#8e0152"
            ],
            [
             0.1,
             "#c51b7d"
            ],
            [
             0.2,
             "#de77ae"
            ],
            [
             0.3,
             "#f1b6da"
            ],
            [
             0.4,
             "#fde0ef"
            ],
            [
             0.5,
             "#f7f7f7"
            ],
            [
             0.6,
             "#e6f5d0"
            ],
            [
             0.7,
             "#b8e186"
            ],
            [
             0.8,
             "#7fbc41"
            ],
            [
             0.9,
             "#4d9221"
            ],
            [
             1,
             "#276419"
            ]
           ],
           "sequential": [
            [
             0,
             "#0d0887"
            ],
            [
             0.1111111111111111,
             "#46039f"
            ],
            [
             0.2222222222222222,
             "#7201a8"
            ],
            [
             0.3333333333333333,
             "#9c179e"
            ],
            [
             0.4444444444444444,
             "#bd3786"
            ],
            [
             0.5555555555555556,
             "#d8576b"
            ],
            [
             0.6666666666666666,
             "#ed7953"
            ],
            [
             0.7777777777777778,
             "#fb9f3a"
            ],
            [
             0.8888888888888888,
             "#fdca26"
            ],
            [
             1,
             "#f0f921"
            ]
           ],
           "sequentialminus": [
            [
             0,
             "#0d0887"
            ],
            [
             0.1111111111111111,
             "#46039f"
            ],
            [
             0.2222222222222222,
             "#7201a8"
            ],
            [
             0.3333333333333333,
             "#9c179e"
            ],
            [
             0.4444444444444444,
             "#bd3786"
            ],
            [
             0.5555555555555556,
             "#d8576b"
            ],
            [
             0.6666666666666666,
             "#ed7953"
            ],
            [
             0.7777777777777778,
             "#fb9f3a"
            ],
            [
             0.8888888888888888,
             "#fdca26"
            ],
            [
             1,
             "#f0f921"
            ]
           ]
          },
          "colorway": [
           "#636efa",
           "#EF553B",
           "#00cc96",
           "#ab63fa",
           "#FFA15A",
           "#19d3f3",
           "#FF6692",
           "#B6E880",
           "#FF97FF",
           "#FECB52"
          ],
          "font": {
           "color": "#2a3f5f"
          },
          "geo": {
           "bgcolor": "white",
           "lakecolor": "white",
           "landcolor": "#E5ECF6",
           "showlakes": true,
           "showland": true,
           "subunitcolor": "white"
          },
          "hoverlabel": {
           "align": "left"
          },
          "hovermode": "closest",
          "mapbox": {
           "style": "light"
          },
          "paper_bgcolor": "white",
          "plot_bgcolor": "#E5ECF6",
          "polar": {
           "angularaxis": {
            "gridcolor": "white",
            "linecolor": "white",
            "ticks": ""
           },
           "bgcolor": "#E5ECF6",
           "radialaxis": {
            "gridcolor": "white",
            "linecolor": "white",
            "ticks": ""
           }
          },
          "scene": {
           "xaxis": {
            "backgroundcolor": "#E5ECF6",
            "gridcolor": "white",
            "gridwidth": 2,
            "linecolor": "white",
            "showbackground": true,
            "ticks": "",
            "zerolinecolor": "white"
           },
           "yaxis": {
            "backgroundcolor": "#E5ECF6",
            "gridcolor": "white",
            "gridwidth": 2,
            "linecolor": "white",
            "showbackground": true,
            "ticks": "",
            "zerolinecolor": "white"
           },
           "zaxis": {
            "backgroundcolor": "#E5ECF6",
            "gridcolor": "white",
            "gridwidth": 2,
            "linecolor": "white",
            "showbackground": true,
            "ticks": "",
            "zerolinecolor": "white"
           }
          },
          "shapedefaults": {
           "line": {
            "color": "#2a3f5f"
           }
          },
          "ternary": {
           "aaxis": {
            "gridcolor": "white",
            "linecolor": "white",
            "ticks": ""
           },
           "baxis": {
            "gridcolor": "white",
            "linecolor": "white",
            "ticks": ""
           },
           "bgcolor": "#E5ECF6",
           "caxis": {
            "gridcolor": "white",
            "linecolor": "white",
            "ticks": ""
           }
          },
          "title": {
           "x": 0.05
          },
          "xaxis": {
           "automargin": true,
           "gridcolor": "white",
           "linecolor": "white",
           "ticks": "",
           "title": {
            "standoff": 15
           },
           "zerolinecolor": "white",
           "zerolinewidth": 2
          },
          "yaxis": {
           "automargin": true,
           "gridcolor": "white",
           "linecolor": "white",
           "ticks": "",
           "title": {
            "standoff": 15
           },
           "zerolinecolor": "white",
           "zerolinewidth": 2
          }
         }
        },
        "title": {
         "text": "Runtime of different solvers"
        },
        "width": 800,
        "xaxis": {
         "title": {
          "text": "Solver"
         }
        },
        "yaxis": {
         "title": {
          "text": "Runtime"
         }
        }
       }
      },
      "text/html": [
       "<div>                            <div id=\"18eaf95d-a875-4bd8-a730-99def5c0fdfa\" class=\"plotly-graph-div\" style=\"height:1024px; width:800px;\"></div>            <script type=\"text/javascript\">                require([\"plotly\"], function(Plotly) {                    window.PLOTLYENV=window.PLOTLYENV || {};                                    if (document.getElementById(\"18eaf95d-a875-4bd8-a730-99def5c0fdfa\")) {                    Plotly.newPlot(                        \"18eaf95d-a875-4bd8-a730-99def5c0fdfa\",                        [{\"type\":\"bar\",\"x\":[\"dpmsolver_3_singlestep_100_None\",\"dpmsolver_2_singlestep_100_None\",\"dpmsolver_2_multistep_100_None\",\"dpmsolver_3_multistep_100_None\",\"dpmsolver++_3_singlestep_100_None\",\"unipc_2_multistep_100_None\",\"dpmsolver++_2_singlestep_100_None\",\"unipc_3_multistep_100_None\",\"dpmsolver++_2_multistep_100_None\",\"dpmsolver++_3_multistep_100_None\"],\"y\":[16.073011751174924,16.150350470542907,16.371241490840912,16.51054777622223,17.174091269969942,17.29547425508499,17.303238096237184,17.456803591251372,17.460835947990418,17.524563982486725]}],                        {\"height\":1024,\"template\":{\"data\":{\"bar\":[{\"error_x\":{\"color\":\"#2a3f5f\"},\"error_y\":{\"color\":\"#2a3f5f\"},\"marker\":{\"line\":{\"color\":\"#E5ECF6\",\"width\":0.5},\"pattern\":{\"fillmode\":\"overlay\",\"size\":10,\"solidity\":0.2}},\"type\":\"bar\"}],\"barpolar\":[{\"marker\":{\"line\":{\"color\":\"#E5ECF6\",\"width\":0.5},\"pattern\":{\"fillmode\":\"overlay\",\"size\":10,\"solidity\":0.2}},\"type\":\"barpolar\"}],\"carpet\":[{\"aaxis\":{\"endlinecolor\":\"#2a3f5f\",\"gridcolor\":\"white\",\"linecolor\":\"white\",\"minorgridcolor\":\"white\",\"startlinecolor\":\"#2a3f5f\"},\"baxis\":{\"endlinecolor\":\"#2a3f5f\",\"gridcolor\":\"white\",\"linecolor\":\"white\",\"minorgridcolor\":\"white\",\"startlinecolor\":\"#2a3f5f\"},\"type\":\"carpet\"}],\"choropleth\":[{\"colorbar\":{\"outlinewidth\":0,\"ticks\":\"\"},\"type\":\"choropleth\"}],\"contour\":[{\"colorbar\":{\"outlinewidth\":0,\"ticks\":\"\"},\"colorscale\":[[0.0,\"#0d0887\"],[0.1111111111111111,\"#46039f\"],[0.2222222222222222,\"#7201a8\"],[0.3333333333333333,\"#9c179e\"],[0.4444444444444444,\"#bd3786\"],[0.5555555555555556,\"#d8576b\"],[0.6666666666666666,\"#ed7953\"],[0.7777777777777778,\"#fb9f3a\"],[0.8888888888888888,\"#fdca26\"],[1.0,\"#f0f921\"]],\"type\":\"contour\"}],\"contourcarpet\":[{\"colorbar\":{\"outlinewidth\":0,\"ticks\":\"\"},\"type\":\"contourcarpet\"}],\"heatmap\":[{\"colorbar\":{\"outlinewidth\":0,\"ticks\":\"\"},\"colorscale\":[[0.0,\"#0d0887\"],[0.1111111111111111,\"#46039f\"],[0.2222222222222222,\"#7201a8\"],[0.3333333333333333,\"#9c179e\"],[0.4444444444444444,\"#bd3786\"],[0.5555555555555556,\"#d8576b\"],[0.6666666666666666,\"#ed7953\"],[0.7777777777777778,\"#fb9f3a\"],[0.8888888888888888,\"#fdca26\"],[1.0,\"#f0f921\"]],\"type\":\"heatmap\"}],\"heatmapgl\":[{\"colorbar\":{\"outlinewidth\":0,\"ticks\":\"\"},\"colorscale\":[[0.0,\"#0d0887\"],[0.1111111111111111,\"#46039f\"],[0.2222222222222222,\"#7201a8\"],[0.3333333333333333,\"#9c179e\"],[0.4444444444444444,\"#bd3786\"],[0.5555555555555556,\"#d8576b\"],[0.6666666666666666,\"#ed7953\"],[0.7777777777777778,\"#fb9f3a\"],[0.8888888888888888,\"#fdca26\"],[1.0,\"#f0f921\"]],\"type\":\"heatmapgl\"}],\"histogram\":[{\"marker\":{\"pattern\":{\"fillmode\":\"overlay\",\"size\":10,\"solidity\":0.2}},\"type\":\"histogram\"}],\"histogram2d\":[{\"colorbar\":{\"outlinewidth\":0,\"ticks\":\"\"},\"colorscale\":[[0.0,\"#0d0887\"],[0.1111111111111111,\"#46039f\"],[0.2222222222222222,\"#7201a8\"],[0.3333333333333333,\"#9c179e\"],[0.4444444444444444,\"#bd3786\"],[0.5555555555555556,\"#d8576b\"],[0.6666666666666666,\"#ed7953\"],[0.7777777777777778,\"#fb9f3a\"],[0.8888888888888888,\"#fdca26\"],[1.0,\"#f0f921\"]],\"type\":\"histogram2d\"}],\"histogram2dcontour\":[{\"colorbar\":{\"outlinewidth\":0,\"ticks\":\"\"},\"colorscale\":[[0.0,\"#0d0887\"],[0.1111111111111111,\"#46039f\"],[0.2222222222222222,\"#7201a8\"],[0.3333333333333333,\"#9c179e\"],[0.4444444444444444,\"#bd3786\"],[0.5555555555555556,\"#d8576b\"],[0.6666666666666666,\"#ed7953\"],[0.7777777777777778,\"#fb9f3a\"],[0.8888888888888888,\"#fdca26\"],[1.0,\"#f0f921\"]],\"type\":\"histogram2dcontour\"}],\"mesh3d\":[{\"colorbar\":{\"outlinewidth\":0,\"ticks\":\"\"},\"type\":\"mesh3d\"}],\"parcoords\":[{\"line\":{\"colorbar\":{\"outlinewidth\":0,\"ticks\":\"\"}},\"type\":\"parcoords\"}],\"pie\":[{\"automargin\":true,\"type\":\"pie\"}],\"scatter\":[{\"marker\":{\"colorbar\":{\"outlinewidth\":0,\"ticks\":\"\"}},\"type\":\"scatter\"}],\"scatter3d\":[{\"line\":{\"colorbar\":{\"outlinewidth\":0,\"ticks\":\"\"}},\"marker\":{\"colorbar\":{\"outlinewidth\":0,\"ticks\":\"\"}},\"type\":\"scatter3d\"}],\"scattercarpet\":[{\"marker\":{\"colorbar\":{\"outlinewidth\":0,\"ticks\":\"\"}},\"type\":\"scattercarpet\"}],\"scattergeo\":[{\"marker\":{\"colorbar\":{\"outlinewidth\":0,\"ticks\":\"\"}},\"type\":\"scattergeo\"}],\"scattergl\":[{\"marker\":{\"colorbar\":{\"outlinewidth\":0,\"ticks\":\"\"}},\"type\":\"scattergl\"}],\"scattermapbox\":[{\"marker\":{\"colorbar\":{\"outlinewidth\":0,\"ticks\":\"\"}},\"type\":\"scattermapbox\"}],\"scatterpolar\":[{\"marker\":{\"colorbar\":{\"outlinewidth\":0,\"ticks\":\"\"}},\"type\":\"scatterpolar\"}],\"scatterpolargl\":[{\"marker\":{\"colorbar\":{\"outlinewidth\":0,\"ticks\":\"\"}},\"type\":\"scatterpolargl\"}],\"scatterternary\":[{\"marker\":{\"colorbar\":{\"outlinewidth\":0,\"ticks\":\"\"}},\"type\":\"scatterternary\"}],\"surface\":[{\"colorbar\":{\"outlinewidth\":0,\"ticks\":\"\"},\"colorscale\":[[0.0,\"#0d0887\"],[0.1111111111111111,\"#46039f\"],[0.2222222222222222,\"#7201a8\"],[0.3333333333333333,\"#9c179e\"],[0.4444444444444444,\"#bd3786\"],[0.5555555555555556,\"#d8576b\"],[0.6666666666666666,\"#ed7953\"],[0.7777777777777778,\"#fb9f3a\"],[0.8888888888888888,\"#fdca26\"],[1.0,\"#f0f921\"]],\"type\":\"surface\"}],\"table\":[{\"cells\":{\"fill\":{\"color\":\"#EBF0F8\"},\"line\":{\"color\":\"white\"}},\"header\":{\"fill\":{\"color\":\"#C8D4E3\"},\"line\":{\"color\":\"white\"}},\"type\":\"table\"}]},\"layout\":{\"annotationdefaults\":{\"arrowcolor\":\"#2a3f5f\",\"arrowhead\":0,\"arrowwidth\":1},\"autotypenumbers\":\"strict\",\"coloraxis\":{\"colorbar\":{\"outlinewidth\":0,\"ticks\":\"\"}},\"colorscale\":{\"diverging\":[[0,\"#8e0152\"],[0.1,\"#c51b7d\"],[0.2,\"#de77ae\"],[0.3,\"#f1b6da\"],[0.4,\"#fde0ef\"],[0.5,\"#f7f7f7\"],[0.6,\"#e6f5d0\"],[0.7,\"#b8e186\"],[0.8,\"#7fbc41\"],[0.9,\"#4d9221\"],[1,\"#276419\"]],\"sequential\":[[0.0,\"#0d0887\"],[0.1111111111111111,\"#46039f\"],[0.2222222222222222,\"#7201a8\"],[0.3333333333333333,\"#9c179e\"],[0.4444444444444444,\"#bd3786\"],[0.5555555555555556,\"#d8576b\"],[0.6666666666666666,\"#ed7953\"],[0.7777777777777778,\"#fb9f3a\"],[0.8888888888888888,\"#fdca26\"],[1.0,\"#f0f921\"]],\"sequentialminus\":[[0.0,\"#0d0887\"],[0.1111111111111111,\"#46039f\"],[0.2222222222222222,\"#7201a8\"],[0.3333333333333333,\"#9c179e\"],[0.4444444444444444,\"#bd3786\"],[0.5555555555555556,\"#d8576b\"],[0.6666666666666666,\"#ed7953\"],[0.7777777777777778,\"#fb9f3a\"],[0.8888888888888888,\"#fdca26\"],[1.0,\"#f0f921\"]]},\"colorway\":[\"#636efa\",\"#EF553B\",\"#00cc96\",\"#ab63fa\",\"#FFA15A\",\"#19d3f3\",\"#FF6692\",\"#B6E880\",\"#FF97FF\",\"#FECB52\"],\"font\":{\"color\":\"#2a3f5f\"},\"geo\":{\"bgcolor\":\"white\",\"lakecolor\":\"white\",\"landcolor\":\"#E5ECF6\",\"showlakes\":true,\"showland\":true,\"subunitcolor\":\"white\"},\"hoverlabel\":{\"align\":\"left\"},\"hovermode\":\"closest\",\"mapbox\":{\"style\":\"light\"},\"paper_bgcolor\":\"white\",\"plot_bgcolor\":\"#E5ECF6\",\"polar\":{\"angularaxis\":{\"gridcolor\":\"white\",\"linecolor\":\"white\",\"ticks\":\"\"},\"bgcolor\":\"#E5ECF6\",\"radialaxis\":{\"gridcolor\":\"white\",\"linecolor\":\"white\",\"ticks\":\"\"}},\"scene\":{\"xaxis\":{\"backgroundcolor\":\"#E5ECF6\",\"gridcolor\":\"white\",\"gridwidth\":2,\"linecolor\":\"white\",\"showbackground\":true,\"ticks\":\"\",\"zerolinecolor\":\"white\"},\"yaxis\":{\"backgroundcolor\":\"#E5ECF6\",\"gridcolor\":\"white\",\"gridwidth\":2,\"linecolor\":\"white\",\"showbackground\":true,\"ticks\":\"\",\"zerolinecolor\":\"white\"},\"zaxis\":{\"backgroundcolor\":\"#E5ECF6\",\"gridcolor\":\"white\",\"gridwidth\":2,\"linecolor\":\"white\",\"showbackground\":true,\"ticks\":\"\",\"zerolinecolor\":\"white\"}},\"shapedefaults\":{\"line\":{\"color\":\"#2a3f5f\"}},\"ternary\":{\"aaxis\":{\"gridcolor\":\"white\",\"linecolor\":\"white\",\"ticks\":\"\"},\"baxis\":{\"gridcolor\":\"white\",\"linecolor\":\"white\",\"ticks\":\"\"},\"bgcolor\":\"#E5ECF6\",\"caxis\":{\"gridcolor\":\"white\",\"linecolor\":\"white\",\"ticks\":\"\"}},\"title\":{\"x\":0.05},\"xaxis\":{\"automargin\":true,\"gridcolor\":\"white\",\"linecolor\":\"white\",\"ticks\":\"\",\"title\":{\"standoff\":15},\"zerolinecolor\":\"white\",\"zerolinewidth\":2},\"yaxis\":{\"automargin\":true,\"gridcolor\":\"white\",\"linecolor\":\"white\",\"ticks\":\"\",\"title\":{\"standoff\":15},\"zerolinecolor\":\"white\",\"zerolinewidth\":2}}},\"title\":{\"text\":\"Runtime of different solvers\"},\"width\":800,\"xaxis\":{\"title\":{\"text\":\"Solver\"}},\"yaxis\":{\"title\":{\"text\":\"Runtime\"}}},                        {\"responsive\": true}                    ).then(function(){\n",
       "                            \n",
       "var gd = document.getElementById('18eaf95d-a875-4bd8-a730-99def5c0fdfa');\n",
       "var x = new MutationObserver(function (mutations, observer) {{\n",
       "        var display = window.getComputedStyle(gd).display;\n",
       "        if (!display || display === 'none') {{\n",
       "            console.log([gd, 'removed!']);\n",
       "            Plotly.purge(gd);\n",
       "            observer.disconnect();\n",
       "        }}\n",
       "}});\n",
       "\n",
       "// Listen for the removal of the full notebook cells\n",
       "var notebookContainer = gd.closest('#notebook-container');\n",
       "if (notebookContainer) {{\n",
       "    x.observe(notebookContainer, {childList: true});\n",
       "}}\n",
       "\n",
       "// Listen for the clearing of the current output cell\n",
       "var outputEl = gd.closest('.output');\n",
       "if (outputEl) {{\n",
       "    x.observe(outputEl, {childList: true});\n",
       "}}\n",
       "\n",
       "                        })                };                });            </script>        </div>"
      ]
     },
     "metadata": {},
     "output_type": "display_data"
    }
   ],
   "source": [
    "import numpy as np\n",
    "import glob, os, json\n",
    "import matplotlib.pyplot as plt\n",
    "import plotly.graph_objects as go\n",
    "\n",
    "sampling_dir = '/data/mint/sampling/TPAMI/tuning_with_solver/'\n",
    "# sampling_dir = '/data/mint/sampling/with_solver/'\n",
    "\n",
    "out_json = {}\n",
    "\n",
    "all_mean = []\n",
    "all_std = []\n",
    "all_name = []\n",
    "\n",
    "# available alg, order, method, steps, correction\n",
    "# vis_alg = ['dpmsolver', 'dpmsolver++']\n",
    "# vis_order = ['2', '3']\n",
    "# vis_steps = ['10', '15', '20', '25', '50', '100']\n",
    "# vis_method = ['singlestep', 'multistep']\n",
    "# vis_correction = ['None', 'dynamic_thresholding']\n",
    "\n",
    "vis_alg = ['dpmsolver', 'dpmsolver++', 'unipc']\n",
    "vis_order = ['2', '3']\n",
    "# vis_steps = ['10', '15', '20', '25', '50', '100']\n",
    "vis_steps = ['100']\n",
    "vis_method = ['singlestep', 'multistep']\n",
    "vis_correction = ['None']\n",
    "# for d in sorted(glob.glob(sampling_dir + '/*')):\n",
    "for d in sorted(glob.glob(sampling_dir + '/*_256*')):\n",
    "    \n",
    "    name = d.split('/')[-1]\n",
    "    step = \"ema_085000\"\n",
    "    alias = name.split('yaml_')[-1]\n",
    "    itp = \"render_face\"\n",
    "    itp_method = \"Lerp\"\n",
    "    diff_step = \"1000\"\n",
    "    time_respace = \"\"\n",
    "    n_frame = \"5\"\n",
    "    \n",
    "    alg, order, method, steps = alias.split('_')[0:4]\n",
    "    correction = '_'.join(alias.split('_')[4:])\n",
    "    \n",
    "    if alg not in vis_alg:continue\n",
    "    if order not in vis_order:continue\n",
    "    if method not in vis_method:continue\n",
    "    if steps not in vis_steps:continue\n",
    "    if correction not in vis_correction:continue\n",
    "    \n",
    "    # Read runtime.json\n",
    "    if os.path.exists(d + '/runtime.json'):\n",
    "        fj = open(d + '/runtime.json')\n",
    "        rt = json.load(fj)\n",
    "        all_mean.append(rt['mean_rev_time'] + rt['mean_relit_time'])\n",
    "        all_std.append(rt['std_rev_time'] + rt['std_relit_time'])\n",
    "        all_name.append(alias)\n",
    "\n",
    "# Plot runtime of all name\n",
    "sorted_idx = np.argsort(all_mean)\n",
    "all_mean = np.array(all_mean)[sorted_idx]\n",
    "all_name = np.array(all_name)[sorted_idx]\n",
    "layout = go.Layout(\n",
    "    width=800,  # Set the width to your desired value (in pixels)\n",
    "    height=1024,  # Set the height to your desired value (in pixels)\n",
    "    title='Runtime of different solvers',\n",
    "    xaxis=dict(title='Solver'),\n",
    "    yaxis=dict(title='Runtime')\n",
    ")\n",
    "fig = go.Figure([go.Bar(x=all_name, y=all_mean)], layout=layout)\n",
    "# increase size of fig\n",
    "\n",
    "fig.show()"
   ]
  },
  {
   "cell_type": "code",
   "execution_count": 54,
   "metadata": {},
   "outputs": [
    {
     "name": "stdout",
     "output_type": "stream",
     "text": [
      "/data/mint/sampling/TPAMI/tuning_with_solver/log=Masked_Face_woclip+BgNoHead+shadow_256_cfg=Masked_Face_woclip+BgNoHead+shadow_256.yaml_dpmsolver++_2_multistep_100_None\n",
      "/data/mint/sampling/TPAMI/tuning_with_solver/log=Masked_Face_woclip+BgNoHead+shadow_256_cfg=Masked_Face_woclip+BgNoHead+shadow_256.yaml_dpmsolver++_2_multistep_10_None\n",
      "/data/mint/sampling/TPAMI/tuning_with_solver/log=Masked_Face_woclip+BgNoHead+shadow_256_cfg=Masked_Face_woclip+BgNoHead+shadow_256.yaml_dpmsolver++_2_multistep_15_None\n",
      "/data/mint/sampling/TPAMI/tuning_with_solver/log=Masked_Face_woclip+BgNoHead+shadow_256_cfg=Masked_Face_woclip+BgNoHead+shadow_256.yaml_dpmsolver++_2_multistep_20_None\n",
      "/data/mint/sampling/TPAMI/tuning_with_solver/log=Masked_Face_woclip+BgNoHead+shadow_256_cfg=Masked_Face_woclip+BgNoHead+shadow_256.yaml_dpmsolver++_2_multistep_25_None\n",
      "/data/mint/sampling/TPAMI/tuning_with_solver/log=Masked_Face_woclip+BgNoHead+shadow_256_cfg=Masked_Face_woclip+BgNoHead+shadow_256.yaml_dpmsolver++_2_multistep_50_None\n",
      "/data/mint/sampling/TPAMI/tuning_with_solver/log=Masked_Face_woclip+BgNoHead+shadow_256_cfg=Masked_Face_woclip+BgNoHead+shadow_256.yaml_dpmsolver++_2_singlestep_100_None\n",
      "/data/mint/sampling/TPAMI/tuning_with_solver/log=Masked_Face_woclip+BgNoHead+shadow_256_cfg=Masked_Face_woclip+BgNoHead+shadow_256.yaml_dpmsolver++_2_singlestep_10_None\n",
      "/data/mint/sampling/TPAMI/tuning_with_solver/log=Masked_Face_woclip+BgNoHead+shadow_256_cfg=Masked_Face_woclip+BgNoHead+shadow_256.yaml_dpmsolver++_2_singlestep_15_None\n",
      "/data/mint/sampling/TPAMI/tuning_with_solver/log=Masked_Face_woclip+BgNoHead+shadow_256_cfg=Masked_Face_woclip+BgNoHead+shadow_256.yaml_dpmsolver++_2_singlestep_20_None\n",
      "/data/mint/sampling/TPAMI/tuning_with_solver/log=Masked_Face_woclip+BgNoHead+shadow_256_cfg=Masked_Face_woclip+BgNoHead+shadow_256.yaml_dpmsolver++_2_singlestep_25_None\n",
      "/data/mint/sampling/TPAMI/tuning_with_solver/log=Masked_Face_woclip+BgNoHead+shadow_256_cfg=Masked_Face_woclip+BgNoHead+shadow_256.yaml_dpmsolver++_2_singlestep_50_None\n",
      "/data/mint/sampling/TPAMI/tuning_with_solver/log=Masked_Face_woclip+BgNoHead+shadow_256_cfg=Masked_Face_woclip+BgNoHead+shadow_256.yaml_dpmsolver++_3_multistep_100_None\n",
      "/data/mint/sampling/TPAMI/tuning_with_solver/log=Masked_Face_woclip+BgNoHead+shadow_256_cfg=Masked_Face_woclip+BgNoHead+shadow_256.yaml_dpmsolver++_3_multistep_10_None\n",
      "/data/mint/sampling/TPAMI/tuning_with_solver/log=Masked_Face_woclip+BgNoHead+shadow_256_cfg=Masked_Face_woclip+BgNoHead+shadow_256.yaml_dpmsolver++_3_multistep_15_None\n",
      "/data/mint/sampling/TPAMI/tuning_with_solver/log=Masked_Face_woclip+BgNoHead+shadow_256_cfg=Masked_Face_woclip+BgNoHead+shadow_256.yaml_dpmsolver++_3_multistep_20_None\n",
      "/data/mint/sampling/TPAMI/tuning_with_solver/log=Masked_Face_woclip+BgNoHead+shadow_256_cfg=Masked_Face_woclip+BgNoHead+shadow_256.yaml_dpmsolver++_3_multistep_25_None\n",
      "/data/mint/sampling/TPAMI/tuning_with_solver/log=Masked_Face_woclip+BgNoHead+shadow_256_cfg=Masked_Face_woclip+BgNoHead+shadow_256.yaml_dpmsolver++_3_multistep_50_None\n",
      "/data/mint/sampling/TPAMI/tuning_with_solver/log=Masked_Face_woclip+BgNoHead+shadow_256_cfg=Masked_Face_woclip+BgNoHead+shadow_256.yaml_dpmsolver++_3_singlestep_100_None\n",
      "/data/mint/sampling/TPAMI/tuning_with_solver/log=Masked_Face_woclip+BgNoHead+shadow_256_cfg=Masked_Face_woclip+BgNoHead+shadow_256.yaml_dpmsolver++_3_singlestep_10_None\n",
      "/data/mint/sampling/TPAMI/tuning_with_solver/log=Masked_Face_woclip+BgNoHead+shadow_256_cfg=Masked_Face_woclip+BgNoHead+shadow_256.yaml_dpmsolver++_3_singlestep_15_None\n",
      "/data/mint/sampling/TPAMI/tuning_with_solver/log=Masked_Face_woclip+BgNoHead+shadow_256_cfg=Masked_Face_woclip+BgNoHead+shadow_256.yaml_dpmsolver++_3_singlestep_20_None\n",
      "/data/mint/sampling/TPAMI/tuning_with_solver/log=Masked_Face_woclip+BgNoHead+shadow_256_cfg=Masked_Face_woclip+BgNoHead+shadow_256.yaml_dpmsolver++_3_singlestep_25_None\n",
      "/data/mint/sampling/TPAMI/tuning_with_solver/log=Masked_Face_woclip+BgNoHead+shadow_256_cfg=Masked_Face_woclip+BgNoHead+shadow_256.yaml_dpmsolver++_3_singlestep_50_None\n",
      "/data/mint/sampling/TPAMI/tuning_with_solver/log=Masked_Face_woclip+BgNoHead+shadow_256_cfg=Masked_Face_woclip+BgNoHead+shadow_256.yaml_dpmsolver_2_multistep_100_None\n",
      "/data/mint/sampling/TPAMI/tuning_with_solver/log=Masked_Face_woclip+BgNoHead+shadow_256_cfg=Masked_Face_woclip+BgNoHead+shadow_256.yaml_dpmsolver_2_multistep_10_None\n",
      "/data/mint/sampling/TPAMI/tuning_with_solver/log=Masked_Face_woclip+BgNoHead+shadow_256_cfg=Masked_Face_woclip+BgNoHead+shadow_256.yaml_dpmsolver_2_multistep_15_None\n",
      "/data/mint/sampling/TPAMI/tuning_with_solver/log=Masked_Face_woclip+BgNoHead+shadow_256_cfg=Masked_Face_woclip+BgNoHead+shadow_256.yaml_dpmsolver_2_multistep_20_None\n",
      "/data/mint/sampling/TPAMI/tuning_with_solver/log=Masked_Face_woclip+BgNoHead+shadow_256_cfg=Masked_Face_woclip+BgNoHead+shadow_256.yaml_dpmsolver_2_multistep_25_None\n",
      "/data/mint/sampling/TPAMI/tuning_with_solver/log=Masked_Face_woclip+BgNoHead+shadow_256_cfg=Masked_Face_woclip+BgNoHead+shadow_256.yaml_dpmsolver_2_multistep_50_None\n",
      "/data/mint/sampling/TPAMI/tuning_with_solver/log=Masked_Face_woclip+BgNoHead+shadow_256_cfg=Masked_Face_woclip+BgNoHead+shadow_256.yaml_dpmsolver_2_singlestep_100_None\n",
      "/data/mint/sampling/TPAMI/tuning_with_solver/log=Masked_Face_woclip+BgNoHead+shadow_256_cfg=Masked_Face_woclip+BgNoHead+shadow_256.yaml_dpmsolver_2_singlestep_10_None\n",
      "/data/mint/sampling/TPAMI/tuning_with_solver/log=Masked_Face_woclip+BgNoHead+shadow_256_cfg=Masked_Face_woclip+BgNoHead+shadow_256.yaml_dpmsolver_2_singlestep_15_None\n",
      "/data/mint/sampling/TPAMI/tuning_with_solver/log=Masked_Face_woclip+BgNoHead+shadow_256_cfg=Masked_Face_woclip+BgNoHead+shadow_256.yaml_dpmsolver_2_singlestep_20_None\n",
      "/data/mint/sampling/TPAMI/tuning_with_solver/log=Masked_Face_woclip+BgNoHead+shadow_256_cfg=Masked_Face_woclip+BgNoHead+shadow_256.yaml_dpmsolver_2_singlestep_25_None\n",
      "/data/mint/sampling/TPAMI/tuning_with_solver/log=Masked_Face_woclip+BgNoHead+shadow_256_cfg=Masked_Face_woclip+BgNoHead+shadow_256.yaml_dpmsolver_2_singlestep_50_None\n",
      "/data/mint/sampling/TPAMI/tuning_with_solver/log=Masked_Face_woclip+BgNoHead+shadow_256_cfg=Masked_Face_woclip+BgNoHead+shadow_256.yaml_dpmsolver_3_multistep_100_None\n",
      "/data/mint/sampling/TPAMI/tuning_with_solver/log=Masked_Face_woclip+BgNoHead+shadow_256_cfg=Masked_Face_woclip+BgNoHead+shadow_256.yaml_dpmsolver_3_multistep_10_None\n",
      "/data/mint/sampling/TPAMI/tuning_with_solver/log=Masked_Face_woclip+BgNoHead+shadow_256_cfg=Masked_Face_woclip+BgNoHead+shadow_256.yaml_dpmsolver_3_multistep_15_None\n",
      "/data/mint/sampling/TPAMI/tuning_with_solver/log=Masked_Face_woclip+BgNoHead+shadow_256_cfg=Masked_Face_woclip+BgNoHead+shadow_256.yaml_dpmsolver_3_multistep_20_None\n",
      "/data/mint/sampling/TPAMI/tuning_with_solver/log=Masked_Face_woclip+BgNoHead+shadow_256_cfg=Masked_Face_woclip+BgNoHead+shadow_256.yaml_dpmsolver_3_multistep_25_None\n",
      "/data/mint/sampling/TPAMI/tuning_with_solver/log=Masked_Face_woclip+BgNoHead+shadow_256_cfg=Masked_Face_woclip+BgNoHead+shadow_256.yaml_dpmsolver_3_multistep_50_None\n",
      "/data/mint/sampling/TPAMI/tuning_with_solver/log=Masked_Face_woclip+BgNoHead+shadow_256_cfg=Masked_Face_woclip+BgNoHead+shadow_256.yaml_dpmsolver_3_singlestep_100_None\n",
      "/data/mint/sampling/TPAMI/tuning_with_solver/log=Masked_Face_woclip+BgNoHead+shadow_256_cfg=Masked_Face_woclip+BgNoHead+shadow_256.yaml_dpmsolver_3_singlestep_10_None\n",
      "/data/mint/sampling/TPAMI/tuning_with_solver/log=Masked_Face_woclip+BgNoHead+shadow_256_cfg=Masked_Face_woclip+BgNoHead+shadow_256.yaml_dpmsolver_3_singlestep_15_None\n",
      "/data/mint/sampling/TPAMI/tuning_with_solver/log=Masked_Face_woclip+BgNoHead+shadow_256_cfg=Masked_Face_woclip+BgNoHead+shadow_256.yaml_dpmsolver_3_singlestep_20_None\n",
      "/data/mint/sampling/TPAMI/tuning_with_solver/log=Masked_Face_woclip+BgNoHead+shadow_256_cfg=Masked_Face_woclip+BgNoHead+shadow_256.yaml_dpmsolver_3_singlestep_25_None\n",
      "/data/mint/sampling/TPAMI/tuning_with_solver/log=Masked_Face_woclip+BgNoHead+shadow_256_cfg=Masked_Face_woclip+BgNoHead+shadow_256.yaml_dpmsolver_3_singlestep_50_None\n",
      "/data/mint/sampling/TPAMI/tuning_with_solver/log=Masked_Face_woclip+BgNoHead+shadow_256_cfg=Masked_Face_woclip+BgNoHead+shadow_256.yaml_unipc_2_multistep_100_None\n",
      "/data/mint/sampling/TPAMI/tuning_with_solver/log=Masked_Face_woclip+BgNoHead+shadow_256_cfg=Masked_Face_woclip+BgNoHead+shadow_256.yaml_unipc_2_multistep_10_None\n",
      "/data/mint/sampling/TPAMI/tuning_with_solver/log=Masked_Face_woclip+BgNoHead+shadow_256_cfg=Masked_Face_woclip+BgNoHead+shadow_256.yaml_unipc_2_multistep_15_None\n",
      "/data/mint/sampling/TPAMI/tuning_with_solver/log=Masked_Face_woclip+BgNoHead+shadow_256_cfg=Masked_Face_woclip+BgNoHead+shadow_256.yaml_unipc_2_multistep_20_None\n",
      "/data/mint/sampling/TPAMI/tuning_with_solver/log=Masked_Face_woclip+BgNoHead+shadow_256_cfg=Masked_Face_woclip+BgNoHead+shadow_256.yaml_unipc_2_multistep_25_None\n",
      "/data/mint/sampling/TPAMI/tuning_with_solver/log=Masked_Face_woclip+BgNoHead+shadow_256_cfg=Masked_Face_woclip+BgNoHead+shadow_256.yaml_unipc_2_multistep_50_None\n",
      "/data/mint/sampling/TPAMI/tuning_with_solver/log=Masked_Face_woclip+BgNoHead+shadow_256_cfg=Masked_Face_woclip+BgNoHead+shadow_256.yaml_unipc_3_multistep_100_None\n",
      "/data/mint/sampling/TPAMI/tuning_with_solver/log=Masked_Face_woclip+BgNoHead+shadow_256_cfg=Masked_Face_woclip+BgNoHead+shadow_256.yaml_unipc_3_multistep_10_None\n",
      "/data/mint/sampling/TPAMI/tuning_with_solver/log=Masked_Face_woclip+BgNoHead+shadow_256_cfg=Masked_Face_woclip+BgNoHead+shadow_256.yaml_unipc_3_multistep_15_None\n",
      "/data/mint/sampling/TPAMI/tuning_with_solver/log=Masked_Face_woclip+BgNoHead+shadow_256_cfg=Masked_Face_woclip+BgNoHead+shadow_256.yaml_unipc_3_multistep_20_None\n",
      "/data/mint/sampling/TPAMI/tuning_with_solver/log=Masked_Face_woclip+BgNoHead+shadow_256_cfg=Masked_Face_woclip+BgNoHead+shadow_256.yaml_unipc_3_multistep_25_None\n",
      "/data/mint/sampling/TPAMI/tuning_with_solver/log=Masked_Face_woclip+BgNoHead+shadow_256_cfg=Masked_Face_woclip+BgNoHead+shadow_256.yaml_unipc_3_multistep_50_None\n",
      "['dpmsolver++_2_multistep_100_None', 'dpmsolver++_2_multistep_10_None', 'dpmsolver++_2_multistep_15_None', 'dpmsolver++_2_multistep_20_None', 'dpmsolver++_2_multistep_25_None', 'dpmsolver++_2_multistep_50_None', 'dpmsolver++_2_singlestep_100_None', 'dpmsolver++_2_singlestep_10_None', 'dpmsolver++_2_singlestep_15_None', 'dpmsolver++_2_singlestep_20_None', 'dpmsolver++_2_singlestep_25_None', 'dpmsolver++_2_singlestep_50_None', 'dpmsolver++_3_multistep_100_None', 'dpmsolver++_3_multistep_10_None', 'dpmsolver++_3_multistep_15_None', 'dpmsolver++_3_multistep_20_None', 'dpmsolver++_3_multistep_25_None', 'dpmsolver++_3_multistep_50_None', 'dpmsolver++_3_singlestep_100_None', 'dpmsolver++_3_singlestep_10_None', 'dpmsolver++_3_singlestep_15_None', 'dpmsolver++_3_singlestep_20_None', 'dpmsolver++_3_singlestep_25_None', 'dpmsolver++_3_singlestep_50_None', 'dpmsolver_2_multistep_100_None', 'dpmsolver_2_multistep_10_None', 'dpmsolver_2_multistep_15_None', 'dpmsolver_2_multistep_20_None', 'dpmsolver_2_multistep_25_None', 'dpmsolver_2_multistep_50_None', 'dpmsolver_2_singlestep_100_None', 'dpmsolver_2_singlestep_10_None', 'dpmsolver_2_singlestep_15_None', 'dpmsolver_2_singlestep_20_None', 'dpmsolver_2_singlestep_25_None', 'dpmsolver_2_singlestep_50_None', 'dpmsolver_3_multistep_100_None', 'dpmsolver_3_multistep_10_None', 'dpmsolver_3_multistep_15_None', 'dpmsolver_3_multistep_20_None', 'dpmsolver_3_multistep_25_None', 'dpmsolver_3_multistep_50_None', 'dpmsolver_3_singlestep_100_None', 'dpmsolver_3_singlestep_10_None', 'dpmsolver_3_singlestep_15_None', 'dpmsolver_3_singlestep_20_None', 'dpmsolver_3_singlestep_25_None', 'dpmsolver_3_singlestep_50_None', 'unipc_2_multistep_100_None', 'unipc_2_multistep_10_None', 'unipc_2_multistep_15_None', 'unipc_2_multistep_20_None', 'unipc_2_multistep_25_None', 'unipc_2_multistep_50_None', 'unipc_3_multistep_100_None', 'unipc_3_multistep_10_None', 'unipc_3_multistep_15_None', 'unipc_3_multistep_20_None', 'unipc_3_multistep_25_None', 'unipc_3_multistep_50_None']\n"
     ]
    },
    {
     "data": {
      "application/vnd.plotly.v1+json": {
       "config": {
        "plotlyServerURL": "https://plot.ly"
       },
       "data": [
        {
         "type": "bar",
         "x": [
          "dpmsolver_2_singlestep_10_None",
          "dpmsolver_3_singlestep_10_None",
          "dpmsolver_3_multistep_10_None",
          "dpmsolver_2_multistep_10_None",
          "dpmsolver++_3_singlestep_10_None",
          "dpmsolver++_2_multistep_10_None",
          "dpmsolver++_2_singlestep_10_None",
          "unipc_2_multistep_10_None",
          "dpmsolver++_3_multistep_10_None",
          "unipc_3_multistep_10_None",
          "dpmsolver_3_singlestep_15_None",
          "dpmsolver_2_singlestep_15_None",
          "dpmsolver_2_multistep_15_None",
          "dpmsolver_3_multistep_15_None",
          "dpmsolver++_3_singlestep_15_None",
          "dpmsolver++_2_singlestep_15_None",
          "dpmsolver++_2_multistep_15_None",
          "dpmsolver++_3_multistep_15_None",
          "unipc_2_multistep_15_None",
          "unipc_3_multistep_15_None",
          "dpmsolver_3_singlestep_20_None",
          "dpmsolver_2_singlestep_20_None",
          "dpmsolver_2_multistep_20_None",
          "dpmsolver_3_multistep_20_None",
          "dpmsolver++_3_singlestep_20_None",
          "dpmsolver++_2_singlestep_20_None",
          "dpmsolver++_2_multistep_20_None",
          "dpmsolver++_3_multistep_20_None",
          "unipc_2_multistep_20_None",
          "unipc_3_multistep_20_None",
          "dpmsolver_3_singlestep_25_None",
          "dpmsolver_2_singlestep_25_None",
          "dpmsolver_2_multistep_25_None",
          "dpmsolver_3_multistep_25_None",
          "dpmsolver++_2_singlestep_25_None",
          "dpmsolver++_3_singlestep_25_None",
          "dpmsolver++_2_multistep_25_None",
          "dpmsolver++_3_multistep_25_None",
          "unipc_2_multistep_25_None",
          "unipc_3_multistep_25_None",
          "dpmsolver_3_singlestep_50_None",
          "dpmsolver_2_singlestep_50_None",
          "dpmsolver_2_multistep_50_None",
          "dpmsolver_3_multistep_50_None",
          "dpmsolver++_3_singlestep_50_None",
          "dpmsolver++_2_singlestep_50_None",
          "dpmsolver++_2_multistep_50_None",
          "dpmsolver++_3_multistep_50_None",
          "unipc_2_multistep_50_None",
          "unipc_3_multistep_50_None",
          "dpmsolver_3_singlestep_100_None",
          "dpmsolver_2_singlestep_100_None",
          "dpmsolver_2_multistep_100_None",
          "dpmsolver_3_multistep_100_None",
          "dpmsolver++_3_singlestep_100_None",
          "unipc_2_multistep_100_None",
          "dpmsolver++_2_singlestep_100_None",
          "unipc_3_multistep_100_None",
          "dpmsolver++_2_multistep_100_None",
          "dpmsolver++_3_multistep_100_None"
         ],
         "y": [
          1.645990514755249,
          1.6498504567146302,
          1.688284924030304,
          1.690968384742737,
          1.7408964443206787,
          1.7557495212554932,
          1.7701655983924867,
          1.776286849975586,
          1.7792206287384031,
          1.8020945739746095,
          2.4704458570480345,
          2.4733122611045837,
          2.4844669485092163,
          2.5160101532936094,
          2.587723743915558,
          2.6037601399421693,
          2.6146252846717832,
          2.624648735523224,
          2.644046289920807,
          2.6825232124328613,
          3.261298584938049,
          3.272535057067871,
          3.2998813343048097,
          3.337516906261444,
          3.4231626057624815,
          3.4343931555747984,
          3.4422911405563354,
          3.488362267017364,
          3.5131102418899536,
          3.5186415791511534,
          4.04740513086319,
          4.049222326278686,
          4.129344115257263,
          4.152376215457917,
          4.247288148403168,
          4.2584346222877505,
          4.29520610332489,
          4.328397464752197,
          4.364733085632324,
          4.408659453392029,
          8.045374431610108,
          8.099468758106232,
          8.189585571289062,
          8.265138459205627,
          8.500829422473908,
          8.540796010494233,
          8.61282116651535,
          8.670944986343384,
          8.685910515785217,
          8.739808938503266,
          16.073011751174924,
          16.150350470542907,
          16.371241490840912,
          16.51054777622223,
          17.174091269969942,
          17.29547425508499,
          17.303238096237184,
          17.456803591251372,
          17.460835947990418,
          17.524563982486725
         ]
        }
       ],
       "layout": {
        "height": 1024,
        "template": {
         "data": {
          "bar": [
           {
            "error_x": {
             "color": "#2a3f5f"
            },
            "error_y": {
             "color": "#2a3f5f"
            },
            "marker": {
             "line": {
              "color": "#E5ECF6",
              "width": 0.5
             },
             "pattern": {
              "fillmode": "overlay",
              "size": 10,
              "solidity": 0.2
             }
            },
            "type": "bar"
           }
          ],
          "barpolar": [
           {
            "marker": {
             "line": {
              "color": "#E5ECF6",
              "width": 0.5
             },
             "pattern": {
              "fillmode": "overlay",
              "size": 10,
              "solidity": 0.2
             }
            },
            "type": "barpolar"
           }
          ],
          "carpet": [
           {
            "aaxis": {
             "endlinecolor": "#2a3f5f",
             "gridcolor": "white",
             "linecolor": "white",
             "minorgridcolor": "white",
             "startlinecolor": "#2a3f5f"
            },
            "baxis": {
             "endlinecolor": "#2a3f5f",
             "gridcolor": "white",
             "linecolor": "white",
             "minorgridcolor": "white",
             "startlinecolor": "#2a3f5f"
            },
            "type": "carpet"
           }
          ],
          "choropleth": [
           {
            "colorbar": {
             "outlinewidth": 0,
             "ticks": ""
            },
            "type": "choropleth"
           }
          ],
          "contour": [
           {
            "colorbar": {
             "outlinewidth": 0,
             "ticks": ""
            },
            "colorscale": [
             [
              0,
              "#0d0887"
             ],
             [
              0.1111111111111111,
              "#46039f"
             ],
             [
              0.2222222222222222,
              "#7201a8"
             ],
             [
              0.3333333333333333,
              "#9c179e"
             ],
             [
              0.4444444444444444,
              "#bd3786"
             ],
             [
              0.5555555555555556,
              "#d8576b"
             ],
             [
              0.6666666666666666,
              "#ed7953"
             ],
             [
              0.7777777777777778,
              "#fb9f3a"
             ],
             [
              0.8888888888888888,
              "#fdca26"
             ],
             [
              1,
              "#f0f921"
             ]
            ],
            "type": "contour"
           }
          ],
          "contourcarpet": [
           {
            "colorbar": {
             "outlinewidth": 0,
             "ticks": ""
            },
            "type": "contourcarpet"
           }
          ],
          "heatmap": [
           {
            "colorbar": {
             "outlinewidth": 0,
             "ticks": ""
            },
            "colorscale": [
             [
              0,
              "#0d0887"
             ],
             [
              0.1111111111111111,
              "#46039f"
             ],
             [
              0.2222222222222222,
              "#7201a8"
             ],
             [
              0.3333333333333333,
              "#9c179e"
             ],
             [
              0.4444444444444444,
              "#bd3786"
             ],
             [
              0.5555555555555556,
              "#d8576b"
             ],
             [
              0.6666666666666666,
              "#ed7953"
             ],
             [
              0.7777777777777778,
              "#fb9f3a"
             ],
             [
              0.8888888888888888,
              "#fdca26"
             ],
             [
              1,
              "#f0f921"
             ]
            ],
            "type": "heatmap"
           }
          ],
          "heatmapgl": [
           {
            "colorbar": {
             "outlinewidth": 0,
             "ticks": ""
            },
            "colorscale": [
             [
              0,
              "#0d0887"
             ],
             [
              0.1111111111111111,
              "#46039f"
             ],
             [
              0.2222222222222222,
              "#7201a8"
             ],
             [
              0.3333333333333333,
              "#9c179e"
             ],
             [
              0.4444444444444444,
              "#bd3786"
             ],
             [
              0.5555555555555556,
              "#d8576b"
             ],
             [
              0.6666666666666666,
              "#ed7953"
             ],
             [
              0.7777777777777778,
              "#fb9f3a"
             ],
             [
              0.8888888888888888,
              "#fdca26"
             ],
             [
              1,
              "#f0f921"
             ]
            ],
            "type": "heatmapgl"
           }
          ],
          "histogram": [
           {
            "marker": {
             "pattern": {
              "fillmode": "overlay",
              "size": 10,
              "solidity": 0.2
             }
            },
            "type": "histogram"
           }
          ],
          "histogram2d": [
           {
            "colorbar": {
             "outlinewidth": 0,
             "ticks": ""
            },
            "colorscale": [
             [
              0,
              "#0d0887"
             ],
             [
              0.1111111111111111,
              "#46039f"
             ],
             [
              0.2222222222222222,
              "#7201a8"
             ],
             [
              0.3333333333333333,
              "#9c179e"
             ],
             [
              0.4444444444444444,
              "#bd3786"
             ],
             [
              0.5555555555555556,
              "#d8576b"
             ],
             [
              0.6666666666666666,
              "#ed7953"
             ],
             [
              0.7777777777777778,
              "#fb9f3a"
             ],
             [
              0.8888888888888888,
              "#fdca26"
             ],
             [
              1,
              "#f0f921"
             ]
            ],
            "type": "histogram2d"
           }
          ],
          "histogram2dcontour": [
           {
            "colorbar": {
             "outlinewidth": 0,
             "ticks": ""
            },
            "colorscale": [
             [
              0,
              "#0d0887"
             ],
             [
              0.1111111111111111,
              "#46039f"
             ],
             [
              0.2222222222222222,
              "#7201a8"
             ],
             [
              0.3333333333333333,
              "#9c179e"
             ],
             [
              0.4444444444444444,
              "#bd3786"
             ],
             [
              0.5555555555555556,
              "#d8576b"
             ],
             [
              0.6666666666666666,
              "#ed7953"
             ],
             [
              0.7777777777777778,
              "#fb9f3a"
             ],
             [
              0.8888888888888888,
              "#fdca26"
             ],
             [
              1,
              "#f0f921"
             ]
            ],
            "type": "histogram2dcontour"
           }
          ],
          "mesh3d": [
           {
            "colorbar": {
             "outlinewidth": 0,
             "ticks": ""
            },
            "type": "mesh3d"
           }
          ],
          "parcoords": [
           {
            "line": {
             "colorbar": {
              "outlinewidth": 0,
              "ticks": ""
             }
            },
            "type": "parcoords"
           }
          ],
          "pie": [
           {
            "automargin": true,
            "type": "pie"
           }
          ],
          "scatter": [
           {
            "marker": {
             "colorbar": {
              "outlinewidth": 0,
              "ticks": ""
             }
            },
            "type": "scatter"
           }
          ],
          "scatter3d": [
           {
            "line": {
             "colorbar": {
              "outlinewidth": 0,
              "ticks": ""
             }
            },
            "marker": {
             "colorbar": {
              "outlinewidth": 0,
              "ticks": ""
             }
            },
            "type": "scatter3d"
           }
          ],
          "scattercarpet": [
           {
            "marker": {
             "colorbar": {
              "outlinewidth": 0,
              "ticks": ""
             }
            },
            "type": "scattercarpet"
           }
          ],
          "scattergeo": [
           {
            "marker": {
             "colorbar": {
              "outlinewidth": 0,
              "ticks": ""
             }
            },
            "type": "scattergeo"
           }
          ],
          "scattergl": [
           {
            "marker": {
             "colorbar": {
              "outlinewidth": 0,
              "ticks": ""
             }
            },
            "type": "scattergl"
           }
          ],
          "scattermapbox": [
           {
            "marker": {
             "colorbar": {
              "outlinewidth": 0,
              "ticks": ""
             }
            },
            "type": "scattermapbox"
           }
          ],
          "scatterpolar": [
           {
            "marker": {
             "colorbar": {
              "outlinewidth": 0,
              "ticks": ""
             }
            },
            "type": "scatterpolar"
           }
          ],
          "scatterpolargl": [
           {
            "marker": {
             "colorbar": {
              "outlinewidth": 0,
              "ticks": ""
             }
            },
            "type": "scatterpolargl"
           }
          ],
          "scatterternary": [
           {
            "marker": {
             "colorbar": {
              "outlinewidth": 0,
              "ticks": ""
             }
            },
            "type": "scatterternary"
           }
          ],
          "surface": [
           {
            "colorbar": {
             "outlinewidth": 0,
             "ticks": ""
            },
            "colorscale": [
             [
              0,
              "#0d0887"
             ],
             [
              0.1111111111111111,
              "#46039f"
             ],
             [
              0.2222222222222222,
              "#7201a8"
             ],
             [
              0.3333333333333333,
              "#9c179e"
             ],
             [
              0.4444444444444444,
              "#bd3786"
             ],
             [
              0.5555555555555556,
              "#d8576b"
             ],
             [
              0.6666666666666666,
              "#ed7953"
             ],
             [
              0.7777777777777778,
              "#fb9f3a"
             ],
             [
              0.8888888888888888,
              "#fdca26"
             ],
             [
              1,
              "#f0f921"
             ]
            ],
            "type": "surface"
           }
          ],
          "table": [
           {
            "cells": {
             "fill": {
              "color": "#EBF0F8"
             },
             "line": {
              "color": "white"
             }
            },
            "header": {
             "fill": {
              "color": "#C8D4E3"
             },
             "line": {
              "color": "white"
             }
            },
            "type": "table"
           }
          ]
         },
         "layout": {
          "annotationdefaults": {
           "arrowcolor": "#2a3f5f",
           "arrowhead": 0,
           "arrowwidth": 1
          },
          "autotypenumbers": "strict",
          "coloraxis": {
           "colorbar": {
            "outlinewidth": 0,
            "ticks": ""
           }
          },
          "colorscale": {
           "diverging": [
            [
             0,
             "#8e0152"
            ],
            [
             0.1,
             "#c51b7d"
            ],
            [
             0.2,
             "#de77ae"
            ],
            [
             0.3,
             "#f1b6da"
            ],
            [
             0.4,
             "#fde0ef"
            ],
            [
             0.5,
             "#f7f7f7"
            ],
            [
             0.6,
             "#e6f5d0"
            ],
            [
             0.7,
             "#b8e186"
            ],
            [
             0.8,
             "#7fbc41"
            ],
            [
             0.9,
             "#4d9221"
            ],
            [
             1,
             "#276419"
            ]
           ],
           "sequential": [
            [
             0,
             "#0d0887"
            ],
            [
             0.1111111111111111,
             "#46039f"
            ],
            [
             0.2222222222222222,
             "#7201a8"
            ],
            [
             0.3333333333333333,
             "#9c179e"
            ],
            [
             0.4444444444444444,
             "#bd3786"
            ],
            [
             0.5555555555555556,
             "#d8576b"
            ],
            [
             0.6666666666666666,
             "#ed7953"
            ],
            [
             0.7777777777777778,
             "#fb9f3a"
            ],
            [
             0.8888888888888888,
             "#fdca26"
            ],
            [
             1,
             "#f0f921"
            ]
           ],
           "sequentialminus": [
            [
             0,
             "#0d0887"
            ],
            [
             0.1111111111111111,
             "#46039f"
            ],
            [
             0.2222222222222222,
             "#7201a8"
            ],
            [
             0.3333333333333333,
             "#9c179e"
            ],
            [
             0.4444444444444444,
             "#bd3786"
            ],
            [
             0.5555555555555556,
             "#d8576b"
            ],
            [
             0.6666666666666666,
             "#ed7953"
            ],
            [
             0.7777777777777778,
             "#fb9f3a"
            ],
            [
             0.8888888888888888,
             "#fdca26"
            ],
            [
             1,
             "#f0f921"
            ]
           ]
          },
          "colorway": [
           "#636efa",
           "#EF553B",
           "#00cc96",
           "#ab63fa",
           "#FFA15A",
           "#19d3f3",
           "#FF6692",
           "#B6E880",
           "#FF97FF",
           "#FECB52"
          ],
          "font": {
           "color": "#2a3f5f"
          },
          "geo": {
           "bgcolor": "white",
           "lakecolor": "white",
           "landcolor": "#E5ECF6",
           "showlakes": true,
           "showland": true,
           "subunitcolor": "white"
          },
          "hoverlabel": {
           "align": "left"
          },
          "hovermode": "closest",
          "mapbox": {
           "style": "light"
          },
          "paper_bgcolor": "white",
          "plot_bgcolor": "#E5ECF6",
          "polar": {
           "angularaxis": {
            "gridcolor": "white",
            "linecolor": "white",
            "ticks": ""
           },
           "bgcolor": "#E5ECF6",
           "radialaxis": {
            "gridcolor": "white",
            "linecolor": "white",
            "ticks": ""
           }
          },
          "scene": {
           "xaxis": {
            "backgroundcolor": "#E5ECF6",
            "gridcolor": "white",
            "gridwidth": 2,
            "linecolor": "white",
            "showbackground": true,
            "ticks": "",
            "zerolinecolor": "white"
           },
           "yaxis": {
            "backgroundcolor": "#E5ECF6",
            "gridcolor": "white",
            "gridwidth": 2,
            "linecolor": "white",
            "showbackground": true,
            "ticks": "",
            "zerolinecolor": "white"
           },
           "zaxis": {
            "backgroundcolor": "#E5ECF6",
            "gridcolor": "white",
            "gridwidth": 2,
            "linecolor": "white",
            "showbackground": true,
            "ticks": "",
            "zerolinecolor": "white"
           }
          },
          "shapedefaults": {
           "line": {
            "color": "#2a3f5f"
           }
          },
          "ternary": {
           "aaxis": {
            "gridcolor": "white",
            "linecolor": "white",
            "ticks": ""
           },
           "baxis": {
            "gridcolor": "white",
            "linecolor": "white",
            "ticks": ""
           },
           "bgcolor": "#E5ECF6",
           "caxis": {
            "gridcolor": "white",
            "linecolor": "white",
            "ticks": ""
           }
          },
          "title": {
           "x": 0.05
          },
          "xaxis": {
           "automargin": true,
           "gridcolor": "white",
           "linecolor": "white",
           "ticks": "",
           "title": {
            "standoff": 15
           },
           "zerolinecolor": "white",
           "zerolinewidth": 2
          },
          "yaxis": {
           "automargin": true,
           "gridcolor": "white",
           "linecolor": "white",
           "ticks": "",
           "title": {
            "standoff": 15
           },
           "zerolinecolor": "white",
           "zerolinewidth": 2
          }
         }
        },
        "title": {
         "text": "Runtime of different ddim-steps"
        },
        "width": 800,
        "xaxis": {
         "title": {
          "text": "DDIM Steps"
         }
        },
        "yaxis": {
         "title": {
          "text": "Runtime (seconds)"
         }
        }
       }
      },
      "text/html": [
       "<div>                            <div id=\"ce056716-6416-4c79-9468-cb5dcfa1fa42\" class=\"plotly-graph-div\" style=\"height:1024px; width:800px;\"></div>            <script type=\"text/javascript\">                require([\"plotly\"], function(Plotly) {                    window.PLOTLYENV=window.PLOTLYENV || {};                                    if (document.getElementById(\"ce056716-6416-4c79-9468-cb5dcfa1fa42\")) {                    Plotly.newPlot(                        \"ce056716-6416-4c79-9468-cb5dcfa1fa42\",                        [{\"type\":\"bar\",\"x\":[\"dpmsolver_2_singlestep_10_None\",\"dpmsolver_3_singlestep_10_None\",\"dpmsolver_3_multistep_10_None\",\"dpmsolver_2_multistep_10_None\",\"dpmsolver++_3_singlestep_10_None\",\"dpmsolver++_2_multistep_10_None\",\"dpmsolver++_2_singlestep_10_None\",\"unipc_2_multistep_10_None\",\"dpmsolver++_3_multistep_10_None\",\"unipc_3_multistep_10_None\",\"dpmsolver_3_singlestep_15_None\",\"dpmsolver_2_singlestep_15_None\",\"dpmsolver_2_multistep_15_None\",\"dpmsolver_3_multistep_15_None\",\"dpmsolver++_3_singlestep_15_None\",\"dpmsolver++_2_singlestep_15_None\",\"dpmsolver++_2_multistep_15_None\",\"dpmsolver++_3_multistep_15_None\",\"unipc_2_multistep_15_None\",\"unipc_3_multistep_15_None\",\"dpmsolver_3_singlestep_20_None\",\"dpmsolver_2_singlestep_20_None\",\"dpmsolver_2_multistep_20_None\",\"dpmsolver_3_multistep_20_None\",\"dpmsolver++_3_singlestep_20_None\",\"dpmsolver++_2_singlestep_20_None\",\"dpmsolver++_2_multistep_20_None\",\"dpmsolver++_3_multistep_20_None\",\"unipc_2_multistep_20_None\",\"unipc_3_multistep_20_None\",\"dpmsolver_3_singlestep_25_None\",\"dpmsolver_2_singlestep_25_None\",\"dpmsolver_2_multistep_25_None\",\"dpmsolver_3_multistep_25_None\",\"dpmsolver++_2_singlestep_25_None\",\"dpmsolver++_3_singlestep_25_None\",\"dpmsolver++_2_multistep_25_None\",\"dpmsolver++_3_multistep_25_None\",\"unipc_2_multistep_25_None\",\"unipc_3_multistep_25_None\",\"dpmsolver_3_singlestep_50_None\",\"dpmsolver_2_singlestep_50_None\",\"dpmsolver_2_multistep_50_None\",\"dpmsolver_3_multistep_50_None\",\"dpmsolver++_3_singlestep_50_None\",\"dpmsolver++_2_singlestep_50_None\",\"dpmsolver++_2_multistep_50_None\",\"dpmsolver++_3_multistep_50_None\",\"unipc_2_multistep_50_None\",\"unipc_3_multistep_50_None\",\"dpmsolver_3_singlestep_100_None\",\"dpmsolver_2_singlestep_100_None\",\"dpmsolver_2_multistep_100_None\",\"dpmsolver_3_multistep_100_None\",\"dpmsolver++_3_singlestep_100_None\",\"unipc_2_multistep_100_None\",\"dpmsolver++_2_singlestep_100_None\",\"unipc_3_multistep_100_None\",\"dpmsolver++_2_multistep_100_None\",\"dpmsolver++_3_multistep_100_None\"],\"y\":[1.645990514755249,1.6498504567146302,1.688284924030304,1.690968384742737,1.7408964443206787,1.7557495212554932,1.7701655983924867,1.776286849975586,1.7792206287384031,1.8020945739746095,2.4704458570480345,2.4733122611045837,2.4844669485092163,2.5160101532936094,2.587723743915558,2.6037601399421693,2.6146252846717832,2.624648735523224,2.644046289920807,2.6825232124328613,3.261298584938049,3.272535057067871,3.2998813343048097,3.337516906261444,3.4231626057624815,3.4343931555747984,3.4422911405563354,3.488362267017364,3.5131102418899536,3.5186415791511534,4.04740513086319,4.049222326278686,4.129344115257263,4.152376215457917,4.247288148403168,4.2584346222877505,4.29520610332489,4.328397464752197,4.364733085632324,4.408659453392029,8.045374431610108,8.099468758106232,8.189585571289062,8.265138459205627,8.500829422473908,8.540796010494233,8.61282116651535,8.670944986343384,8.685910515785217,8.739808938503266,16.073011751174924,16.150350470542907,16.371241490840912,16.51054777622223,17.174091269969942,17.29547425508499,17.303238096237184,17.456803591251372,17.460835947990418,17.524563982486725]}],                        {\"height\":1024,\"template\":{\"data\":{\"bar\":[{\"error_x\":{\"color\":\"#2a3f5f\"},\"error_y\":{\"color\":\"#2a3f5f\"},\"marker\":{\"line\":{\"color\":\"#E5ECF6\",\"width\":0.5},\"pattern\":{\"fillmode\":\"overlay\",\"size\":10,\"solidity\":0.2}},\"type\":\"bar\"}],\"barpolar\":[{\"marker\":{\"line\":{\"color\":\"#E5ECF6\",\"width\":0.5},\"pattern\":{\"fillmode\":\"overlay\",\"size\":10,\"solidity\":0.2}},\"type\":\"barpolar\"}],\"carpet\":[{\"aaxis\":{\"endlinecolor\":\"#2a3f5f\",\"gridcolor\":\"white\",\"linecolor\":\"white\",\"minorgridcolor\":\"white\",\"startlinecolor\":\"#2a3f5f\"},\"baxis\":{\"endlinecolor\":\"#2a3f5f\",\"gridcolor\":\"white\",\"linecolor\":\"white\",\"minorgridcolor\":\"white\",\"startlinecolor\":\"#2a3f5f\"},\"type\":\"carpet\"}],\"choropleth\":[{\"colorbar\":{\"outlinewidth\":0,\"ticks\":\"\"},\"type\":\"choropleth\"}],\"contour\":[{\"colorbar\":{\"outlinewidth\":0,\"ticks\":\"\"},\"colorscale\":[[0.0,\"#0d0887\"],[0.1111111111111111,\"#46039f\"],[0.2222222222222222,\"#7201a8\"],[0.3333333333333333,\"#9c179e\"],[0.4444444444444444,\"#bd3786\"],[0.5555555555555556,\"#d8576b\"],[0.6666666666666666,\"#ed7953\"],[0.7777777777777778,\"#fb9f3a\"],[0.8888888888888888,\"#fdca26\"],[1.0,\"#f0f921\"]],\"type\":\"contour\"}],\"contourcarpet\":[{\"colorbar\":{\"outlinewidth\":0,\"ticks\":\"\"},\"type\":\"contourcarpet\"}],\"heatmap\":[{\"colorbar\":{\"outlinewidth\":0,\"ticks\":\"\"},\"colorscale\":[[0.0,\"#0d0887\"],[0.1111111111111111,\"#46039f\"],[0.2222222222222222,\"#7201a8\"],[0.3333333333333333,\"#9c179e\"],[0.4444444444444444,\"#bd3786\"],[0.5555555555555556,\"#d8576b\"],[0.6666666666666666,\"#ed7953\"],[0.7777777777777778,\"#fb9f3a\"],[0.8888888888888888,\"#fdca26\"],[1.0,\"#f0f921\"]],\"type\":\"heatmap\"}],\"heatmapgl\":[{\"colorbar\":{\"outlinewidth\":0,\"ticks\":\"\"},\"colorscale\":[[0.0,\"#0d0887\"],[0.1111111111111111,\"#46039f\"],[0.2222222222222222,\"#7201a8\"],[0.3333333333333333,\"#9c179e\"],[0.4444444444444444,\"#bd3786\"],[0.5555555555555556,\"#d8576b\"],[0.6666666666666666,\"#ed7953\"],[0.7777777777777778,\"#fb9f3a\"],[0.8888888888888888,\"#fdca26\"],[1.0,\"#f0f921\"]],\"type\":\"heatmapgl\"}],\"histogram\":[{\"marker\":{\"pattern\":{\"fillmode\":\"overlay\",\"size\":10,\"solidity\":0.2}},\"type\":\"histogram\"}],\"histogram2d\":[{\"colorbar\":{\"outlinewidth\":0,\"ticks\":\"\"},\"colorscale\":[[0.0,\"#0d0887\"],[0.1111111111111111,\"#46039f\"],[0.2222222222222222,\"#7201a8\"],[0.3333333333333333,\"#9c179e\"],[0.4444444444444444,\"#bd3786\"],[0.5555555555555556,\"#d8576b\"],[0.6666666666666666,\"#ed7953\"],[0.7777777777777778,\"#fb9f3a\"],[0.8888888888888888,\"#fdca26\"],[1.0,\"#f0f921\"]],\"type\":\"histogram2d\"}],\"histogram2dcontour\":[{\"colorbar\":{\"outlinewidth\":0,\"ticks\":\"\"},\"colorscale\":[[0.0,\"#0d0887\"],[0.1111111111111111,\"#46039f\"],[0.2222222222222222,\"#7201a8\"],[0.3333333333333333,\"#9c179e\"],[0.4444444444444444,\"#bd3786\"],[0.5555555555555556,\"#d8576b\"],[0.6666666666666666,\"#ed7953\"],[0.7777777777777778,\"#fb9f3a\"],[0.8888888888888888,\"#fdca26\"],[1.0,\"#f0f921\"]],\"type\":\"histogram2dcontour\"}],\"mesh3d\":[{\"colorbar\":{\"outlinewidth\":0,\"ticks\":\"\"},\"type\":\"mesh3d\"}],\"parcoords\":[{\"line\":{\"colorbar\":{\"outlinewidth\":0,\"ticks\":\"\"}},\"type\":\"parcoords\"}],\"pie\":[{\"automargin\":true,\"type\":\"pie\"}],\"scatter\":[{\"marker\":{\"colorbar\":{\"outlinewidth\":0,\"ticks\":\"\"}},\"type\":\"scatter\"}],\"scatter3d\":[{\"line\":{\"colorbar\":{\"outlinewidth\":0,\"ticks\":\"\"}},\"marker\":{\"colorbar\":{\"outlinewidth\":0,\"ticks\":\"\"}},\"type\":\"scatter3d\"}],\"scattercarpet\":[{\"marker\":{\"colorbar\":{\"outlinewidth\":0,\"ticks\":\"\"}},\"type\":\"scattercarpet\"}],\"scattergeo\":[{\"marker\":{\"colorbar\":{\"outlinewidth\":0,\"ticks\":\"\"}},\"type\":\"scattergeo\"}],\"scattergl\":[{\"marker\":{\"colorbar\":{\"outlinewidth\":0,\"ticks\":\"\"}},\"type\":\"scattergl\"}],\"scattermapbox\":[{\"marker\":{\"colorbar\":{\"outlinewidth\":0,\"ticks\":\"\"}},\"type\":\"scattermapbox\"}],\"scatterpolar\":[{\"marker\":{\"colorbar\":{\"outlinewidth\":0,\"ticks\":\"\"}},\"type\":\"scatterpolar\"}],\"scatterpolargl\":[{\"marker\":{\"colorbar\":{\"outlinewidth\":0,\"ticks\":\"\"}},\"type\":\"scatterpolargl\"}],\"scatterternary\":[{\"marker\":{\"colorbar\":{\"outlinewidth\":0,\"ticks\":\"\"}},\"type\":\"scatterternary\"}],\"surface\":[{\"colorbar\":{\"outlinewidth\":0,\"ticks\":\"\"},\"colorscale\":[[0.0,\"#0d0887\"],[0.1111111111111111,\"#46039f\"],[0.2222222222222222,\"#7201a8\"],[0.3333333333333333,\"#9c179e\"],[0.4444444444444444,\"#bd3786\"],[0.5555555555555556,\"#d8576b\"],[0.6666666666666666,\"#ed7953\"],[0.7777777777777778,\"#fb9f3a\"],[0.8888888888888888,\"#fdca26\"],[1.0,\"#f0f921\"]],\"type\":\"surface\"}],\"table\":[{\"cells\":{\"fill\":{\"color\":\"#EBF0F8\"},\"line\":{\"color\":\"white\"}},\"header\":{\"fill\":{\"color\":\"#C8D4E3\"},\"line\":{\"color\":\"white\"}},\"type\":\"table\"}]},\"layout\":{\"annotationdefaults\":{\"arrowcolor\":\"#2a3f5f\",\"arrowhead\":0,\"arrowwidth\":1},\"autotypenumbers\":\"strict\",\"coloraxis\":{\"colorbar\":{\"outlinewidth\":0,\"ticks\":\"\"}},\"colorscale\":{\"diverging\":[[0,\"#8e0152\"],[0.1,\"#c51b7d\"],[0.2,\"#de77ae\"],[0.3,\"#f1b6da\"],[0.4,\"#fde0ef\"],[0.5,\"#f7f7f7\"],[0.6,\"#e6f5d0\"],[0.7,\"#b8e186\"],[0.8,\"#7fbc41\"],[0.9,\"#4d9221\"],[1,\"#276419\"]],\"sequential\":[[0.0,\"#0d0887\"],[0.1111111111111111,\"#46039f\"],[0.2222222222222222,\"#7201a8\"],[0.3333333333333333,\"#9c179e\"],[0.4444444444444444,\"#bd3786\"],[0.5555555555555556,\"#d8576b\"],[0.6666666666666666,\"#ed7953\"],[0.7777777777777778,\"#fb9f3a\"],[0.8888888888888888,\"#fdca26\"],[1.0,\"#f0f921\"]],\"sequentialminus\":[[0.0,\"#0d0887\"],[0.1111111111111111,\"#46039f\"],[0.2222222222222222,\"#7201a8\"],[0.3333333333333333,\"#9c179e\"],[0.4444444444444444,\"#bd3786\"],[0.5555555555555556,\"#d8576b\"],[0.6666666666666666,\"#ed7953\"],[0.7777777777777778,\"#fb9f3a\"],[0.8888888888888888,\"#fdca26\"],[1.0,\"#f0f921\"]]},\"colorway\":[\"#636efa\",\"#EF553B\",\"#00cc96\",\"#ab63fa\",\"#FFA15A\",\"#19d3f3\",\"#FF6692\",\"#B6E880\",\"#FF97FF\",\"#FECB52\"],\"font\":{\"color\":\"#2a3f5f\"},\"geo\":{\"bgcolor\":\"white\",\"lakecolor\":\"white\",\"landcolor\":\"#E5ECF6\",\"showlakes\":true,\"showland\":true,\"subunitcolor\":\"white\"},\"hoverlabel\":{\"align\":\"left\"},\"hovermode\":\"closest\",\"mapbox\":{\"style\":\"light\"},\"paper_bgcolor\":\"white\",\"plot_bgcolor\":\"#E5ECF6\",\"polar\":{\"angularaxis\":{\"gridcolor\":\"white\",\"linecolor\":\"white\",\"ticks\":\"\"},\"bgcolor\":\"#E5ECF6\",\"radialaxis\":{\"gridcolor\":\"white\",\"linecolor\":\"white\",\"ticks\":\"\"}},\"scene\":{\"xaxis\":{\"backgroundcolor\":\"#E5ECF6\",\"gridcolor\":\"white\",\"gridwidth\":2,\"linecolor\":\"white\",\"showbackground\":true,\"ticks\":\"\",\"zerolinecolor\":\"white\"},\"yaxis\":{\"backgroundcolor\":\"#E5ECF6\",\"gridcolor\":\"white\",\"gridwidth\":2,\"linecolor\":\"white\",\"showbackground\":true,\"ticks\":\"\",\"zerolinecolor\":\"white\"},\"zaxis\":{\"backgroundcolor\":\"#E5ECF6\",\"gridcolor\":\"white\",\"gridwidth\":2,\"linecolor\":\"white\",\"showbackground\":true,\"ticks\":\"\",\"zerolinecolor\":\"white\"}},\"shapedefaults\":{\"line\":{\"color\":\"#2a3f5f\"}},\"ternary\":{\"aaxis\":{\"gridcolor\":\"white\",\"linecolor\":\"white\",\"ticks\":\"\"},\"baxis\":{\"gridcolor\":\"white\",\"linecolor\":\"white\",\"ticks\":\"\"},\"bgcolor\":\"#E5ECF6\",\"caxis\":{\"gridcolor\":\"white\",\"linecolor\":\"white\",\"ticks\":\"\"}},\"title\":{\"x\":0.05},\"xaxis\":{\"automargin\":true,\"gridcolor\":\"white\",\"linecolor\":\"white\",\"ticks\":\"\",\"title\":{\"standoff\":15},\"zerolinecolor\":\"white\",\"zerolinewidth\":2},\"yaxis\":{\"automargin\":true,\"gridcolor\":\"white\",\"linecolor\":\"white\",\"ticks\":\"\",\"title\":{\"standoff\":15},\"zerolinecolor\":\"white\",\"zerolinewidth\":2}}},\"title\":{\"text\":\"Runtime of different ddim-steps\"},\"width\":800,\"xaxis\":{\"title\":{\"text\":\"DDIM Steps\"}},\"yaxis\":{\"title\":{\"text\":\"Runtime (seconds)\"}}},                        {\"responsive\": true}                    ).then(function(){\n",
       "                            \n",
       "var gd = document.getElementById('ce056716-6416-4c79-9468-cb5dcfa1fa42');\n",
       "var x = new MutationObserver(function (mutations, observer) {{\n",
       "        var display = window.getComputedStyle(gd).display;\n",
       "        if (!display || display === 'none') {{\n",
       "            console.log([gd, 'removed!']);\n",
       "            Plotly.purge(gd);\n",
       "            observer.disconnect();\n",
       "        }}\n",
       "}});\n",
       "\n",
       "// Listen for the removal of the full notebook cells\n",
       "var notebookContainer = gd.closest('#notebook-container');\n",
       "if (notebookContainer) {{\n",
       "    x.observe(notebookContainer, {childList: true});\n",
       "}}\n",
       "\n",
       "// Listen for the clearing of the current output cell\n",
       "var outputEl = gd.closest('.output');\n",
       "if (outputEl) {{\n",
       "    x.observe(outputEl, {childList: true});\n",
       "}}\n",
       "\n",
       "                        })                };                });            </script>        </div>"
      ]
     },
     "metadata": {},
     "output_type": "display_data"
    }
   ],
   "source": [
    "import numpy as np\n",
    "import glob, os, json\n",
    "import matplotlib.pyplot as plt\n",
    "import plotly.graph_objects as go\n",
    "\n",
    "sampling_dir = '/data/mint/sampling/TPAMI/tuning_with_solver/'\n",
    "# sampling_dir = '/data/mint/sampling/paired_training_experiment/targetSH/'\n",
    "\n",
    "out_json = {}\n",
    "\n",
    "all_mean = []\n",
    "all_std = []\n",
    "all_name = []\n",
    "\n",
    "# available alg, order, method, steps, correction\n",
    "# vis_alg = ['dpmsolver', 'dpmsolver++']\n",
    "# vis_order = ['2', '3']\n",
    "# vis_steps = ['10', '15', '20', '25', '50', '100']\n",
    "# vis_method = ['singlestep', 'multistep']\n",
    "# vis_correction = ['None', 'dynamic_thresholding']\n",
    "\n",
    "# for d in sorted(glob.glob(sampling_dir + '/*')):\n",
    "for d in sorted(glob.glob(sampling_dir + '/*_256.yaml_*')):\n",
    "    print(d)\n",
    "    name = d.split('/')[-1]\n",
    "    step = \"ema_085000\"\n",
    "    alias = name.split('yaml_')[-1]\n",
    "    itp = \"render_face\"\n",
    "    itp_method = \"Lerp\"\n",
    "    diff_step = \"1000\"\n",
    "    time_respace = \"\"\n",
    "    n_frame = \"5\"\n",
    "    \n",
    "    # Read runtime.json\n",
    "    if os.path.exists(d + '/runtime.json'):\n",
    "        fj = open(d + '/runtime.json')\n",
    "        rt = json.load(fj)\n",
    "        all_mean.append(rt['mean_rev_time'] + rt['mean_relit_time'])\n",
    "        all_std.append(rt['std_rev_time'] + rt['std_relit_time'])\n",
    "        all_name.append(alias)\n",
    "\n",
    "# Plot runtime of all name\n",
    "print(all_name)\n",
    "sorted_idx = np.argsort(all_mean)\n",
    "all_mean = np.array(all_mean)[sorted_idx]\n",
    "all_name = np.array(all_name)[sorted_idx]\n",
    "layout = go.Layout(\n",
    "    width=800,  # Set the width to your desired value (in pixels)\n",
    "    height=1024,  # Set the height to your desired value (in pixels)\n",
    "    title='Runtime of different ddim-steps',\n",
    "    xaxis=dict(title='DDIM Steps'),\n",
    "    yaxis=dict(title='Runtime (seconds)')\n",
    ")\n",
    "fig = go.Figure([go.Bar(x=all_name, y=all_mean)], layout=layout)\n",
    "# increase size of fig\n",
    "\n",
    "fig.show()"
   ]
  },
  {
   "cell_type": "markdown",
   "metadata": {},
   "source": [
    "# Score comparison"
   ]
  },
  {
   "cell_type": "code",
   "execution_count": 64,
   "metadata": {},
   "outputs": [
    {
     "name": "stdout",
     "output_type": "stream",
     "text": [
      "##################################################\n",
      "[#] Report\n",
      "[#] Best dpmsolver calculated on mse: \n",
      "                                   name       mse     dssim     lpips\n",
      "45  dpmsolver_singlestep_25_3_None.json  0.017232  0.115712  0.154542\n",
      "35   dpmsolver_multistep_50_3_None.json  0.017334  0.115804  0.142547\n",
      "34   dpmsolver_multistep_50_2_None.json  0.017372  0.114328  0.144197\n",
      "\n",
      "\n",
      "[#] Best dpmsolver calculated on dssim: \n",
      "                                    name       mse     dssim     lpips\n",
      "37  dpmsolver_singlestep_100_3_None.json  0.017412  0.107488  0.128737\n",
      "25   dpmsolver_multistep_100_3_None.json  0.017412  0.111016  0.132959\n",
      "24   dpmsolver_multistep_100_2_None.json  0.017407  0.111675  0.133973\n",
      "\n",
      "\n",
      "[#] Best dpmsolver calculated on lpips: \n",
      "                                    name       mse     dssim     lpips\n",
      "37  dpmsolver_singlestep_100_3_None.json  0.017412  0.107488  0.128737\n",
      "25   dpmsolver_multistep_100_3_None.json  0.017412  0.111016  0.132959\n",
      "24   dpmsolver_multistep_100_2_None.json  0.017407  0.111675  0.133973\n",
      "\n",
      "\n",
      "##################################################\n",
      "##################################################\n",
      "[#] Report\n",
      "[#] Best unipc calculated on mse: \n",
      "                               name       mse     dssim     lpips\n",
      "48  unipc_multistep_100_2_None.json  0.017395  0.112754  0.133043\n",
      "49  unipc_multistep_100_3_None.json  0.017399  0.112779  0.133103\n",
      "58   unipc_multistep_50_2_None.json  0.017432  0.126512  0.145333\n",
      "\n",
      "\n",
      "[#] Best unipc calculated on dssim: \n",
      "                               name       mse     dssim     lpips\n",
      "48  unipc_multistep_100_2_None.json  0.017395  0.112754  0.133043\n",
      "49  unipc_multistep_100_3_None.json  0.017399  0.112779  0.133103\n",
      "58   unipc_multistep_50_2_None.json  0.017432  0.126512  0.145333\n",
      "\n",
      "\n",
      "[#] Best unipc calculated on lpips: \n",
      "                               name       mse     dssim     lpips\n",
      "48  unipc_multistep_100_2_None.json  0.017395  0.112754  0.133043\n",
      "49  unipc_multistep_100_3_None.json  0.017399  0.112779  0.133103\n",
      "58   unipc_multistep_50_2_None.json  0.017432  0.126512  0.145333\n",
      "\n",
      "\n",
      "##################################################\n",
      "##################################################\n",
      "[#] Report\n",
      "[#] Best dpmsolver\\+\\+ calculated on mse: \n",
      "                                     name       mse     dssim     lpips\n",
      "1   dpmsolver++_multistep_100_3_None.json  0.017422  0.113863  0.132700\n",
      "11   dpmsolver++_multistep_50_3_None.json  0.017423  0.128395  0.151594\n",
      "0   dpmsolver++_multistep_100_2_None.json  0.017434  0.113925  0.136488\n",
      "\n",
      "\n",
      "[#] Best dpmsolver\\+\\+ calculated on dssim: \n",
      "                                     name       mse     dssim     lpips\n",
      "1   dpmsolver++_multistep_100_3_None.json  0.017422  0.113863  0.132700\n",
      "0   dpmsolver++_multistep_100_2_None.json  0.017434  0.113925  0.136488\n",
      "10   dpmsolver++_multistep_50_2_None.json  0.017438  0.117461  0.146280\n",
      "\n",
      "\n",
      "[#] Best dpmsolver\\+\\+ calculated on lpips: \n",
      "                                     name       mse     dssim     lpips\n",
      "1   dpmsolver++_multistep_100_3_None.json  0.017422  0.113863  0.132700\n",
      "0   dpmsolver++_multistep_100_2_None.json  0.017434  0.113925  0.136488\n",
      "10   dpmsolver++_multistep_50_2_None.json  0.017438  0.117461  0.146280\n",
      "\n",
      "\n",
      "##################################################\n"
     ]
    },
    {
     "data": {
      "application/vnd.plotly.v1+json": {
       "config": {
        "plotlyServerURL": "https://plot.ly"
       },
       "data": [
        {
         "alignmentgroup": "True",
         "hovertemplate": "variable=mse<br>name=%{x}<br>value=%{y}<extra></extra>",
         "legendgroup": "mse",
         "marker": {
          "color": "#636efa",
          "opacity": 0.9,
          "pattern": {
           "shape": ""
          }
         },
         "name": "mse",
         "offsetgroup": "mse",
         "orientation": "v",
         "showlegend": true,
         "textposition": "auto",
         "type": "bar",
         "x": [
          "dpmsolver_singlestep_100_3_None.json",
          "dpmsolver++_multistep_100_3_None.json",
          "dpmsolver_multistep_100_3_None.json",
          "unipc_multistep_100_2_None.json",
          "unipc_multistep_100_3_None.json",
          "dpmsolver_multistep_100_2_None.json",
          "dpmsolver++_multistep_100_2_None.json",
          "dpmsolver_singlestep_100_2_None.json",
          "dpmsolver_singlestep_50_2_None.json",
          "dpmsolver_multistep_50_3_None.json",
          "dpmsolver_multistep_50_2_None.json",
          "unipc_multistep_50_2_None.json",
          "unipc_multistep_50_3_None.json",
          "dpmsolver_multistep_20_3_None.json",
          "dpmsolver++_multistep_50_2_None.json",
          "dpmsolver_multistep_25_3_None.json",
          "dpmsolver_multistep_15_3_None.json",
          "dpmsolver_singlestep_25_2_None.json",
          "dpmsolver_multistep_20_2_None.json",
          "dpmsolver++_multistep_50_3_None.json",
          "dpmsolver++_multistep_15_2_None.json",
          "dpmsolver_multistep_15_2_None.json",
          "dpmsolver++_multistep_20_2_None.json",
          "unipc_multistep_25_3_None.json",
          "dpmsolver_multistep_25_2_None.json",
          "dpmsolver_singlestep_25_3_None.json",
          "unipc_multistep_25_2_None.json",
          "dpmsolver++_multistep_25_3_None.json",
          "dpmsolver_multistep_10_2_None.json",
          "dpmsolver++_multistep_25_2_None.json",
          "unipc_multistep_20_3_None.json",
          "unipc_multistep_20_2_None.json",
          "dpmsolver++_multistep_20_3_None.json",
          "dpmsolver_singlestep_15_3_None.json",
          "unipc_multistep_15_2_None.json",
          "dpmsolver++_multistep_10_2_None.json",
          "dpmsolver++_multistep_15_3_None.json",
          "dpmsolver_singlestep_50_3_None.json",
          "unipc_multistep_15_3_None.json",
          "dpmsolver++_singlestep_100_3_None.json",
          "dpmsolver_singlestep_20_3_None.json",
          "dpmsolver_singlestep_20_2_None.json",
          "dpmsolver_multistep_10_3_None.json",
          "unipc_multistep_10_2_None.json",
          "dpmsolver++_multistep_10_3_None.json",
          "dpmsolver_singlestep_15_2_None.json",
          "dpmsolver_singlestep_10_2_None.json",
          "dpmsolver++_singlestep_100_2_None.json",
          "dpmsolver_singlestep_10_3_None.json",
          "unipc_multistep_10_3_None.json",
          "dpmsolver++_singlestep_50_3_None.json",
          "dpmsolver++_singlestep_50_2_None.json",
          "dpmsolver++_singlestep_25_2_None.json",
          "dpmsolver++_singlestep_25_3_None.json",
          "dpmsolver++_singlestep_20_2_None.json",
          "dpmsolver++_singlestep_20_3_None.json",
          "dpmsolver++_singlestep_15_3_None.json",
          "dpmsolver++_singlestep_15_2_None.json",
          "dpmsolver++_singlestep_10_3_None.json",
          "dpmsolver++_singlestep_10_2_None.json"
         ],
         "xaxis": "x",
         "y": [
          0.017411617562174797,
          0.017421957105398178,
          0.01741217076778412,
          0.017394889146089554,
          0.01739937625825405,
          0.01740744151175022,
          0.01743428036570549,
          0.01745474711060524,
          0.01755773276090622,
          0.017334407195448875,
          0.017372040078043938,
          0.01743219792842865,
          0.01743587665259838,
          0.01775437779724598,
          0.017438052222132683,
          0.01740342564880848,
          0.01765657216310501,
          0.01769997924566269,
          0.01776883564889431,
          0.017423337325453758,
          0.0183363389223814,
          0.017865527421236038,
          0.018026992678642273,
          0.017622770741581917,
          0.0174766443669796,
          0.017232071608304977,
          0.01763240247964859,
          0.017436111345887184,
          0.018186520785093307,
          0.0176446083933115,
          0.01788547821342945,
          0.01792466826736927,
          0.01765289157629013,
          0.0173773355782032,
          0.018618054687976837,
          0.019528601318597794,
          0.017636992037296295,
          0.017608406022191048,
          0.018731165677309036,
          0.018132267519831657,
          0.0177837535738945,
          0.018664585426449776,
          0.018857263028621674,
          0.021397413685917854,
          0.01834896020591259,
          0.019771825522184372,
          0.023996183648705482,
          0.01830659992992878,
          0.050380486994981766,
          0.029067277908325195,
          0.04562626779079437,
          0.029835034161806107,
          0.11161932349205017,
          0.24144330620765686,
          0.15586692094802856,
          0.2695114016532898,
          0.2868243157863617,
          0.20873500406742096,
          0.2957439720630646,
          0.24939461052417755
         ],
         "yaxis": "y"
        },
        {
         "alignmentgroup": "True",
         "hovertemplate": "variable=dssim<br>name=%{x}<br>value=%{y}<extra></extra>",
         "legendgroup": "dssim",
         "marker": {
          "color": "#EF553B",
          "opacity": 0.9,
          "pattern": {
           "shape": ""
          }
         },
         "name": "dssim",
         "offsetgroup": "dssim",
         "orientation": "v",
         "showlegend": true,
         "textposition": "auto",
         "type": "bar",
         "x": [
          "dpmsolver_singlestep_100_3_None.json",
          "dpmsolver++_multistep_100_3_None.json",
          "dpmsolver_multistep_100_3_None.json",
          "unipc_multistep_100_2_None.json",
          "unipc_multistep_100_3_None.json",
          "dpmsolver_multistep_100_2_None.json",
          "dpmsolver++_multistep_100_2_None.json",
          "dpmsolver_singlestep_100_2_None.json",
          "dpmsolver_singlestep_50_2_None.json",
          "dpmsolver_multistep_50_3_None.json",
          "dpmsolver_multistep_50_2_None.json",
          "unipc_multistep_50_2_None.json",
          "unipc_multistep_50_3_None.json",
          "dpmsolver_multistep_20_3_None.json",
          "dpmsolver++_multistep_50_2_None.json",
          "dpmsolver_multistep_25_3_None.json",
          "dpmsolver_multistep_15_3_None.json",
          "dpmsolver_singlestep_25_2_None.json",
          "dpmsolver_multistep_20_2_None.json",
          "dpmsolver++_multistep_50_3_None.json",
          "dpmsolver++_multistep_15_2_None.json",
          "dpmsolver_multistep_15_2_None.json",
          "dpmsolver++_multistep_20_2_None.json",
          "unipc_multistep_25_3_None.json",
          "dpmsolver_multistep_25_2_None.json",
          "dpmsolver_singlestep_25_3_None.json",
          "unipc_multistep_25_2_None.json",
          "dpmsolver++_multistep_25_3_None.json",
          "dpmsolver_multistep_10_2_None.json",
          "dpmsolver++_multistep_25_2_None.json",
          "unipc_multistep_20_3_None.json",
          "unipc_multistep_20_2_None.json",
          "dpmsolver++_multistep_20_3_None.json",
          "dpmsolver_singlestep_15_3_None.json",
          "unipc_multistep_15_2_None.json",
          "dpmsolver++_multistep_10_2_None.json",
          "dpmsolver++_multistep_15_3_None.json",
          "dpmsolver_singlestep_50_3_None.json",
          "unipc_multistep_15_3_None.json",
          "dpmsolver++_singlestep_100_3_None.json",
          "dpmsolver_singlestep_20_3_None.json",
          "dpmsolver_singlestep_20_2_None.json",
          "dpmsolver_multistep_10_3_None.json",
          "unipc_multistep_10_2_None.json",
          "dpmsolver++_multistep_10_3_None.json",
          "dpmsolver_singlestep_15_2_None.json",
          "dpmsolver_singlestep_10_2_None.json",
          "dpmsolver++_singlestep_100_2_None.json",
          "dpmsolver_singlestep_10_3_None.json",
          "unipc_multistep_10_3_None.json",
          "dpmsolver++_singlestep_50_3_None.json",
          "dpmsolver++_singlestep_50_2_None.json",
          "dpmsolver++_singlestep_25_2_None.json",
          "dpmsolver++_singlestep_25_3_None.json",
          "dpmsolver++_singlestep_20_2_None.json",
          "dpmsolver++_singlestep_20_3_None.json",
          "dpmsolver++_singlestep_15_3_None.json",
          "dpmsolver++_singlestep_15_2_None.json",
          "dpmsolver++_singlestep_10_3_None.json",
          "dpmsolver++_singlestep_10_2_None.json"
         ],
         "xaxis": "x",
         "y": [
          0.10748758167028427,
          0.11386317014694214,
          0.11101607978343964,
          0.11275363713502884,
          0.11277924478054047,
          0.11167476326227188,
          0.11392536014318466,
          0.11651482433080673,
          0.12399005889892578,
          0.11580424010753632,
          0.11432753503322601,
          0.12651222944259644,
          0.12697754800319672,
          0.16531410813331604,
          0.1174609586596489,
          0.14003537595272064,
          0.15930350124835968,
          0.15806515514850616,
          0.15705563127994537,
          0.1283947229385376,
          0.17946681380271912,
          0.16391724348068237,
          0.1633739322423935,
          0.1492001861333847,
          0.13685987889766693,
          0.11571172624826431,
          0.1488073766231537,
          0.14049282670021057,
          0.2079373151063919,
          0.1398683488368988,
          0.16604077816009521,
          0.16520000994205475,
          0.15565447509288788,
          0.14559587836265564,
          0.21542970836162567,
          0.26129764318466187,
          0.1657388061285019,
          0.14959552884101868,
          0.2327742576599121,
          0.1358625292778015,
          0.15605556964874268,
          0.18862444162368774,
          0.2884378135204315,
          0.30791789293289185,
          0.25204184651374817,
          0.28358423709869385,
          0.31394943594932556,
          0.21807321906089783,
          0.4228699207305908,
          0.40180277824401855,
          0.45464247465133667,
          0.40441638231277466,
          0.47851887345314026,
          0.5024806261062622,
          0.4854520559310913,
          0.5026131868362427,
          0.5025336742401123,
          0.4901982247829437,
          0.5020082592964172,
          0.4926314055919647
         ],
         "yaxis": "y"
        },
        {
         "alignmentgroup": "True",
         "hovertemplate": "variable=lpips<br>name=%{x}<br>value=%{y}<extra></extra>",
         "legendgroup": "lpips",
         "marker": {
          "color": "#00cc96",
          "opacity": 0.9,
          "pattern": {
           "shape": ""
          }
         },
         "name": "lpips",
         "offsetgroup": "lpips",
         "orientation": "v",
         "showlegend": true,
         "textposition": "auto",
         "type": "bar",
         "x": [
          "dpmsolver_singlestep_100_3_None.json",
          "dpmsolver++_multistep_100_3_None.json",
          "dpmsolver_multistep_100_3_None.json",
          "unipc_multistep_100_2_None.json",
          "unipc_multistep_100_3_None.json",
          "dpmsolver_multistep_100_2_None.json",
          "dpmsolver++_multistep_100_2_None.json",
          "dpmsolver_singlestep_100_2_None.json",
          "dpmsolver_singlestep_50_2_None.json",
          "dpmsolver_multistep_50_3_None.json",
          "dpmsolver_multistep_50_2_None.json",
          "unipc_multistep_50_2_None.json",
          "unipc_multistep_50_3_None.json",
          "dpmsolver_multistep_20_3_None.json",
          "dpmsolver++_multistep_50_2_None.json",
          "dpmsolver_multistep_25_3_None.json",
          "dpmsolver_multistep_15_3_None.json",
          "dpmsolver_singlestep_25_2_None.json",
          "dpmsolver_multistep_20_2_None.json",
          "dpmsolver++_multistep_50_3_None.json",
          "dpmsolver++_multistep_15_2_None.json",
          "dpmsolver_multistep_15_2_None.json",
          "dpmsolver++_multistep_20_2_None.json",
          "unipc_multistep_25_3_None.json",
          "dpmsolver_multistep_25_2_None.json",
          "dpmsolver_singlestep_25_3_None.json",
          "unipc_multistep_25_2_None.json",
          "dpmsolver++_multistep_25_3_None.json",
          "dpmsolver_multistep_10_2_None.json",
          "dpmsolver++_multistep_25_2_None.json",
          "unipc_multistep_20_3_None.json",
          "unipc_multistep_20_2_None.json",
          "dpmsolver++_multistep_20_3_None.json",
          "dpmsolver_singlestep_15_3_None.json",
          "unipc_multistep_15_2_None.json",
          "dpmsolver++_multistep_10_2_None.json",
          "dpmsolver++_multistep_15_3_None.json",
          "dpmsolver_singlestep_50_3_None.json",
          "unipc_multistep_15_3_None.json",
          "dpmsolver++_singlestep_100_3_None.json",
          "dpmsolver_singlestep_20_3_None.json",
          "dpmsolver_singlestep_20_2_None.json",
          "dpmsolver_multistep_10_3_None.json",
          "unipc_multistep_10_2_None.json",
          "dpmsolver++_multistep_10_3_None.json",
          "dpmsolver_singlestep_15_2_None.json",
          "dpmsolver_singlestep_10_2_None.json",
          "dpmsolver++_singlestep_100_2_None.json",
          "dpmsolver_singlestep_10_3_None.json",
          "unipc_multistep_10_3_None.json",
          "dpmsolver++_singlestep_50_3_None.json",
          "dpmsolver++_singlestep_50_2_None.json",
          "dpmsolver++_singlestep_25_2_None.json",
          "dpmsolver++_singlestep_25_3_None.json",
          "dpmsolver++_singlestep_20_2_None.json",
          "dpmsolver++_singlestep_20_3_None.json",
          "dpmsolver++_singlestep_15_3_None.json",
          "dpmsolver++_singlestep_15_2_None.json",
          "dpmsolver++_singlestep_10_3_None.json",
          "dpmsolver++_singlestep_10_2_None.json"
         ],
         "xaxis": "x",
         "y": [
          0.12873685359954834,
          0.13269950449466705,
          0.13295882940292358,
          0.13304275274276733,
          0.1331031322479248,
          0.13397258520126343,
          0.13648824393749237,
          0.13777703046798706,
          0.14203988015651703,
          0.142546609044075,
          0.14419710636138916,
          0.14533258974552155,
          0.1459711194038391,
          0.14607326686382294,
          0.14627990126609802,
          0.14866605401039124,
          0.14945818483829498,
          0.150321826338768,
          0.15149110555648804,
          0.15159398317337036,
          0.15229272842407227,
          0.15298901498317719,
          0.15325044095516205,
          0.15444408357143402,
          0.15453016757965088,
          0.1545419543981552,
          0.15490463376045227,
          0.15541692078113556,
          0.15552157163619995,
          0.15645301342010498,
          0.15746989846229553,
          0.15855662524700165,
          0.168344646692276,
          0.17244350910186768,
          0.17294245958328247,
          0.18666820228099823,
          0.18831586837768555,
          0.1890217363834381,
          0.1931859403848648,
          0.1958363652229309,
          0.1961420476436615,
          0.19835685193538666,
          0.2105543315410614,
          0.2429892122745514,
          0.26589104533195496,
          0.275142103433609,
          0.31501954793930054,
          0.36245468258857727,
          0.5290142893791199,
          0.721710741519928,
          0.9255504012107849,
          0.9391328692436218,
          1.406481146812439,
          1.429693341255188,
          1.4593807458877563,
          1.4772230386734009,
          1.5092523097991943,
          1.509921908378601,
          1.531989574432373,
          1.5322297811508179
         ],
         "yaxis": "y"
        }
       ],
       "layout": {
        "barmode": "group",
        "height": 1024,
        "legend": {
         "title": {
          "text": "variable"
         },
         "tracegroupgap": 0
        },
        "template": {
         "data": {
          "bar": [
           {
            "error_x": {
             "color": "#2a3f5f"
            },
            "error_y": {
             "color": "#2a3f5f"
            },
            "marker": {
             "line": {
              "color": "#E5ECF6",
              "width": 0.5
             },
             "pattern": {
              "fillmode": "overlay",
              "size": 10,
              "solidity": 0.2
             }
            },
            "type": "bar"
           }
          ],
          "barpolar": [
           {
            "marker": {
             "line": {
              "color": "#E5ECF6",
              "width": 0.5
             },
             "pattern": {
              "fillmode": "overlay",
              "size": 10,
              "solidity": 0.2
             }
            },
            "type": "barpolar"
           }
          ],
          "carpet": [
           {
            "aaxis": {
             "endlinecolor": "#2a3f5f",
             "gridcolor": "white",
             "linecolor": "white",
             "minorgridcolor": "white",
             "startlinecolor": "#2a3f5f"
            },
            "baxis": {
             "endlinecolor": "#2a3f5f",
             "gridcolor": "white",
             "linecolor": "white",
             "minorgridcolor": "white",
             "startlinecolor": "#2a3f5f"
            },
            "type": "carpet"
           }
          ],
          "choropleth": [
           {
            "colorbar": {
             "outlinewidth": 0,
             "ticks": ""
            },
            "type": "choropleth"
           }
          ],
          "contour": [
           {
            "colorbar": {
             "outlinewidth": 0,
             "ticks": ""
            },
            "colorscale": [
             [
              0,
              "#0d0887"
             ],
             [
              0.1111111111111111,
              "#46039f"
             ],
             [
              0.2222222222222222,
              "#7201a8"
             ],
             [
              0.3333333333333333,
              "#9c179e"
             ],
             [
              0.4444444444444444,
              "#bd3786"
             ],
             [
              0.5555555555555556,
              "#d8576b"
             ],
             [
              0.6666666666666666,
              "#ed7953"
             ],
             [
              0.7777777777777778,
              "#fb9f3a"
             ],
             [
              0.8888888888888888,
              "#fdca26"
             ],
             [
              1,
              "#f0f921"
             ]
            ],
            "type": "contour"
           }
          ],
          "contourcarpet": [
           {
            "colorbar": {
             "outlinewidth": 0,
             "ticks": ""
            },
            "type": "contourcarpet"
           }
          ],
          "heatmap": [
           {
            "colorbar": {
             "outlinewidth": 0,
             "ticks": ""
            },
            "colorscale": [
             [
              0,
              "#0d0887"
             ],
             [
              0.1111111111111111,
              "#46039f"
             ],
             [
              0.2222222222222222,
              "#7201a8"
             ],
             [
              0.3333333333333333,
              "#9c179e"
             ],
             [
              0.4444444444444444,
              "#bd3786"
             ],
             [
              0.5555555555555556,
              "#d8576b"
             ],
             [
              0.6666666666666666,
              "#ed7953"
             ],
             [
              0.7777777777777778,
              "#fb9f3a"
             ],
             [
              0.8888888888888888,
              "#fdca26"
             ],
             [
              1,
              "#f0f921"
             ]
            ],
            "type": "heatmap"
           }
          ],
          "heatmapgl": [
           {
            "colorbar": {
             "outlinewidth": 0,
             "ticks": ""
            },
            "colorscale": [
             [
              0,
              "#0d0887"
             ],
             [
              0.1111111111111111,
              "#46039f"
             ],
             [
              0.2222222222222222,
              "#7201a8"
             ],
             [
              0.3333333333333333,
              "#9c179e"
             ],
             [
              0.4444444444444444,
              "#bd3786"
             ],
             [
              0.5555555555555556,
              "#d8576b"
             ],
             [
              0.6666666666666666,
              "#ed7953"
             ],
             [
              0.7777777777777778,
              "#fb9f3a"
             ],
             [
              0.8888888888888888,
              "#fdca26"
             ],
             [
              1,
              "#f0f921"
             ]
            ],
            "type": "heatmapgl"
           }
          ],
          "histogram": [
           {
            "marker": {
             "pattern": {
              "fillmode": "overlay",
              "size": 10,
              "solidity": 0.2
             }
            },
            "type": "histogram"
           }
          ],
          "histogram2d": [
           {
            "colorbar": {
             "outlinewidth": 0,
             "ticks": ""
            },
            "colorscale": [
             [
              0,
              "#0d0887"
             ],
             [
              0.1111111111111111,
              "#46039f"
             ],
             [
              0.2222222222222222,
              "#7201a8"
             ],
             [
              0.3333333333333333,
              "#9c179e"
             ],
             [
              0.4444444444444444,
              "#bd3786"
             ],
             [
              0.5555555555555556,
              "#d8576b"
             ],
             [
              0.6666666666666666,
              "#ed7953"
             ],
             [
              0.7777777777777778,
              "#fb9f3a"
             ],
             [
              0.8888888888888888,
              "#fdca26"
             ],
             [
              1,
              "#f0f921"
             ]
            ],
            "type": "histogram2d"
           }
          ],
          "histogram2dcontour": [
           {
            "colorbar": {
             "outlinewidth": 0,
             "ticks": ""
            },
            "colorscale": [
             [
              0,
              "#0d0887"
             ],
             [
              0.1111111111111111,
              "#46039f"
             ],
             [
              0.2222222222222222,
              "#7201a8"
             ],
             [
              0.3333333333333333,
              "#9c179e"
             ],
             [
              0.4444444444444444,
              "#bd3786"
             ],
             [
              0.5555555555555556,
              "#d8576b"
             ],
             [
              0.6666666666666666,
              "#ed7953"
             ],
             [
              0.7777777777777778,
              "#fb9f3a"
             ],
             [
              0.8888888888888888,
              "#fdca26"
             ],
             [
              1,
              "#f0f921"
             ]
            ],
            "type": "histogram2dcontour"
           }
          ],
          "mesh3d": [
           {
            "colorbar": {
             "outlinewidth": 0,
             "ticks": ""
            },
            "type": "mesh3d"
           }
          ],
          "parcoords": [
           {
            "line": {
             "colorbar": {
              "outlinewidth": 0,
              "ticks": ""
             }
            },
            "type": "parcoords"
           }
          ],
          "pie": [
           {
            "automargin": true,
            "type": "pie"
           }
          ],
          "scatter": [
           {
            "marker": {
             "colorbar": {
              "outlinewidth": 0,
              "ticks": ""
             }
            },
            "type": "scatter"
           }
          ],
          "scatter3d": [
           {
            "line": {
             "colorbar": {
              "outlinewidth": 0,
              "ticks": ""
             }
            },
            "marker": {
             "colorbar": {
              "outlinewidth": 0,
              "ticks": ""
             }
            },
            "type": "scatter3d"
           }
          ],
          "scattercarpet": [
           {
            "marker": {
             "colorbar": {
              "outlinewidth": 0,
              "ticks": ""
             }
            },
            "type": "scattercarpet"
           }
          ],
          "scattergeo": [
           {
            "marker": {
             "colorbar": {
              "outlinewidth": 0,
              "ticks": ""
             }
            },
            "type": "scattergeo"
           }
          ],
          "scattergl": [
           {
            "marker": {
             "colorbar": {
              "outlinewidth": 0,
              "ticks": ""
             }
            },
            "type": "scattergl"
           }
          ],
          "scattermapbox": [
           {
            "marker": {
             "colorbar": {
              "outlinewidth": 0,
              "ticks": ""
             }
            },
            "type": "scattermapbox"
           }
          ],
          "scatterpolar": [
           {
            "marker": {
             "colorbar": {
              "outlinewidth": 0,
              "ticks": ""
             }
            },
            "type": "scatterpolar"
           }
          ],
          "scatterpolargl": [
           {
            "marker": {
             "colorbar": {
              "outlinewidth": 0,
              "ticks": ""
             }
            },
            "type": "scatterpolargl"
           }
          ],
          "scatterternary": [
           {
            "marker": {
             "colorbar": {
              "outlinewidth": 0,
              "ticks": ""
             }
            },
            "type": "scatterternary"
           }
          ],
          "surface": [
           {
            "colorbar": {
             "outlinewidth": 0,
             "ticks": ""
            },
            "colorscale": [
             [
              0,
              "#0d0887"
             ],
             [
              0.1111111111111111,
              "#46039f"
             ],
             [
              0.2222222222222222,
              "#7201a8"
             ],
             [
              0.3333333333333333,
              "#9c179e"
             ],
             [
              0.4444444444444444,
              "#bd3786"
             ],
             [
              0.5555555555555556,
              "#d8576b"
             ],
             [
              0.6666666666666666,
              "#ed7953"
             ],
             [
              0.7777777777777778,
              "#fb9f3a"
             ],
             [
              0.8888888888888888,
              "#fdca26"
             ],
             [
              1,
              "#f0f921"
             ]
            ],
            "type": "surface"
           }
          ],
          "table": [
           {
            "cells": {
             "fill": {
              "color": "#EBF0F8"
             },
             "line": {
              "color": "white"
             }
            },
            "header": {
             "fill": {
              "color": "#C8D4E3"
             },
             "line": {
              "color": "white"
             }
            },
            "type": "table"
           }
          ]
         },
         "layout": {
          "annotationdefaults": {
           "arrowcolor": "#2a3f5f",
           "arrowhead": 0,
           "arrowwidth": 1
          },
          "autotypenumbers": "strict",
          "coloraxis": {
           "colorbar": {
            "outlinewidth": 0,
            "ticks": ""
           }
          },
          "colorscale": {
           "diverging": [
            [
             0,
             "#8e0152"
            ],
            [
             0.1,
             "#c51b7d"
            ],
            [
             0.2,
             "#de77ae"
            ],
            [
             0.3,
             "#f1b6da"
            ],
            [
             0.4,
             "#fde0ef"
            ],
            [
             0.5,
             "#f7f7f7"
            ],
            [
             0.6,
             "#e6f5d0"
            ],
            [
             0.7,
             "#b8e186"
            ],
            [
             0.8,
             "#7fbc41"
            ],
            [
             0.9,
             "#4d9221"
            ],
            [
             1,
             "#276419"
            ]
           ],
           "sequential": [
            [
             0,
             "#0d0887"
            ],
            [
             0.1111111111111111,
             "#46039f"
            ],
            [
             0.2222222222222222,
             "#7201a8"
            ],
            [
             0.3333333333333333,
             "#9c179e"
            ],
            [
             0.4444444444444444,
             "#bd3786"
            ],
            [
             0.5555555555555556,
             "#d8576b"
            ],
            [
             0.6666666666666666,
             "#ed7953"
            ],
            [
             0.7777777777777778,
             "#fb9f3a"
            ],
            [
             0.8888888888888888,
             "#fdca26"
            ],
            [
             1,
             "#f0f921"
            ]
           ],
           "sequentialminus": [
            [
             0,
             "#0d0887"
            ],
            [
             0.1111111111111111,
             "#46039f"
            ],
            [
             0.2222222222222222,
             "#7201a8"
            ],
            [
             0.3333333333333333,
             "#9c179e"
            ],
            [
             0.4444444444444444,
             "#bd3786"
            ],
            [
             0.5555555555555556,
             "#d8576b"
            ],
            [
             0.6666666666666666,
             "#ed7953"
            ],
            [
             0.7777777777777778,
             "#fb9f3a"
            ],
            [
             0.8888888888888888,
             "#fdca26"
            ],
            [
             1,
             "#f0f921"
            ]
           ]
          },
          "colorway": [
           "#636efa",
           "#EF553B",
           "#00cc96",
           "#ab63fa",
           "#FFA15A",
           "#19d3f3",
           "#FF6692",
           "#B6E880",
           "#FF97FF",
           "#FECB52"
          ],
          "font": {
           "color": "#2a3f5f"
          },
          "geo": {
           "bgcolor": "white",
           "lakecolor": "white",
           "landcolor": "#E5ECF6",
           "showlakes": true,
           "showland": true,
           "subunitcolor": "white"
          },
          "hoverlabel": {
           "align": "left"
          },
          "hovermode": "closest",
          "mapbox": {
           "style": "light"
          },
          "paper_bgcolor": "white",
          "plot_bgcolor": "#E5ECF6",
          "polar": {
           "angularaxis": {
            "gridcolor": "white",
            "linecolor": "white",
            "ticks": ""
           },
           "bgcolor": "#E5ECF6",
           "radialaxis": {
            "gridcolor": "white",
            "linecolor": "white",
            "ticks": ""
           }
          },
          "scene": {
           "xaxis": {
            "backgroundcolor": "#E5ECF6",
            "gridcolor": "white",
            "gridwidth": 2,
            "linecolor": "white",
            "showbackground": true,
            "ticks": "",
            "zerolinecolor": "white"
           },
           "yaxis": {
            "backgroundcolor": "#E5ECF6",
            "gridcolor": "white",
            "gridwidth": 2,
            "linecolor": "white",
            "showbackground": true,
            "ticks": "",
            "zerolinecolor": "white"
           },
           "zaxis": {
            "backgroundcolor": "#E5ECF6",
            "gridcolor": "white",
            "gridwidth": 2,
            "linecolor": "white",
            "showbackground": true,
            "ticks": "",
            "zerolinecolor": "white"
           }
          },
          "shapedefaults": {
           "line": {
            "color": "#2a3f5f"
           }
          },
          "ternary": {
           "aaxis": {
            "gridcolor": "white",
            "linecolor": "white",
            "ticks": ""
           },
           "baxis": {
            "gridcolor": "white",
            "linecolor": "white",
            "ticks": ""
           },
           "bgcolor": "#E5ECF6",
           "caxis": {
            "gridcolor": "white",
            "linecolor": "white",
            "ticks": ""
           }
          },
          "title": {
           "x": 0.05
          },
          "xaxis": {
           "automargin": true,
           "gridcolor": "white",
           "linecolor": "white",
           "ticks": "",
           "title": {
            "standoff": 15
           },
           "zerolinecolor": "white",
           "zerolinewidth": 2
          },
          "yaxis": {
           "automargin": true,
           "gridcolor": "white",
           "linecolor": "white",
           "ticks": "",
           "title": {
            "standoff": 15
           },
           "zerolinecolor": "white",
           "zerolinewidth": 2
          }
         }
        },
        "title": {
         "text": "Score of different solvers"
        },
        "width": 800,
        "xaxis": {
         "anchor": "y",
         "domain": [
          0,
          1
         ],
         "title": {
          "text": "Solver"
         }
        },
        "yaxis": {
         "anchor": "x",
         "domain": [
          0,
          1
         ],
         "title": {
          "text": "Score"
         }
        }
       }
      },
      "text/html": [
       "<div>                            <div id=\"1011ad3a-1bb5-47b4-bb57-359a2f41cd7b\" class=\"plotly-graph-div\" style=\"height:1024px; width:800px;\"></div>            <script type=\"text/javascript\">                require([\"plotly\"], function(Plotly) {                    window.PLOTLYENV=window.PLOTLYENV || {};                                    if (document.getElementById(\"1011ad3a-1bb5-47b4-bb57-359a2f41cd7b\")) {                    Plotly.newPlot(                        \"1011ad3a-1bb5-47b4-bb57-359a2f41cd7b\",                        [{\"alignmentgroup\":\"True\",\"hovertemplate\":\"variable=mse<br>name=%{x}<br>value=%{y}<extra></extra>\",\"legendgroup\":\"mse\",\"marker\":{\"color\":\"#636efa\",\"opacity\":0.9,\"pattern\":{\"shape\":\"\"}},\"name\":\"mse\",\"offsetgroup\":\"mse\",\"orientation\":\"v\",\"showlegend\":true,\"textposition\":\"auto\",\"type\":\"bar\",\"x\":[\"dpmsolver_singlestep_100_3_None.json\",\"dpmsolver++_multistep_100_3_None.json\",\"dpmsolver_multistep_100_3_None.json\",\"unipc_multistep_100_2_None.json\",\"unipc_multistep_100_3_None.json\",\"dpmsolver_multistep_100_2_None.json\",\"dpmsolver++_multistep_100_2_None.json\",\"dpmsolver_singlestep_100_2_None.json\",\"dpmsolver_singlestep_50_2_None.json\",\"dpmsolver_multistep_50_3_None.json\",\"dpmsolver_multistep_50_2_None.json\",\"unipc_multistep_50_2_None.json\",\"unipc_multistep_50_3_None.json\",\"dpmsolver_multistep_20_3_None.json\",\"dpmsolver++_multistep_50_2_None.json\",\"dpmsolver_multistep_25_3_None.json\",\"dpmsolver_multistep_15_3_None.json\",\"dpmsolver_singlestep_25_2_None.json\",\"dpmsolver_multistep_20_2_None.json\",\"dpmsolver++_multistep_50_3_None.json\",\"dpmsolver++_multistep_15_2_None.json\",\"dpmsolver_multistep_15_2_None.json\",\"dpmsolver++_multistep_20_2_None.json\",\"unipc_multistep_25_3_None.json\",\"dpmsolver_multistep_25_2_None.json\",\"dpmsolver_singlestep_25_3_None.json\",\"unipc_multistep_25_2_None.json\",\"dpmsolver++_multistep_25_3_None.json\",\"dpmsolver_multistep_10_2_None.json\",\"dpmsolver++_multistep_25_2_None.json\",\"unipc_multistep_20_3_None.json\",\"unipc_multistep_20_2_None.json\",\"dpmsolver++_multistep_20_3_None.json\",\"dpmsolver_singlestep_15_3_None.json\",\"unipc_multistep_15_2_None.json\",\"dpmsolver++_multistep_10_2_None.json\",\"dpmsolver++_multistep_15_3_None.json\",\"dpmsolver_singlestep_50_3_None.json\",\"unipc_multistep_15_3_None.json\",\"dpmsolver++_singlestep_100_3_None.json\",\"dpmsolver_singlestep_20_3_None.json\",\"dpmsolver_singlestep_20_2_None.json\",\"dpmsolver_multistep_10_3_None.json\",\"unipc_multistep_10_2_None.json\",\"dpmsolver++_multistep_10_3_None.json\",\"dpmsolver_singlestep_15_2_None.json\",\"dpmsolver_singlestep_10_2_None.json\",\"dpmsolver++_singlestep_100_2_None.json\",\"dpmsolver_singlestep_10_3_None.json\",\"unipc_multistep_10_3_None.json\",\"dpmsolver++_singlestep_50_3_None.json\",\"dpmsolver++_singlestep_50_2_None.json\",\"dpmsolver++_singlestep_25_2_None.json\",\"dpmsolver++_singlestep_25_3_None.json\",\"dpmsolver++_singlestep_20_2_None.json\",\"dpmsolver++_singlestep_20_3_None.json\",\"dpmsolver++_singlestep_15_3_None.json\",\"dpmsolver++_singlestep_15_2_None.json\",\"dpmsolver++_singlestep_10_3_None.json\",\"dpmsolver++_singlestep_10_2_None.json\"],\"xaxis\":\"x\",\"y\":[0.017411617562174797,0.017421957105398178,0.01741217076778412,0.017394889146089554,0.01739937625825405,0.01740744151175022,0.01743428036570549,0.01745474711060524,0.01755773276090622,0.017334407195448875,0.017372040078043938,0.01743219792842865,0.01743587665259838,0.01775437779724598,0.017438052222132683,0.01740342564880848,0.01765657216310501,0.01769997924566269,0.01776883564889431,0.017423337325453758,0.0183363389223814,0.017865527421236038,0.018026992678642273,0.017622770741581917,0.0174766443669796,0.017232071608304977,0.01763240247964859,0.017436111345887184,0.018186520785093307,0.0176446083933115,0.01788547821342945,0.01792466826736927,0.01765289157629013,0.0173773355782032,0.018618054687976837,0.019528601318597794,0.017636992037296295,0.017608406022191048,0.018731165677309036,0.018132267519831657,0.0177837535738945,0.018664585426449776,0.018857263028621674,0.021397413685917854,0.01834896020591259,0.019771825522184372,0.023996183648705482,0.01830659992992878,0.050380486994981766,0.029067277908325195,0.04562626779079437,0.029835034161806107,0.11161932349205017,0.24144330620765686,0.15586692094802856,0.2695114016532898,0.2868243157863617,0.20873500406742096,0.2957439720630646,0.24939461052417755],\"yaxis\":\"y\"},{\"alignmentgroup\":\"True\",\"hovertemplate\":\"variable=dssim<br>name=%{x}<br>value=%{y}<extra></extra>\",\"legendgroup\":\"dssim\",\"marker\":{\"color\":\"#EF553B\",\"opacity\":0.9,\"pattern\":{\"shape\":\"\"}},\"name\":\"dssim\",\"offsetgroup\":\"dssim\",\"orientation\":\"v\",\"showlegend\":true,\"textposition\":\"auto\",\"type\":\"bar\",\"x\":[\"dpmsolver_singlestep_100_3_None.json\",\"dpmsolver++_multistep_100_3_None.json\",\"dpmsolver_multistep_100_3_None.json\",\"unipc_multistep_100_2_None.json\",\"unipc_multistep_100_3_None.json\",\"dpmsolver_multistep_100_2_None.json\",\"dpmsolver++_multistep_100_2_None.json\",\"dpmsolver_singlestep_100_2_None.json\",\"dpmsolver_singlestep_50_2_None.json\",\"dpmsolver_multistep_50_3_None.json\",\"dpmsolver_multistep_50_2_None.json\",\"unipc_multistep_50_2_None.json\",\"unipc_multistep_50_3_None.json\",\"dpmsolver_multistep_20_3_None.json\",\"dpmsolver++_multistep_50_2_None.json\",\"dpmsolver_multistep_25_3_None.json\",\"dpmsolver_multistep_15_3_None.json\",\"dpmsolver_singlestep_25_2_None.json\",\"dpmsolver_multistep_20_2_None.json\",\"dpmsolver++_multistep_50_3_None.json\",\"dpmsolver++_multistep_15_2_None.json\",\"dpmsolver_multistep_15_2_None.json\",\"dpmsolver++_multistep_20_2_None.json\",\"unipc_multistep_25_3_None.json\",\"dpmsolver_multistep_25_2_None.json\",\"dpmsolver_singlestep_25_3_None.json\",\"unipc_multistep_25_2_None.json\",\"dpmsolver++_multistep_25_3_None.json\",\"dpmsolver_multistep_10_2_None.json\",\"dpmsolver++_multistep_25_2_None.json\",\"unipc_multistep_20_3_None.json\",\"unipc_multistep_20_2_None.json\",\"dpmsolver++_multistep_20_3_None.json\",\"dpmsolver_singlestep_15_3_None.json\",\"unipc_multistep_15_2_None.json\",\"dpmsolver++_multistep_10_2_None.json\",\"dpmsolver++_multistep_15_3_None.json\",\"dpmsolver_singlestep_50_3_None.json\",\"unipc_multistep_15_3_None.json\",\"dpmsolver++_singlestep_100_3_None.json\",\"dpmsolver_singlestep_20_3_None.json\",\"dpmsolver_singlestep_20_2_None.json\",\"dpmsolver_multistep_10_3_None.json\",\"unipc_multistep_10_2_None.json\",\"dpmsolver++_multistep_10_3_None.json\",\"dpmsolver_singlestep_15_2_None.json\",\"dpmsolver_singlestep_10_2_None.json\",\"dpmsolver++_singlestep_100_2_None.json\",\"dpmsolver_singlestep_10_3_None.json\",\"unipc_multistep_10_3_None.json\",\"dpmsolver++_singlestep_50_3_None.json\",\"dpmsolver++_singlestep_50_2_None.json\",\"dpmsolver++_singlestep_25_2_None.json\",\"dpmsolver++_singlestep_25_3_None.json\",\"dpmsolver++_singlestep_20_2_None.json\",\"dpmsolver++_singlestep_20_3_None.json\",\"dpmsolver++_singlestep_15_3_None.json\",\"dpmsolver++_singlestep_15_2_None.json\",\"dpmsolver++_singlestep_10_3_None.json\",\"dpmsolver++_singlestep_10_2_None.json\"],\"xaxis\":\"x\",\"y\":[0.10748758167028427,0.11386317014694214,0.11101607978343964,0.11275363713502884,0.11277924478054047,0.11167476326227188,0.11392536014318466,0.11651482433080673,0.12399005889892578,0.11580424010753632,0.11432753503322601,0.12651222944259644,0.12697754800319672,0.16531410813331604,0.1174609586596489,0.14003537595272064,0.15930350124835968,0.15806515514850616,0.15705563127994537,0.1283947229385376,0.17946681380271912,0.16391724348068237,0.1633739322423935,0.1492001861333847,0.13685987889766693,0.11571172624826431,0.1488073766231537,0.14049282670021057,0.2079373151063919,0.1398683488368988,0.16604077816009521,0.16520000994205475,0.15565447509288788,0.14559587836265564,0.21542970836162567,0.26129764318466187,0.1657388061285019,0.14959552884101868,0.2327742576599121,0.1358625292778015,0.15605556964874268,0.18862444162368774,0.2884378135204315,0.30791789293289185,0.25204184651374817,0.28358423709869385,0.31394943594932556,0.21807321906089783,0.4228699207305908,0.40180277824401855,0.45464247465133667,0.40441638231277466,0.47851887345314026,0.5024806261062622,0.4854520559310913,0.5026131868362427,0.5025336742401123,0.4901982247829437,0.5020082592964172,0.4926314055919647],\"yaxis\":\"y\"},{\"alignmentgroup\":\"True\",\"hovertemplate\":\"variable=lpips<br>name=%{x}<br>value=%{y}<extra></extra>\",\"legendgroup\":\"lpips\",\"marker\":{\"color\":\"#00cc96\",\"opacity\":0.9,\"pattern\":{\"shape\":\"\"}},\"name\":\"lpips\",\"offsetgroup\":\"lpips\",\"orientation\":\"v\",\"showlegend\":true,\"textposition\":\"auto\",\"type\":\"bar\",\"x\":[\"dpmsolver_singlestep_100_3_None.json\",\"dpmsolver++_multistep_100_3_None.json\",\"dpmsolver_multistep_100_3_None.json\",\"unipc_multistep_100_2_None.json\",\"unipc_multistep_100_3_None.json\",\"dpmsolver_multistep_100_2_None.json\",\"dpmsolver++_multistep_100_2_None.json\",\"dpmsolver_singlestep_100_2_None.json\",\"dpmsolver_singlestep_50_2_None.json\",\"dpmsolver_multistep_50_3_None.json\",\"dpmsolver_multistep_50_2_None.json\",\"unipc_multistep_50_2_None.json\",\"unipc_multistep_50_3_None.json\",\"dpmsolver_multistep_20_3_None.json\",\"dpmsolver++_multistep_50_2_None.json\",\"dpmsolver_multistep_25_3_None.json\",\"dpmsolver_multistep_15_3_None.json\",\"dpmsolver_singlestep_25_2_None.json\",\"dpmsolver_multistep_20_2_None.json\",\"dpmsolver++_multistep_50_3_None.json\",\"dpmsolver++_multistep_15_2_None.json\",\"dpmsolver_multistep_15_2_None.json\",\"dpmsolver++_multistep_20_2_None.json\",\"unipc_multistep_25_3_None.json\",\"dpmsolver_multistep_25_2_None.json\",\"dpmsolver_singlestep_25_3_None.json\",\"unipc_multistep_25_2_None.json\",\"dpmsolver++_multistep_25_3_None.json\",\"dpmsolver_multistep_10_2_None.json\",\"dpmsolver++_multistep_25_2_None.json\",\"unipc_multistep_20_3_None.json\",\"unipc_multistep_20_2_None.json\",\"dpmsolver++_multistep_20_3_None.json\",\"dpmsolver_singlestep_15_3_None.json\",\"unipc_multistep_15_2_None.json\",\"dpmsolver++_multistep_10_2_None.json\",\"dpmsolver++_multistep_15_3_None.json\",\"dpmsolver_singlestep_50_3_None.json\",\"unipc_multistep_15_3_None.json\",\"dpmsolver++_singlestep_100_3_None.json\",\"dpmsolver_singlestep_20_3_None.json\",\"dpmsolver_singlestep_20_2_None.json\",\"dpmsolver_multistep_10_3_None.json\",\"unipc_multistep_10_2_None.json\",\"dpmsolver++_multistep_10_3_None.json\",\"dpmsolver_singlestep_15_2_None.json\",\"dpmsolver_singlestep_10_2_None.json\",\"dpmsolver++_singlestep_100_2_None.json\",\"dpmsolver_singlestep_10_3_None.json\",\"unipc_multistep_10_3_None.json\",\"dpmsolver++_singlestep_50_3_None.json\",\"dpmsolver++_singlestep_50_2_None.json\",\"dpmsolver++_singlestep_25_2_None.json\",\"dpmsolver++_singlestep_25_3_None.json\",\"dpmsolver++_singlestep_20_2_None.json\",\"dpmsolver++_singlestep_20_3_None.json\",\"dpmsolver++_singlestep_15_3_None.json\",\"dpmsolver++_singlestep_15_2_None.json\",\"dpmsolver++_singlestep_10_3_None.json\",\"dpmsolver++_singlestep_10_2_None.json\"],\"xaxis\":\"x\",\"y\":[0.12873685359954834,0.13269950449466705,0.13295882940292358,0.13304275274276733,0.1331031322479248,0.13397258520126343,0.13648824393749237,0.13777703046798706,0.14203988015651703,0.142546609044075,0.14419710636138916,0.14533258974552155,0.1459711194038391,0.14607326686382294,0.14627990126609802,0.14866605401039124,0.14945818483829498,0.150321826338768,0.15149110555648804,0.15159398317337036,0.15229272842407227,0.15298901498317719,0.15325044095516205,0.15444408357143402,0.15453016757965088,0.1545419543981552,0.15490463376045227,0.15541692078113556,0.15552157163619995,0.15645301342010498,0.15746989846229553,0.15855662524700165,0.168344646692276,0.17244350910186768,0.17294245958328247,0.18666820228099823,0.18831586837768555,0.1890217363834381,0.1931859403848648,0.1958363652229309,0.1961420476436615,0.19835685193538666,0.2105543315410614,0.2429892122745514,0.26589104533195496,0.275142103433609,0.31501954793930054,0.36245468258857727,0.5290142893791199,0.721710741519928,0.9255504012107849,0.9391328692436218,1.406481146812439,1.429693341255188,1.4593807458877563,1.4772230386734009,1.5092523097991943,1.509921908378601,1.531989574432373,1.5322297811508179],\"yaxis\":\"y\"}],                        {\"barmode\":\"group\",\"height\":1024,\"legend\":{\"title\":{\"text\":\"variable\"},\"tracegroupgap\":0},\"template\":{\"data\":{\"bar\":[{\"error_x\":{\"color\":\"#2a3f5f\"},\"error_y\":{\"color\":\"#2a3f5f\"},\"marker\":{\"line\":{\"color\":\"#E5ECF6\",\"width\":0.5},\"pattern\":{\"fillmode\":\"overlay\",\"size\":10,\"solidity\":0.2}},\"type\":\"bar\"}],\"barpolar\":[{\"marker\":{\"line\":{\"color\":\"#E5ECF6\",\"width\":0.5},\"pattern\":{\"fillmode\":\"overlay\",\"size\":10,\"solidity\":0.2}},\"type\":\"barpolar\"}],\"carpet\":[{\"aaxis\":{\"endlinecolor\":\"#2a3f5f\",\"gridcolor\":\"white\",\"linecolor\":\"white\",\"minorgridcolor\":\"white\",\"startlinecolor\":\"#2a3f5f\"},\"baxis\":{\"endlinecolor\":\"#2a3f5f\",\"gridcolor\":\"white\",\"linecolor\":\"white\",\"minorgridcolor\":\"white\",\"startlinecolor\":\"#2a3f5f\"},\"type\":\"carpet\"}],\"choropleth\":[{\"colorbar\":{\"outlinewidth\":0,\"ticks\":\"\"},\"type\":\"choropleth\"}],\"contour\":[{\"colorbar\":{\"outlinewidth\":0,\"ticks\":\"\"},\"colorscale\":[[0.0,\"#0d0887\"],[0.1111111111111111,\"#46039f\"],[0.2222222222222222,\"#7201a8\"],[0.3333333333333333,\"#9c179e\"],[0.4444444444444444,\"#bd3786\"],[0.5555555555555556,\"#d8576b\"],[0.6666666666666666,\"#ed7953\"],[0.7777777777777778,\"#fb9f3a\"],[0.8888888888888888,\"#fdca26\"],[1.0,\"#f0f921\"]],\"type\":\"contour\"}],\"contourcarpet\":[{\"colorbar\":{\"outlinewidth\":0,\"ticks\":\"\"},\"type\":\"contourcarpet\"}],\"heatmap\":[{\"colorbar\":{\"outlinewidth\":0,\"ticks\":\"\"},\"colorscale\":[[0.0,\"#0d0887\"],[0.1111111111111111,\"#46039f\"],[0.2222222222222222,\"#7201a8\"],[0.3333333333333333,\"#9c179e\"],[0.4444444444444444,\"#bd3786\"],[0.5555555555555556,\"#d8576b\"],[0.6666666666666666,\"#ed7953\"],[0.7777777777777778,\"#fb9f3a\"],[0.8888888888888888,\"#fdca26\"],[1.0,\"#f0f921\"]],\"type\":\"heatmap\"}],\"heatmapgl\":[{\"colorbar\":{\"outlinewidth\":0,\"ticks\":\"\"},\"colorscale\":[[0.0,\"#0d0887\"],[0.1111111111111111,\"#46039f\"],[0.2222222222222222,\"#7201a8\"],[0.3333333333333333,\"#9c179e\"],[0.4444444444444444,\"#bd3786\"],[0.5555555555555556,\"#d8576b\"],[0.6666666666666666,\"#ed7953\"],[0.7777777777777778,\"#fb9f3a\"],[0.8888888888888888,\"#fdca26\"],[1.0,\"#f0f921\"]],\"type\":\"heatmapgl\"}],\"histogram\":[{\"marker\":{\"pattern\":{\"fillmode\":\"overlay\",\"size\":10,\"solidity\":0.2}},\"type\":\"histogram\"}],\"histogram2d\":[{\"colorbar\":{\"outlinewidth\":0,\"ticks\":\"\"},\"colorscale\":[[0.0,\"#0d0887\"],[0.1111111111111111,\"#46039f\"],[0.2222222222222222,\"#7201a8\"],[0.3333333333333333,\"#9c179e\"],[0.4444444444444444,\"#bd3786\"],[0.5555555555555556,\"#d8576b\"],[0.6666666666666666,\"#ed7953\"],[0.7777777777777778,\"#fb9f3a\"],[0.8888888888888888,\"#fdca26\"],[1.0,\"#f0f921\"]],\"type\":\"histogram2d\"}],\"histogram2dcontour\":[{\"colorbar\":{\"outlinewidth\":0,\"ticks\":\"\"},\"colorscale\":[[0.0,\"#0d0887\"],[0.1111111111111111,\"#46039f\"],[0.2222222222222222,\"#7201a8\"],[0.3333333333333333,\"#9c179e\"],[0.4444444444444444,\"#bd3786\"],[0.5555555555555556,\"#d8576b\"],[0.6666666666666666,\"#ed7953\"],[0.7777777777777778,\"#fb9f3a\"],[0.8888888888888888,\"#fdca26\"],[1.0,\"#f0f921\"]],\"type\":\"histogram2dcontour\"}],\"mesh3d\":[{\"colorbar\":{\"outlinewidth\":0,\"ticks\":\"\"},\"type\":\"mesh3d\"}],\"parcoords\":[{\"line\":{\"colorbar\":{\"outlinewidth\":0,\"ticks\":\"\"}},\"type\":\"parcoords\"}],\"pie\":[{\"automargin\":true,\"type\":\"pie\"}],\"scatter\":[{\"marker\":{\"colorbar\":{\"outlinewidth\":0,\"ticks\":\"\"}},\"type\":\"scatter\"}],\"scatter3d\":[{\"line\":{\"colorbar\":{\"outlinewidth\":0,\"ticks\":\"\"}},\"marker\":{\"colorbar\":{\"outlinewidth\":0,\"ticks\":\"\"}},\"type\":\"scatter3d\"}],\"scattercarpet\":[{\"marker\":{\"colorbar\":{\"outlinewidth\":0,\"ticks\":\"\"}},\"type\":\"scattercarpet\"}],\"scattergeo\":[{\"marker\":{\"colorbar\":{\"outlinewidth\":0,\"ticks\":\"\"}},\"type\":\"scattergeo\"}],\"scattergl\":[{\"marker\":{\"colorbar\":{\"outlinewidth\":0,\"ticks\":\"\"}},\"type\":\"scattergl\"}],\"scattermapbox\":[{\"marker\":{\"colorbar\":{\"outlinewidth\":0,\"ticks\":\"\"}},\"type\":\"scattermapbox\"}],\"scatterpolar\":[{\"marker\":{\"colorbar\":{\"outlinewidth\":0,\"ticks\":\"\"}},\"type\":\"scatterpolar\"}],\"scatterpolargl\":[{\"marker\":{\"colorbar\":{\"outlinewidth\":0,\"ticks\":\"\"}},\"type\":\"scatterpolargl\"}],\"scatterternary\":[{\"marker\":{\"colorbar\":{\"outlinewidth\":0,\"ticks\":\"\"}},\"type\":\"scatterternary\"}],\"surface\":[{\"colorbar\":{\"outlinewidth\":0,\"ticks\":\"\"},\"colorscale\":[[0.0,\"#0d0887\"],[0.1111111111111111,\"#46039f\"],[0.2222222222222222,\"#7201a8\"],[0.3333333333333333,\"#9c179e\"],[0.4444444444444444,\"#bd3786\"],[0.5555555555555556,\"#d8576b\"],[0.6666666666666666,\"#ed7953\"],[0.7777777777777778,\"#fb9f3a\"],[0.8888888888888888,\"#fdca26\"],[1.0,\"#f0f921\"]],\"type\":\"surface\"}],\"table\":[{\"cells\":{\"fill\":{\"color\":\"#EBF0F8\"},\"line\":{\"color\":\"white\"}},\"header\":{\"fill\":{\"color\":\"#C8D4E3\"},\"line\":{\"color\":\"white\"}},\"type\":\"table\"}]},\"layout\":{\"annotationdefaults\":{\"arrowcolor\":\"#2a3f5f\",\"arrowhead\":0,\"arrowwidth\":1},\"autotypenumbers\":\"strict\",\"coloraxis\":{\"colorbar\":{\"outlinewidth\":0,\"ticks\":\"\"}},\"colorscale\":{\"diverging\":[[0,\"#8e0152\"],[0.1,\"#c51b7d\"],[0.2,\"#de77ae\"],[0.3,\"#f1b6da\"],[0.4,\"#fde0ef\"],[0.5,\"#f7f7f7\"],[0.6,\"#e6f5d0\"],[0.7,\"#b8e186\"],[0.8,\"#7fbc41\"],[0.9,\"#4d9221\"],[1,\"#276419\"]],\"sequential\":[[0.0,\"#0d0887\"],[0.1111111111111111,\"#46039f\"],[0.2222222222222222,\"#7201a8\"],[0.3333333333333333,\"#9c179e\"],[0.4444444444444444,\"#bd3786\"],[0.5555555555555556,\"#d8576b\"],[0.6666666666666666,\"#ed7953\"],[0.7777777777777778,\"#fb9f3a\"],[0.8888888888888888,\"#fdca26\"],[1.0,\"#f0f921\"]],\"sequentialminus\":[[0.0,\"#0d0887\"],[0.1111111111111111,\"#46039f\"],[0.2222222222222222,\"#7201a8\"],[0.3333333333333333,\"#9c179e\"],[0.4444444444444444,\"#bd3786\"],[0.5555555555555556,\"#d8576b\"],[0.6666666666666666,\"#ed7953\"],[0.7777777777777778,\"#fb9f3a\"],[0.8888888888888888,\"#fdca26\"],[1.0,\"#f0f921\"]]},\"colorway\":[\"#636efa\",\"#EF553B\",\"#00cc96\",\"#ab63fa\",\"#FFA15A\",\"#19d3f3\",\"#FF6692\",\"#B6E880\",\"#FF97FF\",\"#FECB52\"],\"font\":{\"color\":\"#2a3f5f\"},\"geo\":{\"bgcolor\":\"white\",\"lakecolor\":\"white\",\"landcolor\":\"#E5ECF6\",\"showlakes\":true,\"showland\":true,\"subunitcolor\":\"white\"},\"hoverlabel\":{\"align\":\"left\"},\"hovermode\":\"closest\",\"mapbox\":{\"style\":\"light\"},\"paper_bgcolor\":\"white\",\"plot_bgcolor\":\"#E5ECF6\",\"polar\":{\"angularaxis\":{\"gridcolor\":\"white\",\"linecolor\":\"white\",\"ticks\":\"\"},\"bgcolor\":\"#E5ECF6\",\"radialaxis\":{\"gridcolor\":\"white\",\"linecolor\":\"white\",\"ticks\":\"\"}},\"scene\":{\"xaxis\":{\"backgroundcolor\":\"#E5ECF6\",\"gridcolor\":\"white\",\"gridwidth\":2,\"linecolor\":\"white\",\"showbackground\":true,\"ticks\":\"\",\"zerolinecolor\":\"white\"},\"yaxis\":{\"backgroundcolor\":\"#E5ECF6\",\"gridcolor\":\"white\",\"gridwidth\":2,\"linecolor\":\"white\",\"showbackground\":true,\"ticks\":\"\",\"zerolinecolor\":\"white\"},\"zaxis\":{\"backgroundcolor\":\"#E5ECF6\",\"gridcolor\":\"white\",\"gridwidth\":2,\"linecolor\":\"white\",\"showbackground\":true,\"ticks\":\"\",\"zerolinecolor\":\"white\"}},\"shapedefaults\":{\"line\":{\"color\":\"#2a3f5f\"}},\"ternary\":{\"aaxis\":{\"gridcolor\":\"white\",\"linecolor\":\"white\",\"ticks\":\"\"},\"baxis\":{\"gridcolor\":\"white\",\"linecolor\":\"white\",\"ticks\":\"\"},\"bgcolor\":\"#E5ECF6\",\"caxis\":{\"gridcolor\":\"white\",\"linecolor\":\"white\",\"ticks\":\"\"}},\"title\":{\"x\":0.05},\"xaxis\":{\"automargin\":true,\"gridcolor\":\"white\",\"linecolor\":\"white\",\"ticks\":\"\",\"title\":{\"standoff\":15},\"zerolinecolor\":\"white\",\"zerolinewidth\":2},\"yaxis\":{\"automargin\":true,\"gridcolor\":\"white\",\"linecolor\":\"white\",\"ticks\":\"\",\"title\":{\"standoff\":15},\"zerolinecolor\":\"white\",\"zerolinewidth\":2}}},\"title\":{\"text\":\"Score of different solvers\"},\"width\":800,\"xaxis\":{\"anchor\":\"y\",\"domain\":[0.0,1.0],\"title\":{\"text\":\"Solver\"}},\"yaxis\":{\"anchor\":\"x\",\"domain\":[0.0,1.0],\"title\":{\"text\":\"Score\"}}},                        {\"responsive\": true}                    ).then(function(){\n",
       "                            \n",
       "var gd = document.getElementById('1011ad3a-1bb5-47b4-bb57-359a2f41cd7b');\n",
       "var x = new MutationObserver(function (mutations, observer) {{\n",
       "        var display = window.getComputedStyle(gd).display;\n",
       "        if (!display || display === 'none') {{\n",
       "            console.log([gd, 'removed!']);\n",
       "            Plotly.purge(gd);\n",
       "            observer.disconnect();\n",
       "        }}\n",
       "}});\n",
       "\n",
       "// Listen for the removal of the full notebook cells\n",
       "var notebookContainer = gd.closest('#notebook-container');\n",
       "if (notebookContainer) {{\n",
       "    x.observe(notebookContainer, {childList: true});\n",
       "}}\n",
       "\n",
       "// Listen for the clearing of the current output cell\n",
       "var outputEl = gd.closest('.output');\n",
       "if (outputEl) {{\n",
       "    x.observe(outputEl, {childList: true});\n",
       "}}\n",
       "\n",
       "                        })                };                });            </script>        </div>"
      ]
     },
     "metadata": {},
     "output_type": "display_data"
    }
   ],
   "source": [
    "import numpy as np\n",
    "import pandas as pd\n",
    "import glob, os, json\n",
    "import matplotlib.pyplot as plt\n",
    "import plotly.express as px\n",
    "import plotly.graph_objects as go\n",
    "\n",
    "score_dir = '/data/mint/TPAMI_evaluations/MP/score/tuning_solver/'\n",
    "\n",
    "out_json = {}\n",
    "\n",
    "all_mse = []\n",
    "all_dssim = []\n",
    "all_lpips = []\n",
    "all_std = []\n",
    "all_name = []\n",
    "\n",
    "all_score = {}\n",
    "for d in sorted(glob.glob(score_dir + '/*.json')):\n",
    "    name = d.split('eval_score_')[-1]\n",
    "    alg = name.split('_')[0]\n",
    "    step = name.split('_')[1]\n",
    "    order = name.split('_')[2]\n",
    "    correcting_fn = name.split('_')[3]\n",
    "    with open(d, 'r') as f:\n",
    "        score = json.load(f)\n",
    "    all_score[name] = {\n",
    "        'mse': float(score['eval_score']['mse'].split('+-')[0]),\n",
    "        'mse_sd': float(score['eval_score']['mse'].split('+-')[1])\n",
    "    }\n",
    "    all_mse.append(float(score['eval_score']['mse'].split('+-')[0]))\n",
    "    all_dssim.append(float(score['eval_score']['dssim'].split('+-')[0]))\n",
    "    all_lpips.append(float(score['eval_score']['lpips'].split('+-')[0]))\n",
    "    all_name.append(name)\n",
    " \n",
    "df = pd.DataFrame({'name':all_name, 'mse':all_mse, 'dssim':all_dssim, 'lpips':all_lpips})\n",
    "df = df.sort_values(by=['lpips'])\n",
    "fig = px.bar(\n",
    "    data_frame = df,\n",
    "    x = \"name\",\n",
    "    y = [\"mse\", \"dssim\", \"lpips\"],\n",
    "    opacity = 0.9,\n",
    "    orientation = \"v\",\n",
    "    barmode = 'group',\n",
    "    title='Annual In-State Tuition vs Out-of-state Tuition',\n",
    ")\n",
    "fig.update_layout(\n",
    "    width=800,  # Set the width to your desired value (in pixels)\n",
    "    height=1024,  # Set the height to your desired value (in pixels)\n",
    "    title='Score of different solvers',\n",
    "    xaxis=dict(title='Solver'),\n",
    "    yaxis=dict(title='Score')\n",
    ")\n",
    "# Find best three of each solver using each metric\n",
    "# best_mse = df[('dpm_solver' in df['name'])].sort_values(by=['mse']).head(3)\n",
    "\n",
    "\n",
    "def find_best(df, metric, solver):\n",
    "    if solver == 'dpmsolver':\n",
    "        filtered_df = df[(df['name'].str.contains('dpmsolver')) & (~df['name'].str.contains('dpmsolver\\+\\+'))]\n",
    "    else: \n",
    "        filtered_df = df[(df['name'].str.contains(solver))]\n",
    "        \n",
    "    print(\"#\"*50)\n",
    "    print(\"[#] Report\")\n",
    "    for m in metric:\n",
    "        best = filtered_df.sort_values(by=[m]).head(3)\n",
    "        print(f\"[#] Best {solver} calculated on {m}: \")\n",
    "        print(best)\n",
    "        print(\"\\n\")\n",
    "    print(\"#\"*50)\n",
    "\n",
    "find_best(df, ['mse', 'dssim', 'lpips'], 'dpmsolver')\n",
    "find_best(df, ['mse', 'dssim', 'lpips'], 'unipc')\n",
    "find_best(df, ['mse', 'dssim', 'lpips'], 'dpmsolver\\+\\+')\n",
    "    \n",
    "fig.show()"
   ]
  },
  {
   "cell_type": "markdown",
   "metadata": {},
   "source": [
    "# Runtime comparison "
   ]
  },
  {
   "cell_type": "code",
   "execution_count": 78,
   "metadata": {},
   "outputs": [
    {
     "name": "stdout",
     "output_type": "stream",
     "text": [
      "[#] Test on: mp_test\n",
      "dpmsolver_singlestep_100_3_None: 16.258358443972682+-0.4044013627899971\n",
      "dpmsolver++_multistep_100_3_None: 17.87920090410936+-0.45421698928422016\n",
      "unipc_multistep_100_2_None: 17.505567228434533+-0.4213393707122556\n"
     ]
    }
   ],
   "source": [
    "import numpy as np\n",
    "import json, os, glob\n",
    "set_ = 'mp_test'\n",
    "folder = f\"/data/mint/TPAMI_evaluations/MP/pred/Ours/ours_difareli_results_solver/ema_085000/{set_}\"\n",
    "print(f\"[#] Test on: {set_}\")\n",
    "for m in glob.glob(folder + '/*'):\n",
    "    if not os.path.isdir(m):continue\n",
    "    \n",
    "    with open(m + '/out/runtime.json', 'r') as f:\n",
    "        rt = json.load(f)\n",
    "    all_time = np.array(rt['rev_time']) + np.array(rt['relit_time'])\n",
    "    print(f\"{m.split('/')[-1]}: {np.mean(all_time)}+-{np.std(all_time)}\")\n"
   ]
  },
  {
   "cell_type": "markdown",
   "metadata": {},
   "source": [
    "# Score comparison"
   ]
  },
  {
   "cell_type": "code",
   "execution_count": 84,
   "metadata": {},
   "outputs": [
    {
     "name": "stdout",
     "output_type": "stream",
     "text": [
      "[#] Test on: mp_test\n",
      "eval_score_dpmsolver++_multistep_100_3_None.json: \n",
      "lpips: 0.12699741125106812 +- 0.052548669278621674\n",
      "ssim: 0.7890765070915222 +- 0.08359747380018234\n",
      "dssim: 0.1054617315530777 +- 0.04179873690009117\n",
      "mse: 0.010836671106517315 +- 0.011636684648692608\n",
      "n_samples: 862\n",
      "##################################################\n",
      "eval_score_dpmsolver_singlestep_100_3_None.json: \n",
      "lpips: 0.12288665771484375 +- 0.049951691180467606\n",
      "ssim: 0.8021116852760315 +- 0.07940306514501572\n",
      "dssim: 0.09894415736198425 +- 0.03970153257250786\n",
      "mse: 0.010868290439248085 +- 0.011807953007519245\n",
      "n_samples: 862\n",
      "##################################################\n",
      "eval_score_unipc_multistep_100_2_None.json: \n",
      "lpips: 0.12482451647520065 +- 0.05324174091219902\n",
      "ssim: 0.7927277684211731 +- 0.08132698386907578\n",
      "dssim: 0.10363608598709106 +- 0.04066349193453789\n",
      "mse: 0.010784766636788845 +- 0.011581975035369396\n",
      "n_samples: 862\n",
      "##################################################\n"
     ]
    }
   ],
   "source": [
    "import numpy as np\n",
    "import json, os, glob\n",
    "set_ = 'mp_test'\n",
    "folder = f\"/data/mint/TPAMI_evaluations/MP/pred/Ours/ours_difareli_results_solver/ema_085000/{set_}\"\n",
    "\n",
    "print(f\"[#] Test on: {set_}\")\n",
    "for m in glob.glob(folder + '/*'):\n",
    "    if os.path.isfile(m) and '.json' in m:\n",
    "        with open(m, 'r') as f:\n",
    "            rt = json.load(f)\n",
    "        print(f\"{m.split('/')[-1]}: \")\n",
    "        for k, v in rt['eval_score'].items():\n",
    "            print(f\"{k}: {v}\")\n",
    "        print(\"#\"*50)\n",
    "\n"
   ]
  }
 ],
 "metadata": {
  "kernelspec": {
   "display_name": "difareli_faster_training",
   "language": "python",
   "name": "python3"
  },
  "language_info": {
   "codemirror_mode": {
    "name": "ipython",
    "version": 3
   },
   "file_extension": ".py",
   "mimetype": "text/x-python",
   "name": "python",
   "nbconvert_exporter": "python",
   "pygments_lexer": "ipython3",
   "version": "3.8.12"
  },
  "orig_nbformat": 4
 },
 "nbformat": 4,
 "nbformat_minor": 2
}
