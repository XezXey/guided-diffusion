{
 "cells": [
  {
   "cell_type": "code",
   "execution_count": 1,
   "metadata": {},
   "outputs": [
    {
     "name": "stdout",
     "output_type": "stream",
     "text": [
      "[#] Time elapsed:  3.6959547996520996\n"
     ]
    }
   ],
   "source": [
    "import json\n",
    "import os, sys, time\n",
    "from concurrent.futures import ThreadPoolExecutor\n",
    "\n",
    "sys.path.append('/home/mint/Dev/DiFaReli/difareli-faster/sample_scripts/sample_utils/')\n",
    "import file_utils\n",
    "\n",
    "# Pre-load image paths\n",
    "img_path = file_utils._list_image_files_recursively('/data/mint/DPM_Dataset/ffhq_256_with_anno/ffhq_256/train/')\n",
    "img_name_to_index = {os.path.basename(p): i for i, p in enumerate(img_path)}  # Create a dict for fast lookup by basename\n",
    "\n",
    "# Function to find index from image path efficiently\n",
    "def search_index(name):\n",
    "    return img_name_to_index.get(name)\n",
    "\n",
    "# Set the number of subjects\n",
    "n_subject = 10000\n",
    "\n",
    "# Load sample pairs\n",
    "start_time = time.time()\n",
    "sample_pair_mode = 'pair'\n",
    "sample_pair_json = './gen_data_retrieved.json'\n",
    "\n",
    "with open(sample_pair_json) as f:\n",
    "    sample_pairs = json.load(f)[sample_pair_mode]\n",
    "\n",
    "# Adjust number of subjects\n",
    "if n_subject > len(sample_pairs) or n_subject == -1:\n",
    "    n_subject = len(sample_pairs.keys())\n",
    "\n",
    "# Process pairs\n",
    "def process_pair(pair_i):\n",
    "    pair = sample_pairs[pair_i]\n",
    "    src, dst = pair['src'], pair['dst']\n",
    "    src_idx = search_index(src)\n",
    "    dst_idx = search_index(dst)\n",
    "    if src_idx is not None and dst_idx is not None:\n",
    "        return [img_path[src_idx].split('/')[-1], img_path[dst_idx].split('/')[-1]]\n",
    "    return None\n",
    "\n",
    "# Using ThreadPoolExecutor for parallel execution\n",
    "with ThreadPoolExecutor() as executor:\n",
    "    all_img_name_fast = list(executor.map(process_pair, list(sample_pairs.keys())))\n",
    "\n",
    "# Filter out None results\n",
    "all_img_name_fast = [x for x in all_img_name_fast if x is not None]\n",
    "\n",
    "print(\"[#] Time elapsed: \", time.time()-start_time)\n"
   ]
  },
  {
   "cell_type": "code",
   "execution_count": null,
   "metadata": {},
   "outputs": [],
   "source": []
  },
  {
   "cell_type": "code",
   "execution_count": 2,
   "metadata": {},
   "outputs": [
    {
     "name": "stdout",
     "output_type": "stream",
     "text": [
      "[['0.jpg', '18029.jpg'], ['1.jpg', '47186.jpg'], ['2.jpg', '29145.jpg'], ['3.jpg', '21326.jpg'], ['4.jpg', '27357.jpg'], ['5.jpg', '52845.jpg'], ['6.jpg', '22067.jpg'], ['7.jpg', '41109.jpg'], ['8.jpg', '38895.jpg'], ['9.jpg', '17021.jpg'], ['10.jpg', '13732.jpg'], ['11.jpg', '9312.jpg'], ['12.jpg', '58545.jpg'], ['13.jpg', '47871.jpg'], ['14.jpg', '54471.jpg'], ['15.jpg', '17463.jpg'], ['16.jpg', '46216.jpg'], ['17.jpg', '6938.jpg'], ['18.jpg', '44916.jpg'], ['19.jpg', '53471.jpg'], ['20.jpg', '4832.jpg'], ['21.jpg', '37305.jpg'], ['22.jpg', '41063.jpg'], ['23.jpg', '40439.jpg'], ['24.jpg', '55762.jpg'], ['25.jpg', '57404.jpg'], ['26.jpg', '13076.jpg'], ['27.jpg', '56078.jpg'], ['28.jpg', '48251.jpg'], ['29.jpg', '7649.jpg'], ['30.jpg', '12286.jpg'], ['31.jpg', '36867.jpg'], ['32.jpg', '19474.jpg'], ['33.jpg', '23783.jpg'], ['34.jpg', '33471.jpg'], ['35.jpg', '55815.jpg'], ['36.jpg', '11923.jpg'], ['37.jpg', '24762.jpg'], ['38.jpg', '59598.jpg'], ['39.jpg', '629.jpg'], ['40.jpg', '38679.jpg'], ['41.jpg', '43628.jpg'], ['42.jpg', '28470.jpg'], ['43.jpg', '15645.jpg'], ['44.jpg', '18660.jpg'], ['45.jpg', '5997.jpg'], ['46.jpg', '51285.jpg'], ['47.jpg', '20133.jpg'], ['48.jpg', '10548.jpg'], ['49.jpg', '21577.jpg']]\n"
     ]
    }
   ],
   "source": [
    "print(all_img_name_fast[:50])"
   ]
  },
  {
   "cell_type": "code",
   "execution_count": 4,
   "metadata": {},
   "outputs": [
    {
     "name": "stdout",
     "output_type": "stream",
     "text": [
      "[#] Time elapsed:  4.690262317657471\n",
      "[['0.jpg', '18029.jpg'], ['1.jpg', '47186.jpg'], ['2.jpg', '29145.jpg'], ['3.jpg', '21326.jpg'], ['4.jpg', '27357.jpg'], ['5.jpg', '52845.jpg'], ['6.jpg', '22067.jpg'], ['7.jpg', '41109.jpg'], ['8.jpg', '38895.jpg'], ['9.jpg', '17021.jpg'], ['10.jpg', '13732.jpg'], ['11.jpg', '9312.jpg'], ['12.jpg', '58545.jpg'], ['13.jpg', '47871.jpg'], ['14.jpg', '54471.jpg'], ['15.jpg', '17463.jpg'], ['16.jpg', '46216.jpg'], ['17.jpg', '6938.jpg'], ['18.jpg', '44916.jpg'], ['19.jpg', '53471.jpg'], ['20.jpg', '4832.jpg'], ['21.jpg', '37305.jpg'], ['22.jpg', '41063.jpg'], ['23.jpg', '40439.jpg'], ['24.jpg', '55762.jpg'], ['25.jpg', '57404.jpg'], ['26.jpg', '13076.jpg'], ['27.jpg', '56078.jpg'], ['28.jpg', '48251.jpg'], ['29.jpg', '7649.jpg'], ['30.jpg', '12286.jpg'], ['31.jpg', '36867.jpg'], ['32.jpg', '19474.jpg'], ['33.jpg', '23783.jpg'], ['34.jpg', '33471.jpg'], ['35.jpg', '55815.jpg'], ['36.jpg', '11923.jpg'], ['37.jpg', '24762.jpg'], ['38.jpg', '59598.jpg'], ['39.jpg', '629.jpg'], ['40.jpg', '38679.jpg'], ['41.jpg', '43628.jpg'], ['42.jpg', '28470.jpg'], ['43.jpg', '15645.jpg'], ['44.jpg', '18660.jpg'], ['45.jpg', '5997.jpg'], ['46.jpg', '51285.jpg'], ['47.jpg', '20133.jpg'], ['48.jpg', '10548.jpg'], ['49.jpg', '21577.jpg']]\n",
      "[[0, 8924], [1, 41320], [11112, 21275], [22223, 12588], [33334, 19288], [44445, 47608], [55556, 13411], [56667, 34569], [57778, 32107], [58889, 7805], [2, 4150], [1113, 59238], [2224, 53941], [3335, 42081], [4446, 49415], [5557, 8295], [6668, 40243], [7779, 56599], [8890, 38798], [10001, 48304], [11113, 42580], [12224, 30342], [13335, 34518], [14446, 33824], [15557, 50849], [16668, 52674], [17779, 3421], [18890, 51200], [20001, 42504], [21112, 57389], [22224, 2543], [23335, 29854], [24446, 10529], [25557, 15317], [26668, 26082], [27779, 50908], [28890, 2140], [30001, 16405], [31112, 55110], [32223, 55879], [33335, 31867], [34446, 37367], [35557, 20525], [36668, 6275], [37779, 9625], [38890, 55523], [40001, 45875], [41112, 11263], [42223, 612], [43334, 12866]]\n"
     ]
    }
   ],
   "source": [
    "import json\n",
    "import os, sys, time\n",
    "from concurrent.futures import ThreadPoolExecutor\n",
    "\n",
    "sys.path.append('/home/mint/Dev/DiFaReli/difareli-faster/sample_scripts/sample_utils/')\n",
    "import file_utils\n",
    "\n",
    "# Pre-load image paths and create a fast lookup dictionary for image names\n",
    "img_path = file_utils._list_image_files_recursively('/data/mint/DPM_Dataset/ffhq_256_with_anno/ffhq_256/train/')\n",
    "img_name_to_index = {os.path.basename(p): i for i, p in enumerate(img_path)}  # Create a dict for fast lookup by basename\n",
    "\n",
    "# Function to find index from image path efficiently\n",
    "def search_index(name):\n",
    "    return img_name_to_index.get(name)\n",
    "\n",
    "# Set the number of subjects\n",
    "n_subject = 10000\n",
    "\n",
    "# Load sample pairs\n",
    "start_time = time.time()\n",
    "sample_pair_mode = 'pair'\n",
    "sample_pair_json = './gen_data_retrieved.json'\n",
    "\n",
    "with open(sample_pair_json) as f:\n",
    "    sample_pairs = json.load(f)[sample_pair_mode]\n",
    "\n",
    "# Adjust number of subjects\n",
    "if n_subject > len(sample_pairs) or n_subject == -1:\n",
    "    n_subject = len(sample_pairs.keys())\n",
    "\n",
    "# Process pairs and collect indices\n",
    "def process_pair(pair_i):\n",
    "    pair = sample_pairs[pair_i]\n",
    "    src, dst = pair['src'], pair['dst']\n",
    "    src_idx = search_index(src)\n",
    "    dst_idx = search_index(dst)\n",
    "    if src_idx is not None and dst_idx is not None:\n",
    "        return [src_idx, dst_idx]  # Return the indices\n",
    "    return None\n",
    "\n",
    "# Using ThreadPoolExecutor for parallel execution\n",
    "with ThreadPoolExecutor() as executor:\n",
    "    all_img_idx = list(executor.map(process_pair, list(sample_pairs.keys())))\n",
    "\n",
    "# Filter out None results\n",
    "all_img_idx = [x for x in all_img_idx if x is not None]\n",
    "\n",
    "# Convert indices to file names\n",
    "all_img_name = [[img_path[idx[0]].split('/')[-1], img_path[idx[1]].split('/')[-1]] for idx in all_img_idx]\n",
    "\n",
    "print(\"[#] Time elapsed: \", time.time()-start_time)\n",
    "print(all_img_name[:50])\n",
    "print(all_img_idx[:50])"
   ]
  }
 ],
 "metadata": {
  "kernelspec": {
   "display_name": "dpm_sampling_deca_pysh",
   "language": "python",
   "name": "python3"
  },
  "language_info": {
   "codemirror_mode": {
    "name": "ipython",
    "version": 3
   },
   "file_extension": ".py",
   "mimetype": "text/x-python",
   "name": "python",
   "nbconvert_exporter": "python",
   "pygments_lexer": "ipython3",
   "version": "3.8.12"
  }
 },
 "nbformat": 4,
 "nbformat_minor": 2
}
