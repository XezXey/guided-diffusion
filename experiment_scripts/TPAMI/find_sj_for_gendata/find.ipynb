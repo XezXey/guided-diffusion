{
 "cells": [
  {
   "cell_type": "code",
   "execution_count": 25,
   "metadata": {},
   "outputs": [],
   "source": [
    "import numpy as np\n",
    "import pandas as pd\n",
    "from collections import defaultdict\n",
    "\n",
    "path = '/data/mint/DPM_Dataset/Generated_Dataset/params_recreate_from_v12/train/ffhq-train-light-anno.txt'\n",
    "\n",
    "def read_params(path):\n",
    "    params = pd.read_csv(path, header=None, sep=\" \", index_col=False, lineterminator='\\n')\n",
    "    params.rename(columns={0:'img_name'}, inplace=True)\n",
    "    params = params.set_index('img_name').T.to_dict('list')\n",
    "    return params\n",
    "\n",
    "def swap_key(params):\n",
    "    params_s = defaultdict(dict)\n",
    "    for params_name, v in params.items():\n",
    "        for img_name, params_value in v.items():\n",
    "            params_s[img_name][params_name] = np.array(params_value).astype(np.float64)\n",
    "\n",
    "    return params_s\n",
    "\n",
    "out = swap_key({'light':read_params(path)})"
   ]
  },
  {
   "cell_type": "code",
   "execution_count": 26,
   "metadata": {},
   "outputs": [
    {
     "name": "stdout",
     "output_type": "stream",
     "text": [
      "[#] Total keys():  120000\n",
      "[#] Total pairs:  60000\n"
     ]
    }
   ],
   "source": [
    "import tqdm\n",
    "json_out = {'pair':{}}\n",
    "count = 0\n",
    "for k in out.keys():\n",
    "    if '_' in k:\n",
    "        tmp = k.split('_')\n",
    "        json_out['pair'][f'pair{count}'] = {\n",
    "            'src':tmp[0] + '.png',\n",
    "            'dst':tmp[1],\n",
    "        }\n",
    "        count += 1\n",
    "        \n",
    "print(\"[#] Total keys(): \", len(out.keys()))\n",
    "print(\"[#] Total pairs: \", count)\n",
    "        "
   ]
  },
  {
   "cell_type": "code",
   "execution_count": 27,
   "metadata": {},
   "outputs": [
    {
     "name": "stdout",
     "output_type": "stream",
     "text": [
      "[#] After sorted:  60000\n"
     ]
    }
   ],
   "source": [
    "# Sorting by making pair0 is {src=0.png, dst=xxx.png}\n",
    "json_out_sorting = {'pair':{}}\n",
    "for k in json_out['pair'].keys():\n",
    "    src = json_out['pair'][k]['src']\n",
    "    dst = json_out['pair'][k]['dst']\n",
    "    \n",
    "    json_out_sorting['pair'][f'pair{src.split(\".\")[0]}'] = {'src':src.replace('.png', '.jpg'),\n",
    "                                                            'dst':dst.replace('.png', '.jpg')}\n",
    "\n",
    "print(\"[#] After sorted: \", len(json_out_sorting['pair'].keys()))\n",
    "\n",
    "json_final_out = {'pair':{}}\n",
    "for i in range(len(json_out_sorting['pair'].keys())):\n",
    "    json_final_out['pair'][f'pair{i}'] = json_out_sorting['pair'][f'pair{i}']"
   ]
  },
  {
   "cell_type": "code",
   "execution_count": 28,
   "metadata": {},
   "outputs": [],
   "source": [
    "import json\n",
    "json.dump(json_final_out, open('gen_data_retrieved.json', 'w'), indent=4)"
   ]
  },
  {
   "cell_type": "code",
   "execution_count": 29,
   "metadata": {},
   "outputs": [
    {
     "name": "stdout",
     "output_type": "stream",
     "text": [
      "[#] Same:  60000\n"
     ]
    }
   ],
   "source": [
    "source_sample_file = '/home/mint/Dev/DiFaReli/difareli-faster/dataset_generation/sampler/sampling_generated_dataset/generated_dataset_1_seed=47.json'\n",
    "with open(source_sample_file, 'r') as f:\n",
    "    source_sample = json.load(f)\n",
    "\n",
    "# Check if the source_sample is the same as the json_final_out\n",
    "same = 0\n",
    "for k in source_sample['pair'].keys():\n",
    "    if source_sample['pair'][k] != json_final_out['pair'][k]:\n",
    "        print(\"[!] Not the same\")\n",
    "        break\n",
    "    else:\n",
    "        same += 1\n",
    "print(\"[#] Same: \", same)"
   ]
  }
 ],
 "metadata": {
  "kernelspec": {
   "display_name": "dpm_sampling_deca_pysh",
   "language": "python",
   "name": "python3"
  },
  "language_info": {
   "codemirror_mode": {
    "name": "ipython",
    "version": 3
   },
   "file_extension": ".py",
   "mimetype": "text/x-python",
   "name": "python",
   "nbconvert_exporter": "python",
   "pygments_lexer": "ipython3",
   "version": "3.8.12"
  }
 },
 "nbformat": 4,
 "nbformat_minor": 2
}
