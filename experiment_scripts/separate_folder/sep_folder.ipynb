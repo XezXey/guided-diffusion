{
 "cells": [
  {
   "cell_type": "code",
   "execution_count": 3,
   "metadata": {},
   "outputs": [
    {
     "name": "stdout",
     "output_type": "stream",
     "text": [
      "Missing prediction (idx):  []\n",
      "Missing prediction (fn):  []\n"
     ]
    }
   ],
   "source": [
    "import json\n",
    "import blobfile as bf\n",
    "import os\n",
    "import shutil\n",
    "import tqdm\n",
    "\n",
    "\n",
    "def _list_image_files_recursively(data_dir):\n",
    "    results = []\n",
    "    for entry in sorted(bf.listdir(data_dir)):\n",
    "        full_path = bf.join(data_dir, entry)\n",
    "        ext = entry.split(\".\")[-1]\n",
    "        if \".\" in entry and ext.lower() in [\"jpg\", \"jpeg\", \"png\", \"gif\", \"npy\"]:\n",
    "            results.append(full_path)\n",
    "        elif bf.isdir(full_path):\n",
    "            results.extend(_list_image_files_recursively(full_path))\n",
    "    return results\n",
    "\n",
    "# pred_dir = '/data/mint/paper_evaluations/MP/pred/Ours/ours_128_Masked_Face_woclip+BgNoHead+shadow+arcface/ema_050000/out/'\n",
    "# dst_dir = '/data/mint/paper_evaluations/MP/pred/Ours/ours_128_Masked_Face_woclip+BgNoHead+shadow+arcface/ema_050000/out/validset/'\n",
    "\n",
    "# pred_dir = '/data/mint/paper_evaluations/MP/pred/Ours/ours_DiffAE+shadow/ema_050000/out/'\n",
    "# dst_dir = '/data/mint/paper_evaluations/MP/pred/Ours/ours_DiffAE+shadow/ema_050000/out/validset/'\n",
    "\n",
    "pred_dir = '/data/mint/paper_evaluations/MP/pred/Ours/ours_256_Masked_Face_woclip+BgNoHead+shadow_256/ema_085000/out/'\n",
    "dst_dir = '/data/mint/paper_evaluations/MP/pred/Ours/ours_256_Masked_Face_woclip+BgNoHead+shadow_256/ema_085000/out/testset/'\n",
    "\n",
    "# pred_dir = '/data/mint/paper_evaluations/MP/pred/Ours/ours_128_Masked_Face_woclip+BgNoHead+shadow/ema_050000/out/'\n",
    "# dst_dir = '/data/mint/paper_evaluations/MP/pred/Ours/ours_128_Masked_Face_woclip+BgNoHead+shadow/ema_050000/out/testset/'\n",
    "\n",
    "os.makedirs(dst_dir, exist_ok=True)\n",
    "\n",
    "with open('/home/mint/guided-diffusion/sample_scripts/paper_script/sample_json/multipie_testset.json', 'r') as f:\n",
    "# with open('/home/mint/guided-diffusion/sample_scripts/paper_script/sample_json/multipie_valset.json', 'r') as f:\n",
    "    test_pair = json.load(f)\n",
    "    \n",
    "missing_idx = []\n",
    "missing_fn = []\n",
    "for i, p in enumerate(test_pair['pair'].keys()):\n",
    "    src = test_pair['pair'][f'pair{i+1}']['src']\n",
    "    dst = test_pair['pair'][f'pair{i+1}']['dst']\n",
    "    fn = f'input={src}#pred={dst}.png'\n",
    "    if os.path.exists(f'{pred_dir}/{fn}'):\n",
    "        shutil.copy(f'{pred_dir}/{fn}', f'{dst_dir}/{fn}')\n",
    "    else:\n",
    "        missing_idx.append(i)\n",
    "        missing_fn.append(fn)\n",
    "\n",
    "print(\"Missing prediction (idx): \", missing_idx)\n",
    "print(\"Missing prediction (fn): \", missing_fn)\n",
    "# print(_list_image_files_recursively(src_dir))"
   ]
  },
  {
   "cell_type": "code",
   "execution_count": null,
   "metadata": {},
   "outputs": [],
   "source": []
  }
 ],
 "metadata": {
  "kernelspec": {
   "display_name": "Python 3.8.12 ('dpm_sampling_deca')",
   "language": "python",
   "name": "python3"
  },
  "language_info": {
   "codemirror_mode": {
    "name": "ipython",
    "version": 3
   },
   "file_extension": ".py",
   "mimetype": "text/x-python",
   "name": "python",
   "nbconvert_exporter": "python",
   "pygments_lexer": "ipython3",
   "version": "3.8.12"
  },
  "orig_nbformat": 4,
  "vscode": {
   "interpreter": {
    "hash": "e726457752a9f31dd08e885b4d7ad782b9d2db89819f0ec82c996add1b497d76"
   }
  }
 },
 "nbformat": 4,
 "nbformat_minor": 2
}
