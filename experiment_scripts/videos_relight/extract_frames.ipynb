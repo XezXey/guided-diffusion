{
 "cells": [
  {
   "cell_type": "code",
   "execution_count": 2,
   "metadata": {},
   "outputs": [],
   "source": [
    "import cv2\n",
    "import os\n",
    "\n",
    "# open the video file\n",
    "vid_name = './videos/Lisa_Trim.mp4'\n",
    "out_path = '/data/mint/DPM_Dataset/Videos/Lisa_1/images/'\n",
    "video = cv2.VideoCapture(vid_name)\n",
    "\n",
    "os.makedirs(out_path, exist_ok=True)\n",
    "\n",
    "# initialize variables\n",
    "count = 0\n",
    "success = True\n",
    "\n",
    "# loop through the video frames\n",
    "while success:\n",
    "    # read the next frame\n",
    "    success, image = video.read()\n",
    "    \n",
    "    # if reading was successful, write the frame to file\n",
    "    if success:\n",
    "    # Only for sully\n",
    "        cv2.imwrite(f'{out_path}/frame{count}.png', image)\n",
    "        count += 1"
   ]
  },
  {
   "cell_type": "code",
   "execution_count": 23,
   "metadata": {},
   "outputs": [],
   "source": [
    "import cv2\n",
    "import os\n",
    "\n",
    "# open the video file\n",
    "vid_name = './videos/sully_Trim.mp4'\n",
    "out_path = '/data/mint/DPM_Dataset/Videos/'\n",
    "video = cv2.VideoCapture(vid_name)\n",
    "\n",
    "os.makedirs(out_path + 'Sully_1/images/', exist_ok=True)\n",
    "os.makedirs(out_path + 'Sully_2/images/', exist_ok=True)\n",
    "\n",
    "# initialize variables\n",
    "count = 0\n",
    "success = True\n",
    "\n",
    "# loop through the video frames\n",
    "while success:\n",
    "    # read the next frame\n",
    "    success, image = video.read()\n",
    "    \n",
    "    # if reading was successful, write the frame to file\n",
    "    if success:\n",
    "        h, w, c = image.shape\n",
    "        # Only for sully\n",
    "        image1 = image[:, :(w//2)+150, :]\n",
    "        image2 = image[:, (w//2)+150:, :]\n",
    "        \n",
    "        cv2.imwrite(f'{out_path}/Sully_1/images/frame{count}.png', image1)\n",
    "        cv2.imwrite(f'{out_path}/Sully_2/images/frame{count}.png', image2)\n",
    "        count += 1"
   ]
  }
 ],
 "metadata": {
  "kernelspec": {
   "display_name": "3dr_conda_training",
   "language": "python",
   "name": "python3"
  },
  "language_info": {
   "codemirror_mode": {
    "name": "ipython",
    "version": 3
   },
   "file_extension": ".py",
   "mimetype": "text/x-python",
   "name": "python",
   "nbconvert_exporter": "python",
   "pygments_lexer": "ipython3",
   "version": "3.8.12"
  },
  "orig_nbformat": 4
 },
 "nbformat": 4,
 "nbformat_minor": 2
}
