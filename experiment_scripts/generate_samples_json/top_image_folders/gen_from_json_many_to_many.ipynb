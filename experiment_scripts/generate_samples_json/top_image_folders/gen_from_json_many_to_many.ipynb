{
 "cells": [
  {
   "cell_type": "code",
   "execution_count": 2,
   "metadata": {},
   "outputs": [
    {
     "name": "stderr",
     "output_type": "stream",
     "text": [
      "Global seed set to 47\n"
     ]
    }
   ],
   "source": [
    "import json\n",
    "import numpy as np\n",
    "import pytorch_lightning as pl\n",
    "\n",
    "pl.utilities.seed.seed_everything(47)\n",
    "dup_list = []\n",
    "out_json_vis = {'pair':{}}\n",
    "out_json = {'pair':{}}\n",
    "ext = '.png'\n",
    "\n",
    "out_name = 'all_famous_ppl'\n",
    "src = ['cr7_1.png', 'cr7_2.png', 'cr7_3.png', 'cr7_4.png', 'dante_1.png', 'dante_2.png', 'fj_1.png', 'fj_2.png', 'fj_3.png', 'js_1.png', 'lib_1.png', 'lib_2.png', 'ml_1.png', \n",
    "       'sg_1.png', 'sg_2.png', 'sg_3.png', 'sg_4.png', 'sg_5.png', 'sg_6.png', 'sg_7.png', 'sg_8.png', 'sj_1.png', 'th_1.png', 'th_2.png', 'th_3.png', 'ws_1.png', ]\n",
    "dst = ['60065.png', '60084.png', '60182.png', 'lib_1.png', '67008.png', '66376.png', '63252.png']\n",
    "count = 1\n",
    "for i in range(len(src)):\n",
    "    for j in range(len(dst)):\n",
    "        img_idx = [src[i], dst[j]]\n",
    "        out_json['pair'][f'pair{count+1}'] = {'src':img_idx[0], 'dst':img_idx[1]}\n",
    "        out_json_vis['pair'][f'pair{count+1}'] = {'src':img_idx[0].replace('.jpg', '.png'), 'dst':img_idx[1].replace('.jpg', '.png')}\n",
    "        count+=1\n",
    "    \n",
    "with open(f'/home/mint/guided-diffusion/sample_scripts/paper_script/sample_json/itw/{out_name}_vis.json', 'w') as fp:\n",
    "    json.dump(out_json_vis, fp, indent=4)\n",
    "\n",
    "with open(f'/home/mint/guided-diffusion/sample_scripts/paper_script/sample_json/itw/{out_name}.json', 'w') as fp:\n",
    "    json.dump(out_json, fp, indent=4)\n",
    "    "
   ]
  }
 ],
 "metadata": {
  "kernelspec": {
   "display_name": "Python 3.8.12 ('dpm_sampling_deca')",
   "language": "python",
   "name": "python3"
  },
  "language_info": {
   "codemirror_mode": {
    "name": "ipython",
    "version": 3
   },
   "file_extension": ".py",
   "mimetype": "text/x-python",
   "name": "python",
   "nbconvert_exporter": "python",
   "pygments_lexer": "ipython3",
   "version": "3.8.12"
  },
  "orig_nbformat": 4,
  "vscode": {
   "interpreter": {
    "hash": "e726457752a9f31dd08e885b4d7ad782b9d2db89819f0ec82c996add1b497d76"
   }
  }
 },
 "nbformat": 4,
 "nbformat_minor": 2
}
