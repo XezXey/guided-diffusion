{
 "cells": [
  {
   "cell_type": "code",
   "execution_count": 3,
   "metadata": {},
   "outputs": [],
   "source": [
    "import numpy as np\n",
    "import torch as th\n",
    "import torchvision\n",
    "import PIL\n",
    "import cv2\n",
    "import imageio\n",
    "import blobfile as bf\n",
    "import os\n",
    "import tqdm\n",
    "import json\n",
    "from pytorch_lightning.utilities.seed import seed_everything\n",
    "\n",
    "def _list_image_files_recursively(data_dir):\n",
    "    results = []\n",
    "    for entry in sorted(bf.listdir(data_dir)):\n",
    "        full_path = bf.join(data_dir, entry)\n",
    "        ext = entry.split(\".\")[-1]\n",
    "        if \".\" in entry and ext.lower() in [\"jpg\", \"jpeg\", \"png\", \"gif\", \"npy\"]:\n",
    "            results.append(full_path)\n",
    "        elif bf.isdir(full_path):\n",
    "            results.extend(_list_image_files_recursively(full_path))\n",
    "    return results\n"
   ]
  },
  {
   "cell_type": "markdown",
   "metadata": {},
   "source": [
    "# Random samples"
   ]
  },
  {
   "cell_type": "code",
   "execution_count": 6,
   "metadata": {},
   "outputs": [
    {
     "name": "stderr",
     "output_type": "stream",
     "text": [
      "Global seed set to 47\n"
     ]
    }
   ],
   "source": [
    "seed = 47\n",
    "seed_everything(seed)\n",
    "path = '/data/mint/DPM_Dataset/ffhq_256_with_anno/ffhq_256/valid/'\n",
    "img_path = _list_image_files_recursively(path)\n",
    "n_pairs = 20\n",
    "pairs = np.random.choice(a=np.arange(0, len(img_path)), size=n_pairs*2, replace=False)\n",
    "\n",
    "gen_pairs = {\"seed\":seed, \"pair\":{}}\n",
    "for idx, i in enumerate(range(0, n_pairs*2, 2)):\n",
    "    src_name = img_path[pairs[i]].split('/')[-1]\n",
    "    dst_name = img_path[pairs[i+1]].split('/')[-1]\n",
    "    gen_pairs[\"pair\"][f\"pair_{idx+1}\"] = {\"src\":src_name, \"dst\":dst_name}\n",
    "\n",
    "with open(f'gen_pair_{seed}.json', 'w') as fp:\n",
    "    json.dump(gen_pairs, fp, indent=4)"
   ]
  },
  {
   "cell_type": "markdown",
   "metadata": {},
   "source": [
    "# Manual Sample to json"
   ]
  },
  {
   "cell_type": "code",
   "execution_count": 27,
   "metadata": {},
   "outputs": [],
   "source": [
    "src_path = './light_right/'\n",
    "dst_path = './light_left/'\n",
    "src_img = _list_image_files_recursively(src_path)\n",
    "dst_img = _list_image_files_recursively(dst_path)\n",
    "assert len(src_img) == len(dst_img)\n",
    "sel_pairs = {\"src_path\":src_path, \"dst_path\":dst_path, \"pair\":{}, \"pairwise\":{\"src\":[], \"dst\":[]}}\n",
    "for idx, i in enumerate(range(0, len(src_img))):\n",
    "    src_name = src_img[i].split('/')[-1]\n",
    "    dst_name = dst_img[i].split('/')[-1]\n",
    "    sel_pairs[\"pair\"][f\"pair_{idx+1}\"] = {\"src\":src_name, \"dst\":dst_name}\n",
    "    sel_pairs[\"pairwise\"][\"src\"].append(src_name)\n",
    "    sel_pairs[\"pairwise\"][\"dst\"].append(dst_name)\n",
    "    \n",
    "cur = idx + 1\n",
    "for idx, i in enumerate(range(len(src_img))):\n",
    "    src_name = src_img[i].split('/')[-1]\n",
    "    dst_name = dst_img[i].split('/')[-1]\n",
    "    sel_pairs[\"pair\"][f\"pair_{cur+idx+1}\"] = {\"src\":dst_name, \"dst\":src_name}\n",
    "    \n",
    "with open(f'manual_pair.json', 'w') as fp:\n",
    "    json.dump(sel_pairs, fp, indent=4)"
   ]
  }
 ],
 "metadata": {
  "kernelspec": {
   "display_name": "Python 3.8.12 ('3dr_conda_training')",
   "language": "python",
   "name": "python3"
  },
  "language_info": {
   "codemirror_mode": {
    "name": "ipython",
    "version": 3
   },
   "file_extension": ".py",
   "mimetype": "text/x-python",
   "name": "python",
   "nbconvert_exporter": "python",
   "pygments_lexer": "ipython3",
   "version": "3.8.12"
  },
  "orig_nbformat": 4,
  "vscode": {
   "interpreter": {
    "hash": "fafb62d5f4613a7545cb0370bd44fb628c825b23cfd04fe5f82e7c51a33fbd5e"
   }
  }
 },
 "nbformat": 4,
 "nbformat_minor": 2
}
