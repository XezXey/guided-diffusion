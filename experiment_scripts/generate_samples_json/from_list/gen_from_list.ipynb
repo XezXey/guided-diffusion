{
 "cells": [
  {
   "cell_type": "code",
   "execution_count": 7,
   "metadata": {},
   "outputs": [
    {
     "name": "stderr",
     "output_type": "stream",
     "text": [
      "Global seed set to 47\n"
     ]
    }
   ],
   "source": [
    "import json\n",
    "import numpy as np\n",
    "import pytorch_lightning as pl\n",
    "pl.utilities.seed.seed_everything(47)\n",
    "\n",
    "# out_name = 'qualitative_ffhq'\n",
    "# src = ['63648.jpg', '62460.jpg', '60008.jpg', '63503.jpg', '65203.jpg', '67855.jpg', '63988.jpg', '69706.jpg', '62711.jpg', '62616.jpg', '65013.jpg', '68497.jpg', '66819.jpg', '64204.jpg', '63250.jpg', '65249.jpg', '61039.jpg', '60065.jpg']\n",
    "# dst = ['69835.jpg', '66190.jpg', '68267.jpg', '61420.jpg', '69382.jpg', '65660.jpg', '67410.jpg', '65789.jpg', '67400.jpg', '63971.jpg', '62155.jpg', '67008.jpg', '63311.jpg', '64240.jpg', '60865.jpg', '64461.jpg', '63645.jpg', '69182.jpg']\n",
    "\n",
    "out_name = 'teaser_ffhq'\n",
    "src = ['65497.jpg', '65497.jpg', '65497.jpg', '65497.jpg', '61039.jpg', '61039.jpg', '61039.jpg', '61039.jpg']\n",
    "dst = ['64488.jpg', '61326.jpg', '67400.jpg', '69706.jpg', '64488.jpg', '61326.jpg', '67400.jpg', '69706.jpg']\n",
    "# out_json_vis = {'pair':{}}\n",
    "out_json = {'pair':{}}\n",
    "ext = '.png'\n",
    "for i, (s, d) in enumerate(zip(src, dst)):\n",
    "    out_json['pair'][f'pair{i+1}'] = {'src':s, 'dst':d}\n",
    "    # out_json_vis['pair'][f'pair{i+1}'] = {'src':s.replace('.jpg', '.png'), 'dst':d.replace('.jpg', '.png')}\n",
    "    \n",
    "# with open(f'/home/mint/guided-diffusion/sample_scripts/py/relighting_sample_id/sampling/sample_json/{out_name}.json', 'w') as fp:\n",
    "#     json.dump(out_json_vis, fp, indent=4)\n",
    "\n",
    "with open(f'/home/mint/guided-diffusion/sample_scripts/paper_script/sample_json/{out_name}.json', 'w') as fp:\n",
    "    json.dump(out_json, fp, indent=4)\n",
    "    "
   ]
  }
 ],
 "metadata": {
  "kernelspec": {
   "display_name": "Python 3.8.12 ('dpm_sampling_deca')",
   "language": "python",
   "name": "python3"
  },
  "language_info": {
   "codemirror_mode": {
    "name": "ipython",
    "version": 3
   },
   "file_extension": ".py",
   "mimetype": "text/x-python",
   "name": "python",
   "nbconvert_exporter": "python",
   "pygments_lexer": "ipython3",
   "version": "3.8.12"
  },
  "orig_nbformat": 4,
  "vscode": {
   "interpreter": {
    "hash": "e726457752a9f31dd08e885b4d7ad782b9d2db89819f0ec82c996add1b497d76"
   }
  }
 },
 "nbformat": 4,
 "nbformat_minor": 2
}
