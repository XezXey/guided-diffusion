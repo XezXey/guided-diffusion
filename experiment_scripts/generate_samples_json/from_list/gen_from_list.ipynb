{
 "cells": [
  {
   "cell_type": "code",
   "execution_count": 12,
   "metadata": {},
   "outputs": [
    {
     "name": "stderr",
     "output_type": "stream",
     "text": [
      "Global seed set to 47\n"
     ]
    },
    {
     "name": "stdout",
     "output_type": "stream",
     "text": [
      "67 67\n"
     ]
    }
   ],
   "source": [
    "import json\n",
    "import numpy as np\n",
    "import pytorch_lightning as pl\n",
    "pl.utilities.seed.seed_everything(47)\n",
    "\n",
    "# out_name = 'qualitative_ffhq'\n",
    "# src = ['63648.jpg', '62460.jpg', '60008.jpg', '63503.jpg', '65203.jpg', '67855.jpg', '63988.jpg', '69706.jpg', '62711.jpg', '62616.jpg', '65013.jpg', '68497.jpg', '66819.jpg', '64204.jpg', '63250.jpg', '65249.jpg', '61039.jpg', '60065.jpg']\n",
    "# dst = ['69835.jpg', '66190.jpg', '68267.jpg', '61420.jpg', '69382.jpg', '65660.jpg', '67410.jpg', '65789.jpg', '67400.jpg', '63971.jpg', '62155.jpg', '67008.jpg', '63311.jpg', '64240.jpg', '60865.jpg', '64461.jpg', '63645.jpg', '69182.jpg']\n",
    "\n",
    "# out_name = 'teaser_ffhq'\n",
    "# src = ['65497.jpg', '65497.jpg', '65497.jpg', '65497.jpg', '61039.jpg', '61039.jpg', '61039.jpg', '61039.jpg']\n",
    "# dst = ['64488.jpg', '61326.jpg', '67400.jpg', '69706.jpg', '64488.jpg', '61326.jpg', '67400.jpg', '69706.jpg']\n",
    "\n",
    "out_name = 'TR_samples'\n",
    "src = ['1', '1close', \n",
    "       '2', '2close', \n",
    "       '3', '3close', '3full', \n",
    "       '3full', '3full', '3full', '3full', '3full', '3full', '3full', '3full',\n",
    "       '3full', '3full', '3full', '3full', '3full', '3full', '3full',\n",
    "       '4', '4close',\n",
    "       '4phong', '4phong', '4phong',\n",
    "       '5', '5close', '5full', \n",
    "       '5full', '5full', '5full',\n",
    "       '5phong', '5phong', '5phong',\n",
    "       '5full', '5full', '5full', '5full', '5full',\n",
    "       '6', '7', '8', '9', '10',\n",
    "       '11', '11', '11', '11', '11',\n",
    "       '12src', '12src',\n",
    "       '13src', '13src',\n",
    "       '14src', '14src',\n",
    "       '17', '17', '17',\n",
    "       '18', '18', '18',\n",
    "       '19', '20', '21',\n",
    "    #    '22', \n",
    "       '23', \n",
    "    #    '24',\n",
    "    ]\n",
    "       \n",
    "dst = [\n",
    "    '1target', '1target', \n",
    "    '2target', '2target', \n",
    "    '3target', '3target', '3target',\n",
    "    '3target1', '3target2', '3target3', '3target4', '3target5', '3target6', '3target7', '3target8',\n",
    "    '3target9', '3target10', '3target11', '3target12', '3target13', '3target14', '3target15',\n",
    "    '4target', '4target',\n",
    "    '4phongtarget1', '4phongtarget2', '4phongtarget3',\n",
    "    '5target', '5target', '5target',\n",
    "    '5phongtarget1', '5phongtarget2', '5phongtarget3',\n",
    "    '5phongtarget1', '5phongtarget2', '5phongtarget3',\n",
    "    '5target1', '5target2', '5target3', '5target4', '5target5',\n",
    "    '6gt', '7gt', '8gt', '9gt', '10gt',\n",
    "    '11target1', '11target2', '11target3', '11target4', '11target5',\n",
    "    '15target', '16target',\n",
    "    '15target', '16target',\n",
    "    '15target', '16target',\n",
    "    '17target1', '17target2', '17target3',\n",
    "    '18target1', '18target2', '18target3',\n",
    "    '19gt', '20gt', '21gt',\n",
    "    # '22gt', \n",
    "    '23gt', \n",
    "    # '24gt',\n",
    "    ]\n",
    "\n",
    "print(len(src), len(dst))\n",
    "out_json = {'pair':{}}\n",
    "ext = '.png'\n",
    "for i, (s, d) in enumerate(zip(src, dst)):\n",
    "    out_json['pair'][f'pair{i+1}'] = {'src':f'{s}.png', 'dst':f'{d}.png'}\n",
    "    # out_json_vis['pair'][f'pair{i+1}'] = {'src':s.replace('.jpg', '.png'), 'dst':d.replace('.jpg', '.png')}\n",
    "    \n",
    "# with open(f'/home/mint/guided-diffusion/sample_scripts/py/relighting_sample_id/sampling/sample_json/{out_name}.json', 'w') as fp:\n",
    "#     json.dump(out_json_vis, fp, indent=4)\n",
    "\n",
    "with open(f'/home/mint/guided-diffusion/sample_scripts/paper_script/sample_json/rebuttal/{out_name}.json', 'w') as fp:\n",
    "    json.dump(out_json, fp, indent=4)\n",
    "    "
   ]
  }
 ],
 "metadata": {
  "kernelspec": {
   "display_name": "Python 3.8.12 ('dpm_sampling_deca')",
   "language": "python",
   "name": "python3"
  },
  "language_info": {
   "codemirror_mode": {
    "name": "ipython",
    "version": 3
   },
   "file_extension": ".py",
   "mimetype": "text/x-python",
   "name": "python",
   "nbconvert_exporter": "python",
   "pygments_lexer": "ipython3",
   "version": "3.8.12"
  },
  "orig_nbformat": 4,
  "vscode": {
   "interpreter": {
    "hash": "e726457752a9f31dd08e885b4d7ad782b9d2db89819f0ec82c996add1b497d76"
   }
  }
 },
 "nbformat": 4,
 "nbformat_minor": 2
}
