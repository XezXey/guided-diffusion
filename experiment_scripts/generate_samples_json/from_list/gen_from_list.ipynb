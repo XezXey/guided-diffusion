{
 "cells": [
  {
   "cell_type": "code",
   "execution_count": 2,
   "metadata": {},
   "outputs": [
    {
     "name": "stderr",
     "output_type": "stream",
     "text": [
      "Global seed set to 47\n"
     ]
    }
   ],
   "source": [
    "import json\n",
    "import numpy as np\n",
    "import pytorch_lightning as pl\n",
    "pl.utilities.seed.seed_everything(47)\n",
    "\n",
    "# out_name = 'qualitative_ffhq'\n",
    "# src = ['63648.jpg', '62460.jpg', '60008.jpg', '63503.jpg', '65203.jpg', '67855.jpg', '63988.jpg', '69706.jpg', '62711.jpg', '62616.jpg', '65013.jpg', '68497.jpg', '66819.jpg', '64204.jpg', '63250.jpg', '65249.jpg', '61039.jpg', '60065.jpg']\n",
    "# dst = ['69835.jpg', '66190.jpg', '68267.jpg', '61420.jpg', '69382.jpg', '65660.jpg', '67410.jpg', '65789.jpg', '67400.jpg', '63971.jpg', '62155.jpg', '67008.jpg', '63311.jpg', '64240.jpg', '60865.jpg', '64461.jpg', '63645.jpg', '69182.jpg']\n",
    "\n",
    "out_name = 'teaser_ffhq'\n",
    "src = ['65497.jpg', '65497.jpg', '65497.jpg', '65497.jpg', '61039.jpg', '61039.jpg', '61039.jpg', '61039.jpg']\n",
    "dst = ['64488.jpg', '61326.jpg', '67400.jpg', '69706.jpg', '64488.jpg', '61326.jpg', '67400.jpg', '69706.jpg']\n",
    "\n",
    "# out_json_vis = {'pair':{}}\n",
    "out_json = {'pair':{}}\n",
    "ext = '.png'\n",
    "for i, (s, d) in enumerate(zip(src, dst)):\n",
    "    out_json['pair'][f'pair{i+1}'] = {'src':s, 'dst':d}\n",
    "    # out_json_vis['pair'][f'pair{i+1}'] = {'src':s.replace('.jpg', '.png'), 'dst':d.replace('.jpg', '.png')}\n",
    "    \n",
    "# with open(f'/home/mint/guided-diffusion/sample_scripts/py/relighting_sample_id/sampling/sample_json/{out_name}.json', 'w') as fp:\n",
    "#     json.dump(out_json_vis, fp, indent=4)\n",
    "\n",
    "with open(f'/home/mint/guided-diffusion/sample_scripts/paper_script/sample_json/{out_name}.json', 'w') as fp:\n",
    "    json.dump(out_json, fp, indent=4)\n",
    "    "
   ]
  },
  {
   "cell_type": "code",
   "execution_count": 2,
   "metadata": {},
   "outputs": [],
   "source": [
    "import json\n",
    "src = [\n",
    "    '60265.jpg', '60268.jpg', '60340.jpg', '60374.jpg', '60414.jpg', '60865.jpg', '61003.jpg', '61062.jpg', '61777.jpg', \n",
    "    '62683.jpg', '68862.jpg', '66386.jpg', '67411.jpg', '68568.jpg', '69569.jpg', '65646.jpg', '67229.jpg', '64954.jpg', \n",
    "    '66178.jpg', '66446.jpg', '62820.jpg', '64363.jpg', '69978.jpg', '63368.jpg', '64461.jpg', '64769.jpg', '65698.jpg', \n",
    "    '63154.jpg', '67043.jpg', '69423.jpg', '69738.jpg', '68034.jpg', '63809.jpg', '61022.jpg', '68445.jpg', '63725.jpg', \n",
    "    '64162.jpg'\n",
    "    ]\n",
    "dst = ['60000.jpg'] * len(src)\n",
    "\n",
    "out_json = {'pair':{}}\n",
    "ext = '.png'\n",
    "for i, (s, d) in enumerate(zip(src, dst)):\n",
    "    out_json['pair'][f'pair{i+1}'] = {'src':s, 'dst':d}\n",
    "\n",
    "with open(f'/home/mint/difareli-faster/sample_scripts/faster_inference_script/sample_json/gridSH/gen_data_80perc_testset_n={len(src)}.json', 'w') as fp:\n",
    "    json.dump(out_json, fp, indent=4)"
   ]
  },
  {
   "cell_type": "code",
   "execution_count": 4,
   "metadata": {},
   "outputs": [
    {
     "name": "stderr",
     "output_type": "stream",
     "text": [
      "Global seed set to 47\n"
     ]
    }
   ],
   "source": [
    "import json\n",
    "import numpy as np\n",
    "import pytorch_lightning as pl\n",
    "pl.utilities.seed.seed_everything(47)\n",
    "\n",
    "src = [\n",
    "    69348, 69684, 65169, 65169, 69398, 69398, 67400, 63648, 68941, 66809, \n",
    "    63201, 63201, 65933, 65857, 68753, 65401, 60922, 60922, 60208, 60203,\n",
    "    60287, 61001, 61015, 61178, 69257, 69574, 65128, 65128, 68104, 68620,\n",
    "    69112, 69128, 69161, 63900, 61019, 65813, \n",
    "    # Seen face   \n",
    "    65124, 69392, 66248, 63307, 66647, 68396, 62415, 65283, 64636, 61536\n",
    "    ]\n",
    "dst = [\n",
    "    62825, 61218, 66376, 63829, 66376, 66646, 61801, 60065, 67136, 62707, \n",
    "    66847, 68152, 69545, 60198, 69778, 67176, 63252, 62401, 62581, 62041,\n",
    "    64892, 64570, 69633, 65465, 62159, 64182, 63859, 62718, 61047, 69238,\n",
    "    66965, 65304, 63497, 67851, 64937, 61987,\n",
    "    # Seen face   \n",
    "    67524, 66197, 66376, 61218, 66376, 63252, 66425, 63010, 64795, 68176\n",
    "    ]\n",
    "\n",
    "out_json = {'pair':{}}\n",
    "ext = '.png'\n",
    "for i, (s, d) in enumerate(zip(src, dst)):\n",
    "    out_json['pair'][f'pair{i+1}'] = {'src':f'{s}.jpg', 'dst':f'{d}.jpg'}\n",
    "\n",
    "with open(f'/home/mint/difareli-faster/sample_scripts/faster_inference_script/sample_json/targetSH/gen_data_80perc_testset_n={len(src)}.json', 'w') as fp:\n",
    "    json.dump(out_json, fp, indent=4)"
   ]
  }
 ],
 "metadata": {
  "kernelspec": {
   "display_name": "Python 3.8.12 ('dpm_sampling_deca')",
   "language": "python",
   "name": "python3"
  },
  "language_info": {
   "codemirror_mode": {
    "name": "ipython",
    "version": 3
   },
   "file_extension": ".py",
   "mimetype": "text/x-python",
   "name": "python",
   "nbconvert_exporter": "python",
   "pygments_lexer": "ipython3",
   "version": "3.8.12"
  },
  "orig_nbformat": 4,
  "vscode": {
   "interpreter": {
    "hash": "e726457752a9f31dd08e885b4d7ad782b9d2db89819f0ec82c996add1b497d76"
   }
  }
 },
 "nbformat": 4,
 "nbformat_minor": 2
}
