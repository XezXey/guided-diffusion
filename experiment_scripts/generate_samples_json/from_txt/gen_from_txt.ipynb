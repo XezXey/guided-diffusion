{
 "cells": [
  {
   "cell_type": "code",
   "execution_count": 4,
   "metadata": {},
   "outputs": [],
   "source": [
    "import json\n",
    "import numpy as np\n",
    "import pandas as pd\n",
    "import pytorch_lightning as pl\n",
    "\n",
    "target_id = pd.read_csv('./target_light_groundtruth.txt', names=['subject_id'])\n",
    "input_id = pd.read_csv('./target_light_input.txt', names=['subject_id'])\n",
    "\n",
    "out_json = {'pair':{}}\n",
    "assert len(target_id) == len(input_id)\n",
    "\n",
    "for i in range(len(target_id)):\n",
    "    out_json['pair'][f'pair{i+1}'] = {'src':input_id.iloc[i]['subject_id'], 'dst':target_id.iloc[i]['subject_id']}\n",
    "    \n",
    "# with open(f'/home/mint/guided-diffusion/sample_scripts/py/relighting_sample_id/sampling/sample_json/multipie_testset.json', 'w') as fp:\n",
    "with open(f'./multipie_testset.json', 'w') as fp:\n",
    "    json.dump(out_json, fp, indent=4)\n",
    "    "
   ]
  }
 ],
 "metadata": {
  "kernelspec": {
   "display_name": "Python 3.8.12 ('dpm_sampling_deca')",
   "language": "python",
   "name": "python3"
  },
  "language_info": {
   "codemirror_mode": {
    "name": "ipython",
    "version": 3
   },
   "file_extension": ".py",
   "mimetype": "text/x-python",
   "name": "python",
   "nbconvert_exporter": "python",
   "pygments_lexer": "ipython3",
   "version": "3.8.12"
  },
  "orig_nbformat": 4,
  "vscode": {
   "interpreter": {
    "hash": "e726457752a9f31dd08e885b4d7ad782b9d2db89819f0ec82c996add1b497d76"
   }
  }
 },
 "nbformat": 4,
 "nbformat_minor": 2
}
