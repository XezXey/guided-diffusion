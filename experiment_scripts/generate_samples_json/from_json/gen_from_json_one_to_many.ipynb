{
 "cells": [
  {
   "cell_type": "code",
   "execution_count": 9,
   "metadata": {},
   "outputs": [
    {
     "name": "stderr",
     "output_type": "stream",
     "text": [
      "Global seed set to 47\n"
     ]
    }
   ],
   "source": [
    "import json\n",
    "import numpy as np\n",
    "import pytorch_lightning as pl\n",
    "\n",
    "with open('./top25_shadow.json') as f:\n",
    "    dat = json.load(f)\n",
    "\n",
    "pl.utilities.seed.seed_everything(47)\n",
    "dup_list = []\n",
    "out_json_vis = {'pair':{}}\n",
    "out_json = {'pair':{}}\n",
    "ext = '.png'\n",
    "sj = '66248'\n",
    "for i in range(4000):\n",
    "    img_idx = list(np.random.choice(dat['list'], size=2, replace=False))\n",
    "    img_idx[0] = f'{sj}.jpg'\n",
    "    if (img_idx in dup_list) or img_idx[0] == img_idx[1]:  \n",
    "        continue\n",
    "    else:\n",
    "        out_json['pair'][f'pair{i+1}'] = {'src':img_idx[0], 'dst':img_idx[1]}\n",
    "        out_json_vis['pair'][f'pair{i+1}'] = {'src':img_idx[0].replace('.jpg', '.png'), 'dst':img_idx[1].replace('.jpg', '.png')}\n",
    "    dup_list.append(img_idx)\n",
    "    \n",
    "with open(f'/home/mint/guided-diffusion/sample_scripts/paper_script/sample_json/photometric/subject{sj}_top25_shadow_forvis.json', 'w') as fp:\n",
    "    json.dump(out_json_vis, fp, indent=4)\n",
    "\n",
    "with open(f'/home/mint/guided-diffusion/sample_scripts/paper_script/sample_json/photometric/subject{sj}_top25_shadow.json', 'w') as fp:\n",
    "    json.dump(out_json, fp, indent=4)\n",
    "    "
   ]
  }
 ],
 "metadata": {
  "kernelspec": {
   "display_name": "Python 3.8.12 ('dpm_sampling_deca')",
   "language": "python",
   "name": "python3"
  },
  "language_info": {
   "codemirror_mode": {
    "name": "ipython",
    "version": 3
   },
   "file_extension": ".py",
   "mimetype": "text/x-python",
   "name": "python",
   "nbconvert_exporter": "python",
   "pygments_lexer": "ipython3",
   "version": "3.8.12"
  },
  "orig_nbformat": 4,
  "vscode": {
   "interpreter": {
    "hash": "e726457752a9f31dd08e885b4d7ad782b9d2db89819f0ec82c996add1b497d76"
   }
  }
 },
 "nbformat": 4,
 "nbformat_minor": 2
}
