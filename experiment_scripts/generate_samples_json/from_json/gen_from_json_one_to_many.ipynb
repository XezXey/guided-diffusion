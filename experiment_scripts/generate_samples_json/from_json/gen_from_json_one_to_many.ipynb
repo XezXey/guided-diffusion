{
 "cells": [
  {
   "cell_type": "code",
   "execution_count": 1,
   "metadata": {},
   "outputs": [
    {
     "name": "stderr",
     "output_type": "stream",
     "text": [
      "Global seed set to 47\n"
     ]
    },
    {
     "ename": "NameError",
     "evalue": "name 'img_idx' is not defined",
     "output_type": "error",
     "traceback": [
      "\u001b[0;31m---------------------------------------------------------------------------\u001b[0m",
      "\u001b[0;31mNameError\u001b[0m                                 Traceback (most recent call last)",
      "\u001b[0;32m/tmp/ipykernel_28514/842696061.py\u001b[0m in \u001b[0;36m<module>\u001b[0;34m\u001b[0m\n\u001b[1;32m     18\u001b[0m \u001b[0;32mfor\u001b[0m \u001b[0mi\u001b[0m \u001b[0;32min\u001b[0m \u001b[0mrange\u001b[0m\u001b[0;34m(\u001b[0m\u001b[0mlen\u001b[0m\u001b[0;34m(\u001b[0m\u001b[0msrc\u001b[0m\u001b[0;34m)\u001b[0m\u001b[0;34m)\u001b[0m\u001b[0;34m:\u001b[0m\u001b[0;34m\u001b[0m\u001b[0;34m\u001b[0m\u001b[0m\n\u001b[1;32m     19\u001b[0m     \u001b[0;32mfor\u001b[0m \u001b[0mj\u001b[0m \u001b[0;32min\u001b[0m \u001b[0mrange\u001b[0m\u001b[0;34m(\u001b[0m\u001b[0mlen\u001b[0m\u001b[0;34m(\u001b[0m\u001b[0mdst\u001b[0m\u001b[0;34m)\u001b[0m\u001b[0;34m)\u001b[0m\u001b[0;34m:\u001b[0m\u001b[0;34m\u001b[0m\u001b[0;34m\u001b[0m\u001b[0m\n\u001b[0;32m---> 20\u001b[0;31m         \u001b[0mimg_idx\u001b[0m\u001b[0;34m[\u001b[0m\u001b[0;36m0\u001b[0m\u001b[0;34m]\u001b[0m \u001b[0;34m=\u001b[0m \u001b[0msrc\u001b[0m\u001b[0;34m[\u001b[0m\u001b[0mi\u001b[0m\u001b[0;34m]\u001b[0m\u001b[0;34m\u001b[0m\u001b[0;34m\u001b[0m\u001b[0m\n\u001b[0m\u001b[1;32m     21\u001b[0m         \u001b[0mimg_idx\u001b[0m\u001b[0;34m[\u001b[0m\u001b[0;36m1\u001b[0m\u001b[0;34m]\u001b[0m \u001b[0;34m=\u001b[0m \u001b[0mdst\u001b[0m\u001b[0;34m[\u001b[0m\u001b[0mj\u001b[0m\u001b[0;34m]\u001b[0m\u001b[0;34m\u001b[0m\u001b[0;34m\u001b[0m\u001b[0m\n\u001b[1;32m     22\u001b[0m         \u001b[0mout_json\u001b[0m\u001b[0;34m[\u001b[0m\u001b[0;34m'pair'\u001b[0m\u001b[0;34m]\u001b[0m\u001b[0;34m[\u001b[0m\u001b[0;34mf'pair{i+1}'\u001b[0m\u001b[0;34m]\u001b[0m \u001b[0;34m=\u001b[0m \u001b[0;34m{\u001b[0m\u001b[0;34m'src'\u001b[0m\u001b[0;34m:\u001b[0m\u001b[0mimg_idx\u001b[0m\u001b[0;34m[\u001b[0m\u001b[0;36m0\u001b[0m\u001b[0;34m]\u001b[0m\u001b[0;34m,\u001b[0m \u001b[0;34m'dst'\u001b[0m\u001b[0;34m:\u001b[0m\u001b[0mimg_idx\u001b[0m\u001b[0;34m[\u001b[0m\u001b[0;36m1\u001b[0m\u001b[0;34m]\u001b[0m\u001b[0;34m}\u001b[0m\u001b[0;34m\u001b[0m\u001b[0;34m\u001b[0m\u001b[0m\n",
      "\u001b[0;31mNameError\u001b[0m: name 'img_idx' is not defined"
     ]
    }
   ],
   "source": [
    "import json\n",
    "import numpy as np\n",
    "import pytorch_lightning as pl\n",
    "\n",
    "with open('./top25_shadow.json') as f:\n",
    "    dat = json.load(f)\n",
    "\n",
    "pl.utilities.seed.seed_everything(47)\n",
    "dup_list = []\n",
    "out_json_vis = {'pair':{}}\n",
    "out_json = {'pair':{}}\n",
    "ext = '.png'\n",
    "\n",
    "out_name = 'teaser_ffhq'\n",
    "src = ['cr7_1.png', 'cr7_2.png', 'cr7_3.png', 'cr7_4.png', 'dante_1.png', 'dante_2.png', 'fj_1.png', 'fj_2.png', 'fj_3.png', 'js_1.png', 'lib_1.png', 'lib_2.png', 'ml_1.png', \n",
    "       'sg_1.png', 'sg_2.png', 'sg_3.png', 'sg_4.png', 'sg_5.png', 'sg_6.png', 'sg_7.png', 'sg_8.png', 'sj_1.png', 'th_1.png', 'th_2.png', 'th_3.png', 'ws_1.png', ]\n",
    "dst = ['60065.png', '60084.png', '60182.png', 'lib_1.png', '67008.png', '66376.png', '63252.png']\n",
    "for i in range(len(src)):\n",
    "    for j in range(len(dst)):\n",
    "        img_idx = [src[i], dst[j]]\n",
    "        out_json['pair'][f'pair{i+1}'] = {'src':img_idx[0], 'dst':img_idx[1]}\n",
    "        out_json_vis['pair'][f'pair{i+1}'] = {'src':img_idx[0].replace('.jpg', '.png'), 'dst':img_idx[1].replace('.jpg', '.png')}\n",
    "    \n",
    "with open(f'/home/mint/guided-diffusion/sample_scripts/paper_script/sample_json/itw/all_famous_ppl.json', 'w') as fp:\n",
    "    json.dump(out_json_vis, fp, indent=4)\n",
    "\n",
    "with open(f'/home/mint/guided-diffusion/sample_scripts/paper_script/sample_json/itw/all_famous_ppl.json', 'w') as fp:\n",
    "    json.dump(out_json, fp, indent=4)\n",
    "    "
   ]
  }
 ],
 "metadata": {
  "kernelspec": {
   "display_name": "Python 3.8.12 ('dpm_sampling_deca')",
   "language": "python",
   "name": "python3"
  },
  "language_info": {
   "codemirror_mode": {
    "name": "ipython",
    "version": 3
   },
   "file_extension": ".py",
   "mimetype": "text/x-python",
   "name": "python",
   "nbconvert_exporter": "python",
   "pygments_lexer": "ipython3",
   "version": "3.8.12"
  },
  "orig_nbformat": 4,
  "vscode": {
   "interpreter": {
    "hash": "e726457752a9f31dd08e885b4d7ad782b9d2db89819f0ec82c996add1b497d76"
   }
  }
 },
 "nbformat": 4,
 "nbformat_minor": 2
}
