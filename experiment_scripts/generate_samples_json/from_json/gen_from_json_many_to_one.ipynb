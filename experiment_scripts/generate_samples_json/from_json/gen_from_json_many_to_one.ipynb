{
 "cells": [
  {
   "cell_type": "code",
   "execution_count": 2,
   "metadata": {},
   "outputs": [
    {
     "name": "stderr",
     "output_type": "stream",
     "text": [
      "Global seed set to 47\n"
     ]
    },
    {
     "name": "stdout",
     "output_type": "stream",
     "text": [
      "2500\n"
     ]
    }
   ],
   "source": [
    "import json\n",
    "import numpy as np\n",
    "import pytorch_lightning as pl\n",
    "\n",
    "with open('./top25_shadow.json') as f:\n",
    "    dat = json.load(f)\n",
    "\n",
    "pl.utilities.seed.seed_everything(47)\n",
    "out_json_vis = {'pair':{}}\n",
    "out_json = {'pair':{}}\n",
    "ext = '.png'\n",
    "sj = '60000'\n",
    "print(len(dat['list']))\n",
    "for i in range(2500):\n",
    "    src = dat['list'][i]\n",
    "    dst = '60000.jpg'\n",
    "    out_json['pair'][f'pair{i+1}'] = {'src':src, 'dst':dst}\n",
    "    out_json_vis['pair'][f'pair{i+1}'] = {'src':src.replace('.jpg', '.png'), 'dst':dst.replace('.jpg', '.png')}\n",
    "    \n",
    "# with open(f'/home/mint/guided-diffusion/sample_scripts/paper_script/sample_json/photometric/top25_mani_shadow_forvis.json', 'w') as fp:\n",
    "#     json.dump(out_json_vis, fp, indent=4)\n",
    "\n",
    "# with open(f'/home/mint/guided-diffusion/sample_scripts/paper_script/sample_json/photometric/top25_mani_shadow.json', 'w') as fp:\n",
    "with open(f'/home/mint/guided-diffusion/sample_scripts/paper_script/sample_json/teason/top25_shadow_for_rotate.json', 'w') as fp:\n",
    "    json.dump(out_json, fp, indent=4)\n",
    "    "
   ]
  }
 ],
 "metadata": {
  "kernelspec": {
   "display_name": "Python 3.8.12 ('dpm_sampling_deca')",
   "language": "python",
   "name": "python3"
  },
  "language_info": {
   "codemirror_mode": {
    "name": "ipython",
    "version": 3
   },
   "file_extension": ".py",
   "mimetype": "text/x-python",
   "name": "python",
   "nbconvert_exporter": "python",
   "pygments_lexer": "ipython3",
   "version": "3.8.12"
  },
  "orig_nbformat": 4,
  "vscode": {
   "interpreter": {
    "hash": "e726457752a9f31dd08e885b4d7ad782b9d2db89819f0ec82c996add1b497d76"
   }
  }
 },
 "nbformat": 4,
 "nbformat_minor": 2
}
