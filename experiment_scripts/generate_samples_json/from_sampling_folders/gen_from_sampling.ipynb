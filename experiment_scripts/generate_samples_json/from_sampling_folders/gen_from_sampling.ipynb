{
 "cells": [
  {
   "cell_type": "code",
   "execution_count": 5,
   "metadata": {},
   "outputs": [],
   "source": [
    "import numpy as np\n",
    "import glob\n",
    "import os, json\n",
    "\n",
    "path = '/data/mint/sampling/infinite/log=Masked_Face_woclip+BgNoHead+shadow_256_cfg=Masked_Face_woclip+BgNoHead+shadow_256.yaml/ema_085000/valid/render_face/reverse_sampling/'\n",
    "\n",
    "pairs = glob.glob(f'{path}/*/*', recursive=True)\n",
    "gen_pairs = {\"pair\":{}}\n",
    "for idx, p in enumerate(pairs):\n",
    "    src = p.split('/')[-2]\n",
    "    src_name = src.split('=')[-1]\n",
    "    dst = p.split('/')[-1]\n",
    "    dst_name = dst.split('=')[-1]\n",
    "    gen_pairs[\"pair\"][f\"pair{idx+1}\"] = {\"src\":src_name, \"dst\":dst_name}\n",
    "    \n",
    "with open(f'gen_pair_TR_testset2.json', 'w') as fp:\n",
    "    json.dump(gen_pairs, fp, indent=4)"
   ]
  }
 ],
 "metadata": {
  "kernelspec": {
   "display_name": "dpm_sampling_deca",
   "language": "python",
   "name": "python3"
  },
  "language_info": {
   "codemirror_mode": {
    "name": "ipython",
    "version": 3
   },
   "file_extension": ".py",
   "mimetype": "text/x-python",
   "name": "python",
   "nbconvert_exporter": "python",
   "pygments_lexer": "ipython3",
   "version": "3.8.12"
  },
  "orig_nbformat": 4
 },
 "nbformat": 4,
 "nbformat_minor": 2
}
