{
 "cells": [
  {
   "cell_type": "code",
   "execution_count": 1,
   "metadata": {},
   "outputs": [],
   "source": [
    "import torch as th\n",
    "import numpy as np\n",
    "import pickle\n",
    "import torchvision\n",
    "import matplotlib.pyplot as plt\n",
    "import torchvision.transforms.functional as F\n",
    "import numpy as np\n",
    "from pytorch_lightning import seed_everything\n",
    "import torch as th\n",
    "import os\n",
    "import sys\n",
    "import glob\n",
    "sys.path.insert(0, '../../sample_scripts/')\n",
    "\n",
    "from sample_scripts.sample_utils.inference_utils import to_tensor\n",
    "from sample_scripts.sample_utils.vis_utils import plot_image\n",
    "from sample_scripts.sample_utils import (\n",
    "    ckpt_utils, \n",
    "    file_utils,\n",
    "    params_utils,\n",
    ")\n",
    "from guided_diffusion.dataloader.img_deca_datasets import load_data_img_deca\n",
    "\n",
    "device = 'cuda:1'\n",
    "\n",
    "plt.rcParams[\"savefig.bbox\"] = 'tight'\n",
    "def show(imgs):\n",
    "    if not isinstance(imgs, list):\n",
    "        imgs = [imgs]\n",
    "    fig, axs = plt.subplots(ncols=len(imgs), squeeze=False)\n",
    "    for i, img in enumerate(imgs):\n",
    "        img = img.detach()\n",
    "        img = F.to_pil_image(img)\n",
    "        axs[0, i].imshow(np.asarray(img))\n",
    "        axs[0, i].set(xticklabels=[], yticklabels=[], xticks=[], yticks=[])\n",
    "        \n",
    "def get_cfg(self):\n",
    "    from config.base_config import parse_args\n",
    "    cfg_file_path = glob.glob(\"/home/mint/guided-diffusion/config/*/*\", recursive=True)\n",
    "    cfg_file_path = [cfg_path for cfg_path in cfg_file_path if f\"/{self.cfg_name}\" in cfg_path]    # Add /{}/ to achieve a case-sensitive of folder\n",
    "    print(\"[#] Config Path : \", cfg_file_path)\n",
    "    assert len(cfg_file_path) <= 1\n",
    "    assert len(cfg_file_path) > 0\n",
    "    cfg_file = cfg_file_path[0]\n",
    "    cfg = parse_args(ipynb={'mode':True, 'cfg':cfg_file})\n",
    "    return cfg"
   ]
  },
  {
   "cell_type": "code",
   "execution_count": 2,
   "metadata": {},
   "outputs": [
    {
     "name": "stdout",
     "output_type": "stream",
     "text": [
      "[#] Model Path :  ['/data/mint/model_logs_mount/v12/UNetCond_Spatial_Hadamart_Tanh_Shape/']\n",
      "[#] Config Path :  ['/home/mint/guided-diffusion/config/EncLight_Spatial_Rendered_Face_Hadamart_clip/UNetCond_Spatial_Hadamart_Tanh_Shape.yaml']\n",
      "Merging with :  Namespace(cfg='/home/mint/guided-diffusion/config/EncLight_Spatial_Rendered_Face_Hadamart_clip/UNetCond_Spatial_Hadamart_Tanh_Shape.yaml')\n",
      "\n"
     ]
    },
    {
     "name": "stderr",
     "output_type": "stream",
     "text": [
      "Loading deca params...: 100%|██████████| 9/9 [00:06<00:00,  1.33it/s]\n"
     ]
    },
    {
     "name": "stdout",
     "output_type": "stream",
     "text": [
      "[#] Parameters Conditioning\n",
      "Params keys order :  ['shape', 'pose', 'exp', 'cam', 'faceemb']\n",
      "Remove keys :  []\n"
     ]
    }
   ],
   "source": [
    "ckpt_loader = ckpt_utils.CkptLoader(log_dir=\"UNetCond_Spatial_Hadamart_Tanh_Shape\", cfg_name=\"UNetCond_Spatial_Hadamart_Tanh_Shape.yaml\")\n",
    "cfg = ckpt_loader.cfg\n",
    "cfg.img_cond_model.in_image = cfg.img_cond_model.in_image + ['faceseg_bg_noface&nohair']\n",
    "cfg.img_cond_model.prep_image = [None, None]\n",
    "# Load dataset\n",
    "img_dataset_path = f\"/data/mint/DPM_Dataset/ffhq_256_with_anno/ffhq_256/\"\n",
    "deca_dataset_path = f\"/data/mint/DPM_Dataset/ffhq_256_with_anno/params/\"\n",
    "\n",
    "loader, dataset, _ = load_data_img_deca(\n",
    "    data_dir=img_dataset_path,\n",
    "    deca_dir=deca_dataset_path,\n",
    "    batch_size=int(1e7),\n",
    "    image_size=cfg.img_model.image_size,\n",
    "    deterministic=cfg.train.deterministic,\n",
    "    augment_mode=cfg.img_model.augment_mode,\n",
    "    resize_mode=cfg.img_model.resize_mode,\n",
    "    in_image_UNet=cfg.img_model.in_image,\n",
    "    params_selector=cfg.param_model.params_selector + ['albedo'],\n",
    "    rmv_params=cfg.param_model.rmv_params,\n",
    "    set_='valid',\n",
    "    cfg=cfg,\n",
    ")\n",
    "\n",
    "# _, _, avg_dict = load_data_img_deca(\n",
    "#     data_dir=img_dataset_path,\n",
    "#     deca_dir=deca_dataset_path,\n",
    "#     batch_size=int(1e7),\n",
    "#     image_size=cfg.img_model.image_size,\n",
    "#     deterministic=cfg.train.deterministic,\n",
    "#     augment_mode=cfg.img_model.augment_mode,\n",
    "#     resize_mode=cfg.img_model.resize_mode,\n",
    "#     in_image_UNet=cfg.img_model.in_image,\n",
    "#     params_selector=cfg.param_model.params_selector + ['albedo'],\n",
    "#     rmv_params=cfg.param_model.rmv_params,\n",
    "#     set_='train',\n",
    "#     cfg=cfg,\n",
    "# )\n",
    "\n",
    "img_path = file_utils._list_image_files_recursively(f\"{img_dataset_path}/valid/\")\n",
    "img_idx = file_utils.search_index_from_listpath(list_path=img_path, search=['60065.jpg', '60182.jpg'])\n",
    "dat = th.utils.data.Subset(dataset, indices=img_idx)\n",
    "subset_loader = th.utils.data.DataLoader(dat, batch_size=2,\n",
    "                                    shuffle=False, num_workers=24)\n",
    "                            \n",
    "dat, model_kwargs = next(iter(subset_loader))"
   ]
  },
  {
   "cell_type": "code",
   "execution_count": 7,
   "metadata": {},
   "outputs": [
    {
     "name": "stdout",
     "output_type": "stream",
     "text": [
      "creating the FLAME Decoder\n"
     ]
    },
    {
     "name": "stderr",
     "output_type": "stream",
     "text": [
      "/home/mint/miniconda3/envs/3dr_sampling_deca/lib/python3.8/site-packages/pytorch3d/io/obj_io.py:457: UserWarning: Mtl file does not exist: /home/mint/guided-diffusion/model_3d/FLAME/data/template.mtl\n",
      "  warnings.warn(f\"Mtl file does not exist: {f}\")\n"
     ]
    },
    {
     "data": {
      "image/png": "[encoded data removed]",
      "text/plain": [
       "<Figure size 432x288 with 1 Axes>"
      ]
     },
     "metadata": {},
     "output_type": "display_data"
    }
   ],
   "source": [
    "from importlib import reload\n",
    "def params_to_model(shape, exp, pose, cam, lights, mask):\n",
    "    \n",
    "    from model_3d.FLAME.config import cfg as flame_cfg\n",
    "    import model_3d.FLAME.FLAME as FLAME\n",
    "    import model_3d.FLAME.utils.renderer as renderer_lib\n",
    "    import model_3d.FLAME.utils.util as util\n",
    "    reload(renderer_lib)\n",
    "    reload(FLAME)\n",
    "\n",
    "    flame = FLAME.FLAME(flame_cfg.model).cuda()\n",
    "    verts, landmarks2d, landmarks3d = flame(shape_params=shape, \n",
    "            expression_params=exp, \n",
    "            pose_params=pose)\n",
    "    renderer = renderer_lib.SRenderY(image_size=256, obj_filename=flame_cfg.model.topology_path, uv_size=flame_cfg.model.uv_size).cuda()\n",
    "\n",
    "    ## projection\n",
    "    landmarks2d = util.batch_orth_proj(landmarks2d, cam)[:,:,:2]; landmarks2d[:,:,1:] = -landmarks2d[:,:,1:]#; landmarks2d = landmarks2d*self.image_size/2 + self.image_size/2\n",
    "    landmarks3d = util.batch_orth_proj(landmarks3d, cam); landmarks3d[:,:,1:] = -landmarks3d[:,:,1:] #; landmarks3d = landmarks3d*self.image_size/2 + self.image_size/2\n",
    "    trans_verts = util.batch_orth_proj(verts, cam); trans_verts[:,:,1:] = -trans_verts[:,:,1:]\n",
    "\n",
    "    ## rendering\n",
    "    shape_images = renderer.render_shape(verts, trans_verts, lights=lights, mask=mask)\n",
    "\n",
    "    # opdict = {'verts' : verts,}\n",
    "    # os.makedirs('./rendered_obj', exist_ok=True)\n",
    "    # save_obj(renderer=renderer, filename=(f'./rendered_obj/{i}.obj'), opdict=opdict)\n",
    "    shape_images = shape_images.mul(255).add_(0.5).clamp_(0, 255)\n",
    "    return {\"shape_images\":shape_images, \"landmarks2d\":landmarks2d, \"landmarks3d\":landmarks3d}\n",
    "\n",
    "f_mask = np.load('./FLAME_masks_face-id.pkl', allow_pickle=True, encoding='latin1')\n",
    "v_mask = np.load('./FLAME_masks.pkl', allow_pickle=True, encoding='latin1')\n",
    "\n",
    "out = params_to_model(shape=model_kwargs['shape'].cuda().to(th.float32), \n",
    "                exp=model_kwargs['exp'].cuda().to(th.float32), \n",
    "                pose=model_kwargs['pose'].cuda().to(th.float32), \n",
    "                cam=model_kwargs['cam'].cuda().to(th.float32),\n",
    "                lights=model_kwargs['light'].reshape(-1, 9, 3).cuda().to(th.float32),\n",
    "                mask={\n",
    "                    'v_mask':v_mask['face'].tolist(),\n",
    "                    'f_mask':f_mask['face'].tolist()\n",
    "                }        \n",
    ")\n",
    "show(torchvision.utils.make_grid(out['shape_images'].cpu())/255)"
   ]
  },
  {
   "cell_type": "code",
   "execution_count": 4,
   "metadata": {},
   "outputs": [
    {
     "name": "stdout",
     "output_type": "stream",
     "text": [
      "creating the FLAME Decoder\n"
     ]
    },
    {
     "name": "stderr",
     "output_type": "stream",
     "text": [
      "/home/mint/miniconda3/envs/3dr_sampling_deca/lib/python3.8/site-packages/pytorch3d/io/obj_io.py:457: UserWarning: Mtl file does not exist: /home/mint/guided-diffusion/model_3d/FLAME/data/template.mtl\n",
      "  warnings.warn(f\"Mtl file does not exist: {f}\")\n"
     ]
    },
    {
     "name": "stdout",
     "output_type": "stream",
     "text": [
      "torch.Size([1, 9976, 3])\n",
      "torch.Size([1, 9976, 3, 3])\n",
      "eye_region - (751,)\n",
      "neck - (253,)\n",
      "left_eyeball - (546,)\n",
      "right_eyeball - (546,)\n",
      "right_ear - (588,)\n",
      "right_eye_region - (287,)\n",
      "forehead - (133,)\n",
      "lips - (254,)\n",
      "nose - (379,)\n",
      "scalp - (489,)\n",
      "boundary - (114,)\n",
      "face - (1787,)\n",
      "left_ear - (588,)\n",
      "left_eye_region - (287,)\n",
      "torch.Size([1, 9976, 3])\n",
      "<class 'numpy.int64'>\n",
      "##################################################\n",
      "[#] Create indexing masked of faces...\n",
      "Processing :  eye_region\n"
     ]
    },
    {
     "name": "stderr",
     "output_type": "stream",
     "text": [
      "100%|██████████| 751/751 [06:31<00:00,  1.92it/s]\n"
     ]
    },
    {
     "name": "stdout",
     "output_type": "stream",
     "text": [
      "Processing :  neck\n"
     ]
    },
    {
     "name": "stderr",
     "output_type": "stream",
     "text": [
      "100%|██████████| 253/253 [02:10<00:00,  1.94it/s]\n"
     ]
    },
    {
     "name": "stdout",
     "output_type": "stream",
     "text": [
      "Processing :  left_eyeball\n"
     ]
    },
    {
     "name": "stderr",
     "output_type": "stream",
     "text": [
      "100%|██████████| 546/546 [04:38<00:00,  1.96it/s]\n"
     ]
    },
    {
     "name": "stdout",
     "output_type": "stream",
     "text": [
      "Processing :  right_eyeball\n"
     ]
    },
    {
     "name": "stderr",
     "output_type": "stream",
     "text": [
      "100%|██████████| 546/546 [04:43<00:00,  1.92it/s]\n"
     ]
    },
    {
     "name": "stdout",
     "output_type": "stream",
     "text": [
      "Processing :  right_ear\n"
     ]
    },
    {
     "name": "stderr",
     "output_type": "stream",
     "text": [
      "100%|██████████| 588/588 [05:02<00:00,  1.94it/s]\n"
     ]
    },
    {
     "name": "stdout",
     "output_type": "stream",
     "text": [
      "Processing :  right_eye_region\n"
     ]
    },
    {
     "name": "stderr",
     "output_type": "stream",
     "text": [
      "100%|██████████| 287/287 [02:26<00:00,  1.96it/s]\n"
     ]
    },
    {
     "name": "stdout",
     "output_type": "stream",
     "text": [
      "Processing :  forehead\n"
     ]
    },
    {
     "name": "stderr",
     "output_type": "stream",
     "text": [
      "100%|██████████| 133/133 [01:07<00:00,  1.97it/s]\n"
     ]
    },
    {
     "name": "stdout",
     "output_type": "stream",
     "text": [
      "Processing :  lips\n"
     ]
    },
    {
     "name": "stderr",
     "output_type": "stream",
     "text": [
      "100%|██████████| 254/254 [02:09<00:00,  1.96it/s]\n"
     ]
    },
    {
     "name": "stdout",
     "output_type": "stream",
     "text": [
      "Processing :  nose\n"
     ]
    },
    {
     "name": "stderr",
     "output_type": "stream",
     "text": [
      "100%|██████████| 379/379 [03:18<00:00,  1.91it/s]\n"
     ]
    },
    {
     "name": "stdout",
     "output_type": "stream",
     "text": [
      "Processing :  scalp\n"
     ]
    },
    {
     "name": "stderr",
     "output_type": "stream",
     "text": [
      "100%|██████████| 489/489 [04:09<00:00,  1.96it/s]\n"
     ]
    },
    {
     "name": "stdout",
     "output_type": "stream",
     "text": [
      "Processing :  boundary\n"
     ]
    },
    {
     "name": "stderr",
     "output_type": "stream",
     "text": [
      "100%|██████████| 114/114 [00:59<00:00,  1.92it/s]\n"
     ]
    },
    {
     "name": "stdout",
     "output_type": "stream",
     "text": [
      "Processing :  face\n"
     ]
    },
    {
     "name": "stderr",
     "output_type": "stream",
     "text": [
      "100%|██████████| 1787/1787 [17:03<00:00,  1.75it/s] \n"
     ]
    },
    {
     "name": "stdout",
     "output_type": "stream",
     "text": [
      "Processing :  left_ear\n"
     ]
    },
    {
     "name": "stderr",
     "output_type": "stream",
     "text": [
      "100%|██████████| 588/588 [05:03<00:00,  1.93it/s]\n"
     ]
    },
    {
     "name": "stdout",
     "output_type": "stream",
     "text": [
      "Processing :  left_eye_region\n"
     ]
    },
    {
     "name": "stderr",
     "output_type": "stream",
     "text": [
      "100%|██████████| 287/287 [02:32<00:00,  1.88it/s]\n"
     ]
    }
   ],
   "source": [
    "from model_3d.FLAME.config import cfg as flame_cfg\n",
    "import model_3d.FLAME.FLAME as FLAME\n",
    "import model_3d.FLAME.utils.renderer as renderer_lib\n",
    "import model_3d.FLAME.utils.util as util\n",
    "from importlib import reload\n",
    "import numpy as np\n",
    "reload(renderer_lib)\n",
    "reload(FLAME)\n",
    "\n",
    "flame = FLAME.FLAME(flame_cfg.model).cuda()\n",
    "renderer = renderer_lib.SRenderY(image_size=256, obj_filename=flame_cfg.model.topology_path, uv_size=flame_cfg.model.uv_size).cuda()\n",
    "print(renderer.faces.shape)\n",
    "print(renderer.face_colors.shape)\n",
    "\n",
    "\n",
    "def index_masking_faces(mask, faces):\n",
    "    print(\"[#] Create indexing masked of faces...\")\n",
    "    import tqdm, pickle\n",
    "    rm_faces = {}\n",
    "    for k in mask.keys():\n",
    "        rm_faces[k] = []\n",
    "        print(\"Processing : \", k)\n",
    "        for m in tqdm.tqdm(mask[k].tolist()):\n",
    "            for i, f in enumerate(faces[0]):\n",
    "                if m in f:\n",
    "                    rm_faces[k].append(i)\n",
    "        rm_faces[k] = np.array(rm_faces[k])\n",
    "    \n",
    "    with open('FLAME_masks_face-id.pkl', 'wb') as output:\n",
    "        pickle.dump(rm_faces, output)\n",
    "\n",
    "mask = np.load('./FLAME_masks.pkl', allow_pickle=True, encoding='latin1')\n",
    "count = 0\n",
    "mask_list = []\n",
    "for k, v in mask.items():\n",
    "    count += len(v)\n",
    "    print(f\"{k} - {v.shape}\")\n",
    "    mask_list.append(v)\n",
    "mask_list = np.concatenate(mask_list, -1)\n",
    "\n",
    "print(renderer.faces.shape)\n",
    "print(type(mask['face'][0]))\n",
    "print(\"#\"*50)\n",
    "index_masking_faces(mask, renderer.faces)"
   ]
  }
 ],
 "metadata": {
  "kernelspec": {
   "display_name": "Python 3.8.12 ('3dr_sampling_deca')",
   "language": "python",
   "name": "python3"
  },
  "language_info": {
   "codemirror_mode": {
    "name": "ipython",
    "version": 3
   },
   "file_extension": ".py",
   "mimetype": "text/x-python",
   "name": "python",
   "nbconvert_exporter": "python",
   "pygments_lexer": "ipython3",
   "version": "3.8.12"
  },
  "orig_nbformat": 4,
  "vscode": {
   "interpreter": {
    "hash": "26e0653f07e2e56b7224425fe2a01c8e1786a80966b064d6caee4370e24786e9"
   }
  }
 },
 "nbformat": 4,
 "nbformat_minor": 2
}
