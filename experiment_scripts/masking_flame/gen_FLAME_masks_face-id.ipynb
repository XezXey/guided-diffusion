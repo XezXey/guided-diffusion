{
 "cells": [
  {
   "cell_type": "code",
   "execution_count": 1,
   "metadata": {},
   "outputs": [
    {
     "name": "stdout",
     "output_type": "stream",
     "text": [
      "creating the FLAME Decoder\n"
     ]
    },
    {
     "name": "stderr",
     "output_type": "stream",
     "text": [
      "/home/mint/miniconda3/envs/dpm_sampling_deca/lib/python3.8/site-packages/pytorch3d/io/obj_io.py:457: UserWarning: Mtl file does not exist: /home/mint/Dev/DiFaReli/difareli-faster/model_3d/FLAME/data/template.mtl\n",
      "  warnings.warn(f\"Mtl file does not exist: {f}\")\n"
     ]
    },
    {
     "name": "stdout",
     "output_type": "stream",
     "text": [
      "torch.Size([1, 9976, 3])\n",
      "torch.Size([1, 9976, 3, 3])\n",
      "eye_region - (751,)\n",
      "neck - (253,)\n",
      "left_eyeball - (546,)\n",
      "right_eyeball - (546,)\n",
      "right_ear - (588,)\n",
      "right_eye_region - (287,)\n",
      "forehead - (133,)\n",
      "lips - (254,)\n",
      "nose - (379,)\n",
      "scalp - (489,)\n",
      "boundary - (114,)\n",
      "face - (1787,)\n",
      "left_ear - (588,)\n",
      "left_eye_region - (287,)\n",
      "torch.Size([1, 9976, 3])\n",
      "<class 'numpy.int64'>\n",
      "##################################################\n",
      "[#] Create indexing masked of faces...\n",
      "Processing :  eye_region\n"
     ]
    },
    {
     "name": "stderr",
     "output_type": "stream",
     "text": [
      "100%|██████████| 751/751 [06:00<00:00,  2.08it/s]\n"
     ]
    },
    {
     "name": "stdout",
     "output_type": "stream",
     "text": [
      "Processing :  neck\n"
     ]
    },
    {
     "name": "stderr",
     "output_type": "stream",
     "text": [
      "100%|██████████| 253/253 [02:02<00:00,  2.07it/s]\n"
     ]
    },
    {
     "name": "stdout",
     "output_type": "stream",
     "text": [
      "Processing :  left_eyeball\n"
     ]
    },
    {
     "name": "stderr",
     "output_type": "stream",
     "text": [
      "100%|██████████| 546/546 [04:24<00:00,  2.06it/s]\n"
     ]
    },
    {
     "name": "stdout",
     "output_type": "stream",
     "text": [
      "Processing :  right_eyeball\n"
     ]
    },
    {
     "name": "stderr",
     "output_type": "stream",
     "text": [
      "100%|██████████| 546/546 [04:22<00:00,  2.08it/s]\n"
     ]
    },
    {
     "name": "stdout",
     "output_type": "stream",
     "text": [
      "Processing :  right_ear\n"
     ]
    },
    {
     "name": "stderr",
     "output_type": "stream",
     "text": [
      "100%|██████████| 588/588 [04:45<00:00,  2.06it/s]\n"
     ]
    },
    {
     "name": "stdout",
     "output_type": "stream",
     "text": [
      "Processing :  right_eye_region\n"
     ]
    },
    {
     "name": "stderr",
     "output_type": "stream",
     "text": [
      "100%|██████████| 287/287 [02:18<00:00,  2.08it/s]\n"
     ]
    },
    {
     "name": "stdout",
     "output_type": "stream",
     "text": [
      "Processing :  forehead\n"
     ]
    },
    {
     "name": "stderr",
     "output_type": "stream",
     "text": [
      "100%|██████████| 133/133 [01:04<00:00,  2.06it/s]\n"
     ]
    },
    {
     "name": "stdout",
     "output_type": "stream",
     "text": [
      "Processing :  lips\n"
     ]
    },
    {
     "name": "stderr",
     "output_type": "stream",
     "text": [
      "100%|██████████| 254/254 [02:03<00:00,  2.06it/s]\n"
     ]
    },
    {
     "name": "stdout",
     "output_type": "stream",
     "text": [
      "Processing :  nose\n"
     ]
    },
    {
     "name": "stderr",
     "output_type": "stream",
     "text": [
      "100%|██████████| 379/379 [03:03<00:00,  2.07it/s]\n"
     ]
    },
    {
     "name": "stdout",
     "output_type": "stream",
     "text": [
      "Processing :  scalp\n"
     ]
    },
    {
     "name": "stderr",
     "output_type": "stream",
     "text": [
      "100%|██████████| 489/489 [03:55<00:00,  2.07it/s]\n"
     ]
    },
    {
     "name": "stdout",
     "output_type": "stream",
     "text": [
      "Processing :  boundary\n"
     ]
    },
    {
     "name": "stderr",
     "output_type": "stream",
     "text": [
      "100%|██████████| 114/114 [00:54<00:00,  2.08it/s]\n"
     ]
    },
    {
     "name": "stdout",
     "output_type": "stream",
     "text": [
      "Processing :  face\n"
     ]
    },
    {
     "name": "stderr",
     "output_type": "stream",
     "text": [
      "100%|██████████| 1787/1787 [14:26<00:00,  2.06it/s]\n"
     ]
    },
    {
     "name": "stdout",
     "output_type": "stream",
     "text": [
      "Processing :  left_ear\n"
     ]
    },
    {
     "name": "stderr",
     "output_type": "stream",
     "text": [
      "100%|██████████| 588/588 [04:42<00:00,  2.08it/s]\n"
     ]
    },
    {
     "name": "stdout",
     "output_type": "stream",
     "text": [
      "Processing :  left_eye_region\n"
     ]
    },
    {
     "name": "stderr",
     "output_type": "stream",
     "text": [
      "100%|██████████| 287/287 [02:17<00:00,  2.08it/s]\n"
     ]
    }
   ],
   "source": [
    "from model_3d.FLAME.config import cfg as flame_cfg\n",
    "import model_3d.FLAME.FLAME as FLAME\n",
    "import model_3d.FLAME.utils.renderer as renderer_lib\n",
    "import model_3d.FLAME.utils.util as util\n",
    "from importlib import reload\n",
    "import numpy as np\n",
    "reload(renderer_lib)\n",
    "reload(FLAME)\n",
    "\n",
    "flame = FLAME.FLAME(flame_cfg.model).cuda()\n",
    "renderer = renderer_lib.SRenderY(image_size=256, obj_filename=flame_cfg.model.topology_path, uv_size=flame_cfg.model.uv_size).cuda()\n",
    "print(renderer.faces.shape)\n",
    "print(renderer.face_colors.shape)\n",
    "\n",
    "\n",
    "def index_masking_faces(mask, faces):\n",
    "    print(\"[#] Create indexing masked of faces...\")\n",
    "    import tqdm, pickle\n",
    "    rm_faces = {}\n",
    "    for k in mask.keys():\n",
    "        rm_faces[k] = []\n",
    "        print(\"Processing : \", k)\n",
    "        for m in tqdm.tqdm(mask[k].tolist()):\n",
    "            for i, f in enumerate(faces[0]):\n",
    "                if m in f:\n",
    "                    rm_faces[k].append(i)\n",
    "        rm_faces[k] = np.array(rm_faces[k])\n",
    "    \n",
    "    with open('FLAME_masks_face-id_tmp.pkl', 'wb') as output:\n",
    "        pickle.dump(rm_faces, output)\n",
    "\n",
    "mask = np.load('./FLAME_masks.pkl', allow_pickle=True, encoding='latin1')\n",
    "count = 0\n",
    "mask_list = []\n",
    "for k, v in mask.items():\n",
    "    count += len(v)\n",
    "    print(f\"{k} - {v.shape}\")\n",
    "    mask_list.append(v)\n",
    "mask_list = np.concatenate(mask_list, -1)\n",
    "\n",
    "print(renderer.faces.shape)\n",
    "print(type(mask['face'][0]))\n",
    "print(\"#\"*50)\n",
    "index_masking_faces(mask, renderer.faces)"
   ]
  }
 ],
 "metadata": {
  "kernelspec": {
   "display_name": "dpm_sampling_deca",
   "language": "python",
   "name": "python3"
  },
  "language_info": {
   "codemirror_mode": {
    "name": "ipython",
    "version": 3
   },
   "file_extension": ".py",
   "mimetype": "text/x-python",
   "name": "python",
   "nbconvert_exporter": "python",
   "pygments_lexer": "ipython3",
   "version": "3.8.12"
  }
 },
 "nbformat": 4,
 "nbformat_minor": 2
}
