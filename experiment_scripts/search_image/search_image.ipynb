{
 "cells": [
  {
   "cell_type": "code",
   "execution_count": 4,
   "metadata": {},
   "outputs": [
    {
     "name": "stderr",
     "output_type": "stream",
     "text": [
      "  0%|          | 0/10000 [00:00<?, ?it/s]"
     ]
    },
    {
     "name": "stderr",
     "output_type": "stream",
     "text": [
      "100%|██████████| 10000/10000 [00:12<00:00, 790.53it/s]\n"
     ]
    },
    {
     "name": "stdout",
     "output_type": "stream",
     "text": [
      "./difareli++_samples/1-1.png is most similar to /data/mint/DPM_Dataset/ffhq_256_with_anno/ffhq_256/valid/62369.jpg\n"
     ]
    },
    {
     "name": "stderr",
     "output_type": "stream",
     "text": [
      "100%|██████████| 10000/10000 [00:12<00:00, 792.06it/s]\n"
     ]
    },
    {
     "name": "stdout",
     "output_type": "stream",
     "text": [
      "./difareli++_samples/3-2.png is most similar to /data/mint/DPM_Dataset/ffhq_256_with_anno/ffhq_256/valid/67972.jpg\n"
     ]
    },
    {
     "name": "stderr",
     "output_type": "stream",
     "text": [
      "100%|██████████| 10000/10000 [00:12<00:00, 798.15it/s]\n"
     ]
    },
    {
     "name": "stdout",
     "output_type": "stream",
     "text": [
      "./difareli++_samples/9-1.png is most similar to /data/mint/DPM_Dataset/ffhq_256_with_anno/ffhq_256/valid/60704.jpg\n"
     ]
    },
    {
     "name": "stderr",
     "output_type": "stream",
     "text": [
      "100%|██████████| 10000/10000 [00:12<00:00, 796.85it/s]\n"
     ]
    },
    {
     "name": "stdout",
     "output_type": "stream",
     "text": [
      "./difareli++_samples/1-2.png is most similar to /data/mint/DPM_Dataset/ffhq_256_with_anno/ffhq_256/valid/60438.jpg\n"
     ]
    },
    {
     "name": "stderr",
     "output_type": "stream",
     "text": [
      "100%|██████████| 10000/10000 [00:12<00:00, 794.72it/s]\n"
     ]
    },
    {
     "name": "stdout",
     "output_type": "stream",
     "text": [
      "./difareli++_samples/2-1.png is most similar to /data/mint/DPM_Dataset/ffhq_256_with_anno/ffhq_256/valid/68105.jpg\n"
     ]
    },
    {
     "name": "stderr",
     "output_type": "stream",
     "text": [
      "100%|██████████| 10000/10000 [00:12<00:00, 793.97it/s]\n"
     ]
    },
    {
     "name": "stdout",
     "output_type": "stream",
     "text": [
      "./difareli++_samples/4-1.png is most similar to /data/mint/DPM_Dataset/ffhq_256_with_anno/ffhq_256/valid/62889.jpg\n"
     ]
    },
    {
     "name": "stderr",
     "output_type": "stream",
     "text": [
      "100%|██████████| 10000/10000 [00:12<00:00, 795.34it/s]\n"
     ]
    },
    {
     "name": "stdout",
     "output_type": "stream",
     "text": [
      "./difareli++_samples/8-1.png is most similar to /data/mint/DPM_Dataset/ffhq_256_with_anno/ffhq_256/valid/69128.jpg\n"
     ]
    },
    {
     "name": "stderr",
     "output_type": "stream",
     "text": [
      "100%|██████████| 10000/10000 [00:12<00:00, 792.40it/s]\n"
     ]
    },
    {
     "name": "stdout",
     "output_type": "stream",
     "text": [
      "./difareli++_samples/7-2.png is most similar to /data/mint/DPM_Dataset/ffhq_256_with_anno/ffhq_256/valid/62962.jpg\n"
     ]
    },
    {
     "name": "stderr",
     "output_type": "stream",
     "text": [
      "100%|██████████| 10000/10000 [00:12<00:00, 796.00it/s]\n"
     ]
    },
    {
     "name": "stdout",
     "output_type": "stream",
     "text": [
      "./difareli++_samples/11-1.png is most similar to /data/mint/DPM_Dataset/ffhq_256_with_anno/ffhq_256/valid/63023.jpg\n"
     ]
    },
    {
     "name": "stderr",
     "output_type": "stream",
     "text": [
      "100%|██████████| 10000/10000 [00:12<00:00, 791.82it/s]\n"
     ]
    },
    {
     "name": "stdout",
     "output_type": "stream",
     "text": [
      "./difareli++_samples/7-1.png is most similar to /data/mint/DPM_Dataset/ffhq_256_with_anno/ffhq_256/valid/67313.jpg\n"
     ]
    },
    {
     "name": "stderr",
     "output_type": "stream",
     "text": [
      "100%|██████████| 10000/10000 [00:12<00:00, 794.16it/s]\n"
     ]
    },
    {
     "name": "stdout",
     "output_type": "stream",
     "text": [
      "./difareli++_samples/4-2.png is most similar to /data/mint/DPM_Dataset/ffhq_256_with_anno/ffhq_256/valid/63966.jpg\n"
     ]
    },
    {
     "name": "stderr",
     "output_type": "stream",
     "text": [
      "100%|██████████| 10000/10000 [00:12<00:00, 794.47it/s]\n"
     ]
    },
    {
     "name": "stdout",
     "output_type": "stream",
     "text": [
      "./difareli++_samples/5-1.png is most similar to /data/mint/DPM_Dataset/ffhq_256_with_anno/ffhq_256/valid/68280.jpg\n"
     ]
    },
    {
     "name": "stderr",
     "output_type": "stream",
     "text": [
      "100%|██████████| 10000/10000 [00:12<00:00, 793.64it/s]\n"
     ]
    },
    {
     "name": "stdout",
     "output_type": "stream",
     "text": [
      "./difareli++_samples/10-2.png is most similar to /data/mint/DPM_Dataset/ffhq_256_with_anno/ffhq_256/valid/66994.jpg\n"
     ]
    },
    {
     "name": "stderr",
     "output_type": "stream",
     "text": [
      "100%|██████████| 10000/10000 [00:12<00:00, 792.31it/s]\n"
     ]
    },
    {
     "name": "stdout",
     "output_type": "stream",
     "text": [
      "./difareli++_samples/11-2.png is most similar to /data/mint/DPM_Dataset/ffhq_256_with_anno/ffhq_256/valid/60852.jpg\n"
     ]
    },
    {
     "name": "stderr",
     "output_type": "stream",
     "text": [
      "100%|██████████| 10000/10000 [00:12<00:00, 789.30it/s]\n"
     ]
    },
    {
     "name": "stdout",
     "output_type": "stream",
     "text": [
      "./difareli++_samples/12-1.png is most similar to /data/mint/DPM_Dataset/ffhq_256_with_anno/ffhq_256/valid/69878.jpg\n"
     ]
    },
    {
     "name": "stderr",
     "output_type": "stream",
     "text": [
      "100%|██████████| 10000/10000 [00:12<00:00, 790.00it/s]\n"
     ]
    },
    {
     "name": "stdout",
     "output_type": "stream",
     "text": [
      "./difareli++_samples/8-2.png is most similar to /data/mint/DPM_Dataset/ffhq_256_with_anno/ffhq_256/valid/65304.jpg\n"
     ]
    },
    {
     "name": "stderr",
     "output_type": "stream",
     "text": [
      "100%|██████████| 10000/10000 [00:12<00:00, 796.24it/s]\n"
     ]
    },
    {
     "name": "stdout",
     "output_type": "stream",
     "text": [
      "./difareli++_samples/2-2.png is most similar to /data/mint/DPM_Dataset/ffhq_256_with_anno/ffhq_256/valid/69191.jpg\n"
     ]
    },
    {
     "name": "stderr",
     "output_type": "stream",
     "text": [
      "100%|██████████| 10000/10000 [00:12<00:00, 789.79it/s]\n"
     ]
    },
    {
     "name": "stdout",
     "output_type": "stream",
     "text": [
      "./difareli++_samples/6-2.png is most similar to /data/mint/DPM_Dataset/ffhq_256_with_anno/ffhq_256/valid/63859.jpg\n"
     ]
    },
    {
     "name": "stderr",
     "output_type": "stream",
     "text": [
      "100%|██████████| 10000/10000 [00:12<00:00, 798.27it/s]\n"
     ]
    },
    {
     "name": "stdout",
     "output_type": "stream",
     "text": [
      "./difareli++_samples/9-2.png is most similar to /data/mint/DPM_Dataset/ffhq_256_with_anno/ffhq_256/valid/66496.jpg\n"
     ]
    },
    {
     "name": "stderr",
     "output_type": "stream",
     "text": [
      "100%|██████████| 10000/10000 [00:12<00:00, 791.93it/s]\n"
     ]
    },
    {
     "name": "stdout",
     "output_type": "stream",
     "text": [
      "./difareli++_samples/6-1.png is most similar to /data/mint/DPM_Dataset/ffhq_256_with_anno/ffhq_256/valid/65128.jpg\n"
     ]
    },
    {
     "name": "stderr",
     "output_type": "stream",
     "text": [
      "100%|██████████| 10000/10000 [00:12<00:00, 799.73it/s]\n"
     ]
    },
    {
     "name": "stdout",
     "output_type": "stream",
     "text": [
      "./difareli++_samples/5-2.png is most similar to /data/mint/DPM_Dataset/ffhq_256_with_anno/ffhq_256/valid/66149.jpg\n"
     ]
    },
    {
     "name": "stderr",
     "output_type": "stream",
     "text": [
      "100%|██████████| 10000/10000 [00:12<00:00, 799.76it/s]\n"
     ]
    },
    {
     "name": "stdout",
     "output_type": "stream",
     "text": [
      "./difareli++_samples/10-1.png is most similar to /data/mint/DPM_Dataset/ffhq_256_with_anno/ffhq_256/valid/62821.jpg\n"
     ]
    },
    {
     "name": "stderr",
     "output_type": "stream",
     "text": [
      "100%|██████████| 10000/10000 [00:12<00:00, 800.87it/s]\n"
     ]
    },
    {
     "name": "stdout",
     "output_type": "stream",
     "text": [
      "./difareli++_samples/3-1.png is most similar to /data/mint/DPM_Dataset/ffhq_256_with_anno/ffhq_256/valid/60018.jpg\n"
     ]
    },
    {
     "name": "stderr",
     "output_type": "stream",
     "text": [
      "100%|██████████| 10000/10000 [00:12<00:00, 797.60it/s]"
     ]
    },
    {
     "name": "stdout",
     "output_type": "stream",
     "text": [
      "./difareli++_samples/12-2.png is most similar to /data/mint/DPM_Dataset/ffhq_256_with_anno/ffhq_256/valid/60022.jpg\n"
     ]
    },
    {
     "name": "stderr",
     "output_type": "stream",
     "text": [
      "\n"
     ]
    }
   ],
   "source": [
    "from PIL import Image\n",
    "import numpy as np\n",
    "import glob, tqdm, os\n",
    "\n",
    "# Find image by score\n",
    "data_path = '/data/mint/DPM_Dataset/ffhq_256_with_anno/ffhq_256/valid/'\n",
    "\n",
    "ffhq_imgs = glob.glob(f'{data_path}/*.jpg')\n",
    "\n",
    "def cal_diff(img1, img2):\n",
    "    return np.mean((np.array(img1) - np.array(img2))**2)\n",
    "\n",
    "os.makedirs('./similar_ffhq_imgs', exist_ok=True)\n",
    "to_find_img = './difareli++_samples/*.png'\n",
    "sample_json = {}\n",
    "for tfi in glob.glob(to_find_img):\n",
    "    img_name = tfi.split('/')[-1].split('.')[0]\n",
    "    tf_img = Image.open(tfi).convert('RGB').resize((256, 256))\n",
    "    score = []\n",
    "    for img in tqdm.tqdm(ffhq_imgs):\n",
    "        img = Image.open(img)\n",
    "        score.append(cal_diff(tf_img, img))\n",
    "        \n",
    "    idx = np.argmin(score)\n",
    "    print(f'{tfi} is most similar to {ffhq_imgs[idx]}')\n",
    "    pair_idx = int(img_name.split('-')[0])\n",
    "    src_dst_idx = int(img_name.split('-')[1])\n",
    "    if f'pair{pair_idx-1}' not in sample_json:\n",
    "        sample_json[f'pair{pair_idx-1}'] = {}\n",
    "    sample_json[f'pair{pair_idx-1}'].update({'src': ffhq_imgs[idx]} if src_dst_idx == 1 else {'dst': ffhq_imgs[idx]})\n",
    "    os.system(f'cp {ffhq_imgs[idx]} ./similar_ffhq_imgs/')\n",
    "    \n",
    "    "
   ]
  },
  {
   "cell_type": "code",
   "execution_count": 7,
   "metadata": {},
   "outputs": [
    {
     "name": "stdout",
     "output_type": "stream",
     "text": [
      "{'pair': {'pair0': {'src': '62369.jpg', 'dst': '60438.jpg'}, 'pair2': {'dst': '67972.jpg', 'src': '60018.jpg'}, 'pair8': {'src': '60704.jpg', 'dst': '66496.jpg'}, 'pair1': {'src': '68105.jpg', 'dst': '69191.jpg'}, 'pair3': {'src': '62889.jpg', 'dst': '63966.jpg'}, 'pair7': {'src': '69128.jpg', 'dst': '65304.jpg'}, 'pair6': {'dst': '62962.jpg', 'src': '67313.jpg'}, 'pair10': {'src': '63023.jpg', 'dst': '60852.jpg'}, 'pair4': {'src': '68280.jpg', 'dst': '66149.jpg'}, 'pair9': {'dst': '66994.jpg', 'src': '62821.jpg'}, 'pair11': {'src': '69878.jpg', 'dst': '60022.jpg'}, 'pair5': {'dst': '63859.jpg', 'src': '65128.jpg'}}}\n"
     ]
    }
   ],
   "source": [
    "sample_json_out = sample_json\n",
    "for k, _ in sample_json_out.items():\n",
    "    sample_json_out[k]['src'] = sample_json_out[k]['src'].split('/')[-1]\n",
    "    sample_json_out[k]['dst'] = sample_json_out[k]['dst'].split('/')[-1]\n",
    "\n",
    "sample_json_out = {'pair': sample_json_out}\n",
    "print(sample_json_out)\n",
    "import json\n",
    "with open('./difareli++_samples.json', 'w') as f:\n",
    "    json.dump(sample_json_out, f, indent=4)"
   ]
  }
 ],
 "metadata": {
  "kernelspec": {
   "display_name": "dpm_sampling_deca",
   "language": "python",
   "name": "python3"
  },
  "language_info": {
   "codemirror_mode": {
    "name": "ipython",
    "version": 3
   },
   "file_extension": ".py",
   "mimetype": "text/x-python",
   "name": "python",
   "nbconvert_exporter": "python",
   "pygments_lexer": "ipython3",
   "version": "3.8.12"
  }
 },
 "nbformat": 4,
 "nbformat_minor": 2
}
