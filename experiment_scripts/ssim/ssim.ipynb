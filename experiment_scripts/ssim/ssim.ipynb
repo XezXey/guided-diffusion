{
 "cells": [
  {
   "cell_type": "code",
   "execution_count": 12,
   "metadata": {},
   "outputs": [
    {
     "name": "stdout",
     "output_type": "stream",
     "text": [
      "0.4302905712252349 1.0 0.0\n",
      "0.3369996513416565 0.9921568627450981 0.0\n",
      "tensor(0.1888, device='cuda:0')\n",
      "tensor(0.9753, dtype=torch.float64)\n",
      "tensor(-0.7942, dtype=torch.float64)\n",
      "tensor(0.1979, dtype=torch.float64) tensor(0.1888, device='cuda:0')\n",
      "tensor(0.2601, dtype=torch.float64)\n"
     ]
    }
   ],
   "source": [
    "import numpy as np\n",
    "import torch as th\n",
    "import PIL\n",
    "\n",
    "from torchmetrics import StructuralSimilarityIndexMeasure\n",
    "ssim = StructuralSimilarityIndexMeasure(data_range=1.0, return_full_image=True).to('cuda')\n",
    "im1 = np.array(PIL.Image.open('./60065.jpg'))/255.0\n",
    "# im2 = np.array(PIL.Image.open('./60182.jpg'))/255.0\n",
    "im2 = np.array(PIL.Image.open('./60170.jpg'))/255.0\n",
    "print(np.mean(im1), np.max(im1), np.min(im1))\n",
    "print(np.mean(im2), np.max(im2), np.min(im2))\n",
    "im1 = th.tensor(im1.transpose(2, 0, 1)[None])\n",
    "im2 = th.tensor(im2.transpose(2, 0, 1)[None])\n",
    "\n",
    "val, map = ssim(im1, im2)\n",
    "print(val)\n",
    "print(th.max(map))\n",
    "print(th.min(map))\n",
    "print(th.mean(map), val)\n",
    "print(th.std(map))"
   ]
  }
 ],
 "metadata": {
  "kernelspec": {
   "display_name": "Python 3.8.12 ('dpm_evaluator')",
   "language": "python",
   "name": "python3"
  },
  "language_info": {
   "codemirror_mode": {
    "name": "ipython",
    "version": 3
   },
   "file_extension": ".py",
   "mimetype": "text/x-python",
   "name": "python",
   "nbconvert_exporter": "python",
   "pygments_lexer": "ipython3",
   "version": "3.8.12"
  },
  "orig_nbformat": 4,
  "vscode": {
   "interpreter": {
    "hash": "d4357813dd21c64c07a6279ff6763c8a0450a6368bfb62c6150d6d5cc94c1783"
   }
  }
 },
 "nbformat": 4,
 "nbformat_minor": 2
}
