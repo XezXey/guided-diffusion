{
 "cells": [
  {
   "cell_type": "code",
   "execution_count": 38,
   "metadata": {},
   "outputs": [
    {
     "name": "stdout",
     "output_type": "stream",
     "text": [
      "[0, 1, 2, 3, 4, 5, 6, 7, 8, 9, 10, 11, 12, 13, 14, 15, 16, 17, 18, 19, 20, 21, 22, 23, 24, 25, 26, 27, 28, 29, 30, 31, 32, 33, 34, 35, 36, 37, 38, 39, 40, 41, 42, 43, 44, 45, 46, 47, 48, 49, 50, 51, 52, 53, 54, 55, 56, 57, 58, 59, 60, 61, 62, 63, 64, 65, 66, 67, 68, 69, 70, 71, 72, 73, 74, 75, 76, 77, 78, 79, 80, 81, 82, 83, 84, 85, 86, 87, 88, 89, 90, 91, 92, 93, 94, 95, 96, 97, 98, 99, 100, 101, 102, 103, 104, 105, 106, 107, 108, 109, 110, 111, 112, 113, 114, 115, 116, 117, 118, 119, 120, 121, 122, 123, 124, 125, 126, 127, 128, 129, 130, 131, 132, 133, 134, 135, 136, 137, 138, 139, 140, 141, 142, 143, 144, 145, 146, 147, 148, 149, 150, 151, 152, 153, 154, 155, 156, 157, 158, 159, 160, 161, 162, 163, 164, 165, 166, 167, 168, 169, 170, 171, 172, 173, 174, 175, 176, 177, 178, 179, 180, 181, 182, 183, 184, 185, 186, 187, 188, 189, 190, 191, 192, 193, 194, 195, 196, 197, 198, 199, 200, 201, 202, 203, 204, 205, 206, 207, 208, 209, 210, 211, 212, 213, 214, 215, 216, 217, 218, 219, 220, 221, 222, 223, 224, 225, 226, 227, 228, 229, 230, 999, 1000, 1001, 1003]\n",
      "/home/mint/guided-diffusion/sample_scripts/paper_script/sample_json/generated_data/gen_data_80perc_testset.json\n",
      "[#] Done sampling :  ['0-230', '999-1001', '1003']\n"
     ]
    }
   ],
   "source": [
    "import numpy as np\n",
    "import glob, os, json\n",
    "\n",
    "# sampling_file = '/home/mint/guided-diffusion/sample_scripts/paper_script/sample_json/generated_data/gen_data_80perc_trainset.json'\n",
    "sampling_file = '/home/mint/guided-diffusion/sample_scripts/paper_script/sample_json/generated_data/gen_data_80perc_testset.json'\n",
    "with open(sampling_file) as f:\n",
    "    sampling_pairs = json.load(f)\n",
    "    \n",
    "pairs_file = [f\"src={f['src']}_dst={f['dst']}\" for _, f in sampling_pairs['pair'].items()]\n",
    "\n",
    "sampling_path = '/data/mint/sampling/Generated_reshadow_mintomax/log=Masked_Face_woclip+BgNoHead+shadow_256_cfg=Masked_Face_woclip+BgNoHead+shadow_256.yaml/ema_085000/valid/shadow/reverse_sampling/'\n",
    "pairs_sampling = [f\"{f.split('/')[-2]}_{f.split('/')[-1]}\" for f in glob.glob(os.path.join(sampling_path, '*', '*.jpg'))]\n",
    "\n",
    "# find the index that each elements in pairs_sampling are in pairs_file\n",
    "done_sampling = []\n",
    "for f in pairs_sampling:\n",
    "    try :\n",
    "        idx = pairs_file.index(f)\n",
    "    except ValueError:\n",
    "        continue\n",
    "    done_sampling.append(idx)\n",
    "        \n",
    "# done_sampling.append(999)\n",
    "# done_sampling.append(1000)\n",
    "# done_sampling.append(1001)\n",
    "# done_sampling.append(1003)\n",
    "done_sampling = sorted(done_sampling)\n",
    "# Change list of index into summary interval e.g. [0, 1, 2, 3, 4, 5, 15, 16, 17, 18, 19, 25] to [0-5, 15-19, 25]\n",
    "def summary_interval(intervals):\n",
    "    summary = []\n",
    "    for i in range(len(intervals)):\n",
    "        if i == 0:\n",
    "            summary.append(str(intervals[i]))\n",
    "            continue\n",
    "        if intervals[i] - intervals[i-1] == 1:\n",
    "            summary[-1] = f\"{summary[-1]}-{intervals[i]}\"\n",
    "        else:\n",
    "            summary.append(str(intervals[i]))\n",
    "    # remove the chain to display only first-last\n",
    "    for i, s in enumerate(summary):\n",
    "        if '-' in s:\n",
    "            s = s.split('-')\n",
    "            s = f\"{s[0]}-{s[-1]}\"\n",
    "            summary[i] = s\n",
    "    return summary\n",
    "\n",
    "print(sampling_file)\n",
    "print(\"[#] Done sampling : \", summary_interval(done_sampling))\n",
    "\n",
    "    \n"
   ]
  },
  {
   "cell_type": "code",
   "execution_count": null,
   "metadata": {},
   "outputs": [],
   "source": []
  }
 ],
 "metadata": {
  "kernelspec": {
   "display_name": "dpm_sampling_deca",
   "language": "python",
   "name": "python3"
  },
  "language_info": {
   "codemirror_mode": {
    "name": "ipython",
    "version": 3
   },
   "file_extension": ".py",
   "mimetype": "text/x-python",
   "name": "python",
   "nbconvert_exporter": "python",
   "pygments_lexer": "ipython3",
   "version": "3.8.12"
  },
  "orig_nbformat": 4
 },
 "nbformat": 4,
 "nbformat_minor": 2
}
