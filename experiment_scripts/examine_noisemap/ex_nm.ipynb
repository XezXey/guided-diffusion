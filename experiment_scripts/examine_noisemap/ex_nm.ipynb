{
 "cells": [
  {
   "cell_type": "code",
   "execution_count": 18,
   "metadata": {},
   "outputs": [
    {
     "data": {
      "text/plain": [
       "torch.Size([1, 3, 1, 1])"
      ]
     },
     "execution_count": 18,
     "metadata": {},
     "output_type": "execute_result"
    }
   ],
   "source": [
    "import torch as th\n",
    "fn = '/data/mint/DPM_Dataset/Videos/Anakin_2/inversion/diff=1000/reverse_frame0.pt'\n",
    "(th.load(fn)['rev_mean'][2]).shape"
   ]
  },
  {
   "cell_type": "code",
   "execution_count": 27,
   "metadata": {},
   "outputs": [
    {
     "data": {
      "text/plain": [
       "[3.6773663,\n",
       " 3.6716893,\n",
       " 3.683948,\n",
       " -0.29330802,\n",
       " -0.29680786,\n",
       " -0.29855576,\n",
       " 0.24491297,\n",
       " 0.26239425,\n",
       " 0.26018304,\n",
       " -0.45197335,\n",
       " -0.4772061,\n",
       " -0.4459681,\n",
       " -0.24700564,\n",
       " -0.25198457,\n",
       " -0.2519409,\n",
       " 0.07872909,\n",
       " 0.07540142,\n",
       " 0.075533934,\n",
       " 0.8953341,\n",
       " 0.9073283,\n",
       " 0.9053734,\n",
       " 0.4622994,\n",
       " 0.45954034,\n",
       " 0.46323133,\n",
       " 0.3229627,\n",
       " 0.31397453,\n",
       " 0.32470724]"
      ]
     },
     "execution_count": 27,
     "metadata": {},
     "output_type": "execute_result"
    }
   ],
   "source": [
    "import numpy as np\n",
    "import pandas as pd\n",
    "import json \n",
    "\n",
    "def read_params(path):\n",
    "    params = pd.read_csv(path, header=None, sep=\" \", index_col=False, lineterminator='\\n')\n",
    "    params.rename(columns={0:'img_name'}, inplace=True)\n",
    "    params = params.set_index('img_name').T.to_dict('list')\n",
    "    return params\n",
    "\n",
    "light = read_params('/data/mint/DPM_Dataset/ffhq_256_with_anno/params/valid/ffhq-valid-light-anno.txt')\n",
    "light.keys()\n",
    "\n",
    "f = \"/home/mint/guided-diffusion/experiment_scripts/extract_samples/top25_shadow.json\"\n",
    "with open(f, 'r') as fp:\n",
    "    x = json.load(fp)['list']\n"
   ]
  }
 ],
 "metadata": {
  "kernelspec": {
   "display_name": "3dr_sampling_deca",
   "language": "python",
   "name": "python3"
  },
  "language_info": {
   "codemirror_mode": {
    "name": "ipython",
    "version": 3
   },
   "file_extension": ".py",
   "mimetype": "text/x-python",
   "name": "python",
   "nbconvert_exporter": "python",
   "pygments_lexer": "ipython3",
   "version": "3.8.12"
  },
  "orig_nbformat": 4
 },
 "nbformat": 4,
 "nbformat_minor": 2
}
