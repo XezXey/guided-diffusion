{
 "cells": [
  {
   "cell_type": "code",
   "execution_count": 10,
   "metadata": {},
   "outputs": [],
   "source": [
    "import numpy as np\n",
    "import PIL\n",
    "from PIL import Image\n",
    "import glob\n",
    "import os\n",
    "\n",
    "path = \"/data/mint/DPM_Dataset/Videos/Queen_3/images\"\n",
    "out_path = \"/data/mint/DPM_Dataset/Videos/Queen_3/images\"\n",
    "os.makedirs(out_path, exist_ok=True)\n",
    "\n",
    "for f in glob.glob(path + '/*.png'):\n",
    "    img_name = f.split('/')[-1]\n",
    "    frame = Image.open(f)\n",
    "    transf = frame.transpose(PIL.Image.FLIP_LEFT_RIGHT)\n",
    "    transf.save(out_path + f'/{img_name}')\n",
    "    "
   ]
  }
 ],
 "metadata": {
  "kernelspec": {
   "display_name": "dpm_sampling_deca",
   "language": "python",
   "name": "python3"
  },
  "language_info": {
   "codemirror_mode": {
    "name": "ipython",
    "version": 3
   },
   "file_extension": ".py",
   "mimetype": "text/x-python",
   "name": "python",
   "nbconvert_exporter": "python",
   "pygments_lexer": "ipython3",
   "version": "3.8.12"
  },
  "orig_nbformat": 4
 },
 "nbformat": 4,
 "nbformat_minor": 2
}
