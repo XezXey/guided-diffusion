{
 "cells": [
  {
   "cell_type": "code",
   "execution_count": 1,
   "metadata": {},
   "outputs": [
    {
     "name": "stdout",
     "output_type": "stream",
     "text": [
      "Key=> shape : Filename=>/data/mint/DPM_Dataset/ffhq_256_with_anno/params/valid/ffhq-valid-shape-anno.txt\n",
      "Key=> pose : Filename=>/data/mint/DPM_Dataset/ffhq_256_with_anno/params/valid/ffhq-valid-pose-anno.txt\n",
      "Key=> exp : Filename=>/data/mint/DPM_Dataset/ffhq_256_with_anno/params/valid/ffhq-valid-exp-anno.txt\n",
      "Key=> cam : Filename=>/data/mint/DPM_Dataset/ffhq_256_with_anno/params/valid/ffhq-valid-cam-anno.txt\n",
      "Key=> light : Filename=>/data/mint/DPM_Dataset/ffhq_256_with_anno/params/valid/ffhq-valid-light-anno.txt\n",
      "Key=> detail : Filename=>/data/mint/DPM_Dataset/ffhq_256_with_anno/params/valid/ffhq-valid-detail-anno.txt\n",
      "Key=> albedo : Filename=>/data/mint/DPM_Dataset/ffhq_256_with_anno/params/valid/ffhq-valid-albedo-anno.txt\n"
     ]
    }
   ],
   "source": [
    "import numpy as np\n",
    "import sys\n",
    "import cv2\n",
    "import torch as th\n",
    "import copy\n",
    "import blobfile as bf\n",
    "import PIL\n",
    "import torchvision\n",
    "sys.path.insert(1, '/home/mint/guided-diffusion/sample_scripts/sample_utils/')\n",
    "import mani_utils, inference_utils, params_utils, vis_utils\n",
    "sys.path.insert(1, '/home/mint/guided-diffusion/guided_diffusion/dataloader/')\n",
    "\n",
    "def load_image(path):\n",
    "    with bf.BlobFile(path, \"rb\") as f:\n",
    "        pil_image = PIL.Image.open(f)\n",
    "        pil_image.load()\n",
    "    pil_image = pil_image.convert(\"RGB\")\n",
    "    return pil_image\n",
    "\n",
    "def spiralOrder(X, m, n):\n",
    "        \n",
    "    rowStart, rowEnd = 0, m - 1\n",
    "    colStart, colEnd = 0, n - 1\n",
    "    idx = []\n",
    "    while rowStart < rowEnd and colStart < colEnd:\n",
    "        for i in range(colStart, colEnd + 1):\n",
    "            # print(X[rowStart][i])\n",
    "            idx.append([rowStart, i])\n",
    "        rowStart += 1\n",
    "\n",
    "        for i in range(rowStart, rowEnd + 1):\n",
    "            # print(X[i][colEnd])\n",
    "            idx.append([i, colEnd])\n",
    "        colEnd -= 1\n",
    "\n",
    "        if rowStart < rowEnd:\n",
    "            for i in range(colEnd, colStart - 1, -1):\n",
    "                # print(X[rowEnd][i])\n",
    "                idx.append([rowEnd, i])\n",
    "            rowEnd -= 1\n",
    "\n",
    "        if colStart < colEnd:\n",
    "            for i in range(rowEnd, rowStart - 1, -1):\n",
    "                # print(X[i][colStart])\n",
    "                idx.append([i, colStart])\n",
    "            colStart += 1\n",
    "    return idx\n",
    "\n",
    "cond, _ = params_utils.load_params(path='/data/mint/DPM_Dataset/ffhq_256_with_anno/params/valid/', params_key=['shape', 'pose', 'exp', 'cam', 'light', 'detail', 'albedo'])\n"
   ]
  },
  {
   "cell_type": "code",
   "execution_count": 2,
   "metadata": {},
   "outputs": [
    {
     "name": "stdout",
     "output_type": "stream",
     "text": [
      "(100, 9, 3)\n",
      "[[ 1.749533    1.7542678   1.7611798 ]\n",
      " [-0.57735027 -0.57735027 -0.57735027]\n",
      " [ 0.57735027  0.57735027  0.57735027]\n",
      " [ 0.57735027  0.57735027  0.57735027]\n",
      " [ 0.19125786  0.19213402  0.19291942]\n",
      " [-0.01516144 -0.00662446 -0.01495419]\n",
      " [ 0.31602845  0.32620078  0.32295486]\n",
      " [ 0.44409156  0.44076076  0.4491139 ]\n",
      " [ 0.04974668  0.04909366  0.05726353]]\n",
      "[[ 1.749533    1.7542678   1.7611798 ]\n",
      " [-0.59867109 -0.59867109 -0.59867109]\n",
      " [ 0.53215208  0.53215208  0.53215208]\n",
      " [ 0.59867109  0.59867109  0.59867109]\n",
      " [ 0.19125786  0.19213402  0.19291942]\n",
      " [-0.01516144 -0.00662446 -0.01495419]\n",
      " [ 0.31602845  0.32620078  0.32295486]\n",
      " [ 0.44409156  0.44076076  0.4491139 ]\n",
      " [ 0.04974668  0.04909366  0.05726353]]\n"
     ]
    }
   ],
   "source": [
    "def grid_sh(n_grid, sh=None, s=1):\n",
    "    pi = np.pi\n",
    "    constant_factor = np.array([1/np.sqrt(4*pi), ((2*pi)/3)*(np.sqrt(3/(4*pi))), ((2*pi)/3)*(np.sqrt(3/(4*pi))),\\\n",
    "                        ((2*pi)/3)*(np.sqrt(3/(4*pi))), (pi/4)*(3)*(np.sqrt(5/(12*pi))), (pi/4)*(3)*(np.sqrt(5/(12*pi))),\\\n",
    "                        (pi/4)*(3)*(np.sqrt(5/(12*pi))), (pi/4)*(3/2)*(np.sqrt(5/(12*pi))), (pi/4)*(1/2)*(np.sqrt(5/(4*pi)))])\n",
    "    sh_light = []\n",
    "    for lx in np.linspace(-s, s, n_grid):\n",
    "        for ly in np.linspace(s, 0, n_grid):\n",
    "            l = np.array((lx, ly, 1))\n",
    "            l = l / np.linalg.norm(l)\n",
    "            \n",
    "            if sh is not None:\n",
    "                tmp_light = sh.copy()\n",
    "            else:\n",
    "                tmp_light = np.zeros((1, 9, 3))\n",
    "            tmp_light[0:1, 0:1, :] /= 2\n",
    "            tmp_light[0:1, 1:2, :] = l[0]\n",
    "            tmp_light[0:1, 2:3, :] = l[1]\n",
    "            tmp_light[0:1, 3:4, :] = l[2]\n",
    "            sh_light.append(tmp_light)\n",
    "    sh_light = np.concatenate(sh_light, axis=0)\n",
    "    return sh_light\n",
    "\n",
    "sj = copy.deepcopy(cond['66646.jpg'])\n",
    "sh_light = grid_sh(sh=sj['light'].reshape(-1, 9, 3), n_grid=10)\n",
    "# sh_light = grid_sh(n_grid=10)\n",
    "print(sh_light.shape)\n",
    "print(sh_light[0])\n",
    "print(sh_light[1])\n",
    "\n",
    "# tmp = sj['light'].reshape(-1, 9, 3)\n",
    "# for i in range(9):\n",
    "#     x = tmp[0, i, 0]\n",
    "#     y = tmp[0, i, 1]\n",
    "#     z = tmp[0, i, 2]\n",
    "#     print(np.sqrt(x**2 + y**2 + z**2))"
   ]
  },
  {
   "cell_type": "code",
   "execution_count": 3,
   "metadata": {},
   "outputs": [
    {
     "name": "stdout",
     "output_type": "stream",
     "text": [
      "creating the FLAME Decoder\n",
      "[#] DECA : SRenderY applied mask\n"
     ]
    },
    {
     "name": "stderr",
     "output_type": "stream",
     "text": [
      "/home/mint/guided-diffusion/sample_scripts/sample_utils/params_utils.py:166: UserWarning: To copy construct from a tensor, it is recommended to use sourceTensor.clone().detach() or sourceTensor.clone().detach().requires_grad_(True), rather than torch.tensor(sourceTensor).\n",
      "  'light':th.tensor(deca_params['light']).to(device).reshape(-1, 9, 3).float(),\n"
     ]
    }
   ],
   "source": [
    "#NOTE: Initialize a DECA renderer\n",
    "sj = copy.deepcopy(cond['66646.jpg'])\n",
    "sj['raw_image_path'] = ['/data/mint/DPM_Dataset/ffhq_256_with_anno/ffhq_256/valid/66646.jpg']\n",
    "raw_img = load_image(sj['raw_image_path'][0])\n",
    "raw_img = th.tensor(np.array(raw_img)[None])\n",
    "raw_img = raw_img.permute(0, 3, 1, 2)\n",
    "sj['raw_image'] = raw_img\n",
    "\n",
    "for k in ['pose', 'shape', 'exp', 'cam', 'light', 'albedo', 'detail']:\n",
    "    sj[k] = th.tensor(sj[k][None])\n",
    "mask = params_utils.load_flame_mask()\n",
    "deca_obj = params_utils.init_deca(mask=mask)\n",
    "\n",
    "n_step = 144\n",
    "n_grid = int(np.sqrt(n_step))\n",
    "s = 5\n",
    "sh_light = grid_sh(sh=sj['light'].reshape(-1, 9, 3).cpu().numpy(), n_grid=int(np.sqrt(n_step)))\n",
    "# sh_light = grid_sh(n_grid=n_grid, s=s)\n",
    "sj['light'] = th.tensor(sh_light)\n",
    "# print(sj['light'])\n",
    "\n",
    "# sj['R_normals'] = params_utils.get_R_normals(n_step=n_step)\n",
    "deca_rendered, _ = params_utils.render_deca(deca_params=sj, \n",
    "                                            idx=0, n=n_step, \n",
    "                                            avg_dict=None, \n",
    "                                            render_mode='shape', \n",
    "                                            rotate_normals=False, \n",
    "                                            mask=mask,\n",
    "                                            deca_obj=deca_obj)\n"
   ]
  },
  {
   "cell_type": "code",
   "execution_count": 4,
   "metadata": {},
   "outputs": [
    {
     "name": "stdout",
     "output_type": "stream",
     "text": [
      "torch.Size([144, 256, 256, 3])\n"
     ]
    }
   ],
   "source": [
    "out = (deca_rendered.permute(0, 2, 3, 1).mul(255).add_(0.5).clamp_(0, 255)).type(th.ByteTensor)\n",
    "# torchvision.io.write_video(video_array=out, filename=f\"./ren.mp4\", fps=30)\n",
    "\n",
    "import os\n",
    "path = './face/'\n",
    "os.makedirs(path, exist_ok=True)\n",
    "print(out.shape)\n",
    "B, H, W, C = out.shape\n",
    "frames = out.reshape(n_grid, n_grid, H, W, C)\n",
    "for ili, li in enumerate(np.linspace(-s, s, n_grid)):\n",
    "    for ilj, lj in enumerate(np.linspace(-s, s, n_grid)):\n",
    "        frame = frames[ili, ilj].cpu().detach()\n",
    "        frame = frame.permute(2, 0, 1)\n",
    "        frame = (frame / 255.0).float()\n",
    "        torchvision.utils.save_image(tensor=(frame), fp=f\"{path}/{ilj:02d}_{ili:02d}.png\")\n",
    "    \n",
    "videos = []\n",
    "x_grid = np.linspace(-s, s, n_grid)\n",
    "y_grid = np.linspace(-s, s, n_grid)\n",
    "spiral = spiralOrder(frames, m=n_grid, n=n_grid)\n",
    "for idx in spiral:\n",
    "    videos.append(frames[idx[0], idx[1]])\n",
    "torchvision.io.write_video(video_array=th.stack(videos, dim=0), filename=f\"./ren3.mp4\", fps=30)\n",
    "          "
   ]
  }
 ],
 "metadata": {
  "kernelspec": {
   "display_name": "dpm_sampling_deca",
   "language": "python",
   "name": "python3"
  },
  "language_info": {
   "codemirror_mode": {
    "name": "ipython",
    "version": 3
   },
   "file_extension": ".py",
   "mimetype": "text/x-python",
   "name": "python",
   "nbconvert_exporter": "python",
   "pygments_lexer": "ipython3",
   "version": "3.8.12"
  },
  "orig_nbformat": 4,
  "vscode": {
   "interpreter": {
    "hash": "e726457752a9f31dd08e885b4d7ad782b9d2db89819f0ec82c996add1b497d76"
   }
  }
 },
 "nbformat": 4,
 "nbformat_minor": 2
}
