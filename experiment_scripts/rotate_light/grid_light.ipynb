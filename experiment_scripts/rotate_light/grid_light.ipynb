{
 "cells": [
  {
   "cell_type": "code",
   "execution_count": 5,
   "metadata": {},
   "outputs": [
    {
     "name": "stdout",
     "output_type": "stream",
     "text": [
      "Key=> shape : Filename=>/data/mint/DPM_Dataset/ffhq_256_with_anno/params/valid/ffhq-valid-shape-anno.txt\n",
      "Key=> pose : Filename=>/data/mint/DPM_Dataset/ffhq_256_with_anno/params/valid/ffhq-valid-pose-anno.txt\n",
      "Key=> exp : Filename=>/data/mint/DPM_Dataset/ffhq_256_with_anno/params/valid/ffhq-valid-exp-anno.txt\n",
      "Key=> cam : Filename=>/data/mint/DPM_Dataset/ffhq_256_with_anno/params/valid/ffhq-valid-cam-anno.txt\n",
      "Key=> light : Filename=>/data/mint/DPM_Dataset/ffhq_256_with_anno/params/valid/ffhq-valid-light-anno.txt\n",
      "Key=> detail : Filename=>/data/mint/DPM_Dataset/ffhq_256_with_anno/params/valid/ffhq-valid-detail-anno.txt\n",
      "Key=> albedo : Filename=>/data/mint/DPM_Dataset/ffhq_256_with_anno/params/valid/ffhq-valid-albedo-anno.txt\n"
     ]
    }
   ],
   "source": [
    "import numpy as np\n",
    "import sys\n",
    "import cv2\n",
    "import torch as th\n",
    "import copy\n",
    "import blobfile as bf\n",
    "import PIL\n",
    "import torchvision\n",
    "sys.path.insert(1, '/home/mint/guided-diffusion/sample_scripts/sample_utils/')\n",
    "import mani_utils, inference_utils, params_utils, vis_utils\n",
    "sys.path.insert(1, '/home/mint/guided-diffusion/guided_diffusion/dataloader/')\n",
    "\n",
    "def load_image(path):\n",
    "    with bf.BlobFile(path, \"rb\") as f:\n",
    "        pil_image = PIL.Image.open(f)\n",
    "        pil_image.load()\n",
    "    pil_image = pil_image.convert(\"RGB\")\n",
    "    return pil_image\n",
    "\n",
    "def spiralOrder(X, m, n):\n",
    "        \n",
    "    rowStart, rowEnd = 0, m - 1\n",
    "    colStart, colEnd = 0, n - 1\n",
    "    idx = []\n",
    "    while rowStart < rowEnd and colStart < colEnd:\n",
    "        for i in range(colStart, colEnd + 1):\n",
    "            # print(X[rowStart][i])\n",
    "            idx.append([rowStart, i])\n",
    "        rowStart += 1\n",
    "\n",
    "        for i in range(rowStart, rowEnd + 1):\n",
    "            # print(X[i][colEnd])\n",
    "            idx.append([i, colEnd])\n",
    "        colEnd -= 1\n",
    "\n",
    "        if rowStart < rowEnd:\n",
    "            for i in range(colEnd, colStart - 1, -1):\n",
    "                # print(X[rowEnd][i])\n",
    "                idx.append([rowEnd, i])\n",
    "            rowEnd -= 1\n",
    "\n",
    "        if colStart < colEnd:\n",
    "            for i in range(rowEnd, rowStart - 1, -1):\n",
    "                # print(X[i][colStart])\n",
    "                idx.append([i, colStart])\n",
    "            colStart += 1\n",
    "    return idx\n",
    "\n",
    "   \n",
    "\n",
    "cond, _ = params_utils.load_params(path='/data/mint/DPM_Dataset/ffhq_256_with_anno/params/valid/', params_key=['shape', 'pose', 'exp', 'cam', 'light', 'detail', 'albedo'])\n"
   ]
  },
  {
   "cell_type": "code",
   "execution_count": 13,
   "metadata": {},
   "outputs": [
    {
     "name": "stdout",
     "output_type": "stream",
     "text": [
      "(100, 9, 3)\n",
      "[[ 3.          3.          3.        ]\n",
      " [-0.40824829 -0.40824829 -0.40824829]\n",
      " [ 0.40824829  0.40824829  0.40824829]\n",
      " [ 0.81649658  0.81649658  0.81649658]\n",
      " [ 0.19125786  0.19213402  0.19291942]\n",
      " [-0.01516144 -0.00662446 -0.01495419]\n",
      " [ 0.31602845  0.32620078  0.32295486]\n",
      " [ 0.44409156  0.44076076  0.4491139 ]\n",
      " [ 0.04974668  0.04909366  0.05726353]]\n",
      "[[ 3.          3.          3.        ]\n",
      " [-0.41558139 -0.41558139 -0.41558139]\n",
      " [ 0.36940568  0.36940568  0.36940568]\n",
      " [ 0.83116277  0.83116277  0.83116277]\n",
      " [ 0.19125786  0.19213402  0.19291942]\n",
      " [-0.01516144 -0.00662446 -0.01495419]\n",
      " [ 0.31602845  0.32620078  0.32295486]\n",
      " [ 0.44409156  0.44076076  0.4491139 ]\n",
      " [ 0.04974668  0.04909366  0.05726353]]\n"
     ]
    }
   ],
   "source": [
    "def grid_sh(n_grid, sh=None, s=1):\n",
    "    pi = np.pi\n",
    "    constant_factor = np.array([1/np.sqrt(4*pi), ((2*pi)/3)*(np.sqrt(3/(4*pi))), ((2*pi)/3)*(np.sqrt(3/(4*pi))),\\\n",
    "                        ((2*pi)/3)*(np.sqrt(3/(4*pi))), (pi/4)*(3)*(np.sqrt(5/(12*pi))), (pi/4)*(3)*(np.sqrt(5/(12*pi))),\\\n",
    "                        (pi/4)*(3)*(np.sqrt(5/(12*pi))), (pi/4)*(3/2)*(np.sqrt(5/(12*pi))), (pi/4)*(1/2)*(np.sqrt(5/(4*pi)))])\n",
    "    sh_light = []\n",
    "    for lx in np.linspace(-s, s, n_grid):\n",
    "        for ly in np.linspace(s, 0, n_grid):\n",
    "            l = np.array((lx, ly, 2))\n",
    "            l = l / np.linalg.norm(l)\n",
    "            \n",
    "            if sh is not None:\n",
    "                tmp_light = sh.copy()\n",
    "            else:\n",
    "                tmp_light = np.zeros((1, 9, 3))\n",
    "            tmp_light[0:1, 0:1, :] = 3\n",
    "            tmp_light[0:1, 1:2, :] = l[0]\n",
    "            tmp_light[0:1, 2:3, :] = l[1]\n",
    "            tmp_light[0:1, 3:4, :] = l[2]\n",
    "            sh_light.append(tmp_light)\n",
    "    sh_light = np.concatenate(sh_light, axis=0)\n",
    "    return sh_light\n",
    "\n",
    "sj = copy.deepcopy(cond['66646.jpg'])\n",
    "sh_light = grid_sh(sh=sj['light'].reshape(-1, 9, 3), n_grid=10)\n",
    "# sh_light = grid_sh(n_grid=10)\n",
    "print(sh_light.shape)\n",
    "print(sh_light[0])\n",
    "print(sh_light[1])\n",
    "\n",
    "# tmp = sj['light'].reshape(-1, 9, 3)\n",
    "# for i in range(9):\n",
    "#     x = tmp[0, i, 0]\n",
    "#     y = tmp[0, i, 1]\n",
    "#     z = tmp[0, i, 2]\n",
    "#     print(np.sqrt(x**2 + y**2 + z**2))"
   ]
  },
  {
   "cell_type": "code",
   "execution_count": 14,
   "metadata": {},
   "outputs": [
    {
     "name": "stdout",
     "output_type": "stream",
     "text": [
      "creating the FLAME Decoder\n",
      "[#] DECA : SRenderY applied mask\n"
     ]
    },
    {
     "name": "stderr",
     "output_type": "stream",
     "text": [
      "/home/mint/guided-diffusion/sample_scripts/sample_utils/params_utils.py:165: UserWarning: To copy construct from a tensor, it is recommended to use sourceTensor.clone().detach() or sourceTensor.clone().detach().requires_grad_(True), rather than torch.tensor(sourceTensor).\n",
      "  'light':th.tensor(deca_params['light']).to(device).reshape(-1, 9, 3).float(),\n"
     ]
    },
    {
     "ename": "RuntimeError",
     "evalue": "CUDA out of memory. Tried to allocate 1.58 GiB (GPU 0; 10.76 GiB total capacity; 5.10 GiB already allocated; 1.11 GiB free; 8.61 GiB reserved in total by PyTorch)",
     "output_type": "error",
     "traceback": [
      "\u001b[0;31m---------------------------------------------------------------------------\u001b[0m",
      "\u001b[0;31mRuntimeError\u001b[0m                              Traceback (most recent call last)",
      "\u001b[0;32m/tmp/ipykernel_58895/913046611.py\u001b[0m in \u001b[0;36m<module>\u001b[0;34m\u001b[0m\n\u001b[1;32m     21\u001b[0m \u001b[0;34m\u001b[0m\u001b[0m\n\u001b[1;32m     22\u001b[0m \u001b[0;31m# sj['R_normals'] = params_utils.get_R_normals(n_step=n_step)\u001b[0m\u001b[0;34m\u001b[0m\u001b[0;34m\u001b[0m\u001b[0;34m\u001b[0m\u001b[0m\n\u001b[0;32m---> 23\u001b[0;31m deca_rendered, _ = params_utils.render_deca(deca_params=sj, \n\u001b[0m\u001b[1;32m     24\u001b[0m                                             \u001b[0midx\u001b[0m\u001b[0;34m=\u001b[0m\u001b[0;36m0\u001b[0m\u001b[0;34m,\u001b[0m \u001b[0mn\u001b[0m\u001b[0;34m=\u001b[0m\u001b[0mn_step\u001b[0m\u001b[0;34m,\u001b[0m\u001b[0;34m\u001b[0m\u001b[0;34m\u001b[0m\u001b[0m\n\u001b[1;32m     25\u001b[0m                                             \u001b[0mavg_dict\u001b[0m\u001b[0;34m=\u001b[0m\u001b[0;32mNone\u001b[0m\u001b[0;34m,\u001b[0m\u001b[0;34m\u001b[0m\u001b[0;34m\u001b[0m\u001b[0m\n",
      "\u001b[0;32m~/guided-diffusion/sample_scripts/sample_utils/params_utils.py\u001b[0m in \u001b[0;36mrender_deca\u001b[0;34m(deca_params, idx, n, render_mode, useTex, extractTex, device, avg_dict, rotate_normals, use_detail, deca_mode, mask, repeat, deca_obj)\u001b[0m\n\u001b[1;32m    201\u001b[0m         \u001b[0mtform\u001b[0m \u001b[0;34m=\u001b[0m \u001b[0mth\u001b[0m\u001b[0;34m.\u001b[0m\u001b[0mtensor\u001b[0m\u001b[0;34m(\u001b[0m\u001b[0mavg_dict\u001b[0m\u001b[0;34m[\u001b[0m\u001b[0;34m'tform'\u001b[0m\u001b[0;34m]\u001b[0m\u001b[0;34m)\u001b[0m\u001b[0;34m[\u001b[0m\u001b[0;32mNone\u001b[0m\u001b[0;34m,\u001b[0m \u001b[0;34m...\u001b[0m\u001b[0;34m]\u001b[0m\u001b[0;34m.\u001b[0m\u001b[0mrepeat\u001b[0m\u001b[0;34m(\u001b[0m\u001b[0mn\u001b[0m\u001b[0;34m,\u001b[0m \u001b[0;36m1\u001b[0m\u001b[0;34m)\u001b[0m\u001b[0;34m.\u001b[0m\u001b[0mto\u001b[0m\u001b[0;34m(\u001b[0m\u001b[0mdevice\u001b[0m\u001b[0;34m)\u001b[0m\u001b[0;34m.\u001b[0m\u001b[0mreshape\u001b[0m\u001b[0;34m(\u001b[0m\u001b[0;34m-\u001b[0m\u001b[0;36m1\u001b[0m\u001b[0;34m,\u001b[0m \u001b[0;36m3\u001b[0m\u001b[0;34m,\u001b[0m \u001b[0;36m3\u001b[0m\u001b[0;34m)\u001b[0m\u001b[0;34m.\u001b[0m\u001b[0mfloat\u001b[0m\u001b[0;34m(\u001b[0m\u001b[0;34m)\u001b[0m\u001b[0;34m\u001b[0m\u001b[0;34m\u001b[0m\u001b[0m\n\u001b[1;32m    202\u001b[0m         \u001b[0mtform_inv\u001b[0m \u001b[0;34m=\u001b[0m \u001b[0mth\u001b[0m\u001b[0;34m.\u001b[0m\u001b[0minverse\u001b[0m\u001b[0;34m(\u001b[0m\u001b[0mtform\u001b[0m\u001b[0;34m)\u001b[0m\u001b[0;34m.\u001b[0m\u001b[0mtranspose\u001b[0m\u001b[0;34m(\u001b[0m\u001b[0;36m1\u001b[0m\u001b[0;34m,\u001b[0m\u001b[0;36m2\u001b[0m\u001b[0;34m)\u001b[0m\u001b[0;34m\u001b[0m\u001b[0;34m\u001b[0m\u001b[0m\n\u001b[0;32m--> 203\u001b[0;31m     \u001b[0;32melse\u001b[0m\u001b[0;34m:\u001b[0m \u001b[0;32mraise\u001b[0m \u001b[0mNotImplementedError\u001b[0m\u001b[0;34m\u001b[0m\u001b[0;34m\u001b[0m\u001b[0m\n\u001b[0m\u001b[1;32m    204\u001b[0m     _, orig_visdict = deca_obj.decode(codedict, \n\u001b[1;32m    205\u001b[0m                                   \u001b[0mrender_orig\u001b[0m\u001b[0;34m=\u001b[0m\u001b[0;32mTrue\u001b[0m\u001b[0;34m,\u001b[0m\u001b[0;34m\u001b[0m\u001b[0;34m\u001b[0m\u001b[0m\n",
      "\u001b[0;32m~/guided-diffusion/sample_scripts/cond_utils/DECA/decalib/deca.py\u001b[0m in \u001b[0;36mdecode\u001b[0;34m(self, codedict, rendering, iddict, vis_lmk, return_vis, use_detail, render_orig, original_image, tform, use_template, mean_cam, rotate_normals, mask)\u001b[0m\n\u001b[1;32m    249\u001b[0m                 \u001b[0mshape_images\u001b[0m\u001b[0;34m,\u001b[0m \u001b[0m_\u001b[0m\u001b[0;34m,\u001b[0m \u001b[0mgrid\u001b[0m\u001b[0;34m,\u001b[0m \u001b[0malpha_images\u001b[0m\u001b[0;34m,\u001b[0m \u001b[0malbedo_images\u001b[0m \u001b[0;34m=\u001b[0m \u001b[0mself\u001b[0m\u001b[0;34m.\u001b[0m\u001b[0mrender\u001b[0m\u001b[0;34m.\u001b[0m\u001b[0mrender_shape\u001b[0m\u001b[0;34m(\u001b[0m\u001b[0mverts\u001b[0m\u001b[0;34m,\u001b[0m \u001b[0mtrans_verts\u001b[0m\u001b[0;34m,\u001b[0m \u001b[0mh\u001b[0m\u001b[0;34m=\u001b[0m\u001b[0mh\u001b[0m\u001b[0;34m,\u001b[0m \u001b[0mw\u001b[0m\u001b[0;34m=\u001b[0m\u001b[0mw\u001b[0m\u001b[0;34m,\u001b[0m \u001b[0mreturn_grid\u001b[0m\u001b[0;34m=\u001b[0m\u001b[0;32mTrue\u001b[0m\u001b[0;34m,\u001b[0m \u001b[0mlights\u001b[0m\u001b[0;34m=\u001b[0m\u001b[0mcodedict\u001b[0m\u001b[0;34m[\u001b[0m\u001b[0;34m'light'\u001b[0m\u001b[0;34m]\u001b[0m\u001b[0;34m,\u001b[0m \u001b[0mR_normals\u001b[0m\u001b[0;34m=\u001b[0m\u001b[0mcodedict\u001b[0m\u001b[0;34m[\u001b[0m\u001b[0;34m'R_normals'\u001b[0m\u001b[0;34m]\u001b[0m\u001b[0;34m,\u001b[0m \u001b[0mmask\u001b[0m\u001b[0;34m=\u001b[0m\u001b[0mmask\u001b[0m\u001b[0;34m)\u001b[0m\u001b[0;34m\u001b[0m\u001b[0;34m\u001b[0m\u001b[0m\n\u001b[1;32m    250\u001b[0m             \u001b[0;32melse\u001b[0m\u001b[0;34m:\u001b[0m\u001b[0;34m\u001b[0m\u001b[0;34m\u001b[0m\u001b[0m\n\u001b[0;32m--> 251\u001b[0;31m                 \u001b[0mshape_images\u001b[0m\u001b[0;34m,\u001b[0m \u001b[0m_\u001b[0m\u001b[0;34m,\u001b[0m \u001b[0mgrid\u001b[0m\u001b[0;34m,\u001b[0m \u001b[0malpha_images\u001b[0m\u001b[0;34m,\u001b[0m \u001b[0malbedo_images\u001b[0m \u001b[0;34m=\u001b[0m \u001b[0mself\u001b[0m\u001b[0;34m.\u001b[0m\u001b[0mrender\u001b[0m\u001b[0;34m.\u001b[0m\u001b[0mrender_shape\u001b[0m\u001b[0;34m(\u001b[0m\u001b[0mverts\u001b[0m\u001b[0;34m,\u001b[0m \u001b[0mtrans_verts\u001b[0m\u001b[0;34m,\u001b[0m \u001b[0mh\u001b[0m\u001b[0;34m=\u001b[0m\u001b[0mh\u001b[0m\u001b[0;34m,\u001b[0m \u001b[0mw\u001b[0m\u001b[0;34m=\u001b[0m\u001b[0mw\u001b[0m\u001b[0;34m,\u001b[0m \u001b[0mreturn_grid\u001b[0m\u001b[0;34m=\u001b[0m\u001b[0;32mTrue\u001b[0m\u001b[0;34m,\u001b[0m \u001b[0mlights\u001b[0m\u001b[0;34m=\u001b[0m\u001b[0mcodedict\u001b[0m\u001b[0;34m[\u001b[0m\u001b[0;34m'light'\u001b[0m\u001b[0;34m]\u001b[0m\u001b[0;34m,\u001b[0m \u001b[0mmask\u001b[0m\u001b[0;34m=\u001b[0m\u001b[0mmask\u001b[0m\u001b[0;34m)\u001b[0m\u001b[0;34m\u001b[0m\u001b[0;34m\u001b[0m\u001b[0m\n\u001b[0m\u001b[1;32m    252\u001b[0m             \u001b[0;32mif\u001b[0m \u001b[0muse_detail\u001b[0m\u001b[0;34m:\u001b[0m\u001b[0;34m\u001b[0m\u001b[0;34m\u001b[0m\u001b[0m\n\u001b[1;32m    253\u001b[0m                 \u001b[0mdetail_normal_images\u001b[0m \u001b[0;34m=\u001b[0m \u001b[0mF\u001b[0m\u001b[0;34m.\u001b[0m\u001b[0mgrid_sample\u001b[0m\u001b[0;34m(\u001b[0m\u001b[0muv_detail_normals\u001b[0m\u001b[0;34m,\u001b[0m \u001b[0mgrid\u001b[0m\u001b[0;34m,\u001b[0m \u001b[0malign_corners\u001b[0m\u001b[0;34m=\u001b[0m\u001b[0;32mFalse\u001b[0m\u001b[0;34m)\u001b[0m\u001b[0;34m*\u001b[0m\u001b[0malpha_images\u001b[0m\u001b[0;34m\u001b[0m\u001b[0;34m\u001b[0m\u001b[0m\n",
      "\u001b[0;32m~/guided-diffusion/sample_scripts/cond_utils/DECA/decalib/utils/renderer.py\u001b[0m in \u001b[0;36mrender_shape\u001b[0;34m(self, vertices, transformed_vertices, colors, images, detail_normal_images, lights, light_type, return_grid, uv_detail_normals, h, w, R_normals, mask)\u001b[0m\n\u001b[1;32m    385\u001b[0m         \u001b[0;31m# rasterize\u001b[0m\u001b[0;34m\u001b[0m\u001b[0;34m\u001b[0m\u001b[0;34m\u001b[0m\u001b[0m\n\u001b[1;32m    386\u001b[0m         \u001b[0;31m# import ipdb; ipdb.set_trace()\u001b[0m\u001b[0;34m\u001b[0m\u001b[0;34m\u001b[0m\u001b[0;34m\u001b[0m\u001b[0m\n\u001b[0;32m--> 387\u001b[0;31m         \u001b[0mrendering\u001b[0m \u001b[0;34m=\u001b[0m \u001b[0mself\u001b[0m\u001b[0;34m.\u001b[0m\u001b[0mrasterizer\u001b[0m\u001b[0;34m(\u001b[0m\u001b[0mtransformed_vertices\u001b[0m\u001b[0;34m,\u001b[0m \u001b[0mself\u001b[0m\u001b[0;34m.\u001b[0m\u001b[0mfaces\u001b[0m\u001b[0;34m.\u001b[0m\u001b[0mexpand\u001b[0m\u001b[0;34m(\u001b[0m\u001b[0mbatch_size\u001b[0m\u001b[0;34m,\u001b[0m \u001b[0;34m-\u001b[0m\u001b[0;36m1\u001b[0m\u001b[0;34m,\u001b[0m \u001b[0;34m-\u001b[0m\u001b[0;36m1\u001b[0m\u001b[0;34m)\u001b[0m\u001b[0;34m,\u001b[0m \u001b[0mattributes\u001b[0m\u001b[0;34m,\u001b[0m \u001b[0mh\u001b[0m\u001b[0;34m,\u001b[0m \u001b[0mw\u001b[0m\u001b[0;34m)\u001b[0m\u001b[0;34m\u001b[0m\u001b[0;34m\u001b[0m\u001b[0m\n\u001b[0m\u001b[1;32m    388\u001b[0m \u001b[0;34m\u001b[0m\u001b[0m\n\u001b[1;32m    389\u001b[0m         \u001b[0;31m####\u001b[0m\u001b[0;34m\u001b[0m\u001b[0;34m\u001b[0m\u001b[0;34m\u001b[0m\u001b[0m\n",
      "\u001b[0;32m~/miniconda3/envs/dpm_sampling_deca/lib/python3.8/site-packages/torch/nn/modules/module.py\u001b[0m in \u001b[0;36m_call_impl\u001b[0;34m(self, *input, **kwargs)\u001b[0m\n\u001b[1;32m    725\u001b[0m             \u001b[0mresult\u001b[0m \u001b[0;34m=\u001b[0m \u001b[0mself\u001b[0m\u001b[0;34m.\u001b[0m\u001b[0m_slow_forward\u001b[0m\u001b[0;34m(\u001b[0m\u001b[0;34m*\u001b[0m\u001b[0minput\u001b[0m\u001b[0;34m,\u001b[0m \u001b[0;34m**\u001b[0m\u001b[0mkwargs\u001b[0m\u001b[0;34m)\u001b[0m\u001b[0;34m\u001b[0m\u001b[0;34m\u001b[0m\u001b[0m\n\u001b[1;32m    726\u001b[0m         \u001b[0;32melse\u001b[0m\u001b[0;34m:\u001b[0m\u001b[0;34m\u001b[0m\u001b[0;34m\u001b[0m\u001b[0m\n\u001b[0;32m--> 727\u001b[0;31m             \u001b[0mresult\u001b[0m \u001b[0;34m=\u001b[0m \u001b[0mself\u001b[0m\u001b[0;34m.\u001b[0m\u001b[0mforward\u001b[0m\u001b[0;34m(\u001b[0m\u001b[0;34m*\u001b[0m\u001b[0minput\u001b[0m\u001b[0;34m,\u001b[0m \u001b[0;34m**\u001b[0m\u001b[0mkwargs\u001b[0m\u001b[0;34m)\u001b[0m\u001b[0;34m\u001b[0m\u001b[0;34m\u001b[0m\u001b[0m\n\u001b[0m\u001b[1;32m    728\u001b[0m         for hook in itertools.chain(\n\u001b[1;32m    729\u001b[0m                 \u001b[0m_global_forward_hooks\u001b[0m\u001b[0;34m.\u001b[0m\u001b[0mvalues\u001b[0m\u001b[0;34m(\u001b[0m\u001b[0;34m)\u001b[0m\u001b[0;34m,\u001b[0m\u001b[0;34m\u001b[0m\u001b[0;34m\u001b[0m\u001b[0m\n",
      "\u001b[0;32m~/guided-diffusion/sample_scripts/cond_utils/DECA/decalib/utils/renderer.py\u001b[0m in \u001b[0;36mforward\u001b[0;34m(self, vertices, faces, attributes, h, w)\u001b[0m\n\u001b[1;32m    100\u001b[0m         \u001b[0midx\u001b[0m \u001b[0;34m=\u001b[0m \u001b[0mpix_to_face\u001b[0m\u001b[0;34m.\u001b[0m\u001b[0mview\u001b[0m\u001b[0;34m(\u001b[0m\u001b[0mN\u001b[0m \u001b[0;34m*\u001b[0m \u001b[0mH\u001b[0m \u001b[0;34m*\u001b[0m \u001b[0mW\u001b[0m \u001b[0;34m*\u001b[0m \u001b[0mK\u001b[0m\u001b[0;34m,\u001b[0m \u001b[0;36m1\u001b[0m\u001b[0;34m,\u001b[0m \u001b[0;36m1\u001b[0m\u001b[0;34m)\u001b[0m\u001b[0;34m.\u001b[0m\u001b[0mexpand\u001b[0m\u001b[0;34m(\u001b[0m\u001b[0mN\u001b[0m \u001b[0;34m*\u001b[0m \u001b[0mH\u001b[0m \u001b[0;34m*\u001b[0m \u001b[0mW\u001b[0m \u001b[0;34m*\u001b[0m \u001b[0mK\u001b[0m\u001b[0;34m,\u001b[0m \u001b[0;36m3\u001b[0m\u001b[0;34m,\u001b[0m \u001b[0mD\u001b[0m\u001b[0;34m)\u001b[0m\u001b[0;34m\u001b[0m\u001b[0;34m\u001b[0m\u001b[0m\n\u001b[1;32m    101\u001b[0m         \u001b[0mpixel_face_vals\u001b[0m \u001b[0;34m=\u001b[0m \u001b[0mattributes\u001b[0m\u001b[0;34m.\u001b[0m\u001b[0mgather\u001b[0m\u001b[0;34m(\u001b[0m\u001b[0;36m0\u001b[0m\u001b[0;34m,\u001b[0m \u001b[0midx\u001b[0m\u001b[0;34m)\u001b[0m\u001b[0;34m.\u001b[0m\u001b[0mview\u001b[0m\u001b[0;34m(\u001b[0m\u001b[0mN\u001b[0m\u001b[0;34m,\u001b[0m \u001b[0mH\u001b[0m\u001b[0;34m,\u001b[0m \u001b[0mW\u001b[0m\u001b[0;34m,\u001b[0m \u001b[0mK\u001b[0m\u001b[0;34m,\u001b[0m \u001b[0;36m3\u001b[0m\u001b[0;34m,\u001b[0m \u001b[0mD\u001b[0m\u001b[0;34m)\u001b[0m\u001b[0;34m\u001b[0m\u001b[0;34m\u001b[0m\u001b[0m\n\u001b[0;32m--> 102\u001b[0;31m         \u001b[0mpixel_vals\u001b[0m \u001b[0;34m=\u001b[0m \u001b[0;34m(\u001b[0m\u001b[0mbary_coords\u001b[0m\u001b[0;34m[\u001b[0m\u001b[0;34m...\u001b[0m\u001b[0;34m,\u001b[0m \u001b[0;32mNone\u001b[0m\u001b[0;34m]\u001b[0m \u001b[0;34m*\u001b[0m \u001b[0mpixel_face_vals\u001b[0m\u001b[0;34m)\u001b[0m\u001b[0;34m.\u001b[0m\u001b[0msum\u001b[0m\u001b[0;34m(\u001b[0m\u001b[0mdim\u001b[0m\u001b[0;34m=\u001b[0m\u001b[0;34m-\u001b[0m\u001b[0;36m2\u001b[0m\u001b[0;34m)\u001b[0m\u001b[0;34m\u001b[0m\u001b[0;34m\u001b[0m\u001b[0m\n\u001b[0m\u001b[1;32m    103\u001b[0m         \u001b[0mpixel_vals\u001b[0m\u001b[0;34m[\u001b[0m\u001b[0mmask\u001b[0m\u001b[0;34m]\u001b[0m \u001b[0;34m=\u001b[0m \u001b[0;36m0\u001b[0m  \u001b[0;31m# Replace masked values in output.\u001b[0m\u001b[0;34m\u001b[0m\u001b[0;34m\u001b[0m\u001b[0m\n\u001b[1;32m    104\u001b[0m         \u001b[0mpixel_vals\u001b[0m \u001b[0;34m=\u001b[0m \u001b[0mpixel_vals\u001b[0m\u001b[0;34m[\u001b[0m\u001b[0;34m:\u001b[0m\u001b[0;34m,\u001b[0m\u001b[0;34m:\u001b[0m\u001b[0;34m,\u001b[0m\u001b[0;34m:\u001b[0m\u001b[0;34m,\u001b[0m\u001b[0;36m0\u001b[0m\u001b[0;34m]\u001b[0m\u001b[0;34m.\u001b[0m\u001b[0mpermute\u001b[0m\u001b[0;34m(\u001b[0m\u001b[0;36m0\u001b[0m\u001b[0;34m,\u001b[0m\u001b[0;36m3\u001b[0m\u001b[0;34m,\u001b[0m\u001b[0;36m1\u001b[0m\u001b[0;34m,\u001b[0m\u001b[0;36m2\u001b[0m\u001b[0;34m)\u001b[0m\u001b[0;34m\u001b[0m\u001b[0;34m\u001b[0m\u001b[0m\n",
      "\u001b[0;31mRuntimeError\u001b[0m: CUDA out of memory. Tried to allocate 1.58 GiB (GPU 0; 10.76 GiB total capacity; 5.10 GiB already allocated; 1.11 GiB free; 8.61 GiB reserved in total by PyTorch)"
     ]
    }
   ],
   "source": [
    "#NOTE: Initialize a DECA renderer\n",
    "sj = copy.deepcopy(cond['66646.jpg'])\n",
    "sj['raw_image_path'] = ['/data/mint/DPM_Dataset/ffhq_256_with_anno/ffhq_256/valid/66646.jpg']\n",
    "raw_img = load_image(sj['raw_image_path'][0])\n",
    "raw_img = th.tensor(np.array(raw_img)[None])\n",
    "raw_img = raw_img.permute(0, 3, 1, 2)\n",
    "sj['raw_image'] = raw_img\n",
    "\n",
    "for k in ['pose', 'shape', 'exp', 'cam', 'light', 'albedo', 'detail']:\n",
    "    sj[k] = th.tensor(sj[k][None])\n",
    "mask = params_utils.load_flame_mask()\n",
    "deca_obj = params_utils.init_deca(mask=mask)\n",
    "\n",
    "n_step = 144\n",
    "n_grid = int(np.sqrt(n_step))\n",
    "s = 5\n",
    "# sh_light = grid_sh(sh=sj['light'].reshape(-1, 9, 3).cpu().numpy(), n_grid=int(np.sqrt(n_step)))\n",
    "sh_light = grid_sh(n_grid=n_grid, s=s)\n",
    "sj['light'] = th.tensor(sh_light)\n",
    "# print(sj['light'])\n",
    "\n",
    "# sj['R_normals'] = params_utils.get_R_normals(n_step=n_step)\n",
    "deca_rendered, _ = params_utils.render_deca(deca_params=sj, \n",
    "                                            idx=0, n=n_step, \n",
    "                                            avg_dict=None, \n",
    "                                            render_mode='shape', \n",
    "                                            rotate_normals=False, \n",
    "                                            mask=mask,\n",
    "                                            deca_obj=deca_obj)\n"
   ]
  },
  {
   "cell_type": "code",
   "execution_count": 12,
   "metadata": {},
   "outputs": [
    {
     "name": "stdout",
     "output_type": "stream",
     "text": [
      "torch.Size([144, 256, 256, 3])\n"
     ]
    }
   ],
   "source": [
    "out = (deca_rendered.permute(0, 2, 3, 1).mul(255).add_(0.5).clamp_(0, 255)).type(th.ByteTensor)\n",
    "# torchvision.io.write_video(video_array=out, filename=f\"./ren.mp4\", fps=30)\n",
    "\n",
    "import os\n",
    "path = './face/'\n",
    "os.makedirs(path, exist_ok=True)\n",
    "print(out.shape)\n",
    "B, H, W, C = out.shape\n",
    "frames = out.reshape(n_grid, n_grid, H, W, C)\n",
    "for ili, li in enumerate(np.linspace(-s, s, n_grid)):\n",
    "    for ilj, lj in enumerate(np.linspace(-s, s, n_grid)):\n",
    "        frame = frames[ili, ilj].cpu().detach()\n",
    "        frame = frame.permute(2, 0, 1)\n",
    "        frame = (frame / 255.0).float()\n",
    "        torchvision.utils.save_image(tensor=(frame), fp=f\"{path}/{ilj:02d}_{ili:02d}.png\")\n",
    "    \n",
    "videos = []\n",
    "x_grid = np.linspace(-s, s, n_grid)\n",
    "y_grid = np.linspace(-s, s, n_grid)\n",
    "spiral = spiralOrder(frames, m=n_grid, n=n_grid)\n",
    "for idx in spiral:\n",
    "    videos.append(frames[idx[0], idx[1]])\n",
    "torchvision.io.write_video(video_array=th.stack(videos, dim=0), filename=f\"./ren3.mp4\", fps=30)\n",
    "          "
   ]
  }
 ],
 "metadata": {
  "kernelspec": {
   "display_name": "dpm_sampling_deca",
   "language": "python",
   "name": "python3"
  },
  "language_info": {
   "codemirror_mode": {
    "name": "ipython",
    "version": 3
   },
   "file_extension": ".py",
   "mimetype": "text/x-python",
   "name": "python",
   "nbconvert_exporter": "python",
   "pygments_lexer": "ipython3",
   "version": "3.8.12"
  },
  "orig_nbformat": 4,
  "vscode": {
   "interpreter": {
    "hash": "e726457752a9f31dd08e885b4d7ad782b9d2db89819f0ec82c996add1b497d76"
   }
  }
 },
 "nbformat": 4,
 "nbformat_minor": 2
}
