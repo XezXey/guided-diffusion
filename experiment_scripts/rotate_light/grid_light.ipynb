{
 "cells": [
  {
   "cell_type": "code",
   "execution_count": 2,
   "metadata": {},
   "outputs": [
    {
     "name": "stdout",
     "output_type": "stream",
     "text": [
      "Key=> shape : Filename=>/data/mint/DPM_Dataset/ffhq_256_with_anno/params/valid/ffhq-valid-shape-anno.txt\n",
      "Key=> pose : Filename=>/data/mint/DPM_Dataset/ffhq_256_with_anno/params/valid/ffhq-valid-pose-anno.txt\n",
      "Key=> exp : Filename=>/data/mint/DPM_Dataset/ffhq_256_with_anno/params/valid/ffhq-valid-exp-anno.txt\n",
      "Key=> cam : Filename=>/data/mint/DPM_Dataset/ffhq_256_with_anno/params/valid/ffhq-valid-cam-anno.txt\n",
      "Key=> light : Filename=>/data/mint/DPM_Dataset/ffhq_256_with_anno/params/valid/ffhq-valid-light-anno.txt\n",
      "Key=> detail : Filename=>/data/mint/DPM_Dataset/ffhq_256_with_anno/params/valid/ffhq-valid-detail-anno.txt\n",
      "Key=> albedo : Filename=>/data/mint/DPM_Dataset/ffhq_256_with_anno/params/valid/ffhq-valid-albedo-anno.txt\n"
     ]
    }
   ],
   "source": [
    "import numpy as np\n",
    "import sys\n",
    "import cv2\n",
    "import torch as th\n",
    "import copy\n",
    "import blobfile as bf\n",
    "import PIL\n",
    "import torchvision\n",
    "sys.path.insert(1, '/home/mint/guided-diffusion/sample_scripts/sample_utils/')\n",
    "import mani_utils, inference_utils, params_utils\n",
    "sys.path.insert(1, '/home/mint/guided-diffusion/guided_diffusion/dataloader/')\n",
    "\n",
    "def load_image(path):\n",
    "    with bf.BlobFile(path, \"rb\") as f:\n",
    "        pil_image = PIL.Image.open(f)\n",
    "        pil_image.load()\n",
    "    pil_image = pil_image.convert(\"RGB\")\n",
    "    return pil_image\n",
    "\n",
    "def manual_sh(sh, basis_idx, n_step):\n",
    "    sh_in = sh.reshape(1, 9, 3)\n",
    "    # print(\"GG\", sh_in[0:1, [0].shape)\n",
    "    sh_out = []\n",
    "    for i in range(9):\n",
    "        if i in basis_idx:\n",
    "            # x \n",
    "            sh_x = np.linspace(0, 5, num=n_step)\n",
    "            # y \n",
    "            sh_y = np.linspace(0, 5, num=n_step)\n",
    "            # z \n",
    "            sh_z = np.linspace(0, 5, num=n_step)\n",
    "            tmp = np.stack((sh_x, sh_y, sh_z), axis=-1)\n",
    "            tmp = tmp[:, None, :]\n",
    "        else:\n",
    "            tmp = np.repeat(a=sh_in[0:1, [i], :3], repeats=n_step, axis=0)\n",
    "        sh_out.append(tmp)\n",
    "    sh_out = np.concatenate(sh_out, axis=1)\n",
    "    return sh_out.reshape(n_step, -1)\n",
    "\n",
    "cond, _ = params_utils.load_params(path='/data/mint/DPM_Dataset/ffhq_256_with_anno/params/valid/', params_key=['shape', 'pose', 'exp', 'cam', 'light', 'detail', 'albedo'])\n"
   ]
  },
  {
   "cell_type": "code",
   "execution_count": 3,
   "metadata": {},
   "outputs": [
    {
     "name": "stdout",
     "output_type": "stream",
     "text": [
      "creating the FLAME Decoder\n",
      "[#] DECA : SRenderY applied mask\n"
     ]
    },
    {
     "name": "stderr",
     "output_type": "stream",
     "text": [
      "/home/mint/guided-diffusion/sample_scripts/sample_utils/params_utils.py:146: UserWarning: To copy construct from a tensor, it is recommended to use sourceTensor.clone().detach() or sourceTensor.clone().detach().requires_grad_(True), rather than torch.tensor(sourceTensor).\n",
      "  'light':th.tensor(deca_params['light']).to(device).reshape(-1, 9, 3).float(),\n"
     ]
    }
   ],
   "source": [
    "#NOTE: Initialize a DECA renderer\n",
    "sj = copy.deepcopy(cond['66646.jpg'])\n",
    "sj['raw_image_path'] = ['/data/mint/DPM_Dataset/ffhq_256_with_anno/ffhq_256/valid/66646.jpg']\n",
    "raw_img = load_image(sj['raw_image_path'][0])\n",
    "raw_img = th.tensor(np.array(raw_img)[None])\n",
    "raw_img = raw_img.permute(0, 3, 1, 2)\n",
    "sj['raw_image'] = raw_img\n",
    "\n",
    "for k in ['pose', 'shape', 'exp', 'cam', 'light', 'albedo', 'detail']:\n",
    "    sj[k] = th.tensor(sj[k][None])\n",
    "mask = params_utils.load_flame_mask()\n",
    "deca_obj = params_utils.init_deca(mask=mask)\n",
    "\n",
    "n_step = 100\n",
    "sh_mod = grid_sh(sj['light'], basis_idx=[0], n_step=n_step)\n",
    "sj['light'] = th.tensor(sh_mod)\n",
    "# sj['R_normals'] = params_utils.get_R_normals(n_step=n_step)\n",
    "deca_rendered, _ = params_utils.render_deca(deca_params=sj, \n",
    "                                            idx=0, n=n_step, \n",
    "                                            avg_dict=None, \n",
    "                                            render_mode='shape', \n",
    "                                            rotate_normals=False, \n",
    "                                            mask=mask,\n",
    "                                            deca_obj=deca_obj)\n",
    "\n",
    "deca_rendered = (deca_rendered.permute(0, 2, 3, 1).mul(255).add_(0.5).clamp_(0, 255)).type(th.ByteTensor)\n",
    "torchvision.io.write_video(video_array=deca_rendered, filename=f\"./ren.mp4\", fps=30)"
   ]
  }
 ],
 "metadata": {
  "kernelspec": {
   "display_name": "dpm_sampling_deca",
   "language": "python",
   "name": "python3"
  },
  "language_info": {
   "codemirror_mode": {
    "name": "ipython",
    "version": 3
   },
   "file_extension": ".py",
   "mimetype": "text/x-python",
   "name": "python",
   "nbconvert_exporter": "python",
   "pygments_lexer": "ipython3",
   "version": "3.8.12"
  },
  "orig_nbformat": 4,
  "vscode": {
   "interpreter": {
    "hash": "e726457752a9f31dd08e885b4d7ad782b9d2db89819f0ec82c996add1b497d76"
   }
  }
 },
 "nbformat": 4,
 "nbformat_minor": 2
}
