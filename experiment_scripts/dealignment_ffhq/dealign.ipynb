{
 "cells": [
  {
   "cell_type": "code",
   "execution_count": 2,
   "metadata": {},
   "outputs": [
    {
     "ename": "ModuleNotFoundError",
     "evalue": "No module named 'cv2'",
     "output_type": "error",
     "traceback": [
      "\u001b[0;31m---------------------------------------------------------------------------\u001b[0m",
      "\u001b[0;31mModuleNotFoundError\u001b[0m                       Traceback (most recent call last)",
      "\u001b[0;32m<ipython-input-2-57ea534fbbf4>\u001b[0m in \u001b[0;36m<module>\u001b[0;34m\u001b[0m\n\u001b[1;32m      1\u001b[0m \u001b[0;32mimport\u001b[0m \u001b[0mdlib\u001b[0m\u001b[0;34m\u001b[0m\u001b[0;34m\u001b[0m\u001b[0m\n\u001b[0;32m----> 2\u001b[0;31m \u001b[0;32mimport\u001b[0m \u001b[0mcv2\u001b[0m\u001b[0;34m\u001b[0m\u001b[0;34m\u001b[0m\u001b[0m\n\u001b[0m\u001b[1;32m      3\u001b[0m \u001b[0;32mimport\u001b[0m \u001b[0mnumpy\u001b[0m \u001b[0;32mas\u001b[0m \u001b[0mnp\u001b[0m\u001b[0;34m\u001b[0m\u001b[0;34m\u001b[0m\u001b[0m\n\u001b[1;32m      4\u001b[0m \u001b[0;32mimport\u001b[0m \u001b[0mmatplotlib\u001b[0m\u001b[0;34m.\u001b[0m\u001b[0mpyplot\u001b[0m \u001b[0;32mas\u001b[0m \u001b[0mplt\u001b[0m\u001b[0;34m\u001b[0m\u001b[0;34m\u001b[0m\u001b[0m\n\u001b[1;32m      5\u001b[0m \u001b[0;34m\u001b[0m\u001b[0m\n",
      "\u001b[0;31mModuleNotFoundError\u001b[0m: No module named 'cv2'"
     ]
    }
   ],
   "source": [
    "import dlib\n",
    "import cv2\n",
    "import numpy as np\n",
    "import matplotlib.pyplot as plt\n",
    "\n",
    "# Load the reference image and the image to be aligned\n",
    "full_image = cv2.imread('ref_image.jpg')\n",
    "aligned_face = cv2.imread('anakin.png')\n",
    "\n",
    "# Convert the full image to grayscale\n",
    "gray = cv2.cvtColor(full_image, cv2.COLOR_BGR2GRAY)\n",
    "\n",
    "# Detect the face using dlib\n",
    "detector = dlib.get_frontal_face_detector()\n",
    "predictor = dlib.shape_predictor('./temp/shape_predictor_68_face_landmarks.dat')\n",
    "rects = detector(gray, 1)\n",
    "\n",
    "# Assume there is only one face in the image\n",
    "face_rect = rects[0]\n",
    "\n",
    "# Get the facial landmarks of the face in the full image\n",
    "landmarks = predictor(gray, face_rect)\n",
    "\n",
    "# Get the alignment transformation from the landmarks\n",
    "src_points = np.array([(landmarks.part(i).x, landmarks.part(i).y) for i in range(68)])\n",
    "dst_points = np.array([(int(p), int(q)) for p, q in zip(src_points[:, 0] / 2, src_points[:, 1] / 2)])\n",
    "M = cv2.estimateAffinePartial2D(dst_points, src_points)[0]\n",
    "\n",
    "# Invert the alignment transformation to get the de-alignment transformation\n",
    "M_inv = cv2.invertAffineTransform(M)\n",
    "\n",
    "# Apply the de-alignment transformation to the aligned face image\n",
    "dealigned_face = cv2.warpAffine(aligned_face, M_inv, (full_image.shape[1], full_image.shape[0]))\n",
    "\n",
    "# Replace the face region in the full image with the de-aligned face\n",
    "x, y, w, h = face_rect.left(), face_rect.top(), face_rect.width(), face_rect.height()\n",
    "full_image[y:y+h, x:x+w] = dealigned_face\n",
    "\n",
    "# Display the original image, the aligned image, and the back-projected image\n",
    "# Save the images\n",
    "plt.figure(figsize=(10, 10))\n",
    "plt.imshow(cv2.cvtColor(full_image, cv2.COLOR_BGR2RGB))\n",
    "plt.title('Back-Projected Image')\n",
    "plt.axis('off')\n",
    "plt.tight_layout()\n",
    "plt.savefig('back_proj_image.png', dpi=300)"
   ]
  }
 ],
 "metadata": {
  "kernelspec": {
   "display_name": "3dr_conda_training",
   "language": "python",
   "name": "python3"
  },
  "language_info": {
   "codemirror_mode": {
    "name": "ipython",
    "version": 3
   },
   "file_extension": ".py",
   "mimetype": "text/x-python",
   "name": "python",
   "nbconvert_exporter": "python",
   "pygments_lexer": "ipython3",
   "version": "3.6.9"
  },
  "orig_nbformat": 4
 },
 "nbformat": 4,
 "nbformat_minor": 2
}
