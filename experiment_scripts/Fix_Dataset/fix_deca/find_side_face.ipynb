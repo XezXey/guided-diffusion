{
 "cells": [
  {
   "cell_type": "code",
   "execution_count": 5,
   "metadata": {},
   "outputs": [
    {
     "name": "stderr",
     "output_type": "stream",
     "text": [
      "100%|██████████| 60000/60000 [07:22<00:00, 135.70it/s]\n",
      "100%|██████████| 10000/10000 [00:10<00:00, 976.41it/s]"
     ]
    },
    {
     "name": "stdout",
     "output_type": "stream",
     "text": [
      "[#] Detecting side face images...\n",
      "Train: 25\n",
      "Image paths:  ['/data/mint/DPM_Dataset/ffhq_256_with_anno/rendered_images/deca_masked_face_images_wclip/train/46037.png', '/data/mint/DPM_Dataset/ffhq_256_with_anno/rendered_images/deca_masked_face_images_wclip/train/22350.png', '/data/mint/DPM_Dataset/ffhq_256_with_anno/rendered_images/deca_masked_face_images_wclip/train/5928.png', '/data/mint/DPM_Dataset/ffhq_256_with_anno/rendered_images/deca_masked_face_images_wclip/train/8286.png', '/data/mint/DPM_Dataset/ffhq_256_with_anno/rendered_images/deca_masked_face_images_wclip/train/42050.png', '/data/mint/DPM_Dataset/ffhq_256_with_anno/rendered_images/deca_masked_face_images_wclip/train/55908.png', '/data/mint/DPM_Dataset/ffhq_256_with_anno/rendered_images/deca_masked_face_images_wclip/train/13418.png', '/data/mint/DPM_Dataset/ffhq_256_with_anno/rendered_images/deca_masked_face_images_wclip/train/12487.png', '/data/mint/DPM_Dataset/ffhq_256_with_anno/rendered_images/deca_masked_face_images_wclip/train/21474.png', '/data/mint/DPM_Dataset/ffhq_256_with_anno/rendered_images/deca_masked_face_images_wclip/train/7796.png', '/data/mint/DPM_Dataset/ffhq_256_with_anno/rendered_images/deca_masked_face_images_wclip/train/20100.png', '/data/mint/DPM_Dataset/ffhq_256_with_anno/rendered_images/deca_masked_face_images_wclip/train/3895.png', '/data/mint/DPM_Dataset/ffhq_256_with_anno/rendered_images/deca_masked_face_images_wclip/train/45113.png', '/data/mint/DPM_Dataset/ffhq_256_with_anno/rendered_images/deca_masked_face_images_wclip/train/7744.png', '/data/mint/DPM_Dataset/ffhq_256_with_anno/rendered_images/deca_masked_face_images_wclip/train/13580.png', '/data/mint/DPM_Dataset/ffhq_256_with_anno/rendered_images/deca_masked_face_images_wclip/train/20603.png', '/data/mint/DPM_Dataset/ffhq_256_with_anno/rendered_images/deca_masked_face_images_wclip/train/49431.png', '/data/mint/DPM_Dataset/ffhq_256_with_anno/rendered_images/deca_masked_face_images_wclip/train/14638.png', '/data/mint/DPM_Dataset/ffhq_256_with_anno/rendered_images/deca_masked_face_images_wclip/train/25536.png', '/data/mint/DPM_Dataset/ffhq_256_with_anno/rendered_images/deca_masked_face_images_wclip/train/37216.png', '/data/mint/DPM_Dataset/ffhq_256_with_anno/rendered_images/deca_masked_face_images_wclip/train/27757.png', '/data/mint/DPM_Dataset/ffhq_256_with_anno/rendered_images/deca_masked_face_images_wclip/train/28223.png', '/data/mint/DPM_Dataset/ffhq_256_with_anno/rendered_images/deca_masked_face_images_wclip/train/1281.png', '/data/mint/DPM_Dataset/ffhq_256_with_anno/rendered_images/deca_masked_face_images_wclip/train/27123.png', '/data/mint/DPM_Dataset/ffhq_256_with_anno/rendered_images/deca_masked_face_images_wclip/train/10431.png']\n",
      "##################################################\n",
      "Valid: 4\n",
      "Image paths:  ['/data/mint/DPM_Dataset/ffhq_256_with_anno/rendered_images/deca_masked_face_images_wclip/valid/67626.png', '/data/mint/DPM_Dataset/ffhq_256_with_anno/rendered_images/deca_masked_face_images_wclip/valid/63918.png', '/data/mint/DPM_Dataset/ffhq_256_with_anno/rendered_images/deca_masked_face_images_wclip/valid/62289.png', '/data/mint/DPM_Dataset/ffhq_256_with_anno/rendered_images/deca_masked_face_images_wclip/valid/66776.png']\n",
      "##################################################\n"
     ]
    },
    {
     "name": "stderr",
     "output_type": "stream",
     "text": [
      "\n"
     ]
    }
   ],
   "source": [
    "import numpy as np\n",
    "from PIL import Image\n",
    "import torch as th\n",
    "import tqdm, glob, os, sys\n",
    "\n",
    "\n",
    "side_face = {}\n",
    "for s in [\"train\", \"valid\"]:\n",
    "    path = f\"/data/mint/DPM_Dataset/ffhq_256_with_anno/rendered_images/deca_masked_face_images_wclip/{s}/\"\n",
    "    side_face[s] = []\n",
    "\n",
    "    img = glob.glob(path + \"*.png\")\n",
    "    for f in tqdm.tqdm(img):\n",
    "        img = np.array(Image.open(f))\n",
    "        H, W, C = img.shape\n",
    "        if img[H//2, W//2, 0] == 0:\n",
    "            side_face[s].append(f)\n",
    "        else:\n",
    "            continue\n",
    "            \n",
    "        \n",
    "print(\"[#] Detecting side face images...\")\n",
    "print(f\"Train: {len(side_face['train'])}\")\n",
    "print(\"Image paths: \", side_face['train'])\n",
    "print(\"#\"*50)\n",
    "print(f\"Valid: {len(side_face['valid'])}\")\n",
    "print(\"Image paths: \", side_face['valid'])\n",
    "print(\"#\"*50)"
   ]
  },
  {
   "cell_type": "markdown",
   "metadata": {},
   "source": [
    "# Create Pairs"
   ]
  },
  {
   "cell_type": "code",
   "execution_count": 9,
   "metadata": {},
   "outputs": [],
   "source": [
    "# Create pair.json\n",
    "import json\n",
    "sub = range(0, 60000//5000)\n",
    "for s in [\"train\", \"valid\"]:\n",
    "    out = {\"pair\": {}}\n",
    "    for i, sj in enumerate(side_face[s]):\n",
    "        sj_name = sj.split(\"/\")[-1].split(\".\")[0]\n",
    "        # print(sj_name, (int(sj_name)//5000) * 5000)\n",
    "        out[\"pair\"][f\"pair{i+1}\"] = {\n",
    "            \"src\": f'{sj_name}.jpg',\n",
    "            # \"dst\": int(sj_name)//5000 * 5000,\n",
    "            \"dst\": '0.jpg' if s == \"train\" else '60000.jpg',\n",
    "        }\n",
    "    json.dump(out, open(f\"./sampling_side_face_{s}.json\", \"w\"), indent=4)"
   ]
  }
 ],
 "metadata": {
  "kernelspec": {
   "display_name": "dpm_sampling_deca",
   "language": "python",
   "name": "python3"
  },
  "language_info": {
   "codemirror_mode": {
    "name": "ipython",
    "version": 3
   },
   "file_extension": ".py",
   "mimetype": "text/x-python",
   "name": "python",
   "nbconvert_exporter": "python",
   "pygments_lexer": "ipython3",
   "version": "3.8.12"
  }
 },
 "nbformat": 4,
 "nbformat_minor": 2
}
