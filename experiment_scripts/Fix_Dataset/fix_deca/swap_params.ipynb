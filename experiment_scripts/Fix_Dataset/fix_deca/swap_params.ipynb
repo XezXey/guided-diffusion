{
 "cells": [
  {
   "cell_type": "code",
   "execution_count": 1,
   "metadata": {},
   "outputs": [],
   "source": [
    "import os, json\n",
    "import numpy as np\n",
    "import torch as th\n",
    "import pandas as pd\n",
    "import tqdm, glob\n",
    "from collections import defaultdict\n",
    "import copy\n",
    "\n",
    "def load_deca_params(deca_dir):\n",
    "    deca_params = {}\n",
    "\n",
    "    # face params \n",
    "    params_key = ['shape', 'pose', 'exp', 'cam', 'light', 'tform', 'albedo', 'detail']\n",
    "    # params_key = ['shape', 'pose', 'exp', 'cam', 'light', 'faceemb', 'shadow']\n",
    "    for k in tqdm.tqdm(params_key, desc=\"Loading deca params...\"):\n",
    "        params_path = glob.glob(f\"{deca_dir}/*{k}-anno.txt\")\n",
    "        for path in params_path:\n",
    "            deca_params[k] = read_params(path=path)\n",
    "    \n",
    "    deca_params = swap_key(deca_params)\n",
    "    return deca_params\n",
    "\n",
    "def read_params(path):\n",
    "    params = pd.read_csv(path, header=None, sep=\" \", index_col=False, lineterminator='\\n')\n",
    "    params.rename(columns={0:'img_name'}, inplace=True)\n",
    "    params = params.set_index('img_name').T.to_dict('list')\n",
    "    return params\n",
    "\n",
    "def swap_key(params):\n",
    "    params_s = defaultdict(dict)\n",
    "    for params_name, v in params.items():\n",
    "        for img_name, params_value in v.items():\n",
    "            params_s[img_name][params_name] = np.array(params_value).astype(np.float64)\n",
    "\n",
    "    return params_s"
   ]
  },
  {
   "cell_type": "code",
   "execution_count": 4,
   "metadata": {},
   "outputs": [],
   "source": [
    "\n",
    "def swap_params(set_):\n",
    "    params_path = f'/data/mint/DPM_Dataset/ffhq_256_with_anno/params/{set_}'\n",
    "    params_replace_path = f'/data/mint/DPM_Dataset/Fixing_DECA_detector/params/{set_}'\n",
    "\n",
    "    p = load_deca_params(params_path)\n",
    "    p_rep = load_deca_params(params_replace_path)\n",
    "\n",
    "    for k, v in p_rep.items():\n",
    "        # print(k)\n",
    "        if k in p_rep.keys():\n",
    "            for p_name in p[k].keys():\n",
    "                # print(np.mean(p[k][p_name] - p_rep[k][p_name]))\n",
    "                p[k][p_name] = copy.deepcopy(p_rep[k][p_name])\n",
    "                # print(np.mean(p[k][p_name] - p_rep[k][p_name]))\n",
    "        \n",
    "    # op = f'/data/mint/DPM_Dataset/ffhq_256_with_anno/params/{set_}_fix/'\n",
    "    op = f'/data/mint/DPM_Dataset/ffhq_256_with_anno/params/{set_}/'\n",
    "    os.makedirs(op, exist_ok=True)\n",
    "    fo_shape = open(f\"{op}/ffhq-{set_}-shape-anno.txt\", \"w\")\n",
    "    fo_exp = open(f\"{op}/ffhq-{set_}-exp-anno.txt\", \"w\")\n",
    "    fo_pose = open(f\"{op}/ffhq-{set_}-pose-anno.txt\", \"w\")\n",
    "    fo_light = open(f\"{op}/ffhq-{set_}-light-anno.txt\", \"w\")\n",
    "    fo_cam = open(f\"{op}/ffhq-{set_}-cam-anno.txt\", \"w\")\n",
    "    fo_detail = open(f\"{op}/ffhq-{set_}-detail-anno.txt\", \"w\")\n",
    "    fo_tform = open(f\"{op}/ffhq-{set_}-tform-anno.txt\", \"w\")\n",
    "    fo_albedo = open(f\"{op}/ffhq-{set_}-albedo-anno.txt\", \"w\")\n",
    "                \n",
    "    fo_dict = {'shape':fo_shape, 'exp':fo_exp, 'pose':fo_pose, \n",
    "            'light':fo_light, 'cam':fo_cam, 'detail':fo_detail,\n",
    "            'tform':fo_tform, 'albedo':fo_albedo}\n",
    "\n",
    "\n",
    "    for img_name in tqdm.tqdm(p.keys()):      # Per image\n",
    "            for p_name, p_val in p[img_name].items():      # Per param\n",
    "                    fo_dict[p_name].write(img_name + \" \")\n",
    "                    p_val = p_val.flatten()\n",
    "                    # print(img_name, p_name, p_val)\n",
    "                    # assert False\n",
    "                    fo_dict[p_name].write(\" \".join([str(x) for x in p_val]) + \"\\n\")\n"
   ]
  },
  {
   "cell_type": "code",
   "execution_count": 5,
   "metadata": {},
   "outputs": [
    {
     "name": "stderr",
     "output_type": "stream",
     "text": [
      "Loading deca params...: 100%|██████████| 8/8 [00:03<00:00,  2.12it/s]\n",
      "Loading deca params...: 100%|██████████| 8/8 [00:00<00:00, 218.02it/s]\n",
      "100%|██████████| 10000/10000 [00:01<00:00, 5641.96it/s]\n",
      "Loading deca params...: 100%|██████████| 8/8 [00:30<00:00,  3.84s/it]\n",
      "Loading deca params...: 100%|██████████| 8/8 [00:00<00:00, 195.72it/s]\n",
      "100%|██████████| 60000/60000 [00:11<00:00, 5420.17it/s]\n"
     ]
    }
   ],
   "source": [
    "swap_params('valid')\n",
    "swap_params('train')"
   ]
  }
 ],
 "metadata": {
  "kernelspec": {
   "display_name": "dpm_sampling_deca",
   "language": "python",
   "name": "python3"
  },
  "language_info": {
   "codemirror_mode": {
    "name": "ipython",
    "version": 3
   },
   "file_extension": ".py",
   "mimetype": "text/x-python",
   "name": "python",
   "nbconvert_exporter": "python",
   "pygments_lexer": "ipython3",
   "version": "3.8.12"
  }
 },
 "nbformat": 4,
 "nbformat_minor": 2
}
