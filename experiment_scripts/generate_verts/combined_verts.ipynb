{
 "cells": [
  {
   "cell_type": "code",
   "execution_count": 52,
   "metadata": {},
   "outputs": [
    {
     "name": "stdout",
     "output_type": "stream",
     "text": [
      "3\n",
      "landmarks2d 10000\n",
      "3\n",
      "landmarks3d 10000\n",
      "3\n",
      "verts 10000\n",
      "3\n",
      "trans_verts 10000\n",
      "3\n",
      "landmarks2d_orig 10000\n",
      "3\n",
      "landmarks3d_orig 10000\n",
      "3\n",
      "trans_verts_orig 10000\n"
     ]
    }
   ],
   "source": [
    "import numpy as np\n",
    "import glob, os\n",
    "out_dict = {\n",
    "    'landmarks2d':{}, \n",
    "    'landmarks3d':{},\n",
    "    'verts':{},\n",
    "    'trans_verts':{}, \n",
    "    'landmarks2d_orig':{}, \n",
    "    'landmarks3d_orig':{}, \n",
    "    'trans_verts_orig':{}\n",
    "}\n",
    "set_ = 'valid'\n",
    "os.makedirs(f'./output/{set_}/combined', exist_ok=True)\n",
    "for k in out_dict.keys():\n",
    "    fn = sorted(glob.glob(f'./output/{set_}/ffhq-{set_}-{k}-anno-*'))\n",
    "    arr = [np.load(f, allow_pickle=True).item() for f in fn]\n",
    "    comb_arr = arr[0].copy()\n",
    "    print(len(arr))\n",
    "    for i in range(1, len(arr)):\n",
    "        comb_arr.update(arr[i])\n",
    "    print(k, len(comb_arr.keys()))\n",
    "    np.save(arr=comb_arr, file=f'./output/{set_}/combined/ffhq-{set_}-{k}-anno.npy')"
   ]
  },
  {
   "cell_type": "code",
   "execution_count": 43,
   "metadata": {},
   "outputs": [
    {
     "name": "stdout",
     "output_type": "stream",
     "text": [
      "landmarks2d\n",
      "10000\n",
      "landmarks3d\n",
      "10000\n",
      "verts\n",
      "10000\n",
      "trans_verts\n",
      "10000\n",
      "landmarks2d_orig\n",
      "10000\n",
      "landmarks3d_orig\n",
      "10000\n",
      "trans_verts_orig\n",
      "10000\n"
     ]
    }
   ],
   "source": [
    "set_ = 'train'\n",
    "for k in out_dict.keys():\n",
    "    print(k)\n",
    "    fn = f'./output/{set_}/ffhq-{set_}-{k}-anno.npy'\n",
    "    arr = np.load(fn, allow_pickle=True).item()\n",
    "    print(len(arr.keys()))"
   ]
  }
 ],
 "metadata": {
  "kernelspec": {
   "display_name": "3dr_conda_training",
   "language": "python",
   "name": "python3"
  },
  "language_info": {
   "codemirror_mode": {
    "name": "ipython",
    "version": 3
   },
   "file_extension": ".py",
   "mimetype": "text/x-python",
   "name": "python",
   "nbconvert_exporter": "python",
   "pygments_lexer": "ipython3",
   "version": "3.8.12"
  },
  "orig_nbformat": 4,
  "vscode": {
   "interpreter": {
    "hash": "fafb62d5f4613a7545cb0370bd44fb628c825b23cfd04fe5f82e7c51a33fbd5e"
   }
  }
 },
 "nbformat": 4,
 "nbformat_minor": 2
}
