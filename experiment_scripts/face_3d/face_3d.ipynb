{
 "cells": [
  {
   "cell_type": "code",
   "execution_count": 1,
   "metadata": {},
   "outputs": [],
   "source": [
    "import numpy as np\n",
    "from pytorch_lightning import seed_everything\n",
    "import torch as th\n",
    "import os\n",
    "import sys\n",
    "sys.path.insert(0, '../../')\n",
    "from sample_scripts.sample_utils.params_utils import get_params_set\n",
    "from sample_scripts.sample_utils.inference_utils import to_tensor\n",
    "from sample_scripts.sample_utils.vis_utils import plot_image\n",
    "device = 'cuda'"
   ]
  },
  {
   "cell_type": "code",
   "execution_count": 2,
   "metadata": {},
   "outputs": [],
   "source": [
    "def params_to_model(shape, exp, pose, cam, lights=None, i=0, uvdn=None):\n",
    "\n",
    "    from model_3d.FLAME import FLAME\n",
    "    from model_3d.FLAME.config import cfg as flame_cfg\n",
    "    from model_3d.FLAME.utils.renderer import SRenderY\n",
    "    import model_3d.FLAME.utils.util as util\n",
    "\n",
    "    flame = FLAME.FLAME(flame_cfg.model).cuda()\n",
    "    verts, landmarks2d, landmarks3d = flame(shape_params=shape, \n",
    "            expression_params=exp, \n",
    "            pose_params=pose)\n",
    "    renderer = SRenderY(image_size=256, obj_filename=flame_cfg.model.topology_path, uv_size=flame_cfg.model.uv_size).to(device)\n",
    "\n",
    "    ## projection\n",
    "    landmarks2d = util.batch_orth_proj(landmarks2d, cam)[:,:,:2]; landmarks2d[:,:,1:] = -landmarks2d[:,:,1:]#; landmarks2d = landmarks2d*self.image_size/2 + self.image_size/2\n",
    "    landmarks3d = util.batch_orth_proj(landmarks3d, cam); landmarks3d[:,:,1:] = -landmarks3d[:,:,1:] #; landmarks3d = landmarks3d*self.image_size/2 + self.image_size/2\n",
    "    trans_verts = util.batch_orth_proj(verts, cam); trans_verts[:,:,1:] = -trans_verts[:,:,1:]\n",
    "\n",
    "    ## rendering\n",
    "    shape_images = renderer.render_shape(verts, trans_verts, lights=lights)\n",
    "\n",
    "    # opdict = {'verts' : verts,}\n",
    "    # os.makedirs('./rendered_obj', exist_ok=True)\n",
    "    # save_obj(renderer=renderer, filename=(f'./rendered_obj/{i}.obj'), opdict=opdict)\n",
    "    \n",
    "    return {\"shape_images\":shape_images, \"landmarks2d\":landmarks2d, \"landmarks3d\":landmarks3d}\n"
   ]
  },
  {
   "cell_type": "code",
   "execution_count": 3,
   "metadata": {},
   "outputs": [
    {
     "name": "stdout",
     "output_type": "stream",
     "text": [
      "Key=> shape : Filename=>/data/mint/ffhq_256_with_anno/params/valid/ffhq-valid-shape-anno.txt\n",
      "Key=> pose : Filename=>/data/mint/ffhq_256_with_anno/params/valid/ffhq-valid-pose-anno.txt\n",
      "Key=> exp : Filename=>/data/mint/ffhq_256_with_anno/params/valid/ffhq-valid-exp-anno.txt\n",
      "Key=> cam : Filename=>/data/mint/ffhq_256_with_anno/params/valid/ffhq-valid-cam-anno.txt\n",
      "Key=> light : Filename=>/data/mint/ffhq_256_with_anno/params/valid/ffhq-valid-light-anno.txt\n",
      "Key=> faceemb : Filename=>/data/mint/ffhq_256_with_anno/params/valid/ffhq-valid-faceemb-anno.txt\n",
      "Key=> shape : Filename=>/data/mint/ffhq_256_with_anno/params/train/ffhq-train-shape-anno.txt\n",
      "Key=> pose : Filename=>/data/mint/ffhq_256_with_anno/params/train/ffhq-train-pose-anno.txt\n",
      "Key=> exp : Filename=>/data/mint/ffhq_256_with_anno/params/train/ffhq-train-exp-anno.txt\n",
      "Key=> cam : Filename=>/data/mint/ffhq_256_with_anno/params/train/ffhq-train-cam-anno.txt\n",
      "Key=> light : Filename=>/data/mint/ffhq_256_with_anno/params/train/ffhq-train-light-anno.txt\n",
      "Key=> faceemb : Filename=>/data/mint/ffhq_256_with_anno/params/train/ffhq-train-faceemb-anno.txt\n"
     ]
    }
   ],
   "source": [
    "set_ = 'valid'\n",
    "deca_params = get_params_set(set_)\n",
    "deca_params_train = get_params_set('train')\n"
   ]
  },
  {
   "cell_type": "code",
   "execution_count": 4,
   "metadata": {},
   "outputs": [
    {
     "name": "stdout",
     "output_type": "stream",
     "text": [
      "creating the FLAME Decoder\n"
     ]
    },
    {
     "name": "stderr",
     "output_type": "stream",
     "text": [
      "/home/mint/miniconda3/envs/3dr_conda/lib/python3.8/site-packages/pytorch3d/io/obj_io.py:457: UserWarning: Mtl file does not exist: /home/mint/mothership_v16/model_3d/FLAME/data/template.mtl\n",
      "  warnings.warn(f\"Mtl file does not exist: {f}\")\n"
     ]
    },
    {
     "name": "stdout",
     "output_type": "stream",
     "text": [
      "Image shape :  torch.Size([1, 3, 256, 256])\n",
      "Channel length :  [3]\n"
     ]
    },
    {
     "ename": "",
     "evalue": "",
     "output_type": "error",
     "traceback": [
      "The Kernel crashed while executing code in the the current cell or a previous cell. Please review the code in the cell(s) to identify a possible cause of the failure. Click <a href='https://aka.ms/vscodeJupyterKernelCrash'>here</a> for more info. View Jupyter <a href='command:jupyter.viewOutput'>log</a> for further details."
     ]
    }
   ],
   "source": [
    "img_name = '60000.jpg'\n",
    "param = deca_params[img_name]\n",
    "param = to_tensor(param, key=['shape', 'exp', 'pose', 'cam', 'light'], device=device)\n",
    "out = params_to_model(shape=param['shape'][None, ...].to(th.float32), \n",
    "                exp=param['exp'][None, ...].to(th.float32), \n",
    "                pose=param['pose'][None, ...].to(th.float32), \n",
    "                cam=param['cam'][None, ...].to(th.float32),\n",
    "                lights=param['light'][None, ...].reshape(-1, 9, 3).to(th.float32))\n",
    "\n",
    "path = f'./render_face/{set_}'\n",
    "os.makedirs(path, exist_ok=True)\n",
    "plot_image(out['shape_images'], [3], fn=f\"./{path}/{img_name.split('.')[0]}\")"
   ]
  },
  {
   "cell_type": "code",
   "execution_count": 39,
   "metadata": {},
   "outputs": [
    {
     "data": {
      "text/plain": [
       "torch.Size([100])"
      ]
     },
     "execution_count": 39,
     "metadata": {},
     "output_type": "execute_result"
    }
   ],
   "source": [
    "shape = []; pose = []; exp = []; cam = []\n",
    "for k, v in deca_params_train.items():\n",
    "    shape.append(th.tensor(v['shape']))\n",
    "    pose.append(th.tensor(v['pose']))\n",
    "    exp.append(th.tensor(v['exp']))\n",
    "    cam.append(th.tensor(v['cam']))\n",
    "shape = th.stack(shape)\n",
    "pose = th.stack(pose)\n",
    "exp = th.stack(exp)\n",
    "cam = th.stack(cam)"
   ]
  },
  {
   "cell_type": "code",
   "execution_count": 45,
   "metadata": {},
   "outputs": [
    {
     "name": "stderr",
     "output_type": "stream",
     "text": [
      "Global seed set to 47\n"
     ]
    },
    {
     "name": "stdout",
     "output_type": "stream",
     "text": [
      "creating the FLAME Decoder\n",
      "Image shape :  torch.Size([1, 3, 256, 256])\n",
      "Channel length :  [3]\n",
      "tensor([[1.0644, 1.0644, 1.0659]], device='cuda:0')\n",
      "creating the FLAME Decoder\n",
      "Image shape :  torch.Size([1, 3, 256, 256])\n",
      "Channel length :  [3]\n",
      "tensor([[0.7938, 0.7938, 0.7938]], device='cuda:0')\n",
      "creating the FLAME Decoder\n",
      "Image shape :  torch.Size([1, 3, 256, 256])\n",
      "Channel length :  [3]\n",
      "tensor([[1.0231, 1.0465, 1.0391]], device='cuda:0')\n",
      "creating the FLAME Decoder\n",
      "Image shape :  torch.Size([1, 3, 256, 256])\n",
      "Channel length :  [3]\n",
      "tensor([[0.7934, 0.7934, 0.7934]], device='cuda:0')\n",
      "creating the FLAME Decoder\n",
      "Image shape :  torch.Size([1, 3, 256, 256])\n",
      "Channel length :  [3]\n",
      "tensor([[1.0851, 1.0976, 1.0950]], device='cuda:0')\n",
      "creating the FLAME Decoder\n",
      "Image shape :  torch.Size([1, 3, 256, 256])\n",
      "Channel length :  [3]\n",
      "tensor([[0.7939, 0.7939, 0.7939]], device='cuda:0')\n"
     ]
    },
    {
     "ename": "AssertionError",
     "evalue": "",
     "output_type": "error",
     "traceback": [
      "\u001b[0;31m---------------------------------------------------------------------------\u001b[0m",
      "\u001b[0;31mAssertionError\u001b[0m                            Traceback (most recent call last)",
      "\u001b[0;32m/tmp/ipykernel_67923/4207720508.py\u001b[0m in \u001b[0;36m<module>\u001b[0;34m\u001b[0m\n\u001b[1;32m     65\u001b[0m     \u001b[0mplot_image\u001b[0m\u001b[0;34m(\u001b[0m\u001b[0mout\u001b[0m\u001b[0;34m[\u001b[0m\u001b[0;34m'shape_images'\u001b[0m\u001b[0;34m]\u001b[0m\u001b[0;34m,\u001b[0m \u001b[0;34m[\u001b[0m\u001b[0;36m3\u001b[0m\u001b[0;34m]\u001b[0m\u001b[0;34m,\u001b[0m \u001b[0mfn\u001b[0m\u001b[0;34m=\u001b[0m\u001b[0;34mf\"./{save_path}/mean_face_without_light/{img_name.split('.')[0]}\"\u001b[0m\u001b[0;34m)\u001b[0m\u001b[0;34m\u001b[0m\u001b[0;34m\u001b[0m\u001b[0m\n\u001b[1;32m     66\u001b[0m     \u001b[0mprint\u001b[0m\u001b[0;34m(\u001b[0m\u001b[0mth\u001b[0m\u001b[0;34m.\u001b[0m\u001b[0mamax\u001b[0m\u001b[0;34m(\u001b[0m\u001b[0mout\u001b[0m\u001b[0;34m[\u001b[0m\u001b[0;34m'shape_images'\u001b[0m\u001b[0;34m]\u001b[0m\u001b[0;34m,\u001b[0m \u001b[0mdim\u001b[0m\u001b[0;34m=\u001b[0m\u001b[0;34m(\u001b[0m\u001b[0;36m2\u001b[0m\u001b[0;34m,\u001b[0m \u001b[0;36m3\u001b[0m\u001b[0;34m)\u001b[0m\u001b[0;34m)\u001b[0m\u001b[0;34m)\u001b[0m\u001b[0;34m\u001b[0m\u001b[0;34m\u001b[0m\u001b[0m\n\u001b[0;32m---> 67\u001b[0;31m     \u001b[0;32massert\u001b[0m \u001b[0;32mFalse\u001b[0m\u001b[0;34m\u001b[0m\u001b[0;34m\u001b[0m\u001b[0m\n\u001b[0m\u001b[1;32m     68\u001b[0m \u001b[0;34m\u001b[0m\u001b[0m\n",
      "\u001b[0;31mAssertionError\u001b[0m: "
     ]
    }
   ],
   "source": [
    "seed_everything(47)\n",
    "rand = np.random.randint(0, len(deca_params.keys()), size=10)\n",
    "path = f'./render_face/{set_}'\n",
    "for i in rand:\n",
    "    img_name = list(deca_params.keys())[i]\n",
    "    save_path = f'{path}/{img_name}'\n",
    "    os.makedirs(save_path, exist_ok=True)\n",
    "    param = deca_params[img_name]\n",
    "    param = to_tensor(param, key=['shape', 'exp', 'pose', 'cam', 'light'], device=device)\n",
    "\n",
    "    out = params_to_model(shape=param['shape'][None, ...].to(th.float32), \n",
    "                    exp=param['exp'][None, ...].to(th.float32), \n",
    "                    pose=param['pose'][None, ...].to(th.float32), \n",
    "                    cam=param['cam'][None, ...].to(th.float32),\n",
    "                    lights=param['light'][None, ...].reshape(-1, 9, 3).to(th.float32)\n",
    "    )\n",
    "    os.makedirs(save_path + '/with_light/', exist_ok=True)\n",
    "    plot_image(out['shape_images'], [3], fn=f\"./{save_path}/with_light/{img_name.split('.')[0]}_with_light\")\n",
    "    print(th.amax(out['shape_images'], dim=(2, 3)))\n",
    "\n",
    "    out = params_to_model(shape=param['shape'][None, ...].to(th.float32), \n",
    "                    exp=param['exp'][None, ...].to(th.float32), \n",
    "                    pose=param['pose'][None, ...].to(th.float32), \n",
    "                    cam=param['cam'][None, ...].to(th.float32),\n",
    "    )\n",
    "    os.makedirs(save_path + '/without_light/', exist_ok=True)\n",
    "    plot_image(out['shape_images'], [3], fn=f\"./{save_path}/without_light/{img_name.split('.')[0]}\")\n",
    "    print(th.amax(out['shape_images'], dim=(2, 3)))\n",
    "\n",
    "    out = params_to_model(shape=param['shape'][None, ...].to(th.float32)*0, \n",
    "                    exp=param['exp'][None, ...].to(th.float32)*0, \n",
    "                    pose=param['pose'][None, ...].to(th.float32)*0,\n",
    "                    cam=param['cam'][None, ...].to(th.float32),\n",
    "                    lights=param['light'][None, ...].reshape(-1, 9, 3).to(th.float32)\n",
    "    )\n",
    "    os.makedirs(save_path + '/template_face_with_light/', exist_ok=True)\n",
    "    plot_image(out['shape_images'], [3], fn=f\"./{save_path}/template_face_with_light/{img_name.split('.')[0]}\")\n",
    "    print(th.amax(out['shape_images'], dim=(2, 3)))\n",
    "\n",
    "    out = params_to_model(shape=param['shape'][None, ...].to(th.float32)*0, \n",
    "                    exp=param['exp'][None, ...].to(th.float32)*0, \n",
    "                    pose=param['pose'][None, ...].to(th.float32)*0,\n",
    "                    cam=param['cam'][None, ...].to(th.float32),\n",
    "    )\n",
    "    os.makedirs(save_path + '/template_face_without_light/', exist_ok=True)\n",
    "    plot_image(out['shape_images'], [3], fn=f\"./{save_path}/template_face_without_light/{img_name.split('.')[0]}\")\n",
    "    print(th.amax(out['shape_images'], dim=(2, 3)))\n",
    "\n",
    "    out = params_to_model(shape=th.mean(shape, dim=0)[None, ...].to(th.float32).to(device), \n",
    "                    exp=th.mean(exp, dim=0)[None, ...].to(th.float32).to(device), \n",
    "                    pose=th.mean(pose, dim=0)[None, ...].to(th.float32).to(device),\n",
    "                    cam=th.mean(cam, dim=0)[None, ...].to(th.float32).to(device),\n",
    "                    lights=param['light'][None, ...].reshape(-1, 9, 3).to(th.float32)\n",
    "    )\n",
    "    os.makedirs(save_path + '/mean_face_with_light/', exist_ok=True)\n",
    "    plot_image(out['shape_images'], [3], fn=f\"./{save_path}/mean_face_with_light/{img_name.split('.')[0]}\")\n",
    "    print(th.amax(out['shape_images'], dim=(2, 3)))\n",
    "\n",
    "    out = params_to_model(shape=th.mean(shape, dim=0)[None, ...].to(th.float32).to(device), \n",
    "                    exp=th.mean(exp, dim=0)[None, ...].to(th.float32).to(device), \n",
    "                    pose=th.mean(pose, dim=0)[None, ...].to(th.float32).to(device),\n",
    "                    cam=th.mean(cam, dim=0)[None, ...].to(th.float32).to(device),\n",
    "    )\n",
    "    os.makedirs(save_path + '/mean_face_without_light/', exist_ok=True)\n",
    "    plot_image(out['shape_images'], [3], fn=f\"./{save_path}/mean_face_without_light/{img_name.split('.')[0]}\")\n",
    "    print(th.amax(out['shape_images'], dim=(2, 3)))\n",
    "    assert False\n",
    "\n"
   ]
  }
 ],
 "metadata": {
  "kernelspec": {
   "display_name": "Python 3.8.12 ('3dr_conda')",
   "language": "python",
   "name": "python3"
  },
  "language_info": {
   "codemirror_mode": {
    "name": "ipython",
    "version": 3
   },
   "file_extension": ".py",
   "mimetype": "text/x-python",
   "name": "python",
   "nbconvert_exporter": "python",
   "pygments_lexer": "ipython3",
   "version": "3.8.12"
  },
  "orig_nbformat": 4,
  "vscode": {
   "interpreter": {
    "hash": "470280cac1ab15a664bf90e9a5fa6d0385a15640361d47c557e2f28cdb367558"
   }
  }
 },
 "nbformat": 4,
 "nbformat_minor": 2
}
